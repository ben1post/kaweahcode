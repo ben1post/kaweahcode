{
 "cells": [
  {
   "cell_type": "code",
   "execution_count": 266,
   "metadata": {},
   "outputs": [],
   "source": [
    "import matplotlib\n",
    "import matplotlib.pyplot as plt\n",
    "import xarray as xr\n",
    "import numpy as np"
   ]
  },
  {
   "cell_type": "code",
   "execution_count": 147,
   "metadata": {},
   "outputs": [],
   "source": [
    "plt.rcParams['figure.figsize'] = [15, 10]"
   ]
  },
  {
   "cell_type": "markdown",
   "metadata": {},
   "source": [
    "# 1. Plot: contour plot y=size, x=time, col=concentration"
   ]
  },
  {
   "cell_type": "code",
   "execution_count": 150,
   "metadata": {},
   "outputs": [],
   "source": [
    "data = xr.open_dataset('NEWOUT_ASTroCAT_10y_x9res.nc')"
   ]
  },
  {
   "cell_type": "code",
   "execution_count": 151,
   "metadata": {},
   "outputs": [
    {
     "data": {
      "text/html": [
       "<pre>&lt;xarray.Dataset&gt;\n",
       "Dimensions:             (component: 81, flexComponent: 40, time: 32850)\n",
       "Coordinates:\n",
       "  * time                (time) float64 1.0 1.111 1.222 ... 3.65e+03 3.65e+03\n",
       "Dimensions without coordinates: component, flexComponent\n",
       "Data variables:\n",
       "    Z__zeta             int64 ...\n",
       "    P__PMinEsd          int64 ...\n",
       "    Z__epsilon          float64 ...\n",
       "    Z__KsZ              int64 ...\n",
       "    Z__deltaxprey       float64 ...\n",
       "    N__supplyrate       int64 ...\n",
       "    P__m                float64 ...\n",
       "    P__NP               int64 ...\n",
       "    N__component_label  object ...\n",
       "    P__component_label  object ...\n",
       "    Z__f_eg             float64 ...\n",
       "    Z__component_label  object ...\n",
       "    N__initVal          int64 ...\n",
       "    P__PMaxEsd          int64 ...\n",
       "    P__initVal          int64 ...\n",
       "    Z__initVal          int64 ...\n",
       "    env__stateout       (time, component) float64 ...\n",
       "    env__component      (component) object ...\n",
       "    P__size             (flexComponent) float64 ...\n",
       "    Z__size             (flexComponent) float64 ...</pre>"
      ],
      "text/plain": [
       "<xarray.Dataset>\n",
       "Dimensions:             (component: 81, flexComponent: 40, time: 32850)\n",
       "Coordinates:\n",
       "  * time                (time) float64 1.0 1.111 1.222 ... 3.65e+03 3.65e+03\n",
       "Dimensions without coordinates: component, flexComponent\n",
       "Data variables:\n",
       "    Z__zeta             int64 ...\n",
       "    P__PMinEsd          int64 ...\n",
       "    Z__epsilon          float64 ...\n",
       "    Z__KsZ              int64 ...\n",
       "    Z__deltaxprey       float64 ...\n",
       "    N__supplyrate       int64 ...\n",
       "    P__m                float64 ...\n",
       "    P__NP               int64 ...\n",
       "    N__component_label  object ...\n",
       "    P__component_label  object ...\n",
       "    Z__f_eg             float64 ...\n",
       "    Z__component_label  object ...\n",
       "    N__initVal          int64 ...\n",
       "    P__PMaxEsd          int64 ...\n",
       "    P__initVal          int64 ...\n",
       "    Z__initVal          int64 ...\n",
       "    env__stateout       (time, component) float64 ...\n",
       "    env__component      (component) object ...\n",
       "    P__size             (flexComponent) float64 ...\n",
       "    Z__size             (flexComponent) float64 ..."
      ]
     },
     "execution_count": 151,
     "metadata": {},
     "output_type": "execute_result"
    }
   ],
   "source": [
    "data"
   ]
  },
  {
   "cell_type": "code",
   "execution_count": 184,
   "metadata": {},
   "outputs": [],
   "source": [
    "model_out = data.set_index(component = 'env__component', P__sizes='P__size', Z__sizes='Z__size')"
   ]
  },
  {
   "cell_type": "code",
   "execution_count": 191,
   "metadata": {},
   "outputs": [],
   "source": [
    "P_out = model_out.sel(component=['P'+str(i) for i in range(40)])\n",
    "Z_out = model_out.sel(component=['Z'+str(i) for i in range(40)])\n",
    "N_out = model_out.sel(component='N')"
   ]
  },
  {
   "cell_type": "code",
   "execution_count": 372,
   "metadata": {},
   "outputs": [
    {
     "data": {
      "text/html": [
       "<pre>&lt;xarray.DataArray &#x27;time&#x27; (time: 3650)&gt;\n",
       "array([2.73972603e-03, 5.47878483e-03, 8.21784362e-03, ...,\n",
       "       9.99208716e+00, 9.99482622e+00, 9.99756528e+00])\n",
       "Coordinates:\n",
       "  * time     (time) float64 1.0 2.0 3.0 3.999 ... 3.647e+03 3.648e+03 3.649e+03</pre>"
      ],
      "text/plain": [
       "<xarray.DataArray 'time' (time: 3650)>\n",
       "array([2.73972603e-03, 5.47878483e-03, 8.21784362e-03, ...,\n",
       "       9.99208716e+00, 9.99482622e+00, 9.99756528e+00])\n",
       "Coordinates:\n",
       "  * time     (time) float64 1.0 2.0 3.0 3.999 ... 3.647e+03 3.648e+03 3.649e+03"
      ]
     },
     "execution_count": 372,
     "metadata": {},
     "output_type": "execute_result"
    }
   ],
   "source": [
    "P_out.time[::resolution]/365"
   ]
  },
  {
   "cell_type": "code",
   "execution_count": 374,
   "metadata": {},
   "outputs": [
    {
     "data": {
      "text/html": [
       "<pre>&lt;xarray.DataArray &#x27;env__stateout&#x27; (component: 40, time: 3650)&gt;\n",
       "array([[6.84931507e-005, 2.51778293e-004, 7.43859832e-004, ...,\n",
       "        6.44344842e-004, 6.44311579e-004, 6.44278324e-004],\n",
       "       [6.84931507e-005, 2.17633998e-004, 5.55589160e-004, ...,\n",
       "        2.96426108e-180, 2.70159677e-180, 2.46221483e-180],\n",
       "       [6.84931507e-005, 1.89955931e-004, 4.23967647e-004, ...,\n",
       "        1.09087335e-282, 9.47326899e-283, 8.22674634e-283],\n",
       "       ...,\n",
       "       [6.84931507e-005, 7.18894438e-005, 7.27049445e-005, ...,\n",
       "        2.34309776e-011, 2.33234603e-011, 2.32164060e-011],\n",
       "       [6.84931507e-005, 7.18633578e-005, 7.25782240e-005, ...,\n",
       "        4.15465643e-015, 4.12621053e-015, 4.09795494e-015],\n",
       "       [6.84931507e-005, 7.19028090e-005, 7.25668836e-005, ...,\n",
       "        3.89970474e-019, 3.86349514e-019, 3.82761847e-019]])\n",
       "Coordinates:\n",
       "  * time       (time) float64 1.0 2.0 3.0 ... 3.647e+03 3.648e+03 3.649e+03\n",
       "  * component  (component) object &#x27;P0&#x27; &#x27;P1&#x27; &#x27;P2&#x27; &#x27;P3&#x27; ... &#x27;P37&#x27; &#x27;P38&#x27; &#x27;P39&#x27;</pre>"
      ],
      "text/plain": [
       "<xarray.DataArray 'env__stateout' (component: 40, time: 3650)>\n",
       "array([[6.84931507e-005, 2.51778293e-004, 7.43859832e-004, ...,\n",
       "        6.44344842e-004, 6.44311579e-004, 6.44278324e-004],\n",
       "       [6.84931507e-005, 2.17633998e-004, 5.55589160e-004, ...,\n",
       "        2.96426108e-180, 2.70159677e-180, 2.46221483e-180],\n",
       "       [6.84931507e-005, 1.89955931e-004, 4.23967647e-004, ...,\n",
       "        1.09087335e-282, 9.47326899e-283, 8.22674634e-283],\n",
       "       ...,\n",
       "       [6.84931507e-005, 7.18894438e-005, 7.27049445e-005, ...,\n",
       "        2.34309776e-011, 2.33234603e-011, 2.32164060e-011],\n",
       "       [6.84931507e-005, 7.18633578e-005, 7.25782240e-005, ...,\n",
       "        4.15465643e-015, 4.12621053e-015, 4.09795494e-015],\n",
       "       [6.84931507e-005, 7.19028090e-005, 7.25668836e-005, ...,\n",
       "        3.89970474e-019, 3.86349514e-019, 3.82761847e-019]])\n",
       "Coordinates:\n",
       "  * time       (time) float64 1.0 2.0 3.0 ... 3.647e+03 3.648e+03 3.649e+03\n",
       "  * component  (component) object 'P0' 'P1' 'P2' 'P3' ... 'P37' 'P38' 'P39'"
      ]
     },
     "execution_count": 374,
     "metadata": {},
     "output_type": "execute_result"
    }
   ],
   "source": [
    "P_out.env__stateout[::resolution].T"
   ]
  },
  {
   "cell_type": "markdown",
   "metadata": {},
   "source": [
    "# full plot"
   ]
  },
  {
   "cell_type": "code",
   "execution_count": 390,
   "metadata": {},
   "outputs": [],
   "source": [
    "resolution = 9\n",
    "resmpl_step = 5"
   ]
  },
  {
   "cell_type": "code",
   "execution_count": 391,
   "metadata": {},
   "outputs": [
    {
     "data": {
      "image/png": "[encoded data removed]",
      "text/plain": [
       "<Figure size 360x504 with 9 Axes>"
      ]
     },
     "metadata": {
      "needs_background": "light"
     },
     "output_type": "display_data"
    }
   ],
   "source": [
    "plt.rcParams['figure.figsize'] = [5, 7]\n",
    "\n",
    "#f1, (ax1col, ax1, ax2, ax2col, ax3) = plt.subplots(5, 3, gridspec_kw={'height_ratios': [.1,1,1,.1,1]})#, sharey='row')\n",
    "\n",
    "fig = plt.figure(constrained_layout=True)\n",
    "\n",
    "gs = fig.add_gridspec(nrows=5, ncols=3,\n",
    "                        hspace=0.1, wspace=0.1, height_ratios=[.1,1,1,.1,1])\n",
    "\n",
    "ax1col = fig.add_subplot(gs[0, 1])\n",
    "ax1 = fig.add_subplot(gs[1, 0:3])\n",
    "ax2 = fig.add_subplot(gs[2, 0:3])\n",
    "ax3col = fig.add_subplot(gs[3, 1])\n",
    "ax3 = fig.add_subplot(gs[4, 0:3])\n",
    "\n",
    "\n",
    "plt.setp(ax1, xticks=[1,180,365,365+180,720])\n",
    "from matplotlib.ticker import MaxNLocator\n",
    "for axe in [ax1]:\n",
    "        axe.grid(True, alpha=0.5)\n",
    "        axe.get_yaxis().set_major_locator(MaxNLocator(nbins=4))\n",
    "        axe.tick_params(top=False, right=True, direction=\"in\")\n",
    "\n",
    "plt.setp((ax2, ax3), xticks=[1,365,2*365,3*365,4*365,5*365,6*365,7*365,8*365,9*365,10*365])\n",
    "from matplotlib.ticker import MaxNLocator\n",
    "for axe in (ax2, ax3):  \n",
    "        axe.grid(True, alpha=0.5)\n",
    "        axe.get_yaxis().set_major_locator(MaxNLocator(nbins=4))\n",
    "        axe.tick_params(top=False, right=True, direction=\"in\")\n",
    "        \n",
    "ax1.set_title('Phytoplankton biomass [µM N]')\n",
    "ax1plt = ax1.pcolormesh(P_out.time[:365*2*resolution:resmpl_step],P_out.P__sizes,\n",
    "               P_out.env__stateout[:365*2*resolution:resmpl_step].T)\n",
    "ax1plt\n",
    "ax1.set_yscale('log')\n",
    "ax1.set_yticks([1,2,5,10,20])\n",
    "ax1.get_yaxis().set_major_formatter(matplotlib.ticker.ScalarFormatter())\n",
    "plt.colorbar(ax1plt,cax=ax1col, orientation='horizontal')\n",
    "ax1.set_ylabel('Phytoplankton ESD [µm]')\n",
    "ax1.set_xlabel('Time [days]')\n",
    "    \n",
    "ax2.pcolormesh(P_out.time[::resolution],P_out.P__sizes,P_out.env__stateout[::resolution].T)\n",
    "ax2.set_yscale('log')\n",
    "ax2.set_yticks([1,2,5,10,20])\n",
    "ax2.get_yaxis().set_major_formatter(matplotlib.ticker.ScalarFormatter())\n",
    "ax2.set_ylabel('Phytoplankton ESD [µm]')\n",
    "ax2.set_xlabel('Time [years]')\n",
    "ax2.set_xticklabels(labels=[i for i in range(1,11)])\n",
    "\n",
    "ax3.set_title('Zooplankton biomass [µM N]')\n",
    "ax3plt = ax3.pcolormesh(Z_out.time[::resolution],Z_out.Z__sizes,Z_out.env__stateout[::resolution].T)\n",
    "ax3plt\n",
    "ax3.set_yscale('log')\n",
    "ax3.set_yticks([3,5,10,20,50,100,200,400])\n",
    "ax3.get_yaxis().set_major_formatter(matplotlib.ticker.ScalarFormatter())\n",
    "plt.colorbar(ax3plt, cax=ax3col, orientation='horizontal')\n",
    "ax3.set_ylabel('Zooplankton ESD [µm]')\n",
    "ax3.set_xlabel('Time [years]')\n",
    "ax3.set_xticklabels(labels=[i for i in range(1,11)])\n",
    "\n",
    "# Defining custom 'xlim' and 'ylim' values.\n",
    "xlim = (0, 365*9+364)\n",
    "\n",
    "# Setting the values for all axes.\n",
    "plt.setp((ax2, ax3), xlim=xlim)\n",
    "\n",
    "#f1.align_ylabels()\n",
    "\n",
    "\n",
    "plt.savefig('ASTroCAT_out.pdf', bbox_inches='tight')\n",
    "plt.show()"
   ]
  },
  {
   "cell_type": "code",
   "execution_count": null,
   "metadata": {},
   "outputs": [],
   "source": []
  }
 ],
 "metadata": {
  "kernelspec": {
   "display_name": "Python 3",
   "language": "python",
   "name": "python3"
  },
  "language_info": {
   "codemirror_mode": {
    "name": "ipython",
    "version": 3
   },
   "file_extension": ".py",
   "mimetype": "text/x-python",
   "name": "python",
   "nbconvert_exporter": "python",
   "pygments_lexer": "ipython3",
   "version": "3.8.2"
  }
 },
 "nbformat": 4,
 "nbformat_minor": 4
}
