{
 "cells": [
  {
   "cell_type": "code",
   "execution_count": 2,
   "metadata": {},
   "outputs": [],
   "source": [
    "from lmfit import minimize, Parameters # Parameter, report_fit"
   ]
  },
  {
   "cell_type": "code",
   "execution_count": 3,
   "metadata": {},
   "outputs": [],
   "source": [
    "import numpy as np\n",
    "import xsimlab as xs\n",
    "from scipy.integrate import odeint\n",
    "import matplotlib.pyplot as plt"
   ]
  },
  {
   "cell_type": "code",
   "execution_count": 4,
   "metadata": {},
   "outputs": [],
   "source": [
    "plt.rcParams['figure.figsize'] = [15, 10]"
   ]
  },
  {
   "cell_type": "markdown",
   "metadata": {},
   "source": [
    "# ASTroCAT\n",
    "\n",
    "(Allometric/Stochastic Trophic Complexity Analysis Tool)\n",
    "\n",
    "This is a model presented by Neil Banas in the publication:\n",
    "Banas, N. S. (2011). Adding complex trophic interactions to a size-spectral plankton model: Emergent diversity patterns and limits on predictability. Ecological Modelling, 222(15), 2663–2675. https://doi.org/10.1016/j.ecolmodel.2011.05.018\n",
    "\n",
    "The basic implementation represents a \n",
    "\n",
    "The model, named ASTroCAT (Allometric/Stochastic Trophic Complexity Analysis Tool), is schematized in Fig. 1. It uses nitrogen as its currency (stocks are reported in units of µmol N m−3, or µM), with compartments for dissolved nutrients (N), 40 size classes of phytoplankton (P), and 40 classes of small zooplankton (Z). The ver- sion used here has been kept mechanistically minimal, containing only a single bottom-up control (nutrient limitation of P growth), a single top-down control (higher predation on Z), and one highly resolved level of trophic interactions (P–Z) in between. There is no light or temperature dependence to P growth, and no distinction made between the rate and timing of phytoplankton cell growth and the rate and timing of uptake of the limiting nutrient. The physical testbed is a single box, and the detrital pool and regeneration pathways are not tracked: mortality and zooplankton egestion (sloppy feeding) are treated as losses from the model nitrogen pool, and whatever fraction of these losses is ultimately regenerated is folded into an imposed, external nutrient supply (S). Thus the model can be thought of as an “open” or “flowthrough” NPZ system, as opposed to the classical “closed” NPZ system (Franks, 2002), which sends mortality and egestion losses directly back into the N pool. The minimalism of this model configuration makes the interpretation of results easier, but for a realistic application, one would, at a minimum, add light-dependence to phytoplankton growth, resolve at least one spatial dimension in the domain, and explicitly track detritus. \n",
    "\n",
    "The model equations are"
   ]
  },
  {
   "cell_type": "code",
   "execution_count": null,
   "metadata": {},
   "outputs": [],
   "source": [
    "# get file onto server, or start working back in home repo!"
   ]
  },
  {
   "cell_type": "code",
   "execution_count": 5,
   "metadata": {},
   "outputs": [],
   "source": [
    "@xs.process\n",
    "class UniqueComponent:\n",
    "    \"\"\"This is for initializing a Nutrient (i.e. components that are unique (0D))\"\"\"\n",
    "    label = xs.variable(intent='out', groups='label')\n",
    "    init = xs.variable(intent='out', groups='init')\n",
    "    \n",
    "    def initialize(self):\n",
    "        self.label = (self.component_label,)\n",
    "        self.init = np.array(self.initVal)\n",
    "        print('NutInit',self.init)\n",
    "        "
   ]
  },
  {
   "cell_type": "code",
   "execution_count": 6,
   "metadata": {},
   "outputs": [],
   "source": [
    "@xs.process\n",
    "class Nutrient(UniqueComponent):\n",
    "    component_label = xs.variable(default='N', groups='component-label')\n",
    "    initVal = xs.variable(default=1)\n",
    "    supplyrate = xs.variable(default=1)\n",
    "\n",
    "    # Process variables\n",
    "    supply = xs.variable(intent='out')\n",
    "    \n",
    "    def _supply(self):\n",
    "        return self.supplyrate\n",
    "    \n",
    "    def initialize(self):\n",
    "        super(Nutrient, self).initialize()\n",
    "        self.supply = self._supply"
   ]
  },
  {
   "cell_type": "code",
   "execution_count": 7,
   "metadata": {},
   "outputs": [],
   "source": [
    "@xs.process\n",
    "class FlexSizeComponent:\n",
    "    \"\"\"This is for initializing both Phytoplankton and Zooplankton (i.e. components of variable number (1D))\"\"\"\n",
    "    #flux = xs.variable(intent='out', groups='flux')\n",
    "    label = xs.variable(intent='out', groups='label')\n",
    "    init = xs.variable(intent='out', groups='init')\n",
    "    size = xs.variable(intent='out', groups='size')\n",
    "        \n",
    "    def calculate_sizes(self):\n",
    "        # must be implemented in subclasses\n",
    "        raise NotImplementedError\n",
    "        \n",
    "    def initialize_alloparams(self):\n",
    "        # must be implemented in subclasses\n",
    "        raise NotImplementedError\n",
    "        \n",
    "    def initialize(self):\n",
    "        self.label = tuple((self.component_label + str(i) for i in range(self.NP)))\n",
    "        self.init = np.array([self.initVal / self.NP for i in range(self.NP)])\n",
    "        \n",
    "        self.size = self.calculate_sizes()\n",
    "\n",
    "        self.initialize_alloparams()"
   ]
  },
  {
   "cell_type": "code",
   "execution_count": 8,
   "metadata": {},
   "outputs": [],
   "source": [
    "@xs.process\n",
    "class Phytoplankton(FlexSizeComponent):\n",
    "    component_label = xs.variable(default='P', groups='component-label')\n",
    "    # Phytoplankton params\n",
    "    PMinEsd = xs.variable(default = 1,  description='P max growth', groups='parameter', static=True)\n",
    "    PMaxEsd = xs.variable(default = 20, description='P max growth', groups='parameter', static=True)\n",
    "    NP =      xs.variable(default = 40, description='number of P',  groups='parameter', static=True)\n",
    "    \n",
    "    # INPUT\n",
    "    initVal = xs.variable()\n",
    "    m = xs.variable(default=.1)\n",
    "    \n",
    "    # Rate params\n",
    "    ks = xs.variable(intent='out', description='allometric half-saturation constant',  groups='parameter')\n",
    "    mu0 = xs.variable(intent='out', description='allometric growth rate',  groups='parameter')\n",
    "    \n",
    "    # Process variables\n",
    "    uptake = xs.variable(intent='out')\n",
    "    mortality = xs.variable(intent='out')\n",
    "    grazed = xs.variable(intent='out')\n",
    "    \n",
    "    def _uptake(self, N):\n",
    "        return self.mu0 * N / (N + self.ks)\n",
    "    \n",
    "    def _mortality(self):\n",
    "        \"\"\"returns size-scaled mortality rate, calculated from mu0\"\"\"\n",
    "        return self.m * self.mu0 \n",
    "    \n",
    "    def _grazed(self,FgrazP):\n",
    "        return [sum(FgrazP[i,:]) for i in range(self.NP)]\n",
    "    \n",
    "    \n",
    "    def calculate_sizes(self):\n",
    "        numbers = np.array([i for i in range(self.NP)])\n",
    "        sizes = (np.log(self.PMaxEsd) - np.log(self.PMinEsd))* numbers / (self.NP-1) + np.log(self.PMinEsd)\n",
    "        return np.exp(sizes)\n",
    "    \n",
    "    def initialize_alloparams(self):\n",
    "        # must be implemented in subclasses\n",
    "        self.mu0 = (self.size) ** -0.45\n",
    "        self.ks = (self.size) * .1\n",
    "        \n",
    "    def initialize(self):\n",
    "        super(Phytoplankton, self).initialize()\n",
    "        self.uptake = self._uptake\n",
    "        self.mortality = self._mortality\n",
    "        self.grazed = self._grazed\n"
   ]
  },
  {
   "cell_type": "code",
   "execution_count": 9,
   "metadata": {},
   "outputs": [],
   "source": [
    "@xs.process\n",
    "class Zooplankton(FlexSizeComponent):\n",
    "    component_label = xs.variable(default='Z', groups='component-label')\n",
    "    # SetupParams\n",
    "    PMinEsd = xs.foreign(Phytoplankton, 'PMinEsd')\n",
    "    PMaxEsd = xs.foreign(Phytoplankton, 'PMaxEsd')\n",
    "    NP =      xs.foreign(Phytoplankton, 'NP')\n",
    "    phytosize = xs.foreign(Phytoplankton, 'size')\n",
    "   \n",
    "    # Zooplankton params \n",
    "    initVal = xs.variable()\n",
    "    zeta = xs.variable(default=1) #mortality rate quadratic\n",
    "    deltaxprey = xs.variable(default=0.25) # log10 prey size tolerance\n",
    "    KsZ = xs.variable(default=3) # grazing half saturation constant\n",
    "    f_eg = xs.variable(default=.33) # egested food\n",
    "    epsilon = xs.variable(default=.33) # assimilated food\n",
    "    \n",
    "    \n",
    "    # Alloparams\n",
    "    I0 = xs.variable(intent='out')\n",
    "    xpreyopt = xs.variable(intent='out')\n",
    "    \n",
    "    phiP = xs.variable(intent='out')\n",
    "    \n",
    "    # Process variables\n",
    "    grazingmatrix = xs.variable(intent='out')\n",
    "    mortality = xs.variable(intent='out')\n",
    "    ingestion = xs.variable(intent='out')\n",
    "    excretion = xs.variable(intent='out')\n",
    "    \n",
    "    def _grazingmatrix(self,P,Z):\n",
    "        PscaledAsFood = np.zeros((self.NP,self.NP))\n",
    "        for j in range(self.NP):\n",
    "            for i in range(self.NP):\n",
    "                PscaledAsFood[i,j] = self.phiP[i,j] / self.KsZ * P[i]\n",
    "        \n",
    "        FgrazP = np.zeros((self.NP,self.NP))\n",
    "        for j in range(self.NP):\n",
    "            for i in range(self.NP):        \n",
    "                FgrazP[i,j] = self.I0[j] * Z[j] * PscaledAsFood[i,j] / (1 + sum(PscaledAsFood[:,j]))\n",
    "                \n",
    "        return FgrazP\n",
    "    \n",
    "    def _ingestion(self,FgrazP):\n",
    "        return [self.epsilon * sum(FgrazP[:,j]) for j in range(self.NP)]\n",
    "\n",
    "    def _excretion(self,FgrazP):\n",
    "        return [(1 - self.f_eg - self.epsilon) * sum(FgrazP[:,j]) for j in range(self.NP)]\n",
    "    \n",
    "    def _mortality(self,Z):\n",
    "        return self.zeta * sum(Z)\n",
    "        \n",
    "    def calculate_sizes(self):\n",
    "        zoosizes= 2.16 * self.phytosize ** 1.79\n",
    "        return zoosizes\n",
    "    \n",
    "    def initialize_alloparams(self):\n",
    "        # initializes allometric parameters as lists, based on sizes\n",
    "        self.I0 = 26 * (self.size) ** -0.4\n",
    "        self.xpreyopt = 0.65 * (self.size) ** .56 \n",
    "    \n",
    "    def init_phiP(self):\n",
    "        \"\"\"creates array of feeding preferences [P...P10] for each [Z]\"\"\"\n",
    "        phiP= np.array([[np.exp(-((np.log10(xpreyi)-np.log10(xpreyoptj)) / self.deltaxprey)**2) \n",
    "               for xpreyi in self.phytosize] for xpreyoptj in self.xpreyopt])\n",
    "        return phiP\n",
    "    \n",
    "    def initialize(self):        \n",
    "        super(Zooplankton, self).initialize()\n",
    "        self.grazingmatrix = self._grazingmatrix\n",
    "        \n",
    "        self.mortality = self._mortality\n",
    "        self.ingestion = self._ingestion\n",
    "        self.excretion = self._excretion\n",
    "        \n",
    "        self.phiP = self.init_phiP()\n",
    "\n"
   ]
  },
  {
   "cell_type": "code",
   "execution_count": 10,
   "metadata": {},
   "outputs": [],
   "source": [
    "import itertools\n",
    "\n",
    "def flatten(generatorlist):\n",
    "    # returns 1D list from nested generator or multi-D list\n",
    "    return list(itertools.chain.from_iterable(generatorlist))"
   ]
  },
  {
   "cell_type": "code",
   "execution_count": 11,
   "metadata": {},
   "outputs": [],
   "source": [
    "@xs.process\n",
    "class Chemostat:\n",
    "    # foreign processes\n",
    "    N_supply = xs.foreign(Nutrient, 'supply')\n",
    "    \n",
    "    P_uptake = xs.foreign(Phytoplankton, 'uptake')\n",
    "    P_mortality = xs.foreign(Phytoplankton, 'mortality')\n",
    "    \n",
    "    grazingmatrix = xs.foreign(Zooplankton, 'grazingmatrix')\n",
    "    Z_ingestion = xs.foreign(Zooplankton, 'ingestion')\n",
    "    Z_excretion = xs.foreign(Zooplankton, 'excretion')\n",
    "    Z_mortality = xs.foreign(Zooplankton, 'mortality')\n",
    "    P_grazed = xs.foreign(Phytoplankton, 'grazed')\n",
    "    \n",
    "    # model construct labels\n",
    "    complabels = xs.group('component-label')\n",
    "    labels = xs.group('label')\n",
    "    inits = xs.group('init')\n",
    "    \n",
    "    # output variables\n",
    "    component = xs.variable(dims=('component'), intent='out')\n",
    "    \n",
    "    state = xs.variable(dims=('component'),intent='out')\n",
    "    stateout = xs.variable(dims=('component'),intent='out')\n",
    "    outflux = xs.variable(dims=('component'),intent='out')\n",
    "    \n",
    "    def initialize(self):\n",
    "        self.time = 0\n",
    "\n",
    "        # This is one of those things I am not sure about, it makes sense to use dicts to store model state (to allow calling different components by labels)\n",
    "            # BUT this can not be used (afaik) in a nice way as output for plotting later on in the model output xarray.. do you have any idea how to do that more nicely?\n",
    "        self.state = {label:val for label,val in zip(self.complabels,self.inits)}\n",
    "\n",
    "        # in order to have output to plot, I also create an array that contains all output:\n",
    "            # i have to use flatten function (defined above) to make group generators one dimensional (FlexComponents are Lists, so generators return List of Lists)\n",
    "            # there should be a better solution to this.. but it relates to how xs.group() works in this model setup\n",
    "        self.stateout = np.concatenate([self.state[label] for label in flatten(self.complabels)], axis=None)\n",
    "        \n",
    "        self.component = [i for i in flatten(self.labels)]\n",
    "    \n",
    "    def ode(self, state, time, labels, timestep):\n",
    "        N, P, Z = state['N'], state['P'], state['Z']\n",
    "        \n",
    "        #P[P < 0.01] = 0.011\n",
    "        #Z[Z < 0.01] = 0.011\n",
    "        \n",
    "        PGrazed = self.grazingmatrix(P,Z)\n",
    "\n",
    "        dNdt = self.N_supply() - sum(self.P_uptake(N)*P) + sum(self.Z_excretion(PGrazed))\n",
    "        \n",
    "        dPdt = self.P_uptake(N)*P - self.P_mortality()*P - self.P_grazed(PGrazed)\n",
    "        \n",
    "        dZdt =  self.Z_ingestion(PGrazed) - self.Z_mortality(Z)*Z \n",
    "        \n",
    "        # need to convert fluxes to correct time step by multiplying by dt        \n",
    "        return {'N':dNdt*timestep, 'P':dPdt*timestep, 'Z':dZdt*timestep}\n",
    "\n",
    "    @xs.runtime(args='step_delta')\n",
    "    def run_step(self,dt):\n",
    "        self.outflux = self.ode(self.state,self.time,self.labels, dt)\n",
    "        # {label : self.funcs[label](self.state, self.time, self.labels) * dt for label in self.complabels}\n",
    "        \n",
    "        # keep track of timestep for forcing (+ other time dep. processes)\n",
    "        self.time += dt\n",
    "    \n",
    "    def finalize_step(self):\n",
    "        self.state = {label : self.state[label] + self.outflux[label] for label in self.complabels}\n",
    "        \n",
    "        self.stateout = np.concatenate(flatten([(self.state[label] for label in self.complabels)]), axis=None)\n",
    "\n"
   ]
  },
  {
   "cell_type": "code",
   "execution_count": 12,
   "metadata": {},
   "outputs": [],
   "source": [
    "modmod = xs.Model({'env':Chemostat, 'N':Nutrient, 'P':Phytoplankton, 'Z':Zooplankton})"
   ]
  },
  {
   "cell_type": "code",
   "execution_count": 32,
   "metadata": {},
   "outputs": [],
   "source": [
    "mom_in = xs.create_setup(\n",
    "        model=modmod,\n",
    "    clocks={\n",
    "         'time': np.linspace(1,365,500*365)  # 20,1000)\n",
    "     },\n",
    "    input_vars={\n",
    "        'P__initVal':1,\n",
    "        'Z__initVal':1\n",
    "    },\n",
    "    output_vars={\n",
    "        'env__component': None,\n",
    "        'env__stateout': 'time'\n",
    "    }\n",
    ")"
   ]
  },
  {
   "cell_type": "code",
   "execution_count": null,
   "metadata": {},
   "outputs": [
    {
     "name": "stdout",
     "output_type": "stream",
     "text": [
      "NutInit 1\n"
     ]
    }
   ],
   "source": [
    "mom_out = mom_in.xsimlab.run(model=modmod)"
   ]
  },
  {
   "cell_type": "code",
   "execution_count": null,
   "metadata": {},
   "outputs": [],
   "source": [
    "mom_out"
   ]
  },
  {
   "cell_type": "code",
   "execution_count": null,
   "metadata": {},
   "outputs": [],
   "source": [
    "mom_out.to_netcdf('ASTroCAT_1y_x500res.nc')"
   ]
  },
  {
   "cell_type": "code",
   "execution_count": 17,
   "metadata": {},
   "outputs": [],
   "source": [
    "mom_out4 = mom_out.set_index(component = 'env__component')"
   ]
  },
  {
   "cell_type": "code",
   "execution_count": 17,
   "metadata": {},
   "outputs": [],
   "source": [
    "#mom_out2 = mom_out.set_index(component = 'env__component')"
   ]
  },
  {
   "cell_type": "code",
   "execution_count": 17,
   "metadata": {},
   "outputs": [],
   "source": [
    "plt.rcParams['figure.figsize'] = [10, 5]"
   ]
  },
  {
   "cell_type": "code",
   "execution_count": 18,
   "metadata": {},
   "outputs": [
    {
     "ename": "NameError",
     "evalue": "name 'mom_out2' is not defined",
     "output_type": "error",
     "traceback": [
      "\u001b[0;31m---------------------------------------------------------------------------\u001b[0m",
      "\u001b[0;31mNameError\u001b[0m                                 Traceback (most recent call last)",
      "\u001b[0;32m<ipython-input-18-f5cfa74969b1>\u001b[0m in \u001b[0;36m<module>\u001b[0;34m\u001b[0m\n\u001b[0;32m----> 1\u001b[0;31m \u001b[0mmom_out2\u001b[0m\u001b[0;34m.\u001b[0m\u001b[0menv__stateout\u001b[0m\u001b[0;34m[\u001b[0m\u001b[0;34m:\u001b[0m\u001b[0;34m,\u001b[0m\u001b[0;36m0\u001b[0m\u001b[0;34m:\u001b[0m\u001b[0;36m40\u001b[0m\u001b[0;34m]\u001b[0m\u001b[0;34m.\u001b[0m\u001b[0mplot\u001b[0m\u001b[0;34m.\u001b[0m\u001b[0mline\u001b[0m\u001b[0;34m(\u001b[0m\u001b[0mx\u001b[0m\u001b[0;34m=\u001b[0m\u001b[0;34m'time'\u001b[0m\u001b[0;34m)\u001b[0m\u001b[0;34m\u001b[0m\u001b[0;34m\u001b[0m\u001b[0m\n\u001b[0m\u001b[1;32m      2\u001b[0m \u001b[0mplt\u001b[0m\u001b[0;34m.\u001b[0m\u001b[0mshow\u001b[0m\u001b[0;34m(\u001b[0m\u001b[0;34m)\u001b[0m\u001b[0;34m\u001b[0m\u001b[0;34m\u001b[0m\u001b[0m\n\u001b[1;32m      3\u001b[0m \u001b[0mmom_out3\u001b[0m\u001b[0;34m.\u001b[0m\u001b[0menv__stateout\u001b[0m\u001b[0;34m[\u001b[0m\u001b[0;34m:\u001b[0m\u001b[0;34m,\u001b[0m\u001b[0;36m0\u001b[0m\u001b[0;34m:\u001b[0m\u001b[0;36m40\u001b[0m\u001b[0;34m]\u001b[0m\u001b[0;34m.\u001b[0m\u001b[0mplot\u001b[0m\u001b[0;34m.\u001b[0m\u001b[0mline\u001b[0m\u001b[0;34m(\u001b[0m\u001b[0mx\u001b[0m\u001b[0;34m=\u001b[0m\u001b[0;34m'time'\u001b[0m\u001b[0;34m)\u001b[0m\u001b[0;34m\u001b[0m\u001b[0;34m\u001b[0m\u001b[0m\n\u001b[1;32m      4\u001b[0m \u001b[0mplt\u001b[0m\u001b[0;34m.\u001b[0m\u001b[0mshow\u001b[0m\u001b[0;34m(\u001b[0m\u001b[0;34m)\u001b[0m\u001b[0;34m\u001b[0m\u001b[0;34m\u001b[0m\u001b[0m\n\u001b[1;32m      5\u001b[0m \u001b[0mmom_out4\u001b[0m\u001b[0;34m.\u001b[0m\u001b[0menv__stateout\u001b[0m\u001b[0;34m[\u001b[0m\u001b[0;34m:\u001b[0m\u001b[0;34m,\u001b[0m\u001b[0;36m0\u001b[0m\u001b[0;34m:\u001b[0m\u001b[0;36m40\u001b[0m\u001b[0;34m]\u001b[0m\u001b[0;34m.\u001b[0m\u001b[0mplot\u001b[0m\u001b[0;34m.\u001b[0m\u001b[0mline\u001b[0m\u001b[0;34m(\u001b[0m\u001b[0mx\u001b[0m\u001b[0;34m=\u001b[0m\u001b[0;34m'time'\u001b[0m\u001b[0;34m)\u001b[0m\u001b[0;34m\u001b[0m\u001b[0;34m\u001b[0m\u001b[0m\n",
      "\u001b[0;31mNameError\u001b[0m: name 'mom_out2' is not defined"
     ]
    }
   ],
   "source": [
    "mom_out2.env__stateout[:,0:40].plot.line(x='time')\n",
    "plt.show()\n",
    "mom_out3.env__stateout[:,0:40].plot.line(x='time')\n",
    "plt.show()\n",
    "mom_out4.env__stateout[:,0:40].plot.line(x='time')\n",
    "\n",
    "#plt.savefig('output_P.pdf', bbox_inches='tight')"
   ]
  },
  {
   "cell_type": "code",
   "execution_count": null,
   "metadata": {},
   "outputs": [],
   "source": [
    "mom_out2.env__stateout[:,40:80].plot.line(x='time')\n",
    "plt.show()\n",
    "mom_out3.env__stateout[:,40:80].plot.line(x='time')\n",
    "plt.show()\n",
    "mom_out4.env__stateout[:,40:80].plot.line(x='time')\n",
    "\n",
    "#plt.savefig('output_Z.pdf', bbox_inches='tight')"
   ]
  },
  {
   "cell_type": "code",
   "execution_count": null,
   "metadata": {},
   "outputs": [],
   "source": [
    "mom_out2.env__stateout[:,80].plot.line(x='time')\n",
    "plt.show()\n",
    "mom_out3.env__stateout[:,80].plot.line(x='time')\n",
    "plt.show()\n",
    "mom_out4.env__stateout[:,80].plot.line(x='time')\n",
    "\n",
    "\n",
    "#plt.savefig('output_N.pdf', bbox_inches='tight')"
   ]
  },
  {
   "cell_type": "code",
   "execution_count": null,
   "metadata": {},
   "outputs": [],
   "source": []
  },
  {
   "cell_type": "code",
   "execution_count": 608,
   "metadata": {},
   "outputs": [],
   "source": [
    "@xs.process\n",
    "class ModelSolver:\n",
    "    labels = xs.group('label')\n",
    "    init = xs.group('init')\n",
    "    \n",
    "    fluxes = xs.group('flux')\n",
    " \n",
    "    component = xs.variable(dims=('component'), intent='out')\n",
    "    \n",
    "    state = xs.variable(dims=('component'),intent='out')\n",
    "    stateout = xs.variable(dims=('component'),intent='out')\n",
    "    outflux = xs.variable(dims=('component'),intent='out')\n",
    "    \n",
    "    def initialize(self):\n",
    "        self.time = 0\n",
    "        self.state = {label: val for label, val in zip(self.labels, self.init)}\n",
    "        self.stateout = [self.state[label] for label in self.labels]\n",
    "        self.funcs = {label: flux for label, flux in zip(self.labels, self.fluxes)}\n",
    "        \n",
    "        self.component = [i for i in self.labels]\n",
    "\n",
    "\n",
    "    @xs.runtime(args='step_delta')\n",
    "    def run_step(self,dt):\n",
    "        # need to convert fluxes to correct time step by multiplying by dt\n",
    "        self.outflux = {label : self.funcs[label](self.state, self.time, self.labels) * dt for label in self.labels}\n",
    "        # keep track of timestep for forcing (+ other time dep. processes)\n",
    "        self.time += dt\n",
    "    \n",
    "    def finalize_step(self):\n",
    "        self.state = {label : self.state[label] + self.outflux[label] for label in self.labels}\n",
    "        self.stateout = [self.state[label] for label in self.labels]\n",
    "        #print(self.state)"
   ]
  },
  {
   "cell_type": "code",
   "execution_count": 609,
   "metadata": {},
   "outputs": [
    {
     "ename": "NameError",
     "evalue": "name 'ChemostatParameters' is not defined",
     "output_type": "error",
     "traceback": [
      "\u001b[0;31m---------------------------------------------------------------------------\u001b[0m",
      "\u001b[0;31mNameError\u001b[0m                                 Traceback (most recent call last)",
      "\u001b[0;32m<ipython-input-609-d4917a3725ac>\u001b[0m in \u001b[0;36m<module>\u001b[0;34m\u001b[0m\n\u001b[1;32m      1\u001b[0m \u001b[0;31m# This should be the ideal setup way:\u001b[0m\u001b[0;34m\u001b[0m\u001b[0;34m\u001b[0m\u001b[0;34m\u001b[0m\u001b[0m\n\u001b[0;32m----> 2\u001b[0;31m flextestModelSetup = xs.Model({'MS':ChemostatParameters,\n\u001b[0m\u001b[1;32m      3\u001b[0m                                \u001b[0;34m'N1'\u001b[0m\u001b[0;34m:\u001b[0m\u001b[0mNutrient\u001b[0m\u001b[0;34m,\u001b[0m\u001b[0;34m\u001b[0m\u001b[0;34m\u001b[0m\u001b[0m\n\u001b[1;32m      4\u001b[0m                                \u001b[0;34m'P1'\u001b[0m\u001b[0;34m:\u001b[0m\u001b[0mPhytoplankton\u001b[0m\u001b[0;34m,\u001b[0m \u001b[0;34m'P2'\u001b[0m\u001b[0;34m:\u001b[0m\u001b[0mPhytoplankton\u001b[0m\u001b[0;34m,\u001b[0m \u001b[0;34m'P3'\u001b[0m\u001b[0;34m:\u001b[0m\u001b[0mPhytoplankton\u001b[0m\u001b[0;34m,\u001b[0m\u001b[0;34m\u001b[0m\u001b[0;34m\u001b[0m\u001b[0m\n\u001b[1;32m      5\u001b[0m                                'ModelSolver':ModelSolver})\n",
      "\u001b[0;31mNameError\u001b[0m: name 'ChemostatParameters' is not defined"
     ]
    }
   ],
   "source": [
    "# This should be the ideal setup way:\n",
    "flextestModelSetup = xs.Model({'MS':ChemostatParameters,\n",
    "                               'N1':Nutrient, \n",
    "                               'P1':Phytoplankton, 'P2':Phytoplankton, 'P3':Phytoplankton, \n",
    "                               'ModelSolver':ModelSolver})"
   ]
  },
  {
   "cell_type": "code",
   "execution_count": 610,
   "metadata": {},
   "outputs": [],
   "source": [
    "#flextestModelSetup.all_vars_dict"
   ]
  },
  {
   "cell_type": "code",
   "execution_count": 51,
   "metadata": {},
   "outputs": [
    {
     "data": {
      "image/png": "[encoded data removed]",
      "text/plain": [
       "<IPython.core.display.Image object>"
      ]
     },
     "execution_count": 51,
     "metadata": {},
     "output_type": "execute_result"
    }
   ],
   "source": [
    "flextestModelSetup.visualize(show_inputs=True)"
   ]
  },
  {
   "cell_type": "code",
   "execution_count": 52,
   "metadata": {},
   "outputs": [],
   "source": [
    "# this is one way to create an lmfit.Parameter object:\n",
    "parameters = Parameters()\n",
    "\n",
    "parameters.add('MS__N_init', value=1,  vary=False)\n",
    "parameters.add('MS__P_init', value=0.1, vary=False)\n",
    "\n",
    "parameters.add('MS__N_inputconc', value=2,  vary=False)\n",
    "parameters.add('MS__flowrate', value=0.2,  vary=False)\n",
    "parameters.add('MS__halfsat', value=0.5,  vary=False)"
   ]
  },
  {
   "cell_type": "code",
   "execution_count": 53,
   "metadata": {},
   "outputs": [],
   "source": [
    "def parameterDict2Input_vars(params):\n",
    "    params = {key : value for key, value in params.valuesdict().items()} \n",
    "    \n",
    "    return params"
   ]
  },
  {
   "cell_type": "code",
   "execution_count": 54,
   "metadata": {},
   "outputs": [
    {
     "data": {
      "text/plain": [
       "{'MS__N_init': 1,\n",
       " 'MS__P_init': 0.1,\n",
       " 'MS__N_inputconc': 2,\n",
       " 'MS__flowrate': 0.2,\n",
       " 'MS__halfsat': 0.5}"
      ]
     },
     "execution_count": 54,
     "metadata": {},
     "output_type": "execute_result"
    }
   ],
   "source": [
    "parameterDict2Input_vars(parameters)"
   ]
  },
  {
   "cell_type": "code",
   "execution_count": 55,
   "metadata": {},
   "outputs": [],
   "source": [
    "flextestModelSetup_in = xs.create_setup(\n",
    " model=flextestModelSetup,\n",
    "    clocks={\n",
    "         'time': np.linspace(0,20,1000)\n",
    "     },\n",
    "    \n",
    "    input_vars = parameterDict2Input_vars(parameters),\n",
    "    \n",
    "    output_vars={\n",
    "        'ModelSolver__component' : None,\n",
    "        'ModelSolver__stateout'  : 'time',\n",
    "        'ModelSolver__outflux': 'time'\n",
    "    }\n",
    "    \n",
    ")"
   ]
  },
  {
   "cell_type": "code",
   "execution_count": 56,
   "metadata": {},
   "outputs": [],
   "source": [
    "component_num = 1\n",
    "out = flextestModelSetup_in.xsimlab.run(model=flextestModelSetup)"
   ]
  },
  {
   "cell_type": "code",
   "execution_count": 57,
   "metadata": {},
   "outputs": [],
   "source": [
    "out2 = out.set_index(component='ModelSolver__component')"
   ]
  },
  {
   "cell_type": "code",
   "execution_count": 58,
   "metadata": {},
   "outputs": [
    {
     "data": {
      "text/html": [
       "<pre>&lt;xarray.Dataset&gt;\n",
       "Dimensions:                (component: 4, time: 1000)\n",
       "Coordinates:\n",
       "  * time                   (time) float64 0.0 0.02002 0.04004 ... 19.98 20.0\n",
       "  * component              (component) object &#x27;N1&#x27; &#x27;P2&#x27; &#x27;P3&#x27; &#x27;P4&#x27;\n",
       "Data variables:\n",
       "    P3__component_label    &lt;U1 &#x27;P&#x27;\n",
       "    P1__component_label    &lt;U1 &#x27;P&#x27;\n",
       "    N1__component_label    &lt;U1 &#x27;N&#x27;\n",
       "    P2__component_label    &lt;U1 &#x27;P&#x27;\n",
       "    MS__N_init             int64 1\n",
       "    MS__P_init             float64 0.1\n",
       "    MS__N_inputconc        int64 2\n",
       "    MS__flowrate           float64 0.2\n",
       "    MS__halfsat            float64 0.5\n",
       "    ModelSolver__stateout  (time, component) float64 1.0 0.1 ... 0.6204 0.6204\n",
       "    ModelSolver__outflux   (time) object {&#x27;N1&#x27;: 0.0, &#x27;P2&#x27;: 0.0009342676009342675, &#x27;P3&#x27;: 0.0009342676009342675, &#x27;P4&#x27;: 0.0009342676009342675} ... {&#x27;N1&#x27;: -4.753622309054897e-06, &#x27;P2&#x27;: 1.8627641981626635e-05, &#x27;P3&#x27;: 1.8627641981626635e-05, &#x27;P4&#x27;: 1.8627641981626635e-05}</pre>"
      ],
      "text/plain": [
       "<xarray.Dataset>\n",
       "Dimensions:                (component: 4, time: 1000)\n",
       "Coordinates:\n",
       "  * time                   (time) float64 0.0 0.02002 0.04004 ... 19.98 20.0\n",
       "  * component              (component) object 'N1' 'P2' 'P3' 'P4'\n",
       "Data variables:\n",
       "    P3__component_label    <U1 'P'\n",
       "    P1__component_label    <U1 'P'\n",
       "    N1__component_label    <U1 'N'\n",
       "    P2__component_label    <U1 'P'\n",
       "    MS__N_init             int64 1\n",
       "    MS__P_init             float64 0.1\n",
       "    MS__N_inputconc        int64 2\n",
       "    MS__flowrate           float64 0.2\n",
       "    MS__halfsat            float64 0.5\n",
       "    ModelSolver__stateout  (time, component) float64 1.0 0.1 ... 0.6204 0.6204\n",
       "    ModelSolver__outflux   (time) object {'N1': 0.0, 'P2': 0.0009342676009342675, 'P3': 0.0009342676009342675, 'P4': 0.0009342676009342675} ... {'N1': -4.753622309054897e-06, 'P2': 1.8627641981626635e-05, 'P3': 1.8627641981626635e-05, 'P4': 1.8627641981626635e-05}"
      ]
     },
     "execution_count": 58,
     "metadata": {},
     "output_type": "execute_result"
    }
   ],
   "source": [
    "out2"
   ]
  },
  {
   "cell_type": "code",
   "execution_count": 59,
   "metadata": {},
   "outputs": [
    {
     "data": {
      "text/plain": [
       "[<matplotlib.lines.Line2D at 0x1232e1040>,\n",
       " <matplotlib.lines.Line2D at 0x1232e1160>,\n",
       " <matplotlib.lines.Line2D at 0x1232e1220>,\n",
       " <matplotlib.lines.Line2D at 0x1232e12e0>]"
      ]
     },
     "execution_count": 59,
     "metadata": {},
     "output_type": "execute_result"
    },
    {
     "data": {
      "image/png": "[encoded data removed]",
      "text/plain": [
       "<Figure size 1080x720 with 1 Axes>"
      ]
     },
     "metadata": {
      "needs_background": "light"
     },
     "output_type": "display_data"
    }
   ],
   "source": [
    "out2.ModelSolver__stateout.plot.line(x='time')"
   ]
  },
  {
   "cell_type": "code",
   "execution_count": null,
   "metadata": {},
   "outputs": [],
   "source": []
  }
 ],
 "metadata": {
  "kernelspec": {
   "display_name": "Python 3",
   "language": "python",
   "name": "python3"
  },
  "language_info": {
   "codemirror_mode": {
    "name": "ipython",
    "version": 3
   },
   "file_extension": ".py",
   "mimetype": "text/x-python",
   "name": "python",
   "nbconvert_exporter": "python",
   "pygments_lexer": "ipython3",
   "version": "3.7.5"
  }
 },
 "nbformat": 4,
 "nbformat_minor": 4
}
