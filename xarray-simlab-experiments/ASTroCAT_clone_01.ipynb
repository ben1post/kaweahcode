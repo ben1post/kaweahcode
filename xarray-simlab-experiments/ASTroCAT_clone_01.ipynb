{
 "cells": [
  {
   "cell_type": "code",
   "execution_count": 1,
   "metadata": {},
   "outputs": [],
   "source": [
    "from lmfit import minimize, Parameters # Parameter, report_fit"
   ]
  },
  {
   "cell_type": "code",
   "execution_count": 2,
   "metadata": {},
   "outputs": [],
   "source": [
    "import numpy as np\n",
    "import xsimlab as xs\n",
    "from scipy.integrate import odeint\n",
    "import matplotlib.pyplot as plt"
   ]
  },
  {
   "cell_type": "markdown",
   "metadata": {},
   "source": [
    "# ASTroCAT\n",
    "\n",
    "(Allometric/Stochastic Trophic Complexity Analysis Tool)\n",
    "\n",
    "This is a model presented by Neil Banas in the publication:\n",
    "Banas, N. S. (2011). Adding complex trophic interactions to a size-spectral plankton model: Emergent diversity patterns and limits on predictability. Ecological Modelling, 222(15), 2663–2675. https://doi.org/10.1016/j.ecolmodel.2011.05.018\n",
    "\n",
    "The basic implementation represents a \n",
    "\n",
    "The model, named ASTroCAT (Allometric/Stochastic Trophic Complexity Analysis Tool), is schematized in Fig. 1. It uses nitrogen as its currency (stocks are reported in units of µmol N m−3, or µM), with compartments for dissolved nutrients (N), 40 size classes of phytoplankton (P), and 40 classes of small zooplankton (Z). The ver- sion used here has been kept mechanistically minimal, containing only a single bottom-up control (nutrient limitation of P growth), a single top-down control (higher predation on Z), and one highly resolved level of trophic interactions (P–Z) in between. There is no light or temperature dependence to P growth, and no distinction made between the rate and timing of phytoplankton cell growth and the rate and timing of uptake of the limiting nutrient. The physical testbed is a single box, and the detrital pool and regeneration pathways are not tracked: mortality and zooplankton egestion (sloppy feeding) are treated as losses from the model nitrogen pool, and whatever fraction of these losses is ultimately regenerated is folded into an imposed, external nutrient supply (S). Thus the model can be thought of as an “open” or “flowthrough” NPZ system, as opposed to the classical “closed” NPZ system (Franks, 2002), which sends mortality and egestion losses directly back into the N pool. The minimalism of this model configuration makes the interpretation of results easier, but for a realistic application, one would, at a minimum, add light-dependence to phytoplankton growth, resolve at least one spatial dimension in the domain, and explicitly track detritus. \n",
    "\n",
    "The model equations are"
   ]
  },
  {
   "cell_type": "markdown",
   "metadata": {},
   "source": [
    "![alt text](ASTroCAT_equations_full.jpg)"
   ]
  },
  {
   "cell_type": "code",
   "execution_count": 4,
   "metadata": {},
   "outputs": [],
   "source": [
    "@xs.process\n",
    "class UniqueComponent:\n",
    "    \"\"\"This is for initializing a Nutrient (i.e. components that are unique (0D))\"\"\"\n",
    "    label = xs.variable(intent='out', groups='label')\n",
    "    init = xs.variable(intent='out', groups='init')\n",
    "    \n",
    "    def initialize(self):\n",
    "        self.label = (self.component_label,)\n",
    "        self.init = np.array(self.initVal)\n",
    "        print('NutInit',self.init)\n",
    "        "
   ]
  },
  {
   "cell_type": "code",
   "execution_count": 5,
   "metadata": {},
   "outputs": [],
   "source": [
    "@xs.process\n",
    "class Nutrient(UniqueComponent):\n",
    "    component_label = xs.variable(default='N', groups='component-label')\n",
    "    initVal = xs.variable(default=1)\n",
    "    supplyrate = xs.variable(default=1)\n",
    "\n",
    "    # Process variables\n",
    "    supply = xs.variable(intent='out')\n",
    "    \n",
    "    def _supply(self):\n",
    "        return self.supplyrate\n",
    "    \n",
    "    def initialize(self):\n",
    "        super(Nutrient, self).initialize()\n",
    "        self.supply = self._supply"
   ]
  },
  {
   "cell_type": "code",
   "execution_count": 6,
   "metadata": {},
   "outputs": [],
   "source": [
    "@xs.process\n",
    "class FlexSizeComponent:\n",
    "    \"\"\"This is for initializing both Phytoplankton and Zooplankton (i.e. components of variable number (1D))\"\"\"\n",
    "    #flux = xs.variable(intent='out', groups='flux')\n",
    "    label = xs.variable(intent='out', groups='label')\n",
    "    init = xs.variable(intent='out', groups='init')\n",
    "    size = xs.variable(dims='flexComponent',intent='out', groups='size')\n",
    "        \n",
    "    def calculate_sizes(self):\n",
    "        # must be implemented in subclasses\n",
    "        raise NotImplementedError\n",
    "        \n",
    "    def initialize_alloparams(self):\n",
    "        # must be implemented in subclasses\n",
    "        raise NotImplementedError\n",
    "        \n",
    "    def initialize(self):\n",
    "        self.label = tuple((self.component_label + str(i) for i in range(self.NP)))\n",
    "        self.init = np.array([self.initVal / self.NP for i in range(self.NP)])\n",
    "        \n",
    "        self.size = self.calculate_sizes()\n",
    "        print(self.size)\n",
    "        self.initialize_alloparams()"
   ]
  },
  {
   "cell_type": "code",
   "execution_count": 7,
   "metadata": {},
   "outputs": [],
   "source": [
    "@xs.process\n",
    "class Phytoplankton(FlexSizeComponent):\n",
    "    component_label = xs.variable(default='P', groups='component-label')\n",
    "    # Phytoplankton params\n",
    "    PMinEsd = xs.variable(default = 1,  description='P max growth', groups='parameter', static=True)\n",
    "    PMaxEsd = xs.variable(default = 20, description='P max growth', groups='parameter', static=True)\n",
    "    NP =      xs.variable(default = 40, description='number of P',  groups='parameter', static=True)\n",
    "    \n",
    "    # INPUT\n",
    "    initVal = xs.variable()\n",
    "    m = xs.variable(default=.1)\n",
    "    \n",
    "    # Rate params\n",
    "    ks = xs.variable(intent='out', description='allometric half-saturation constant',  groups='parameter')\n",
    "    mu0 = xs.variable(intent='out', description='allometric growth rate',  groups='parameter')\n",
    "    \n",
    "    # Process variables\n",
    "    uptake = xs.variable(intent='out')\n",
    "    mortality = xs.variable(intent='out')\n",
    "    grazed = xs.variable(intent='out')\n",
    "    \n",
    "    def _uptake(self, N):\n",
    "        return self.mu0 * N / (N + self.ks)\n",
    "    \n",
    "    def _mortality(self):\n",
    "        \"\"\"returns size-scaled mortality rate, calculated from mu0\"\"\"\n",
    "        return self.m * self.mu0 \n",
    "    \n",
    "    def _grazed(self,FgrazP):\n",
    "        return [sum(FgrazP[i,:]) for i in range(self.NP)]\n",
    "    \n",
    "    def calculate_sizes(self):\n",
    "        numbers = np.array([i for i in range(self.NP)])\n",
    "        sizes = (np.log(self.PMaxEsd) - np.log(self.PMinEsd))* numbers / (self.NP-1) + np.log(self.PMinEsd)\n",
    "        return np.exp(sizes)\n",
    "    \n",
    "    def initialize_alloparams(self):\n",
    "        # must be implemented in subclasses\n",
    "        self.mu0 = 2.6 * (self.size) ** -0.45\n",
    "        self.ks = (self.size) * .1\n",
    "        \n",
    "    def initialize(self):\n",
    "        super(Phytoplankton, self).initialize()\n",
    "        self.uptake = self._uptake\n",
    "        self.mortality = self._mortality\n",
    "        self.grazed = self._grazed\n",
    "        print('ks',self.ks)\n",
    "        print('mu0',self.mu0)\n"
   ]
  },
  {
   "cell_type": "code",
   "execution_count": 8,
   "metadata": {},
   "outputs": [],
   "source": [
    "@xs.process\n",
    "class Zooplankton(FlexSizeComponent):\n",
    "    component_label = xs.variable(default='Z', groups='component-label')\n",
    "    # SetupParams\n",
    "    PMinEsd = xs.foreign(Phytoplankton, 'PMinEsd')\n",
    "    PMaxEsd = xs.foreign(Phytoplankton, 'PMaxEsd')\n",
    "    NP =      xs.foreign(Phytoplankton, 'NP')\n",
    "    phytosize = xs.foreign(Phytoplankton, 'size')\n",
    "   \n",
    "    # Zooplankton params \n",
    "    initVal = xs.variable()\n",
    "    zeta = xs.variable(default=1) #mortality rate quadratic\n",
    "    deltaxprey = xs.variable(default=0.25) # log10 prey size tolerance\n",
    "    KsZ = xs.variable(default=3) # grazing half saturation constant\n",
    "    f_eg = xs.variable(default=.33) # egested food\n",
    "    epsilon = xs.variable(default=.33) # assimilated food\n",
    "    \n",
    "    \n",
    "    # Alloparams\n",
    "    I0 = xs.variable(intent='out')\n",
    "    xpreyopt = xs.variable(intent='out')\n",
    "    \n",
    "    phiP = xs.variable(intent='out')\n",
    "    \n",
    "    # Process variables\n",
    "    grazingmatrix = xs.variable(intent='out')\n",
    "    mortality = xs.variable(intent='out')\n",
    "    ingestion = xs.variable(intent='out')\n",
    "    excretion = xs.variable(intent='out')\n",
    "    \n",
    "    def _grazingmatrix(self,P,Z):\n",
    "        PscaledAsFood = np.zeros((self.NP,self.NP))\n",
    "        for j in range(self.NP):\n",
    "            for i in range(self.NP):\n",
    "                PscaledAsFood[i,j] = self.phiP[i,j] / self.KsZ * P[i]\n",
    "        \n",
    "        FgrazP = np.zeros((self.NP,self.NP))\n",
    "        for j in range(self.NP):\n",
    "            for i in range(self.NP):        \n",
    "                FgrazP[i,j] = self.I0[j] * Z[j] * PscaledAsFood[i,j] / (1 + sum(PscaledAsFood[:,j]))\n",
    "                \n",
    "        return FgrazP\n",
    "    \n",
    "    def _ingestion(self,FgrazP):\n",
    "        return [self.epsilon * sum(FgrazP[:,j]) for j in range(self.NP)]\n",
    "\n",
    "    def _excretion(self,FgrazP):\n",
    "        return [(1 - self.f_eg - self.epsilon) * sum(FgrazP[:,j]) for j in range(self.NP)]\n",
    "    \n",
    "    def _mortality(self,Z):\n",
    "        return self.zeta * sum(Z)\n",
    "        \n",
    "    def calculate_sizes(self):\n",
    "        zoosizes= 2.16 * self.phytosize ** 1.79\n",
    "        return zoosizes\n",
    "    \n",
    "    def initialize_alloparams(self):\n",
    "        # initializes allometric parameters as lists, based on sizes\n",
    "        self.I0 = 26 * (self.size) ** -0.4\n",
    "        self.xpreyopt = self.phytosize #0.65 * (self.size) ** .56 \n",
    "    \n",
    "    def init_phiP(self):\n",
    "        \"\"\"creates array of feeding preferences [P...P10] for each [Z]\"\"\"\n",
    "        phiP= np.array([[np.exp(-((np.log10(xpreyi)-np.log10(xpreyoptj)) / self.deltaxprey)**2) \n",
    "               for xpreyi in self.phytosize] for xpreyoptj in self.xpreyopt])\n",
    "        return phiP\n",
    "    \n",
    "    def initialize(self):        \n",
    "        super(Zooplankton, self).initialize()\n",
    "        self.grazingmatrix = self._grazingmatrix\n",
    "        \n",
    "        self.mortality = self._mortality\n",
    "        self.ingestion = self._ingestion\n",
    "        self.excretion = self._excretion\n",
    "        \n",
    "        self.phiP = self.init_phiP()\n",
    "        print(self.phiP)\n",
    "        print('preyopt',self.xpreyopt)\n",
    "\n"
   ]
  },
  {
   "cell_type": "code",
   "execution_count": 9,
   "metadata": {},
   "outputs": [],
   "source": [
    "import itertools\n",
    "\n",
    "def flatten(generatorlist):\n",
    "    # returns 1D list from nested generator or multi-D list\n",
    "    return list(itertools.chain.from_iterable(generatorlist))"
   ]
  },
  {
   "cell_type": "code",
   "execution_count": 10,
   "metadata": {},
   "outputs": [],
   "source": [
    "@xs.process\n",
    "class Chemostat:\n",
    "    # foreign processes\n",
    "    N_supply = xs.foreign(Nutrient, 'supply')\n",
    "    \n",
    "    P_uptake = xs.foreign(Phytoplankton, 'uptake')\n",
    "    P_mortality = xs.foreign(Phytoplankton, 'mortality')\n",
    "    \n",
    "    grazingmatrix = xs.foreign(Zooplankton, 'grazingmatrix')\n",
    "    Z_ingestion = xs.foreign(Zooplankton, 'ingestion')\n",
    "    Z_excretion = xs.foreign(Zooplankton, 'excretion')\n",
    "    Z_mortality = xs.foreign(Zooplankton, 'mortality')\n",
    "    P_grazed = xs.foreign(Phytoplankton, 'grazed')\n",
    "    \n",
    "    # model construct labels\n",
    "    complabels = xs.group('component-label')\n",
    "    labels = xs.group('label')\n",
    "    inits = xs.group('init')\n",
    "    \n",
    "    # output variables\n",
    "    component = xs.variable(dims=('component'), intent='out')\n",
    "    \n",
    "    state = xs.variable(dims=('component'),intent='out')\n",
    "    stateout = xs.variable(dims=('component'),intent='out')\n",
    "    outflux = xs.variable(dims=('component'),intent='out')\n",
    "    \n",
    "    def initialize(self):\n",
    "        self.time = 0\n",
    "\n",
    "        # This is one of those things I am not sure about, it makes sense to use dicts to store model state (to allow calling different components by labels)\n",
    "            # BUT this can not be used (afaik) in a nice way as output for plotting later on in the model output xarray.. do you have any idea how to do that more nicely?\n",
    "        self.state = {label:val for label,val in zip(self.complabels,self.inits)}\n",
    "\n",
    "        # in order to have output to plot, I also create an array that contains all output:\n",
    "            # i have to use flatten function (defined above) to make group generators one dimensional (FlexComponents are Lists, so generators return List of Lists)\n",
    "            # there should be a better solution to this.. but it relates to how xs.group() works in this model setup\n",
    "        self.stateout = np.concatenate([self.state[label] for label in flatten(self.complabels)], axis=None)\n",
    "        \n",
    "        self.component = [i for i in flatten(self.labels)]\n",
    "    \n",
    "    def ode(self, state, time, labels, timestep):\n",
    "        N, P, Z = state['N'], state['P'], state['Z']\n",
    "        \n",
    "        #P[P < 0.01] = 0.011\n",
    "        #Z[Z < 0.01] = 0.011\n",
    "        \n",
    "        PGrazed = self.grazingmatrix(P,Z)\n",
    "\n",
    "        dNdt = self.N_supply() - sum(self.P_uptake(N)*P) + sum(self.Z_excretion(PGrazed))\n",
    "        \n",
    "        dPdt = self.P_uptake(N)*P - self.P_mortality()*P - self.P_grazed(PGrazed)\n",
    "        \n",
    "        dZdt =  self.Z_ingestion(PGrazed) - self.Z_mortality(Z)*Z \n",
    "        \n",
    "        # need to convert fluxes to correct time step by multiplying by dt        \n",
    "        return {'N':dNdt*timestep, 'P':dPdt*timestep, 'Z':dZdt*timestep}\n",
    "\n",
    "    @xs.runtime(args='step_delta')\n",
    "    def run_step(self,dt):\n",
    "        self.outflux = self.ode(self.state,self.time,self.labels, dt)\n",
    "        # {label : self.funcs[label](self.state, self.time, self.labels) * dt for label in self.complabels}\n",
    "        \n",
    "        # keep track of timestep for forcing (+ other time dep. processes)\n",
    "        self.time += dt\n",
    "    \n",
    "    def finalize_step(self):\n",
    "        self.state = {label : self.state[label] + self.outflux[label] for label in self.complabels}\n",
    "        \n",
    "        self.stateout = np.concatenate(flatten([(self.state[label] for label in self.complabels)]), axis=None)\n",
    "\n"
   ]
  },
  {
   "cell_type": "code",
   "execution_count": 11,
   "metadata": {},
   "outputs": [],
   "source": [
    "modmod = xs.Model({'env':Chemostat, 'N':Nutrient, 'P':Phytoplankton, 'Z':Zooplankton})"
   ]
  },
  {
   "cell_type": "code",
   "execution_count": 12,
   "metadata": {},
   "outputs": [
    {
     "data": {
      "text/plain": [
       "\"\\n!   PMinEsd = xs.variable(default = 1,  description='P max growth', groups='parameter', static=True)\\n    PMaxEsd = xs.variable(default = 20, description='P max growth', groups='parameter', static=True)\\n    NP =      xs.variable(default = 40, description='number of P',  groups='parameter', static=True)\\n    \\n    # INPUT\\n    initVal = xs.variable()\\n    m = xs.variable(default=.1)\\n    \\n    initVal = xs.variable(default=1)\\n    supplyrate = xs.variable(default=1)\\n    # Zooplankton params \\n    initVal = xs.variable()\\n    zeta = xs.variable(default=1) #mortality rate quadratic\\n    deltaxprey = xs.variable(default=0.25) # log10 prey size tolerance\\n    KsZ = xs.variable(default=3) # grazing half saturation constant\\n    f_eg = xs.variable(default=.33) # egested food\\n    epsilon = xs.variable(default=.33) # assimilated food\\n\""
      ]
     },
     "execution_count": 12,
     "metadata": {},
     "output_type": "execute_result"
    }
   ],
   "source": [
    "\"\"\"\n",
    "!   PMinEsd = xs.variable(default = 1,  description='P max growth', groups='parameter', static=True)\n",
    "    PMaxEsd = xs.variable(default = 20, description='P max growth', groups='parameter', static=True)\n",
    "    NP =      xs.variable(default = 40, description='number of P',  groups='parameter', static=True)\n",
    "    \n",
    "    # INPUT\n",
    "    initVal = xs.variable()\n",
    "    m = xs.variable(default=.1)\n",
    "    \n",
    "    initVal = xs.variable(default=1)\n",
    "    supplyrate = xs.variable(default=1)\n",
    "    # Zooplankton params \n",
    "    initVal = xs.variable()\n",
    "    zeta = xs.variable(default=1) #mortality rate quadratic\n",
    "    deltaxprey = xs.variable(default=0.25) # log10 prey size tolerance\n",
    "    KsZ = xs.variable(default=3) # grazing half saturation constant\n",
    "    f_eg = xs.variable(default=.33) # egested food\n",
    "    epsilon = xs.variable(default=.33) # assimilated food\n",
    "\"\"\""
   ]
  },
  {
   "cell_type": "code",
   "execution_count": 22,
   "metadata": {},
   "outputs": [],
   "source": [
    "mom_in = xs.create_setup(\n",
    "        model=modmod,\n",
    "    clocks={\n",
    "         'time': np.linspace(1,10*365,10*365*9)  # 20,1000)\n",
    "     },\n",
    "    input_vars={\n",
    "        'P__initVal':1,\n",
    "        'Z__initVal':1\n",
    "    },\n",
    "    output_vars={\n",
    "        'env__component': None,\n",
    "        'P__size': None,\n",
    "        'Z__size': None,\n",
    "        'env__stateout': 'time'\n",
    "    }\n",
    ")"
   ]
  },
  {
   "cell_type": "code",
   "execution_count": 23,
   "metadata": {},
   "outputs": [
    {
     "name": "stdout",
     "output_type": "stream",
     "text": [
      "[ 1.          1.07984083  1.16605621  1.2591551   1.35968709  1.46824563\n",
      "  1.58547158  1.71205694  1.84874898  1.99635463  2.15574523  2.32786172\n",
      "  2.51372012  2.71441762  2.93113896  3.16516352  3.4178728   3.69075859\n",
      "  3.98543181  4.30363198  4.64723752  5.0182768   5.41894018  5.85159284\n",
      "  6.31878886  6.82328618  7.368063    7.95633524  8.59157563  9.27753413\n",
      " 10.01826013 10.81812631 11.68185446 12.61454339 13.62169896 14.70926668\n",
      " 15.8836667  17.15183178 18.52124822 20.        ]\n",
      "ks [0.1        0.10798408 0.11660562 0.12591551 0.13596871 0.14682456\n",
      " 0.15854716 0.17120569 0.1848749  0.19963546 0.21557452 0.23278617\n",
      " 0.25137201 0.27144176 0.2931139  0.31651635 0.34178728 0.36907586\n",
      " 0.39854318 0.4303632  0.46472375 0.50182768 0.54189402 0.58515928\n",
      " 0.63187889 0.68232862 0.7368063  0.79563352 0.85915756 0.92775341\n",
      " 1.00182601 1.08181263 1.16818545 1.26145434 1.3621699  1.47092667\n",
      " 1.58836667 1.71518318 1.85212482 2.        ]\n",
      "mu0 [2.6        2.51166355 2.42632838 2.34389253 2.26425747 2.18732806\n",
      " 2.11301238 2.0412216  1.97186996 1.90487458 1.84015541 1.7776351\n",
      " 1.71723896 1.65889481 1.60253294 1.54808599 1.4954889  1.44467884\n",
      " 1.39559507 1.34817895 1.30237382 1.25812494 1.21537945 1.17408625\n",
      " 1.13419602 1.09566108 1.05843538 1.02247445 0.98773531 0.95417645\n",
      " 0.92175778 0.89044054 0.86018733 0.83096199 0.80272959 0.77545641\n",
      " 0.74910984 0.72365842 0.69907172 0.67532037]\n",
      "[  2.16         2.47837884   2.84368595   3.26283847   3.74377306\n",
      "   4.29559626   4.92875688   5.65524386   6.48881329   7.44524886\n",
      "   8.54266074   9.80182852  11.24659461  12.90431577  14.80638108\n",
      "  16.98880625  19.49291569  22.36612487  25.66283821  29.44547923\n",
      "  33.78567248  38.76559985  44.47955661  51.03573693  58.55828257\n",
      "  67.18963345  77.09322482  88.45658189 101.49487062 116.45497195\n",
      " 133.62015646 153.31544814 175.91377873 201.84304924 231.59423224\n",
      " 265.7306685  304.89873387 349.84007846 401.40566982 460.57190609]\n",
      "[[1.00000000e+00 9.82351630e-01 9.31253418e-01 ... 2.59108605e-11\n",
      "  6.81560764e-12 1.73006040e-12]\n",
      " [9.82351630e-01 1.00000000e+00 9.82351630e-01 ... 9.50589540e-11\n",
      "  2.59108605e-11 6.81560764e-12]\n",
      " [9.31253418e-01 9.82351630e-01 1.00000000e+00 ... 3.36541144e-10\n",
      "  9.50589540e-11 2.59108605e-11]\n",
      " ...\n",
      " [2.59108605e-11 9.50589540e-11 3.36541144e-10 ... 1.00000000e+00\n",
      "  9.82351630e-01 9.31253418e-01]\n",
      " [6.81560764e-12 2.59108605e-11 9.50589540e-11 ... 9.82351630e-01\n",
      "  1.00000000e+00 9.82351630e-01]\n",
      " [1.73006040e-12 6.81560764e-12 2.59108605e-11 ... 9.31253418e-01\n",
      "  9.82351630e-01 1.00000000e+00]]\n",
      "preyopt [ 1.          1.07984083  1.16605621  1.2591551   1.35968709  1.46824563\n",
      "  1.58547158  1.71205694  1.84874898  1.99635463  2.15574523  2.32786172\n",
      "  2.51372012  2.71441762  2.93113896  3.16516352  3.4178728   3.69075859\n",
      "  3.98543181  4.30363198  4.64723752  5.0182768   5.41894018  5.85159284\n",
      "  6.31878886  6.82328618  7.368063    7.95633524  8.59157563  9.27753413\n",
      " 10.01826013 10.81812631 11.68185446 12.61454339 13.62169896 14.70926668\n",
      " 15.8836667  17.15183178 18.52124822 20.        ]\n",
      "NutInit 1\n"
     ]
    }
   ],
   "source": [
    "mom_out = mom_in.xsimlab.run(model=modmod)"
   ]
  },
  {
   "cell_type": "code",
   "execution_count": 24,
   "metadata": {},
   "outputs": [
    {
     "data": {
      "text/html": [
       "<pre>&lt;xarray.Dataset&gt;\n",
       "Dimensions:             (component: 81, flexComponent: 40, time: 32850)\n",
       "Coordinates:\n",
       "  * time                (time) float64 1.0 1.111 1.222 ... 3.65e+03 3.65e+03\n",
       "Dimensions without coordinates: component, flexComponent\n",
       "Data variables:\n",
       "    Z__zeta             int64 1\n",
       "    P__PMinEsd          int64 1\n",
       "    Z__epsilon          float64 0.33\n",
       "    Z__KsZ              int64 3\n",
       "    Z__deltaxprey       float64 0.25\n",
       "    N__supplyrate       int64 1\n",
       "    P__m                float64 0.1\n",
       "    P__NP               int64 40\n",
       "    N__component_label  &lt;U1 &#x27;N&#x27;\n",
       "    P__component_label  &lt;U1 &#x27;P&#x27;\n",
       "    Z__f_eg             float64 0.33\n",
       "    Z__component_label  &lt;U1 &#x27;Z&#x27;\n",
       "    N__initVal          int64 1\n",
       "    P__PMaxEsd          int64 20\n",
       "    P__initVal          int64 1\n",
       "    Z__initVal          int64 1\n",
       "    env__stateout       (time, component) float64 0.025 0.025 ... 0.2012\n",
       "    env__component      (component) &lt;U3 &#x27;P0&#x27; &#x27;P1&#x27; &#x27;P2&#x27; &#x27;P3&#x27; ... &#x27;Z38&#x27; &#x27;Z39&#x27; &#x27;N&#x27;\n",
       "    P__size             (flexComponent) float64 1.0 1.08 1.166 ... 18.52 20.0\n",
       "    Z__size             (flexComponent) float64 2.16 2.478 2.844 ... 401.4 460.6</pre>"
      ],
      "text/plain": [
       "<xarray.Dataset>\n",
       "Dimensions:             (component: 81, flexComponent: 40, time: 32850)\n",
       "Coordinates:\n",
       "  * time                (time) float64 1.0 1.111 1.222 ... 3.65e+03 3.65e+03\n",
       "Dimensions without coordinates: component, flexComponent\n",
       "Data variables:\n",
       "    Z__zeta             int64 1\n",
       "    P__PMinEsd          int64 1\n",
       "    Z__epsilon          float64 0.33\n",
       "    Z__KsZ              int64 3\n",
       "    Z__deltaxprey       float64 0.25\n",
       "    N__supplyrate       int64 1\n",
       "    P__m                float64 0.1\n",
       "    P__NP               int64 40\n",
       "    N__component_label  <U1 'N'\n",
       "    P__component_label  <U1 'P'\n",
       "    Z__f_eg             float64 0.33\n",
       "    Z__component_label  <U1 'Z'\n",
       "    N__initVal          int64 1\n",
       "    P__PMaxEsd          int64 20\n",
       "    P__initVal          int64 1\n",
       "    Z__initVal          int64 1\n",
       "    env__stateout       (time, component) float64 0.025 0.025 ... 0.2012\n",
       "    env__component      (component) <U3 'P0' 'P1' 'P2' 'P3' ... 'Z38' 'Z39' 'N'\n",
       "    P__size             (flexComponent) float64 1.0 1.08 1.166 ... 18.52 20.0\n",
       "    Z__size             (flexComponent) float64 2.16 2.478 2.844 ... 401.4 460.6"
      ]
     },
     "execution_count": 24,
     "metadata": {},
     "output_type": "execute_result"
    }
   ],
   "source": [
    "mom_out"
   ]
  },
  {
   "cell_type": "code",
   "execution_count": 25,
   "metadata": {},
   "outputs": [],
   "source": [
    "mom_out.to_netcdf('NEWOUT_ASTroCAT_10y_x9res.nc')"
   ]
  },
  {
   "cell_type": "code",
   "execution_count": 125,
   "metadata": {},
   "outputs": [],
   "source": [
    "model_out2 = mom_out.set_index(component = 'env__component')"
   ]
  },
  {
   "cell_type": "code",
   "execution_count": 126,
   "metadata": {},
   "outputs": [
    {
     "data": {
      "text/html": [
       "<pre>&lt;xarray.DataArray &#x27;env__stateout&#x27; (component: 40, time: 3650)&gt;\n",
       "array([[2.50000000e-02, 2.80992696e-02, 3.17508885e-02, ...,\n",
       "        2.59501943e-01, 2.59508248e-01, 2.59514253e-01],\n",
       "       [2.50000000e-02, 2.76377212e-02, 3.07367559e-02, ...,\n",
       "        1.42601001e-18, 1.41331260e-18, 1.40072862e-18],\n",
       "       [2.50000000e-02, 2.72153199e-02, 2.98222845e-02, ...,\n",
       "        1.74530850e-28, 1.72221523e-28, 1.69943139e-28],\n",
       "       ...,\n",
       "       [2.50000000e-02, 2.49713417e-02, 2.49972209e-02, ...,\n",
       "        2.17813189e-02, 2.17750648e-02, 2.17688689e-02],\n",
       "       [2.50000000e-02, 2.49882435e-02, 2.50249597e-02, ...,\n",
       "        7.86860082e-03, 7.86468071e-03, 7.86077888e-03],\n",
       "       [2.50000000e-02, 2.50073169e-02, 2.50571003e-02, ...,\n",
       "        2.69379838e-03, 2.69178626e-03, 2.68978015e-03]])\n",
       "Coordinates:\n",
       "  * time       (time) float64 1.0 1.1 1.2 1.299 ... 364.7 364.8 364.9 365.0\n",
       "  * component  (component) object &#x27;P0&#x27; &#x27;P1&#x27; &#x27;P2&#x27; &#x27;P3&#x27; ... &#x27;P37&#x27; &#x27;P38&#x27; &#x27;P39&#x27;</pre>"
      ],
      "text/plain": [
       "<xarray.DataArray 'env__stateout' (component: 40, time: 3650)>\n",
       "array([[2.50000000e-02, 2.80992696e-02, 3.17508885e-02, ...,\n",
       "        2.59501943e-01, 2.59508248e-01, 2.59514253e-01],\n",
       "       [2.50000000e-02, 2.76377212e-02, 3.07367559e-02, ...,\n",
       "        1.42601001e-18, 1.41331260e-18, 1.40072862e-18],\n",
       "       [2.50000000e-02, 2.72153199e-02, 2.98222845e-02, ...,\n",
       "        1.74530850e-28, 1.72221523e-28, 1.69943139e-28],\n",
       "       ...,\n",
       "       [2.50000000e-02, 2.49713417e-02, 2.49972209e-02, ...,\n",
       "        2.17813189e-02, 2.17750648e-02, 2.17688689e-02],\n",
       "       [2.50000000e-02, 2.49882435e-02, 2.50249597e-02, ...,\n",
       "        7.86860082e-03, 7.86468071e-03, 7.86077888e-03],\n",
       "       [2.50000000e-02, 2.50073169e-02, 2.50571003e-02, ...,\n",
       "        2.69379838e-03, 2.69178626e-03, 2.68978015e-03]])\n",
       "Coordinates:\n",
       "  * time       (time) float64 1.0 1.1 1.2 1.299 ... 364.7 364.8 364.9 365.0\n",
       "  * component  (component) object 'P0' 'P1' 'P2' 'P3' ... 'P37' 'P38' 'P39'"
      ]
     },
     "execution_count": 126,
     "metadata": {},
     "output_type": "execute_result"
    }
   ],
   "source": [
    "#mom_out2 = mom_out.set_index(component = 'env__component')\n",
    "P_out = model_out2.env__stateout[:,1:41].T\n",
    "Z_out = model_out2.env__stateout[:,41:81].T\n",
    "N_out = model_out2.env__stateout[:,0]\n",
    "#plt.show()\n",
    "P_out"
   ]
  },
  {
   "cell_type": "code",
   "execution_count": 127,
   "metadata": {},
   "outputs": [],
   "source": [
    "plt.rcParams['figure.figsize'] = [20, 5]"
   ]
  },
  {
   "cell_type": "code",
   "execution_count": 130,
   "metadata": {},
   "outputs": [
    {
     "data": {
      "image/png": "[encoded data removed]",
      "text/plain": [
       "<Figure size 1440x360 with 2 Axes>"
      ]
     },
     "metadata": {
      "needs_background": "light"
     },
     "output_type": "display_data"
    }
   ],
   "source": [
    "plt.pcolor(P_out)\n",
    "plt.colorbar()\n",
    "plt.show()"
   ]
  },
  {
   "cell_type": "code",
   "execution_count": 129,
   "metadata": {},
   "outputs": [
    {
     "data": {
      "image/png": "[encoded data removed]",
      "text/plain": [
       "<Figure size 1440x360 with 2 Axes>"
      ]
     },
     "metadata": {
      "needs_background": "light"
     },
     "output_type": "display_data"
    }
   ],
   "source": [
    "plt.pcolor(Z_out)\n",
    "plt.colorbar()\n",
    "plt.show()"
   ]
  },
  {
   "cell_type": "markdown",
   "metadata": {},
   "source": [
    "# TODO\n",
    "- implement an odeint routine that solves the model dynamically\n",
    "- add plots of output to bottom\n",
    "- fully document code\n",
    "- "
   ]
  },
  {
   "cell_type": "markdown",
   "metadata": {},
   "source": [
    "# Open issues:"
   ]
  },
  {
   "cell_type": "markdown",
   "metadata": {},
   "source": [
    "## 1. there must be a better way to keep track of the model state, right?\n",
    "better than storing in a dict (with labels) and as a flattened list (for later plotting) at the same time.\n",
    "Somewhat related to this problem is my use of FlexComponents, which necessitates putting lists in groups, therefore the generators return lists of lists, that do not correspond to the dimensionality needed in xarray. Perhaps the implementation of dimensions (i.e. coordinates and indices) could use an overhaul in this model, more in line with what you had in mind during the construction of xsimlab.\n",
    "\n",
    "related to this question:\n",
    "## 2. what is the best way to structure the xarray to contain all aspects of the model?\n",
    "it should store all relevant inputs, outputs and parameters for later analysis in an easily accesible manner.\n",
    "\n",
    "## 3. (not important) but would be amazing, if the visualization of the model represented ecological links & processes\n",
    "by this I mean that the visualisation shows the components of the model as boxes (Nutrient, Phytoplankton, Zooplankton), and the defined processes on arrows between boxes (Nutrient --N_Uptake--> Phytoplankton).\n",
    "If there was something in the model construction or the visualisation function that would allow this, it would be quite useful!\n",
    "\n",
    "## 4. what is the best way to implement switching to odeint (unfixed steps)\n",
    "model time should be handled in a nicerway, give range of time and timestep and model does the rest, both ways to solve it\n",
    "\n",
    "## 5. how could this structure allow for an easy imlementation of dimensionality? \n",
    "so that there are multiple \"chemostats\" components interacting"
   ]
  },
  {
   "cell_type": "markdown",
   "metadata": {},
   "source": []
  },
  {
   "cell_type": "code",
   "execution_count": null,
   "metadata": {},
   "outputs": [],
   "source": []
  }
 ],
 "metadata": {
  "kernelspec": {
   "display_name": "Python 3",
   "language": "python",
   "name": "python3"
  },
  "language_info": {
   "codemirror_mode": {
    "name": "ipython",
    "version": 3
   },
   "file_extension": ".py",
   "mimetype": "text/x-python",
   "name": "python",
   "nbconvert_exporter": "python",
   "pygments_lexer": "ipython3",
   "version": "3.8.2"
  }
 },
 "nbformat": 4,
 "nbformat_minor": 4
}
