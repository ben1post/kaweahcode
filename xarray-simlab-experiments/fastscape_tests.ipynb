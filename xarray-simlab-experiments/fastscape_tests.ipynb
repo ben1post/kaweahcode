{
 "cells": [
  {
   "cell_type": "code",
   "execution_count": 1,
   "metadata": {},
   "outputs": [],
   "source": [
    "import numpy as np\n",
    "import xsimlab as xs\n",
    "import matplotlib.pyplot as plt\n",
    "#import fastscape\n",
    "import xarray as xr\n",
    "%matplotlib inline"
   ]
  },
  {
   "cell_type": "code",
   "execution_count": 2,
   "metadata": {},
   "outputs": [
    {
     "name": "stdout",
     "output_type": "stream",
     "text": [
      "xarray-simlab version:  0.3.0+24.gdfced96\n",
      "xarray version:  0.14.1\n"
     ]
    }
   ],
   "source": [
    "print('xarray-simlab version: ', xs.__version__)\n",
    "print('xarray version: ', xr.__version__)\n",
    "#print('fastscape version: ', fastscape.__version__)"
   ]
  },
  {
   "cell_type": "code",
   "execution_count": 3,
   "metadata": {},
   "outputs": [
    {
     "ename": "ModuleNotFoundError",
     "evalue": "No module named 'fastscape'",
     "output_type": "error",
     "traceback": [
      "\u001b[0;31m---------------------------------------------------------------------------\u001b[0m",
      "\u001b[0;31mModuleNotFoundError\u001b[0m                       Traceback (most recent call last)",
      "\u001b[0;32m<ipython-input-3-87df45e1a3fb>\u001b[0m in \u001b[0;36m<module>\u001b[0;34m\u001b[0m\n\u001b[0;32m----> 1\u001b[0;31m \u001b[0;32mfrom\u001b[0m \u001b[0mfastscape\u001b[0m\u001b[0;34m.\u001b[0m\u001b[0mmodels\u001b[0m \u001b[0;32mimport\u001b[0m \u001b[0mmarine_model\u001b[0m\u001b[0;34m\u001b[0m\u001b[0;34m\u001b[0m\u001b[0m\n\u001b[0m",
      "\u001b[0;31mModuleNotFoundError\u001b[0m: No module named 'fastscape'"
     ]
    }
   ],
   "source": [
    "from fastscape.models import marine_model"
   ]
  },
  {
   "cell_type": "code",
   "execution_count": 4,
   "metadata": {},
   "outputs": [
    {
     "ename": "NameError",
     "evalue": "name 'marine_model' is not defined",
     "output_type": "error",
     "traceback": [
      "\u001b[0;31m---------------------------------------------------------------------------\u001b[0m",
      "\u001b[0;31mNameError\u001b[0m                                 Traceback (most recent call last)",
      "\u001b[0;32m<ipython-input-4-b77bfb4d121f>\u001b[0m in \u001b[0;36m<module>\u001b[0;34m\u001b[0m\n\u001b[0;32m----> 1\u001b[0;31m \u001b[0mmarine_model\u001b[0m\u001b[0;34m\u001b[0m\u001b[0;34m\u001b[0m\u001b[0m\n\u001b[0m",
      "\u001b[0;31mNameError\u001b[0m: name 'marine_model' is not defined"
     ]
    }
   ],
   "source": [
    "marine_model"
   ]
  },
  {
   "cell_type": "code",
   "execution_count": 5,
   "metadata": {},
   "outputs": [
    {
     "ename": "NameError",
     "evalue": "name 'marine_model' is not defined",
     "output_type": "error",
     "traceback": [
      "\u001b[0;31m---------------------------------------------------------------------------\u001b[0m",
      "\u001b[0;31mNameError\u001b[0m                                 Traceback (most recent call last)",
      "\u001b[0;32m<ipython-input-5-90100607a0b3>\u001b[0m in \u001b[0;36m<module>\u001b[0;34m\u001b[0m\n\u001b[0;32m----> 1\u001b[0;31m \u001b[0mmarine_model\u001b[0m\u001b[0;34m.\u001b[0m\u001b[0mvisualize\u001b[0m\u001b[0;34m(\u001b[0m\u001b[0mshow_inputs\u001b[0m\u001b[0;34m=\u001b[0m\u001b[0;32mTrue\u001b[0m\u001b[0;34m)\u001b[0m\u001b[0;34m\u001b[0m\u001b[0;34m\u001b[0m\u001b[0m\n\u001b[0m",
      "\u001b[0;31mNameError\u001b[0m: name 'marine_model' is not defined"
     ]
    }
   ],
   "source": [
    "marine_model.visualize(show_inputs=True)"
   ]
  },
  {
   "cell_type": "code",
   "execution_count": 8,
   "metadata": {},
   "outputs": [
    {
     "data": {
      "text/plain": [
       "<xarray.Dataset>\n",
       "Dimensions:                           (border: 4, horizon: 5, out: 21, shape_yx: 2, time: 4001)\n",
       "Coordinates:\n",
       "  * time                              (time) float64 0.0 1e+03 ... 4e+06\n",
       "  * out                               (out) float64 0.0 2e+05 ... 3.8e+06 4e+06\n",
       "Dimensions without coordinates: border, horizon, shape_yx\n",
       "Data variables:\n",
       "    grid__shape                       (shape_yx) int64 101 101\n",
       "    grid__length                      (shape_yx) float64 4e+05 4e+05\n",
       "    boundary__status                  (border) <U11 'fixed_value' ... 'looped'\n",
       "    init_topography__x_left           int64 0\n",
       "    init_topography__x_right          float64 2.5e+05\n",
       "    init_topography__elevation_left   float64 -1e+03\n",
       "    init_topography__elevation_right  float64 0.0\n",
       "    uplift__x_position                float64 2.5e+05\n",
       "    uplift__rate_left                 float64 0.0\n",
       "    uplift__rate_right                float64 0.0003\n",
       "    flow__slope_exp                   float64 1.0\n",
       "    spl__k_coef_bedrock               float64 1e-05\n",
       "    spl__k_coef_soil                  float64 1e-05\n",
       "    spl__g_coef_bedrock               float64 1.0\n",
       "    spl__g_coef_soil                  float64 1.0\n",
       "    spl__area_exp                     float64 0.4\n",
       "    spl__slope_exp                    float64 1.0\n",
       "    diffusion__diffusivity_bedrock    float64 0.01\n",
       "    diffusion__diffusivity_soil       float64 0.01\n",
       "    sea__level                        float64 0.0\n",
       "    marine__ss_ratio_land             float64 0.5\n",
       "    marine__porosity_sand             float64 0.0\n",
       "    marine__porosity_silt             float64 0.0\n",
       "    marine__e_depth_sand              float64 1e+03\n",
       "    marine__e_depth_silt              float64 1e+03\n",
       "    marine__diffusivity_sand          float64 500.0\n",
       "    marine__diffusivity_silt          float64 250.0\n",
       "    marine__layer_depth               float64 100.0\n",
       "    strati__freeze_time               (horizon) float64 0.0 1e+06 ... 4e+06\n",
       "Attributes:\n",
       "    __xsimlab_output_vars__:  boundary__border,grid__x,grid__y"
      ]
     },
     "execution_count": 8,
     "metadata": {},
     "output_type": "execute_result"
    }
   ],
   "source": [
    "in_ds = xs.create_setup(\n",
    "    model=marine_model,\n",
    "    clocks={\n",
    "        'time': np.arange(0, 4e6 + 1e3, 1e3),\n",
    "        'out': np.arange(0, 4e6 + 2e5, 2e5),\n",
    "    },\n",
    "    master_clock='time',\n",
    "    input_vars={\n",
    "        'grid__shape': ('shape_yx', [101, 101]),\n",
    "        'grid__length': ('shape_yx', [4e5, 4e5]),\n",
    "        'boundary__status': ('border', ['fixed_value', 'whatever', 'looped', 'looped']),\n",
    "        'init_topography': {\n",
    "            'x_left': 0,\n",
    "            'x_right': 2.5e5,\n",
    "            'elevation_left': -1e3,\n",
    "            'elevation_right': 0.\n",
    "        },\n",
    "        'uplift': {\n",
    "            'x_position': 2.5e5,\n",
    "            'rate_left': 0.,\n",
    "            'rate_right': 3e-4\n",
    "        },\n",
    "        'flow__slope_exp': 1.,\n",
    "        'spl': {\n",
    "            'k_coef_bedrock': 1e-5,\n",
    "            'k_coef_soil': 1e-5,\n",
    "            'g_coef_bedrock': 1.,\n",
    "            'g_coef_soil': 1.,\n",
    "            'area_exp': 0.4,\n",
    "            'slope_exp': 1.\n",
    "        },\n",
    "        'diffusion': {\n",
    "            'diffusivity_bedrock': 1e-2,\n",
    "            'diffusivity_soil': 1e-2\n",
    "        },\n",
    "        'sea__level': 0.,\n",
    "        'marine': {\n",
    "            'ss_ratio_land': 0.5,\n",
    "            'porosity_sand': 0.,\n",
    "            'porosity_silt': 0.,\n",
    "            'e_depth_sand': 1e3,\n",
    "            'e_depth_silt': 1e3,\n",
    "            'diffusivity_sand': 5e2,\n",
    "            'diffusivity_silt': 2.5e2,\n",
    "            'layer_depth': 1e2,\n",
    "        },\n",
    "        'strati': {\n",
    "            'freeze_time': ('horizon', np.linspace(0, 4e6, 5))\n",
    "        }\n",
    "    },\n",
    "    output_vars={\n",
    "        'out': ['topography__elevation',\n",
    "                'strati__elevation',\n",
    "                'marine__ss_ratio_sea'],\n",
    "        None: ['boundary__border',\n",
    "               'grid__x',\n",
    "               'grid__y'],\n",
    "    }\n",
    ")\n",
    "\n",
    "in_ds"
   ]
  },
  {
   "cell_type": "code",
   "execution_count": 9,
   "metadata": {},
   "outputs": [],
   "source": [
    "out_ds = (in_ds.xsimlab.run(model=marine_model)\n",
    "               .set_index(x='grid__x', y='grid__y',\n",
    "                          border='boundary__border',\n",
    "                          horizon='strati__freeze_time'))"
   ]
  },
  {
   "cell_type": "code",
   "execution_count": 10,
   "metadata": {},
   "outputs": [
    {
     "data": {
      "text/plain": [
       "<xarray.Dataset>\n",
       "Dimensions:                           (border: 4, horizon: 5, out: 21, shape_yx: 2, time: 4001, x: 101, y: 101)\n",
       "Coordinates:\n",
       "  * time                              (time) float64 0.0 1e+03 ... 4e+06\n",
       "  * out                               (out) float64 0.0 2e+05 ... 3.8e+06 4e+06\n",
       "  * x                                 (x) float64 0.0 4e+03 ... 3.96e+05 4e+05\n",
       "  * y                                 (y) float64 0.0 4e+03 ... 3.96e+05 4e+05\n",
       "  * border                            (border) object 'left' ... 'bottom'\n",
       "  * horizon                           (horizon) float64 0.0 1e+06 ... 4e+06\n",
       "Dimensions without coordinates: shape_yx\n",
       "Data variables:\n",
       "    grid__shape                       (shape_yx) int64 101 101\n",
       "    grid__length                      (shape_yx) float64 4e+05 4e+05\n",
       "    boundary__status                  (border) <U11 'fixed_value' ... 'looped'\n",
       "    init_topography__x_left           int64 0\n",
       "    init_topography__x_right          float64 2.5e+05\n",
       "    init_topography__elevation_left   float64 -1e+03\n",
       "    init_topography__elevation_right  float64 0.0\n",
       "    uplift__x_position                float64 2.5e+05\n",
       "    uplift__rate_left                 float64 0.0\n",
       "    uplift__rate_right                float64 0.0003\n",
       "    flow__slope_exp                   float64 1.0\n",
       "    spl__k_coef_bedrock               float64 1e-05\n",
       "    spl__k_coef_soil                  float64 1e-05\n",
       "    spl__g_coef_bedrock               float64 1.0\n",
       "    spl__g_coef_soil                  float64 1.0\n",
       "    spl__area_exp                     float64 0.4\n",
       "    spl__slope_exp                    float64 1.0\n",
       "    diffusion__diffusivity_bedrock    float64 0.01\n",
       "    diffusion__diffusivity_soil       float64 0.01\n",
       "    sea__level                        float64 0.0\n",
       "    marine__ss_ratio_land             float64 0.5\n",
       "    marine__porosity_sand             float64 0.0\n",
       "    marine__porosity_silt             float64 0.0\n",
       "    marine__e_depth_sand              float64 1e+03\n",
       "    marine__e_depth_silt              float64 1e+03\n",
       "    marine__diffusivity_sand          float64 500.0\n",
       "    marine__diffusivity_silt          float64 250.0\n",
       "    marine__layer_depth               float64 100.0\n",
       "    topography__elevation             (out, y, x) float64 -1e+03 ... 1.153e+03\n",
       "    strati__elevation                 (out, horizon, y, x) float64 -1e+03 ... 1.153e+03\n",
       "    marine__ss_ratio_sea              (out, y, x) float64 0.5 0.5006 ... 0.0 0.0"
      ]
     },
     "execution_count": 10,
     "metadata": {},
     "output_type": "execute_result"
    }
   ],
   "source": [
    "out_ds"
   ]
  },
  {
   "cell_type": "code",
   "execution_count": 11,
   "metadata": {},
   "outputs": [
    {
     "ename": "ModuleNotFoundError",
     "evalue": "No module named 'hvplot'",
     "output_type": "error",
     "traceback": [
      "\u001b[0;31m---------------------------------------------------------------------------\u001b[0m",
      "\u001b[0;31mModuleNotFoundError\u001b[0m                       Traceback (most recent call last)",
      "\u001b[0;32m<ipython-input-11-ced7844f35d3>\u001b[0m in \u001b[0;36m<module>\u001b[0;34m\u001b[0m\n\u001b[0;32m----> 1\u001b[0;31m \u001b[0;32mimport\u001b[0m \u001b[0mhvplot\u001b[0m\u001b[0;34m.\u001b[0m\u001b[0mxarray\u001b[0m\u001b[0;34m\u001b[0m\u001b[0;34m\u001b[0m\u001b[0m\n\u001b[0m\u001b[1;32m      2\u001b[0m \u001b[0;32mimport\u001b[0m \u001b[0mholoviews\u001b[0m \u001b[0;32mas\u001b[0m \u001b[0mhv\u001b[0m\u001b[0;34m\u001b[0m\u001b[0;34m\u001b[0m\u001b[0m\n\u001b[1;32m      3\u001b[0m \u001b[0;32mfrom\u001b[0m \u001b[0mxshade\u001b[0m \u001b[0;32mimport\u001b[0m \u001b[0mhillshade\u001b[0m\u001b[0;34m\u001b[0m\u001b[0;34m\u001b[0m\u001b[0m\n\u001b[1;32m      4\u001b[0m \u001b[0;34m\u001b[0m\u001b[0m\n\u001b[1;32m      5\u001b[0m \u001b[0;34m\u001b[0m\u001b[0m\n",
      "\u001b[0;31mModuleNotFoundError\u001b[0m: No module named 'hvplot'"
     ]
    }
   ],
   "source": [
    "import hvplot.xarray\n",
    "import holoviews as hv\n",
    "from xshade import hillshade\n",
    "\n",
    "\n",
    "ss_ratio_plot = out_ds.marine__ss_ratio_sea.hvplot.image(\n",
    "    x='x', y='y', clim=(0, 1),\n",
    "    width=550, height=450,\n",
    "    cmap=plt.cm.viridis_r, groupby='out'\n",
    ")\n",
    "\n",
    "hillshade_plot = hillshade(out_ds, 'out').hvplot.image(\n",
    "    x='x', y='y', cmap=plt.cm.gray, alpha=0.5,\n",
    "    colorbar=False, hover=False, groupby='out'\n",
    ")\n",
    "\n",
    "yhorizons_plot = out_ds.strati__elevation.sel(y=2e5).hvplot.line(\n",
    "    by='horizon', groupby='out', ylim=(-1000, 1000),\n",
    "    width=550, legend='bottom_right',\n",
    ")\n",
    "\n",
    "hv.Layout((ss_ratio_plot * hillshade_plot) + yhorizons_plot).cols(1)"
   ]
  },
  {
   "cell_type": "code",
   "execution_count": null,
   "metadata": {},
   "outputs": [],
   "source": []
  }
 ],
 "metadata": {
  "kernelspec": {
   "display_name": "Python 3",
   "language": "python",
   "name": "python3"
  },
  "language_info": {
   "codemirror_mode": {
    "name": "ipython",
    "version": 3
   },
   "file_extension": ".py",
   "mimetype": "text/x-python",
   "name": "python",
   "nbconvert_exporter": "python",
   "pygments_lexer": "ipython3",
   "version": "3.8.1"
  }
 },
 "nbformat": 4,
 "nbformat_minor": 4
}
