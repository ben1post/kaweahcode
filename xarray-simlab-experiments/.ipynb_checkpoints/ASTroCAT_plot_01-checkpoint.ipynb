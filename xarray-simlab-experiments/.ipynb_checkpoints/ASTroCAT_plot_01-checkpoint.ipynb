{
 "cells": [
  {
   "cell_type": "code",
   "execution_count": 1,
   "metadata": {},
   "outputs": [],
   "source": [
    "import matplotlib.pyplot as plt\n",
    "import xarray as xr"
   ]
  },
  {
   "cell_type": "code",
   "execution_count": 2,
   "metadata": {},
   "outputs": [],
   "source": [
    "plt.rcParams['figure.figsize'] = [15, 10]"
   ]
  },
  {
   "cell_type": "code",
   "execution_count": 3,
   "metadata": {},
   "outputs": [],
   "source": [
    "# 1.plot: contour plot y=size, x=time, col=concentration"
   ]
  },
  {
   "cell_type": "code",
   "execution_count": 63,
   "metadata": {},
   "outputs": [],
   "source": [
    "data = xr.open_dataset('NEW_ASTroCAT_10yearoutput_x70res.nc')"
   ]
  },
  {
   "cell_type": "code",
   "execution_count": 64,
   "metadata": {},
   "outputs": [
    {
     "data": {
      "text/html": [
       "<pre>&lt;xarray.Dataset&gt;\n",
       "Dimensions:             (component: 81, time: 255500)\n",
       "Coordinates:\n",
       "  * time                (time) float64 1.0 1.014 1.029 ... 3.65e+03 3.65e+03\n",
       "Dimensions without coordinates: component\n",
       "Data variables:\n",
       "    Z__zeta             int64 ...\n",
       "    N__supplyrate       int64 ...\n",
       "    Z__component_label  object ...\n",
       "    Z__f_eg             float64 ...\n",
       "    P__PMinEsd          int64 ...\n",
       "    Z__deltaxprey       float64 ...\n",
       "    P__PMaxEsd          int64 ...\n",
       "    Z__KsZ              int64 ...\n",
       "    Z__epsilon          float64 ...\n",
       "    P__NP               int64 ...\n",
       "    N__component_label  object ...\n",
       "    P__component_label  object ...\n",
       "    P__m                float64 ...\n",
       "    N__initVal          int64 ...\n",
       "    P__initVal          int64 ...\n",
       "    Z__initVal          int64 ...\n",
       "    env__stateout       (time, component) float64 ...\n",
       "    env__component      (component) object ...</pre>"
      ],
      "text/plain": [
       "<xarray.Dataset>\n",
       "Dimensions:             (component: 81, time: 255500)\n",
       "Coordinates:\n",
       "  * time                (time) float64 1.0 1.014 1.029 ... 3.65e+03 3.65e+03\n",
       "Dimensions without coordinates: component\n",
       "Data variables:\n",
       "    Z__zeta             int64 ...\n",
       "    N__supplyrate       int64 ...\n",
       "    Z__component_label  object ...\n",
       "    Z__f_eg             float64 ...\n",
       "    P__PMinEsd          int64 ...\n",
       "    Z__deltaxprey       float64 ...\n",
       "    P__PMaxEsd          int64 ...\n",
       "    Z__KsZ              int64 ...\n",
       "    Z__epsilon          float64 ...\n",
       "    P__NP               int64 ...\n",
       "    N__component_label  object ...\n",
       "    P__component_label  object ...\n",
       "    P__m                float64 ...\n",
       "    N__initVal          int64 ...\n",
       "    P__initVal          int64 ...\n",
       "    Z__initVal          int64 ...\n",
       "    env__stateout       (time, component) float64 ...\n",
       "    env__component      (component) object ..."
      ]
     },
     "execution_count": 64,
     "metadata": {},
     "output_type": "execute_result"
    }
   ],
   "source": [
    "data"
   ]
  },
  {
   "cell_type": "code",
   "execution_count": 65,
   "metadata": {},
   "outputs": [],
   "source": [
    "model_out = data.set_index(component = 'env__component')"
   ]
  },
  {
   "cell_type": "code",
   "execution_count": 66,
   "metadata": {},
   "outputs": [],
   "source": [
    "#calculate sizes:\n",
    "#numbers = np.array([i for i in range(40)])\n",
    "#sizes = (np.log(20) - np.log(1))* numbers / (40-1) + np.log(1)"
   ]
  },
  {
   "cell_type": "code",
   "execution_count": 67,
   "metadata": {},
   "outputs": [],
   "source": [
    "#sizes"
   ]
  },
  {
   "cell_type": "code",
   "execution_count": null,
   "metadata": {},
   "outputs": [],
   "source": []
  },
  {
   "cell_type": "code",
   "execution_count": null,
   "metadata": {},
   "outputs": [],
   "source": []
  },
  {
   "cell_type": "code",
   "execution_count": null,
   "metadata": {},
   "outputs": [],
   "source": []
  },
  {
   "cell_type": "code",
   "execution_count": null,
   "metadata": {},
   "outputs": [],
   "source": []
  },
  {
   "cell_type": "code",
   "execution_count": 68,
   "metadata": {},
   "outputs": [],
   "source": [
    "\n",
    "plt.rcParams['figure.figsize'] = [20, 7]"
   ]
  },
  {
   "cell_type": "code",
   "execution_count": 69,
   "metadata": {},
   "outputs": [
    {
     "data": {
      "text/html": [
       "<pre>&lt;xarray.DataArray &#x27;env__stateout&#x27; (component: 40, time: 255500)&gt;\n",
       "[10220000 values with dtype=float64]\n",
       "Coordinates:\n",
       "  * time       (time) float64 1.0 1.014 1.029 ... 3.65e+03 3.65e+03 3.65e+03\n",
       "  * component  (component) object &#x27;P0&#x27; &#x27;P1&#x27; &#x27;P2&#x27; &#x27;P3&#x27; ... &#x27;P37&#x27; &#x27;P38&#x27; &#x27;P39&#x27;</pre>"
      ],
      "text/plain": [
       "<xarray.DataArray 'env__stateout' (component: 40, time: 255500)>\n",
       "[10220000 values with dtype=float64]\n",
       "Coordinates:\n",
       "  * time       (time) float64 1.0 1.014 1.029 ... 3.65e+03 3.65e+03 3.65e+03\n",
       "  * component  (component) object 'P0' 'P1' 'P2' 'P3' ... 'P37' 'P38' 'P39'"
      ]
     },
     "execution_count": 69,
     "metadata": {},
     "output_type": "execute_result"
    }
   ],
   "source": [
    "P_out = model_out.env__stateout.sel(component=['P'+str(i) for i in range(40)]).T\n",
    "Z_out = model_out.env__stateout.sel(component=['Z'+str(i) for i in range(40)]).T\n",
    "N_out = model_out.env__stateout.sel(component='N').T\n",
    "#plt.show()\n",
    "P_out"
   ]
  },
  {
   "cell_type": "code",
   "execution_count": 87,
   "metadata": {},
   "outputs": [
    {
     "data": {
      "image/png": "[encoded data removed]",
      "text/plain": [
       "<Figure size 1440x504 with 2 Axes>"
      ]
     },
     "metadata": {
      "needs_background": "light"
     },
     "output_type": "display_data"
    }
   ],
   "source": [
    "plt.pcolor(P_out[:,::500])\n",
    "plt.colorbar()\n",
    "plt.show()"
   ]
  },
  {
   "cell_type": "code",
   "execution_count": null,
   "metadata": {},
   "outputs": [],
   "source": [
    "plt.pcolor(P_out)\n",
    "plt.colorbar()\n",
    "plt.show()"
   ]
  },
  {
   "cell_type": "code",
   "execution_count": null,
   "metadata": {},
   "outputs": [],
   "source": [
    "plt.pcolor(Z_out)\n",
    "plt.colorbar()\n",
    "plt.show()"
   ]
  },
  {
   "cell_type": "code",
   "execution_count": null,
   "metadata": {},
   "outputs": [],
   "source": [
    "plt.plot(N_out)\n",
    "plt.show()"
   ]
  },
  {
   "cell_type": "code",
   "execution_count": null,
   "metadata": {},
   "outputs": [],
   "source": []
  },
  {
   "cell_type": "code",
   "execution_count": null,
   "metadata": {},
   "outputs": [],
   "source": []
  }
 ],
 "metadata": {
  "kernelspec": {
   "display_name": "Python 3",
   "language": "python",
   "name": "python3"
  },
  "language_info": {
   "codemirror_mode": {
    "name": "ipython",
    "version": 3
   },
   "file_extension": ".py",
   "mimetype": "text/x-python",
   "name": "python",
   "nbconvert_exporter": "python",
   "pygments_lexer": "ipython3",
   "version": "3.8.2"
  }
 },
 "nbformat": 4,
 "nbformat_minor": 4
}
