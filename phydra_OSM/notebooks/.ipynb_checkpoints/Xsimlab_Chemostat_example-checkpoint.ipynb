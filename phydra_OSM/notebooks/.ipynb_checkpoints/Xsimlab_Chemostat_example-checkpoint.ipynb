{
 "cells": [
  {
   "cell_type": "code",
   "execution_count": 1,
   "metadata": {},
   "outputs": [],
   "source": [
    "from lmfit import minimize, Parameters # Parameter, report_fit"
   ]
  },
  {
   "cell_type": "code",
   "execution_count": 2,
   "metadata": {},
   "outputs": [],
   "source": [
    "import numpy as np\n",
    "import xsimlab as xs\n",
    "from scipy.integrate import odeint\n",
    "import matplotlib.pyplot as plt"
   ]
  },
  {
   "cell_type": "code",
   "execution_count": 3,
   "metadata": {},
   "outputs": [],
   "source": [
    "plt.rcParams['figure.figsize'] = [15, 10]"
   ]
  },
  {
   "cell_type": "markdown",
   "metadata": {},
   "source": [
    "### create minimal ODE system example: \n",
    "## Phytoplankton growing in chemostat (constant flowthrough)"
   ]
  },
  {
   "cell_type": "code",
   "execution_count": 4,
   "metadata": {},
   "outputs": [],
   "source": [
    "halfsat = 0.5\n",
    "flow = 0.3\n",
    "N0 = 2\n",
    "#init = [1,0.01]\n",
    "\n",
    "def chemostat(t,x):\n",
    "    \n",
    "    N,P = x\n",
    "    \n",
    "    nutuptake = N / (halfsat + N) \n",
    "    \n",
    "    dPdt = nutuptake * P - flow * P\n",
    "    \n",
    "    dNdt = flow * N0 - nutuptake * P  - flow * N\n",
    "    \n",
    "    return [dNdt, dPdt]"
   ]
  },
  {
   "cell_type": "markdown",
   "metadata": {},
   "source": [
    "## Solve this model with xsimlab (time-explicit)"
   ]
  },
  {
   "cell_type": "code",
   "execution_count": 18,
   "metadata": {},
   "outputs": [],
   "source": [
    "@xs.process\n",
    "class MODEL:\n",
    "    x = xs.variable(dims='x', intent='inout')\n",
    "    out = xs.variable(dims=('x'),intent='out')\n",
    "    outflux = xs.variable(dims=('x'),intent='out')\n",
    "    init = xs.variable(dims=('x'),intent='in')\n",
    "    \n",
    "    def initialize(self):\n",
    "        self.out = self.init\n",
    "        self.time = 0\n",
    "    \n",
    "    @xs.runtime(args='step_delta')\n",
    "    def run_step(self,dt):\n",
    "        # need to convert fluxes to correct time step with dt\n",
    "        self.outflux = chemostat(self.time, self.out) * dt\n",
    "        # keep track of timestep for forcing (+ other time dep. processes)\n",
    "        self.time += dt\n",
    "    \n",
    "    def finalize_step(self):\n",
    "        self.out = np.array(self.out) + np.array(self.outflux)"
   ]
  },
  {
   "cell_type": "code",
   "execution_count": 19,
   "metadata": {},
   "outputs": [],
   "source": [
    "MOD = xs.Model({'m':MODEL})\n",
    "\n",
    "indat = xs.create_setup(\n",
    "  model=MOD,\n",
    "     clocks={\n",
    "         'time': np.linspace(0,40,1000)\n",
    "     },\n",
    "     input_vars={\n",
    "         'm__x':('x',['N','P']),\n",
    "         'm__init':('x',[1,0.1])\n",
    "     },\n",
    "     output_vars={\n",
    "        'm__x': None,\n",
    "        'm__out':'time',\n",
    "        'm__outflux':'time'\n",
    "     }  \n",
    ")"
   ]
  },
  {
   "cell_type": "code",
   "execution_count": 20,
   "metadata": {},
   "outputs": [],
   "source": [
    "out1 = indat.xsimlab.run(model=MOD)"
   ]
  },
  {
   "cell_type": "code",
   "execution_count": 21,
   "metadata": {},
   "outputs": [
    {
     "data": {
      "text/html": [
       "<pre>&lt;xarray.Dataset&gt;\n",
       "Dimensions:     (time: 1000, x: 2)\n",
       "Coordinates:\n",
       "  * time        (time) float64 0.0 0.04004 0.08008 0.1201 ... 39.92 39.96 40.0\n",
       "  * x           (x) object &#x27;N&#x27; &#x27;P&#x27;\n",
       "Data variables:\n",
       "    m__init     (x) float64 1.0 0.1\n",
       "    m__out      (time, x) float64 1.0 0.1 1.009 0.1015 ... 1.786 0.2143 1.786\n",
       "    m__outflux  (time, x) float64 0.009343 0.001468 ... -1.294e-08 7.546e-08</pre>"
      ],
      "text/plain": [
       "<xarray.Dataset>\n",
       "Dimensions:     (time: 1000, x: 2)\n",
       "Coordinates:\n",
       "  * time        (time) float64 0.0 0.04004 0.08008 0.1201 ... 39.92 39.96 40.0\n",
       "  * x           (x) object 'N' 'P'\n",
       "Data variables:\n",
       "    m__init     (x) float64 1.0 0.1\n",
       "    m__out      (time, x) float64 1.0 0.1 1.009 0.1015 ... 1.786 0.2143 1.786\n",
       "    m__outflux  (time, x) float64 0.009343 0.001468 ... -1.294e-08 7.546e-08"
      ]
     },
     "execution_count": 21,
     "metadata": {},
     "output_type": "execute_result"
    }
   ],
   "source": [
    "out = out1.set_index(x='m__x')\n",
    "out"
   ]
  },
  {
   "cell_type": "code",
   "execution_count": 22,
   "metadata": {},
   "outputs": [
    {
     "data": {
      "text/plain": [
       "[<matplotlib.lines.Line2D at 0x1a18d86d30>,\n",
       " <matplotlib.lines.Line2D at 0x1a18d86e20>]"
      ]
     },
     "execution_count": 22,
     "metadata": {},
     "output_type": "execute_result"
    },
    {
     "data": {
      "image/png": "[encoded data removed]",
      "text/plain": [
       "<Figure size 1080x720 with 1 Axes>"
      ]
     },
     "metadata": {
      "needs_background": "light"
     },
     "output_type": "display_data"
    }
   ],
   "source": [
    "out.m__out.plot.line(x='time')"
   ]
  },
  {
   "cell_type": "code",
   "execution_count": 23,
   "metadata": {},
   "outputs": [
    {
     "data": {
      "text/plain": [
       "[<matplotlib.lines.Line2D at 0x1a18ff0b20>,\n",
       " <matplotlib.lines.Line2D at 0x1a18ff0c10>]"
      ]
     },
     "execution_count": 23,
     "metadata": {},
     "output_type": "execute_result"
    },
    {
     "data": {
      "image/png": "[encoded data removed]",
      "text/plain": [
       "<Figure size 1080x720 with 1 Axes>"
      ]
     },
     "metadata": {
      "needs_background": "light"
     },
     "output_type": "display_data"
    }
   ],
   "source": [
    "out.m__outflux.plot.line(x='time')"
   ]
  },
  {
   "cell_type": "markdown",
   "metadata": {},
   "source": [
    "## Now let's build the same model completely within xsimlab:\n",
    "\n",
    "- this needs a phytoplankton & nutrient class that passes each flux as a func(state,time) to MODEL"
   ]
  },
  {
   "cell_type": "markdown",
   "metadata": {},
   "source": [
    "# so i can use the labels and xs.group to dynamically put together the full model\n",
    "\n",
    "the modularity that I can imagine right now:\n",
    "- put together each equations as a list of + and - components\n",
    "- so it is a list of lists, that is the system of ODE with each equation as a list of terms\n",
    "\n",
    "how to put it into practice though:\n",
    "- check the way the system of ode is put together in Benoit's example\n",
    "- how to create one class that passes dNdt and another that passes dPdt\n",
    "- how to create dPdt from two subclass (i.e. processes)\n",
    "- how to use labels to coordinate putting it together?\n"
   ]
  },
  {
   "cell_type": "code",
   "execution_count": 143,
   "metadata": {},
   "outputs": [],
   "source": [
    "# Note: there needs to one class that handles all the parameters (from lmfit parameter)\n",
    "    # these params are then called by each specific process via xs.foreign(Parameter,'alpha')\n",
    "    # additionally the class should create a schematic of the model & processes, \n",
    "    # which helps a user build the model (and checks for missing components or params)"
   ]
  },
  {
   "cell_type": "markdown",
   "metadata": {},
   "source": [
    "# Functions from Benoît:"
   ]
  },
  {
   "cell_type": "code",
   "execution_count": 174,
   "metadata": {},
   "outputs": [],
   "source": [
    "@xs.process\n",
    "class Component:\n",
    "    \"\"\"Base class for a component of a ecosystem.\"\"\"\n",
    "\n",
    "    label = xs.variable(groups='c_labels', description='component label')\n",
    "    \n",
    "    c0 = xs.variable(\n",
    "        # only slab model (scalar)\n",
    "        dims=(), \n",
    "        # support slab + 2D models ?\n",
    "        #dims=[(), ('lat', 'lon')],\n",
    "        groups='c_c0',\n",
    "        description='inital concentration'\n",
    "    )\n",
    "    \n",
    "@xs.process\n",
    "class AllComponents:\n",
    "    \"\"\"Group some component proprerties as 1-d arrays.\"\"\"\n",
    "    \n",
    "    c_labels = xs.group('c_labels')\n",
    "    c_c0 = xs.group('c_c0')\n",
    "    \n",
    "    labels = xs.variable(\n",
    "        dims='component',\n",
    "        intent='out',\n",
    "        description='component labels'\n",
    "    )\n",
    "    c0 = xs.variable(\n",
    "        dims='component',\n",
    "        intent='out',\n",
    "        description='initial concentration'\n",
    "    )\n",
    "    \n",
    "    # use component labels as xarray coordinate/index\n",
    "    component = xs.index(\n",
    "        dims='component',\n",
    "        description='component label'\n",
    "    )\n",
    "    \n",
    "    def initialize(self):\n",
    "        self.labels = np.array(list(self.c_labels))\n",
    "        self.component = self.labels\n",
    "        self.c0 = np.array(list(self.c_c0), dtype=np.double)\n",
    "    "
   ]
  },
  {
   "cell_type": "code",
   "execution_count": 175,
   "metadata": {},
   "outputs": [],
   "source": [
    "@xs.process\n",
    "class ODETerm:\n",
    "    \"\"\"Base class for any term in the ODE system formed by\n",
    "    the fluxes of each component in an ecosystem.\n",
    "    \n",
    "    The term is represented by a function of both time and\n",
    "    the component concentrations at that time (even though\n",
    "    the dependence of the actual expression on those\n",
    "    quantities is optional).\n",
    "    \"\"\"\n",
    "\n",
    "    func = xs.variable(intent='out', description='ODE term expression')\n",
    "    \n",
    "    def _func(self, state, time):\n",
    "        \"\"\"\n",
    "        Parameters\n",
    "        ----------\n",
    "        state : dict\n",
    "            Keys are ecosystem component labels and values are\n",
    "            concentrations at current time.\n",
    "        time : float\n",
    "            Current time.\n",
    "\n",
    "        \"\"\"\n",
    "        # must be implemented in subclasses\n",
    "        raise NotImplementedError\n",
    "        \n",
    "    def initialize(self):\n",
    "        self.func = self._func\n",
    "        "
   ]
  },
  {
   "cell_type": "code",
   "execution_count": 176,
   "metadata": {},
   "outputs": [
    {
     "ename": "NameError",
     "evalue": "name 'Zooplankton' is not defined",
     "output_type": "error",
     "traceback": [
      "\u001b[0;31m---------------------------------------------------------------------------\u001b[0m",
      "\u001b[0;31mNameError\u001b[0m                                 Traceback (most recent call last)",
      "\u001b[0;32m<ipython-input-176-033b26a8b422>\u001b[0m in \u001b[0;36m<module>\u001b[0;34m\u001b[0m\n\u001b[1;32m     24\u001b[0m \u001b[0;34m\u001b[0m\u001b[0m\n\u001b[1;32m     25\u001b[0m \u001b[0;34m@\u001b[0m\u001b[0mxs\u001b[0m\u001b[0;34m.\u001b[0m\u001b[0mprocess\u001b[0m\u001b[0;34m\u001b[0m\u001b[0;34m\u001b[0m\u001b[0m\n\u001b[0;32m---> 26\u001b[0;31m \u001b[0;32mclass\u001b[0m \u001b[0mGrazingBase\u001b[0m\u001b[0;34m(\u001b[0m\u001b[0mODETerm\u001b[0m\u001b[0;34m)\u001b[0m\u001b[0;34m:\u001b[0m\u001b[0;34m\u001b[0m\u001b[0;34m\u001b[0m\u001b[0m\n\u001b[0m\u001b[1;32m     27\u001b[0m \u001b[0;34m\u001b[0m\u001b[0m\n\u001b[1;32m     28\u001b[0m     \u001b[0mmax_rate\u001b[0m \u001b[0;34m=\u001b[0m \u001b[0mxs\u001b[0m\u001b[0;34m.\u001b[0m\u001b[0mforeign\u001b[0m\u001b[0;34m(\u001b[0m\u001b[0mGrazing\u001b[0m\u001b[0;34m,\u001b[0m \u001b[0;34m'max_rate'\u001b[0m\u001b[0;34m)\u001b[0m\u001b[0;34m\u001b[0m\u001b[0;34m\u001b[0m\u001b[0m\n",
      "\u001b[0;32m<ipython-input-176-033b26a8b422>\u001b[0m in \u001b[0;36mGrazingBase\u001b[0;34m()\u001b[0m\n\u001b[1;32m     29\u001b[0m     \u001b[0mpphyto\u001b[0m \u001b[0;34m=\u001b[0m \u001b[0mxs\u001b[0m\u001b[0;34m.\u001b[0m\u001b[0mforeign\u001b[0m\u001b[0;34m(\u001b[0m\u001b[0mGrazing\u001b[0m\u001b[0;34m,\u001b[0m \u001b[0;34m'pphyto'\u001b[0m\u001b[0;34m)\u001b[0m\u001b[0;34m\u001b[0m\u001b[0;34m\u001b[0m\u001b[0m\n\u001b[1;32m     30\u001b[0m     \u001b[0mpdet\u001b[0m \u001b[0;34m=\u001b[0m \u001b[0mxs\u001b[0m\u001b[0;34m.\u001b[0m\u001b[0mforeign\u001b[0m\u001b[0;34m(\u001b[0m\u001b[0mGrazing\u001b[0m\u001b[0;34m,\u001b[0m \u001b[0;34m'pdet'\u001b[0m\u001b[0;34m)\u001b[0m\u001b[0;34m\u001b[0m\u001b[0;34m\u001b[0m\u001b[0m\n\u001b[0;32m---> 31\u001b[0;31m     \u001b[0mk_z\u001b[0m \u001b[0;34m=\u001b[0m \u001b[0mxs\u001b[0m\u001b[0;34m.\u001b[0m\u001b[0mforeign\u001b[0m\u001b[0;34m(\u001b[0m\u001b[0mZooplankton\u001b[0m\u001b[0;34m,\u001b[0m \u001b[0;34m'k'\u001b[0m\u001b[0;34m)\u001b[0m\u001b[0;34m\u001b[0m\u001b[0;34m\u001b[0m\u001b[0m\n\u001b[0m\u001b[1;32m     32\u001b[0m \u001b[0;34m\u001b[0m\u001b[0m\n\u001b[1;32m     33\u001b[0m     \u001b[0mp_label\u001b[0m \u001b[0;34m=\u001b[0m \u001b[0mxs\u001b[0m\u001b[0;34m.\u001b[0m\u001b[0mforeign\u001b[0m\u001b[0;34m(\u001b[0m\u001b[0mPhytoplankton\u001b[0m\u001b[0;34m,\u001b[0m \u001b[0;34m'label'\u001b[0m\u001b[0;34m)\u001b[0m\u001b[0;34m\u001b[0m\u001b[0;34m\u001b[0m\u001b[0m\n",
      "\u001b[0;31mNameError\u001b[0m: name 'Zooplankton' is not defined"
     ]
    }
   ],
   "source": [
    "@xs.process\n",
    "class Grazing:\n",
    "\n",
    "    max_rate = xs.variable(\n",
    "        default=0.8,\n",
    "        description='maximum ingestion rate'\n",
    "    ) \n",
    "    \n",
    "    pphyto = xs.variable(\n",
    "        default=0.67,\n",
    "        description='grazing preference for phytoplankton'\n",
    "    )\n",
    "    pdet = xs.variable(\n",
    "        default=0.33,\n",
    "        description='grazing preference for detritus'\n",
    "    )\n",
    "    \n",
    "    @pdet.validator\n",
    "    def _check_preference(self, attr, value):\n",
    "        # pphyto + pdet == 1 must be True ???\n",
    "        if value + self.pphyto != 1:\n",
    "            raise ValueError\n",
    "\n",
    "\n",
    "@xs.process\n",
    "class GrazingBase(ODETerm):\n",
    "    \n",
    "    max_rate = xs.foreign(Grazing, 'max_rate')\n",
    "    pphyto = xs.foreign(Grazing, 'pphyto')\n",
    "    pdet = xs.foreign(Grazing, 'pdet')\n",
    "    k_z = xs.foreign(Zooplankton, 'k')\n",
    "    \n",
    "    p_label = xs.foreign(Phytoplankton, 'label')\n",
    "    d_label = xs.foreign(Detritus, 'label')\n",
    "    \n",
    "    @property\n",
    "    def comp(self):\n",
    "        raise NotImplementedError\n",
    "\n",
    "    def _func(self, *args):\n",
    "        state, _ = args\n",
    "\n",
    "        pcomp = {\n",
    "            'p': self.pphyto * state[self.p_label]**2,\n",
    "            'd': self.pdet * state[self.d_label]**2\n",
    "        }\n",
    "        \n",
    "        num = self.max_rate * pcomp[self.comp]\n",
    "        den = self.k_z**2 + pcomp['p'] + pcomp['d']\n",
    "        \n",
    "        return num / den\n",
    "\n",
    "\n",
    "@xs.process\n",
    "class GrazingPhyto(GrazingBase):\n",
    "    \n",
    "    @property\n",
    "    def comp(self):\n",
    "        return 'p'\n",
    "    \n",
    "\n",
    "@xs.process\n",
    "class GrazingDetritus(GrazingBase):\n",
    "    \n",
    "    @property\n",
    "    def comp(self):\n",
    "        return 'd'"
   ]
  },
  {
   "cell_type": "code",
   "execution_count": 177,
   "metadata": {},
   "outputs": [],
   "source": [
    "@xs.process\n",
    "class ComponentFlux(ODETerm):\n",
    "    \"\"\"Base class for the expression of the flux of a\n",
    "    component C, i.e., dC/dt.\n",
    "    \n",
    "    \"\"\"\n",
    "\n",
    "    # let's reuse the component label\n",
    "    label = xs.foreign(Component, 'label')\n",
    "    \n",
    "    flux_label = xs.variable(\n",
    "        intent='out',\n",
    "        groups='c_flux_labels',\n",
    "        description='for consistent building of the ODE system'\n",
    "    )\n",
    "    \n",
    "    func = xs.variable(\n",
    "        intent='out',\n",
    "        groups='c_flux_funcs',\n",
    "        description='component flux expression'\n",
    "    )\n",
    "    \n",
    "    def initialize(self):\n",
    "        self.flux_label = self.label\n",
    "        \n",
    "        super(ComponentFlux, self).initialize()\n"
   ]
  },
  {
   "cell_type": "code",
   "execution_count": 178,
   "metadata": {},
   "outputs": [
    {
     "ename": "NameError",
     "evalue": "name 'Nutrients' is not defined",
     "output_type": "error",
     "traceback": [
      "\u001b[0;31m---------------------------------------------------------------------------\u001b[0m",
      "\u001b[0;31mNameError\u001b[0m                                 Traceback (most recent call last)",
      "\u001b[0;32m<ipython-input-178-ebfac105a56a>\u001b[0m in \u001b[0;36m<module>\u001b[0;34m\u001b[0m\n\u001b[1;32m      1\u001b[0m \u001b[0;34m@\u001b[0m\u001b[0mxs\u001b[0m\u001b[0;34m.\u001b[0m\u001b[0mprocess\u001b[0m\u001b[0;34m\u001b[0m\u001b[0;34m\u001b[0m\u001b[0m\n\u001b[0;32m----> 2\u001b[0;31m \u001b[0;32mclass\u001b[0m \u001b[0mNutrientsFlux\u001b[0m\u001b[0;34m(\u001b[0m\u001b[0mComponentFlux\u001b[0m\u001b[0;34m)\u001b[0m\u001b[0;34m:\u001b[0m\u001b[0;34m\u001b[0m\u001b[0;34m\u001b[0m\u001b[0m\n\u001b[0m\u001b[1;32m      3\u001b[0m \u001b[0;34m\u001b[0m\u001b[0m\n\u001b[1;32m      4\u001b[0m     \u001b[0mlabel\u001b[0m \u001b[0;34m=\u001b[0m \u001b[0mxs\u001b[0m\u001b[0;34m.\u001b[0m\u001b[0mforeign\u001b[0m\u001b[0;34m(\u001b[0m\u001b[0mNutrients\u001b[0m\u001b[0;34m,\u001b[0m \u001b[0;34m'label'\u001b[0m\u001b[0;34m)\u001b[0m\u001b[0;34m\u001b[0m\u001b[0;34m\u001b[0m\u001b[0m\n\u001b[1;32m      5\u001b[0m \u001b[0;34m\u001b[0m\u001b[0m\n",
      "\u001b[0;32m<ipython-input-178-ebfac105a56a>\u001b[0m in \u001b[0;36mNutrientsFlux\u001b[0;34m()\u001b[0m\n\u001b[1;32m      2\u001b[0m \u001b[0;32mclass\u001b[0m \u001b[0mNutrientsFlux\u001b[0m\u001b[0;34m(\u001b[0m\u001b[0mComponentFlux\u001b[0m\u001b[0;34m)\u001b[0m\u001b[0;34m:\u001b[0m\u001b[0;34m\u001b[0m\u001b[0;34m\u001b[0m\u001b[0m\n\u001b[1;32m      3\u001b[0m \u001b[0;34m\u001b[0m\u001b[0m\n\u001b[0;32m----> 4\u001b[0;31m     \u001b[0mlabel\u001b[0m \u001b[0;34m=\u001b[0m \u001b[0mxs\u001b[0m\u001b[0;34m.\u001b[0m\u001b[0mforeign\u001b[0m\u001b[0;34m(\u001b[0m\u001b[0mNutrients\u001b[0m\u001b[0;34m,\u001b[0m \u001b[0;34m'label'\u001b[0m\u001b[0;34m)\u001b[0m\u001b[0;34m\u001b[0m\u001b[0;34m\u001b[0m\u001b[0m\n\u001b[0m\u001b[1;32m      5\u001b[0m \u001b[0;34m\u001b[0m\u001b[0m\n\u001b[1;32m      6\u001b[0m     \u001b[0mp_label\u001b[0m \u001b[0;34m=\u001b[0m \u001b[0mxs\u001b[0m\u001b[0;34m.\u001b[0m\u001b[0mforeign\u001b[0m\u001b[0;34m(\u001b[0m\u001b[0mPhytoplankton\u001b[0m\u001b[0;34m,\u001b[0m \u001b[0;34m'label'\u001b[0m\u001b[0;34m)\u001b[0m\u001b[0;34m\u001b[0m\u001b[0;34m\u001b[0m\u001b[0m\n",
      "\u001b[0;31mNameError\u001b[0m: name 'Nutrients' is not defined"
     ]
    }
   ],
   "source": [
    "@xs.process\n",
    "class NutrientsFlux(ComponentFlux):\n",
    "    \n",
    "    label = xs.foreign(Nutrients, 'label')\n",
    "    \n",
    "    p_label = xs.foreign(Phytoplankton, 'label')\n",
    "    z_label = xs.foreign(Zooplankton, 'label')\n",
    "    d_label = xs.foreign(Detritus, 'label')\n",
    "    \n",
    "    n_cb = xs.foreign(Nutrients, 'cb')\n",
    "    beta = xs.foreign(Zooplankton, 'beta')\n",
    "    z_kn = xs.foreign(Zooplankton, 'kn')\n",
    "    d_m = xs.foreign(Detritus, 'm')\n",
    "    \n",
    "    sst = xs.foreign(SST, 'func')\n",
    "    mixing = xs.foreign(Mixing, 'func')\n",
    "    uptake = xs.foreign(Uptake, 'func')\n",
    "    light = xs.foreign(Light, 'func')\n",
    "    grazing_p = xs.foreign(GrazingPhyto, 'func')\n",
    "    grazing_d = xs.foreign(GrazingDetritus, 'func')\n",
    "    \n",
    "    def _func(self, *args):\n",
    "        state, _ = args\n",
    "\n",
    "        return (\n",
    "            state[self.p_label] * (- temp(self.sst(*args)) * self.uptake(*args) * self.light(*args)) +\n",
    "            state[self.z_label] * (self.beta * (1 - self.z_kn) * (self.grazing_p(*args) + self.grazing_d(*args))) +\n",
    "            state[self.d_label] * self.d_m +\n",
    "            (self.n_cb - state[self.label]) * self.mixing(*args)\n",
    "        )"
   ]
  },
  {
   "cell_type": "markdown",
   "metadata": {},
   "source": [
    "### Slab main process (build and solve the ODE system of fluxes) "
   ]
  },
  {
   "cell_type": "code",
   "execution_count": 13,
   "metadata": {},
   "outputs": [],
   "source": [
    "@xs.process\n",
    "class Slab:\n",
    "    time = xs.foreign(Time, 'time')\n",
    "    \n",
    "    c = xs.variable(\n",
    "        dims=('time', 'component'),\n",
    "        intent='out',\n",
    "        description='component concentrations',\n",
    "        attrs={'units': 'micromol N L^-1'}\n",
    "    )\n",
    "    \n",
    "    labels = xs.foreign(AllComponents, 'labels')\n",
    "    c0 = xs.foreign(AllComponents, 'c0')\n",
    "    \n",
    "    flux_labels = xs.group('c_flux_labels')\n",
    "    flux_funcs = xs.group('c_flux_funcs')\n",
    "    \n",
    "    def initialize(self):\n",
    "        # pick the right flux expression for each component\n",
    "        funcs = {\n",
    "            label: func\n",
    "            for label, func in zip(self.flux_labels, self.flux_funcs)\n",
    "        }\n",
    "        \n",
    "        def ode(c, t):\n",
    "            state = {label: val for label, val in zip(self.labels, c)}\n",
    "            return [funcs[label](state, t) for label in self.labels]\n",
    "        \n",
    "        self.c = odeint(\n",
    "            ode,\n",
    "            self.c0,\n",
    "            self.time,\n",
    "            rtol=1e-12,\n",
    "            atol=1e-12\n",
    "        )"
   ]
  },
  {
   "cell_type": "markdown",
   "metadata": {},
   "source": [
    "# END"
   ]
  },
  {
   "cell_type": "code",
   "execution_count": null,
   "metadata": {},
   "outputs": [],
   "source": [
    "# NOTES:\n",
    "so the way I can actually build it up! this is exciting!\n",
    "\n",
    "with labels and funcs,\n",
    "i.e. the label says which component the flux belongs to\n",
    "such that there can be multiple instances of funcs, each contributing to different component, based on label\n",
    "\n",
    "now the question is how to put the actual classes together,\n",
    "because, i might have to hard code the labels for now, ..\n",
    "\n",
    "1. put together a specific equation for each necessary flux\n",
    "1.1 nutrient uptake\n",
    "1.2 chemostat physical environment (this should be switchable, with keeping all else equal)\n",
    "        this could have inlfow / outflow func\n",
    "2. try to put these together in one fixed Nut and one fixed Phyto class\n",
    "3. put together model, solve\n",
    "4. would there be a way to have this not fixed into the class? dynamically create equations from xs.Model call or parameters?\n",
    "5. is there some way i can add multiple phytoplankton?"
   ]
  },
  {
   "cell_type": "code",
   "execution_count": null,
   "metadata": {},
   "outputs": [],
   "source": [
    "# So there needs to be a class, that parses the Parameter (lmfit) object\n",
    "# and returns the correct labels for each process\n",
    "# labels could also be a list of labels! there i have my flexibility\n",
    "# \n",
    "#\n",
    "#\n",
    "#"
   ]
  },
  {
   "cell_type": "code",
   "execution_count": 251,
   "metadata": {},
   "outputs": [],
   "source": []
  },
  {
   "cell_type": "code",
   "execution_count": 341,
   "metadata": {},
   "outputs": [],
   "source": [
    "# in order to pass lmfit.Parameters into the xsimlab framework, i wrote a small class wrapper\n",
    "# im pretty sure there is a more elegant way to do this...\n",
    "\n",
    "# usage would be: xs.Model({'pars':ParameterParser(params), 'Grid':Grid3D, ...}) and parameters are passed around \n",
    "# the cool thing is that this should allow for parameter fitting using the lmfit package\n",
    "\n",
    "@xs.process\n",
    "class PROCESS:\n",
    "    pass\n",
    "\n",
    "class ParameterParser(PROCESS):\n",
    "    \n",
    "    def __init__(self, parameters):\n",
    "        super(ParameterParser, self).__init__()\n",
    "    \n",
    "    AllParams = xs.variable(default=parameters)\n",
    "    \n",
    "    N0 = xs.variable(default=parameters['N0'].value, static=True, description='Nutrient concentration at downstream source of chemostat')\n",
    "    \n",
    "    flow = xs.variable(default=parameters['flow'].value, static=True, description='Flow rate through chemostat')\n",
    "    \n",
    "    halfsat = xs.variable(default=parameters['halfsat'].value, static=True, description='halfsaturation constant of nutrient uptake by phytoplankton')"
   ]
  },
  {
   "cell_type": "code",
   "execution_count": 342,
   "metadata": {},
   "outputs": [],
   "source": [
    "# this is one way to create an lmfit.Parameter object:\n",
    "parameters = Parameters()\n",
    "\n",
    "parameters.add('num_phyto', value=1,  vary=False)\n",
    "parameters.add('halfsat', value=.5,  vary=False)\n",
    "parameters.add('flow',    value=0.3, vary=False) \n",
    "parameters.add('N0',      value=2,   vary=False)"
   ]
  },
  {
   "cell_type": "code",
   "execution_count": 334,
   "metadata": {},
   "outputs": [],
   "source": []
  },
  {
   "cell_type": "code",
   "execution_count": null,
   "metadata": {},
   "outputs": [],
   "source": [
    "@xs.process\n",
    "class Flux:\n",
    "    \n",
    "    func = xs.variable(intent='out', description='flux expression')\n",
    "    \n",
    "    def _func(self, state, time):\n",
    "        \"\"\"\n",
    "        Parameters\n",
    "        ----------\n",
    "        state : dict\n",
    "            Keys are ecosystem component labels and values are\n",
    "            concentrations at current time.\n",
    "        time : float\n",
    "            Current time.\n",
    "\n",
    "        \"\"\"\n",
    "        # must be implemented in subclasses\n",
    "        raise NotImplementedError\n",
    "        \n",
    "    def initialize(self):\n",
    "        self.func = self._func"
   ]
  },
  {
   "cell_type": "code",
   "execution_count": null,
   "metadata": {},
   "outputs": [],
   "source": [
    "@xs.process\n",
    "class NutrientUptake(Flux):\n",
    "    \n",
    "    label = xs.variable(groups='c_labels', description='component label')\n",
    "    halfsat = xs.foreign(ParameterParser,'halfsat')\n",
    "    flow = xs.foreign(ParameterParser,'flow')\n",
    "\n",
    "    \n",
    "    def _func(self, state, time):\n",
    "        return (state[self.label] / (state[self.label] + self.halfsat)\n",
    "    "
   ]
  },
  {
   "cell_type": "code",
   "execution_count": null,
   "metadata": {},
   "outputs": [],
   "source": [
    "@xs.process\n",
    "class Chemostat:\n",
    "    "
   ]
  },
  {
   "cell_type": "code",
   "execution_count": 335,
   "metadata": {},
   "outputs": [],
   "source": [
    "@xs.process\n",
    "class Slab:\n",
    "    time = xs.foreign(Time, 'time')\n",
    "    \n",
    "    c = xs.variable(\n",
    "        dims=('time', 'component'),\n",
    "        intent='out',\n",
    "        description='component concentrations',\n",
    "        attrs={'units': 'micromol N L^-1'}\n",
    "    )\n",
    "    \n",
    "    labels = xs.foreign(AllComponents, 'labels')\n",
    "    c0 = xs.foreign(AllComponents, 'c0')\n",
    "    \n",
    "    flux_labels = xs.group('c_flux_labels')\n",
    "    flux_funcs = xs.group('c_flux_funcs')\n",
    "    \n",
    "    def initialize(self):\n",
    "        # pick the right flux expression for each component\n",
    "        funcs = {\n",
    "            label: func\n",
    "            for label, func in zip(self.flux_labels, self.flux_funcs)\n",
    "        }\n",
    "\n",
    "        def ode(c, t):\n",
    "            state = {label: val for label, val in zip(self.labels, c)}\n",
    "            return [funcs[label](state, t) for label in self.labels]\n",
    "        "
   ]
  },
  {
   "cell_type": "code",
   "execution_count": null,
   "metadata": {},
   "outputs": [],
   "source": []
  },
  {
   "cell_type": "code",
   "execution_count": null,
   "metadata": {},
   "outputs": [],
   "source": []
  },
  {
   "cell_type": "code",
   "execution_count": 18,
   "metadata": {},
   "outputs": [],
   "source": [
    "@xs.process\n",
    "class MODEL:\n",
    "    # c is the new out\n",
    "    c = xs.variable(\n",
    "        dims=('time', 'component'),\n",
    "        intent='out',\n",
    "        description='component concentrations',\n",
    "        attrs={'units': 'micromol N L^-1'}\n",
    "    )\n",
    "    \n",
    "    # labels is the new x ('N','P')\n",
    "    labels = xs.foreign(AllComponents, 'labels')\n",
    "    # c0 is the new init\n",
    "    c0 = xs.foreign(AllComponents, 'c0')\n",
    "    \n",
    "    # now this would be the actual terms per flux (for now just one per component)\n",
    "    flux_labels = xs.group('c_flux_labels')\n",
    "    # and this would be the functions per flux\n",
    "    flux_funcs = xs.group('c_flux_funcs')\n",
    "\n",
    "    # old stuff:\n",
    "    x = xs.variable(dims='x', intent='inout')\n",
    "    out = xs.variable(dims=('x'),intent='out')\n",
    "    outflux = xs.variable(dims=('x'),intent='out')\n",
    "    init = xs.variable(dims=('x'),intent='in')\n",
    "    \n",
    "    def initialize(self):\n",
    "        self.out = self.init\n",
    "        self.time = 0\n",
    "        \n",
    "        # pick the right flux expression for each component\n",
    "        funcs = {\n",
    "            label: func\n",
    "            for label, func in zip(self.flux_labels, self.flux_funcs)\n",
    "        }\n",
    "\n",
    "        def ode(c, t):\n",
    "            state = {label: val for label, val in zip(self.labels, c)}\n",
    "            return [funcs[label](state, t) for label in self.labels]\n",
    "        \n",
    "    \n",
    "    @xs.runtime(args='step_delta')\n",
    "    def run_step(self,dt):\n",
    "        # need to convert fluxes to correct time step with dt\n",
    "        self.outflux = chemostat(self.time, self.out) * dt\n",
    "        # keep track of timestep for forcing (+ other time dep. processes)\n",
    "        self.time += dt\n",
    "    \n",
    "    def finalize_step(self):\n",
    "        self.out = np.array(self.out) + np.array(self.outflux)"
   ]
  },
  {
   "cell_type": "code",
   "execution_count": 19,
   "metadata": {},
   "outputs": [],
   "source": [
    "MOD = xs.Model({'m':MODEL})\n",
    "\n",
    "indat = xs.create_setup(\n",
    "  model=MOD,\n",
    "     clocks={\n",
    "         'time': np.linspace(0,40,1000)\n",
    "     },\n",
    "     input_vars={\n",
    "         'm__x':('x',['N','P']),\n",
    "         'm__init':('x',[1,0.1])\n",
    "     },\n",
    "     output_vars={\n",
    "        'm__x': None,\n",
    "        'm__out':'time',\n",
    "        'm__outflux':'time'\n",
    "     }  \n",
    ")"
   ]
  },
  {
   "cell_type": "code",
   "execution_count": 20,
   "metadata": {},
   "outputs": [],
   "source": [
    "out1 = indat.xsimlab.run(model=MOD)"
   ]
  },
  {
   "cell_type": "code",
   "execution_count": 21,
   "metadata": {},
   "outputs": [
    {
     "data": {
      "text/html": [
       "<pre>&lt;xarray.Dataset&gt;\n",
       "Dimensions:     (time: 1000, x: 2)\n",
       "Coordinates:\n",
       "  * time        (time) float64 0.0 0.04004 0.08008 0.1201 ... 39.92 39.96 40.0\n",
       "  * x           (x) object &#x27;N&#x27; &#x27;P&#x27;\n",
       "Data variables:\n",
       "    m__init     (x) float64 1.0 0.1\n",
       "    m__out      (time, x) float64 1.0 0.1 1.009 0.1015 ... 1.786 0.2143 1.786\n",
       "    m__outflux  (time, x) float64 0.009343 0.001468 ... -1.294e-08 7.546e-08</pre>"
      ],
      "text/plain": [
       "<xarray.Dataset>\n",
       "Dimensions:     (time: 1000, x: 2)\n",
       "Coordinates:\n",
       "  * time        (time) float64 0.0 0.04004 0.08008 0.1201 ... 39.92 39.96 40.0\n",
       "  * x           (x) object 'N' 'P'\n",
       "Data variables:\n",
       "    m__init     (x) float64 1.0 0.1\n",
       "    m__out      (time, x) float64 1.0 0.1 1.009 0.1015 ... 1.786 0.2143 1.786\n",
       "    m__outflux  (time, x) float64 0.009343 0.001468 ... -1.294e-08 7.546e-08"
      ]
     },
     "execution_count": 21,
     "metadata": {},
     "output_type": "execute_result"
    }
   ],
   "source": [
    "out = out1.set_index(x='m__x')\n",
    "out"
   ]
  },
  {
   "cell_type": "code",
   "execution_count": 22,
   "metadata": {},
   "outputs": [
    {
     "data": {
      "text/plain": [
       "[<matplotlib.lines.Line2D at 0x1a18d86d30>,\n",
       " <matplotlib.lines.Line2D at 0x1a18d86e20>]"
      ]
     },
     "execution_count": 22,
     "metadata": {},
     "output_type": "execute_result"
    },
    {
     "data": {
      "image/png": "[encoded data removed]",
      "text/plain": [
       "<Figure size 1080x720 with 1 Axes>"
      ]
     },
     "metadata": {
      "needs_background": "light"
     },
     "output_type": "display_data"
    }
   ],
   "source": [
    "out.m__out.plot.line(x='time')"
   ]
  },
  {
   "cell_type": "code",
   "execution_count": null,
   "metadata": {},
   "outputs": [],
   "source": []
  },
  {
   "cell_type": "code",
   "execution_count": null,
   "metadata": {},
   "outputs": [],
   "source": []
  },
  {
   "cell_type": "code",
   "execution_count": null,
   "metadata": {},
   "outputs": [],
   "source": [
    "@xs.process\n",
    "class P_nutrientuptake:\n",
    "    "
   ]
  },
  {
   "cell_type": "code",
   "execution_count": 95,
   "metadata": {},
   "outputs": [],
   "source": [
    "@xs.process\n",
    "class Nutrient:\n",
    "    func = xs.variable(intent='out', description='ODE term expression', group='flux')\n",
    "    \n",
    "    def _flux(self, time, state):\n",
    "        N,P = state\n",
    "        nutuptake = N / (halfsat + N) \n",
    "        dNdt = flow * N0 - nutuptake * P  - flow * N\n",
    "        return dNdt\n",
    "    \n",
    "    def initialize(self):\n",
    "        self.func = self._flux"
   ]
  },
  {
   "cell_type": "code",
   "execution_count": 96,
   "metadata": {},
   "outputs": [],
   "source": [
    "@xs.process\n",
    "class Phytoplankton:\n",
    "    func = xs.variable(intent='out', description='ODE term expression', group='flux')\n",
    "    \n",
    "    def _flux(self, time, state):\n",
    "        N,P = state\n",
    "        nutuptake = N / (halfsat + N) \n",
    "        dPdt = nutuptake * P - flow * P\n",
    "        return dPdt\n",
    "    \n",
    "    def initialize(self):\n",
    "        self.func = self._flux\n",
    "        "
   ]
  },
  {
   "cell_type": "code",
   "execution_count": 137,
   "metadata": {},
   "outputs": [],
   "source": [
    "@xs.process\n",
    "class ModelSetup:\n",
    "    \n",
    "    fluxlist = xs.variable(intent='out')\n",
    "    flux = xs.variable(intent='out')\n",
    "    x = xs.variable(dims='x', intent='inout')\n",
    "    \n",
    "    def initialize(self):\n",
    "        xlist = self.x\n",
    "        #print(xlist)\n",
    "        self.fluxlist = xs.group('flux')\n",
    "        #print(self.fluxlist)\n",
    "        self.flux = self._flux\n",
    "                    \n",
    "    def _flux(self,time,state, fluxlist):\n",
    "        print(state)\n",
    "        return [flux(time,state) for flux in fluxlist]\n",
    "                    \n",
    "        \n",
    "    "
   ]
  },
  {
   "cell_type": "code",
   "execution_count": 138,
   "metadata": {},
   "outputs": [],
   "source": [
    "@xs.process\n",
    "class MODEL:\n",
    "    x = xs.foreign(ModelSetup, 'x')\n",
    "    \n",
    "    out = xs.variable(dims=('x'),intent='out')\n",
    "    \n",
    "    fluxes = xs.foreign(ModelSetup, 'flux')\n",
    "    fluxlist = xs.foreign(ModelSetup, 'fluxlist')\n",
    "    outflux = xs.variable(dims=('x'),intent='out')\n",
    "    init = xs.variable(dims=('x'),intent='in')\n",
    "    \n",
    "    def initialize(self):\n",
    "        self.out = self.init\n",
    "        self.time = 0\n",
    "        print(self.fluxlist)\n",
    "    \n",
    "    @xs.runtime(args='step_delta')\n",
    "    def run_step(self,dt):\n",
    "        # need to convert fluxes to correct time step with dt\n",
    "        self.outflux = self.fluxes(self.time, self.out, self.fluxlist) * dt\n",
    "        # keep track of timestep for forcing (+ other time dep. processes)\n",
    "        self.time += dt\n",
    "    \n",
    "    def finalize_step(self):\n",
    "        self.out = np.array(self.out) + np.array(self.outflux)"
   ]
  },
  {
   "cell_type": "code",
   "execution_count": 139,
   "metadata": {},
   "outputs": [],
   "source": [
    "MOD = xs.Model({'m':MODEL, 'ms':ModelSetup, 'p':Phytoplankton, 'n':Nutrient})"
   ]
  },
  {
   "cell_type": "code",
   "execution_count": 140,
   "metadata": {},
   "outputs": [],
   "source": [
    "indat = xs.create_setup(\n",
    "  model=MOD,\n",
    "     clocks={\n",
    "         'time': np.linspace(0,40,1000)\n",
    "     },\n",
    "     input_vars={\n",
    "         'ms__x':('x',['N','P']),\n",
    "         'm__init':('x',[1,0.1])\n",
    "     },\n",
    "     output_vars={\n",
    "        'm__x': None,\n",
    "        'm__out':'time',\n",
    "        'm__outflux':'time'\n",
    "     }  \n",
    ")"
   ]
  },
  {
   "cell_type": "code",
   "execution_count": 141,
   "metadata": {},
   "outputs": [
    {
     "name": "stdout",
     "output_type": "stream",
     "text": [
      "['N' 'P']\n",
      "_CountingAttr(counter=368, _default=(), repr=True, eq=True, order=True, hash=None, init=True, metadata={'var_type': <VarType.GROUP: 'group'>, 'group': 'flux', 'intent': <VarIntent.IN: 'in'>, 'description': \"Iterable of all variables that belong to group 'flux'\"})\n",
      "_CountingAttr(counter=368, _default=(), repr=True, eq=True, order=True, hash=None, init=True, metadata={'var_type': <VarType.GROUP: 'group'>, 'group': 'flux', 'intent': <VarIntent.IN: 'in'>, 'description': \"Iterable of all variables that belong to group 'flux'\"})\n",
      "[1.  0.1]\n"
     ]
    },
    {
     "ename": "TypeError",
     "evalue": "'_CountingAttr' object is not iterable",
     "output_type": "error",
     "traceback": [
      "\u001b[0;31m---------------------------------------------------------------------------\u001b[0m",
      "\u001b[0;31mTypeError\u001b[0m                                 Traceback (most recent call last)",
      "\u001b[0;32m<ipython-input-141-2cd5ccc96ded>\u001b[0m in \u001b[0;36m<module>\u001b[0;34m\u001b[0m\n\u001b[0;32m----> 1\u001b[0;31m \u001b[0mout1\u001b[0m \u001b[0;34m=\u001b[0m \u001b[0mindat\u001b[0m\u001b[0;34m.\u001b[0m\u001b[0mxsimlab\u001b[0m\u001b[0;34m.\u001b[0m\u001b[0mrun\u001b[0m\u001b[0;34m(\u001b[0m\u001b[0mmodel\u001b[0m\u001b[0;34m=\u001b[0m\u001b[0mMOD\u001b[0m\u001b[0;34m)\u001b[0m\u001b[0;34m\u001b[0m\u001b[0;34m\u001b[0m\u001b[0m\n\u001b[0m",
      "\u001b[0;32m~/Documents/GitHub/xarray-simlab/xsimlab/xr_accessor.py\u001b[0m in \u001b[0;36mrun\u001b[0;34m(self, model, check_dims, validate, hooks, safe_mode)\u001b[0m\n\u001b[1;32m    621\u001b[0m         )\n\u001b[1;32m    622\u001b[0m \u001b[0;34m\u001b[0m\u001b[0m\n\u001b[0;32m--> 623\u001b[0;31m         \u001b[0;32mreturn\u001b[0m \u001b[0mdriver\u001b[0m\u001b[0;34m.\u001b[0m\u001b[0mrun_model\u001b[0m\u001b[0;34m(\u001b[0m\u001b[0;34m)\u001b[0m\u001b[0;34m\u001b[0m\u001b[0;34m\u001b[0m\u001b[0m\n\u001b[0m\u001b[1;32m    624\u001b[0m \u001b[0;34m\u001b[0m\u001b[0m\n\u001b[1;32m    625\u001b[0m     \u001b[0;32mdef\u001b[0m \u001b[0mrun_multi\u001b[0m\u001b[0;34m(\u001b[0m\u001b[0mself\u001b[0m\u001b[0;34m)\u001b[0m\u001b[0;34m:\u001b[0m\u001b[0;34m\u001b[0m\u001b[0;34m\u001b[0m\u001b[0m\n",
      "\u001b[0;32m~/Documents/GitHub/xarray-simlab/xsimlab/drivers.py\u001b[0m in \u001b[0;36mrun_model\u001b[0;34m(self)\u001b[0m\n\u001b[1;32m    468\u001b[0m             \u001b[0mself\u001b[0m\u001b[0;34m.\u001b[0m\u001b[0m_maybe_validate_inputs\u001b[0m\u001b[0;34m(\u001b[0m\u001b[0min_vars\u001b[0m\u001b[0;34m)\u001b[0m\u001b[0;34m\u001b[0m\u001b[0;34m\u001b[0m\u001b[0m\n\u001b[1;32m    469\u001b[0m \u001b[0;34m\u001b[0m\u001b[0m\n\u001b[0;32m--> 470\u001b[0;31m             self.model.execute(\n\u001b[0m\u001b[1;32m    471\u001b[0m                 \u001b[0;34m\"run_step\"\u001b[0m\u001b[0;34m,\u001b[0m \u001b[0mruntime_context\u001b[0m\u001b[0;34m,\u001b[0m \u001b[0mhooks\u001b[0m\u001b[0;34m=\u001b[0m\u001b[0mself\u001b[0m\u001b[0;34m.\u001b[0m\u001b[0m_hooks\u001b[0m\u001b[0;34m,\u001b[0m \u001b[0mvalidate\u001b[0m\u001b[0;34m=\u001b[0m\u001b[0mvalidate_all\u001b[0m\u001b[0;34m,\u001b[0m\u001b[0;34m\u001b[0m\u001b[0;34m\u001b[0m\u001b[0m\n\u001b[1;32m    472\u001b[0m             )\n",
      "\u001b[0;32m~/Documents/GitHub/xarray-simlab/xsimlab/model.py\u001b[0m in \u001b[0;36mexecute\u001b[0;34m(self, stage, runtime_context, hooks, validate)\u001b[0m\n\u001b[1;32m    609\u001b[0m \u001b[0;34m\u001b[0m\u001b[0m\n\u001b[1;32m    610\u001b[0m             \u001b[0mself\u001b[0m\u001b[0;34m.\u001b[0m\u001b[0m_call_hooks\u001b[0m\u001b[0;34m(\u001b[0m\u001b[0mhooks\u001b[0m\u001b[0;34m,\u001b[0m \u001b[0mruntime_context\u001b[0m\u001b[0;34m,\u001b[0m \u001b[0mstage\u001b[0m\u001b[0;34m,\u001b[0m \u001b[0;34m\"process\"\u001b[0m\u001b[0;34m,\u001b[0m \u001b[0;34m\"pre\"\u001b[0m\u001b[0;34m)\u001b[0m\u001b[0;34m\u001b[0m\u001b[0;34m\u001b[0m\u001b[0m\n\u001b[0;32m--> 611\u001b[0;31m             \u001b[0mexecutor\u001b[0m\u001b[0;34m.\u001b[0m\u001b[0mexecute\u001b[0m\u001b[0;34m(\u001b[0m\u001b[0mp_obj\u001b[0m\u001b[0;34m,\u001b[0m \u001b[0mstage\u001b[0m\u001b[0;34m,\u001b[0m \u001b[0mruntime_context\u001b[0m\u001b[0;34m)\u001b[0m\u001b[0;34m\u001b[0m\u001b[0;34m\u001b[0m\u001b[0m\n\u001b[0m\u001b[1;32m    612\u001b[0m             \u001b[0mself\u001b[0m\u001b[0;34m.\u001b[0m\u001b[0m_call_hooks\u001b[0m\u001b[0;34m(\u001b[0m\u001b[0mhooks\u001b[0m\u001b[0;34m,\u001b[0m \u001b[0mruntime_context\u001b[0m\u001b[0;34m,\u001b[0m \u001b[0mstage\u001b[0m\u001b[0;34m,\u001b[0m \u001b[0;34m\"process\"\u001b[0m\u001b[0;34m,\u001b[0m \u001b[0;34m\"post\"\u001b[0m\u001b[0;34m)\u001b[0m\u001b[0;34m\u001b[0m\u001b[0;34m\u001b[0m\u001b[0m\n\u001b[1;32m    613\u001b[0m \u001b[0;34m\u001b[0m\u001b[0m\n",
      "\u001b[0;32m~/Documents/GitHub/xarray-simlab/xsimlab/process.py\u001b[0m in \u001b[0;36mexecute\u001b[0;34m(self, obj, stage, runtime_context)\u001b[0m\n\u001b[1;32m    383\u001b[0m             \u001b[0;32mreturn\u001b[0m \u001b[0;32mNone\u001b[0m\u001b[0;34m\u001b[0m\u001b[0;34m\u001b[0m\u001b[0m\n\u001b[1;32m    384\u001b[0m         \u001b[0;32melse\u001b[0m\u001b[0;34m:\u001b[0m\u001b[0;34m\u001b[0m\u001b[0;34m\u001b[0m\u001b[0m\n\u001b[0;32m--> 385\u001b[0;31m             \u001b[0;32mreturn\u001b[0m \u001b[0mexecutor\u001b[0m\u001b[0;34m.\u001b[0m\u001b[0mexecute\u001b[0m\u001b[0;34m(\u001b[0m\u001b[0mobj\u001b[0m\u001b[0;34m,\u001b[0m \u001b[0mruntime_context\u001b[0m\u001b[0;34m)\u001b[0m\u001b[0;34m\u001b[0m\u001b[0;34m\u001b[0m\u001b[0m\n\u001b[0m\u001b[1;32m    386\u001b[0m \u001b[0;34m\u001b[0m\u001b[0m\n\u001b[1;32m    387\u001b[0m \u001b[0;34m\u001b[0m\u001b[0m\n",
      "\u001b[0;32m~/Documents/GitHub/xarray-simlab/xsimlab/process.py\u001b[0m in \u001b[0;36mexecute\u001b[0;34m(self, obj, runtime_context)\u001b[0m\n\u001b[1;32m    280\u001b[0m         \u001b[0margs\u001b[0m \u001b[0;34m=\u001b[0m \u001b[0;34m[\u001b[0m\u001b[0mruntime_context\u001b[0m\u001b[0;34m[\u001b[0m\u001b[0mk\u001b[0m\u001b[0;34m]\u001b[0m \u001b[0;32mfor\u001b[0m \u001b[0mk\u001b[0m \u001b[0;32min\u001b[0m \u001b[0mself\u001b[0m\u001b[0;34m.\u001b[0m\u001b[0margs\u001b[0m\u001b[0;34m]\u001b[0m\u001b[0;34m\u001b[0m\u001b[0;34m\u001b[0m\u001b[0m\n\u001b[1;32m    281\u001b[0m \u001b[0;34m\u001b[0m\u001b[0m\n\u001b[0;32m--> 282\u001b[0;31m         \u001b[0;32mreturn\u001b[0m \u001b[0mself\u001b[0m\u001b[0;34m.\u001b[0m\u001b[0mmeth\u001b[0m\u001b[0;34m(\u001b[0m\u001b[0mobj\u001b[0m\u001b[0;34m,\u001b[0m \u001b[0;34m*\u001b[0m\u001b[0margs\u001b[0m\u001b[0;34m)\u001b[0m\u001b[0;34m\u001b[0m\u001b[0;34m\u001b[0m\u001b[0m\n\u001b[0m\u001b[1;32m    283\u001b[0m \u001b[0;34m\u001b[0m\u001b[0m\n\u001b[1;32m    284\u001b[0m \u001b[0;34m\u001b[0m\u001b[0m\n",
      "\u001b[0;32m<ipython-input-138-f869ea4d1f6e>\u001b[0m in \u001b[0;36mrun_step\u001b[0;34m(self, dt)\u001b[0m\n\u001b[1;32m     18\u001b[0m     \u001b[0;32mdef\u001b[0m \u001b[0mrun_step\u001b[0m\u001b[0;34m(\u001b[0m\u001b[0mself\u001b[0m\u001b[0;34m,\u001b[0m\u001b[0mdt\u001b[0m\u001b[0;34m)\u001b[0m\u001b[0;34m:\u001b[0m\u001b[0;34m\u001b[0m\u001b[0;34m\u001b[0m\u001b[0m\n\u001b[1;32m     19\u001b[0m         \u001b[0;31m# need to convert fluxes to correct time step with dt\u001b[0m\u001b[0;34m\u001b[0m\u001b[0;34m\u001b[0m\u001b[0;34m\u001b[0m\u001b[0m\n\u001b[0;32m---> 20\u001b[0;31m         \u001b[0mself\u001b[0m\u001b[0;34m.\u001b[0m\u001b[0moutflux\u001b[0m \u001b[0;34m=\u001b[0m \u001b[0mself\u001b[0m\u001b[0;34m.\u001b[0m\u001b[0mfluxes\u001b[0m\u001b[0;34m(\u001b[0m\u001b[0mself\u001b[0m\u001b[0;34m.\u001b[0m\u001b[0mtime\u001b[0m\u001b[0;34m,\u001b[0m \u001b[0mself\u001b[0m\u001b[0;34m.\u001b[0m\u001b[0mout\u001b[0m\u001b[0;34m,\u001b[0m \u001b[0mself\u001b[0m\u001b[0;34m.\u001b[0m\u001b[0mfluxlist\u001b[0m\u001b[0;34m)\u001b[0m \u001b[0;34m*\u001b[0m \u001b[0mdt\u001b[0m\u001b[0;34m\u001b[0m\u001b[0;34m\u001b[0m\u001b[0m\n\u001b[0m\u001b[1;32m     21\u001b[0m         \u001b[0;31m# keep track of timestep for forcing (+ other time dep. processes)\u001b[0m\u001b[0;34m\u001b[0m\u001b[0;34m\u001b[0m\u001b[0;34m\u001b[0m\u001b[0m\n\u001b[1;32m     22\u001b[0m         \u001b[0mself\u001b[0m\u001b[0;34m.\u001b[0m\u001b[0mtime\u001b[0m \u001b[0;34m+=\u001b[0m \u001b[0mdt\u001b[0m\u001b[0;34m\u001b[0m\u001b[0;34m\u001b[0m\u001b[0m\n",
      "\u001b[0;32m<ipython-input-137-20f07856eb68>\u001b[0m in \u001b[0;36m_flux\u001b[0;34m(self, time, state, fluxlist)\u001b[0m\n\u001b[1;32m     15\u001b[0m     \u001b[0;32mdef\u001b[0m \u001b[0m_flux\u001b[0m\u001b[0;34m(\u001b[0m\u001b[0mself\u001b[0m\u001b[0;34m,\u001b[0m\u001b[0mtime\u001b[0m\u001b[0;34m,\u001b[0m\u001b[0mstate\u001b[0m\u001b[0;34m,\u001b[0m \u001b[0mfluxlist\u001b[0m\u001b[0;34m)\u001b[0m\u001b[0;34m:\u001b[0m\u001b[0;34m\u001b[0m\u001b[0;34m\u001b[0m\u001b[0m\n\u001b[1;32m     16\u001b[0m         \u001b[0mprint\u001b[0m\u001b[0;34m(\u001b[0m\u001b[0mstate\u001b[0m\u001b[0;34m)\u001b[0m\u001b[0;34m\u001b[0m\u001b[0;34m\u001b[0m\u001b[0m\n\u001b[0;32m---> 17\u001b[0;31m         \u001b[0;32mreturn\u001b[0m \u001b[0;34m[\u001b[0m\u001b[0mflux\u001b[0m\u001b[0;34m(\u001b[0m\u001b[0mtime\u001b[0m\u001b[0;34m,\u001b[0m\u001b[0mstate\u001b[0m\u001b[0;34m)\u001b[0m \u001b[0;32mfor\u001b[0m \u001b[0mflux\u001b[0m \u001b[0;32min\u001b[0m \u001b[0mfluxlist\u001b[0m\u001b[0;34m]\u001b[0m\u001b[0;34m\u001b[0m\u001b[0;34m\u001b[0m\u001b[0m\n\u001b[0m\u001b[1;32m     18\u001b[0m \u001b[0;34m\u001b[0m\u001b[0m\n\u001b[1;32m     19\u001b[0m \u001b[0;34m\u001b[0m\u001b[0m\n",
      "\u001b[0;31mTypeError\u001b[0m: '_CountingAttr' object is not iterable"
     ]
    }
   ],
   "source": [
    "out1 = indat.xsimlab.run(model=MOD)"
   ]
  },
  {
   "cell_type": "code",
   "execution_count": 142,
   "metadata": {},
   "outputs": [
    {
     "data": {
      "text/html": [
       "<pre>&lt;xarray.Dataset&gt;\n",
       "Dimensions:     (time: 1000, x: 2)\n",
       "Coordinates:\n",
       "  * time        (time) float64 0.0 0.04004 0.08008 0.1201 ... 39.92 39.96 40.0\n",
       "  * x           (x) object &#x27;N&#x27; &#x27;P&#x27;\n",
       "Data variables:\n",
       "    m__init     (x) float64 1.0 0.1\n",
       "    m__out      (time, x) float64 1.0 0.1 1.009 0.1015 ... 1.786 0.2143 1.786\n",
       "    m__outflux  (time, x) float64 0.009343 0.001468 ... -1.294e-08 7.546e-08</pre>"
      ],
      "text/plain": [
       "<xarray.Dataset>\n",
       "Dimensions:     (time: 1000, x: 2)\n",
       "Coordinates:\n",
       "  * time        (time) float64 0.0 0.04004 0.08008 0.1201 ... 39.92 39.96 40.0\n",
       "  * x           (x) object 'N' 'P'\n",
       "Data variables:\n",
       "    m__init     (x) float64 1.0 0.1\n",
       "    m__out      (time, x) float64 1.0 0.1 1.009 0.1015 ... 1.786 0.2143 1.786\n",
       "    m__outflux  (time, x) float64 0.009343 0.001468 ... -1.294e-08 7.546e-08"
      ]
     },
     "execution_count": 142,
     "metadata": {},
     "output_type": "execute_result"
    }
   ],
   "source": [
    "out = out1.set_index(x='m__x')\n",
    "out"
   ]
  },
  {
   "cell_type": "code",
   "execution_count": 22,
   "metadata": {},
   "outputs": [
    {
     "data": {
      "text/plain": [
       "[<matplotlib.lines.Line2D at 0x1a18d86d30>,\n",
       " <matplotlib.lines.Line2D at 0x1a18d86e20>]"
      ]
     },
     "execution_count": 22,
     "metadata": {},
     "output_type": "execute_result"
    },
    {
     "data": {
      "image/png": "[encoded data removed]",
      "text/plain": [
       "<Figure size 1080x720 with 1 Axes>"
      ]
     },
     "metadata": {
      "needs_background": "light"
     },
     "output_type": "display_data"
    }
   ],
   "source": [
    "out.m__out.plot.line(x='time')"
   ]
  },
  {
   "cell_type": "code",
   "execution_count": null,
   "metadata": {},
   "outputs": [],
   "source": [
    "  def __getattr__(self, key):\n",
    "        \"\"\" This function is necessary for the StateVariables class to\n",
    "        pass functions to the contained state variables when called within the ODE\"\"\"\n",
    "        def fn(*args,**kwargs):\n",
    "            return np.array([getattr(x, key)(*args,**kwargs) for x in self.fluxlist])\n",
    "        return fn"
   ]
  },
  {
   "cell_type": "code",
   "execution_count": 207,
   "metadata": {},
   "outputs": [],
   "source": [
    "# play with xs.group()\n",
    "@xs.process\n",
    "class otherGreets:\n",
    "    \n",
    "    hellas = xs.variable(groups='greeting', intent='out')\n",
    "    \n",
    "    def initialize(self):\n",
    "        self.hellas = 'hellas'\n",
    "\n",
    "@xs.process\n",
    "class Hello:\n",
    "    \n",
    "    hi = xs.variable(groups='greeting',intent='out')\n",
    "    \n",
    "    hye = xs.variable(groups='greeting',intent='out')\n",
    "    \n",
    "    greetings = xs.group('greeting')\n",
    "    \n",
    "    fluxes = xs.group('flux')\n",
    "    \n",
    "    def initialize(self):\n",
    "        self.hi = 'hi'\n",
    "        self.hye = 'hye'\n",
    "        \n",
    "    def run_step(self):\n",
    "        print([greeting for greeting in self.greetings])\n",
    "        print([flux(2,1) for flux in self.fluxes])\n",
    "        \n",
    "@xs.process\n",
    "class OneFlux:\n",
    "    \n",
    "    func = xs.variable(groups='flux', intent='out')\n",
    "    \n",
    "    def _func(self, state, time):\n",
    "        return(state + 2)\n",
    "        \n",
    "    \n",
    "    def initialize(self):\n",
    "        self.func = self._func\n",
    "        \n",
    "        \n",
    "@xs.process\n",
    "class AnotherFlux:\n",
    "    \n",
    "    func = xs.variable(groups='flux', intent='out')\n",
    "    \n",
    "    def _func(self, state, time):\n",
    "        return(state + time / 2)\n",
    "    \n",
    "    def initialize(self):\n",
    "        self.func = self._func"
   ]
  },
  {
   "cell_type": "code",
   "execution_count": null,
   "metadata": {},
   "outputs": [],
   "source": []
  },
  {
   "cell_type": "code",
   "execution_count": null,
   "metadata": {},
   "outputs": [],
   "source": []
  },
  {
   "cell_type": "code",
   "execution_count": 213,
   "metadata": {},
   "outputs": [],
   "source": [
    "a = xs.Model({'h':Hello, 'o':otherGreets, 'oo':OneFlux, 'oi':AnotherFlux})"
   ]
  },
  {
   "cell_type": "code",
   "execution_count": null,
   "metadata": {},
   "outputs": [],
   "source": []
  },
  {
   "cell_type": "code",
   "execution_count": 209,
   "metadata": {},
   "outputs": [],
   "source": [
    "adat = xs.create_setup( \n",
    "    model=a,\n",
    "    clocks={\n",
    "         'time': np.arange(0,10)\n",
    "     }\n",
    ")"
   ]
  },
  {
   "cell_type": "code",
   "execution_count": 210,
   "metadata": {},
   "outputs": [
    {
     "name": "stdout",
     "output_type": "stream",
     "text": [
      "['hellas', 'hi', 'hye']\n",
      "[2.5, 4]\n",
      "['hellas', 'hi', 'hye']\n",
      "[2.5, 4]\n",
      "['hellas', 'hi', 'hye']\n",
      "[2.5, 4]\n",
      "['hellas', 'hi', 'hye']\n",
      "[2.5, 4]\n",
      "['hellas', 'hi', 'hye']\n",
      "[2.5, 4]\n",
      "['hellas', 'hi', 'hye']\n",
      "[2.5, 4]\n",
      "['hellas', 'hi', 'hye']\n",
      "[2.5, 4]\n",
      "['hellas', 'hi', 'hye']\n",
      "[2.5, 4]\n",
      "['hellas', 'hi', 'hye']\n",
      "[2.5, 4]\n"
     ]
    },
    {
     "data": {
      "text/html": [
       "<pre>&lt;xarray.Dataset&gt;\n",
       "Dimensions:  (time: 10)\n",
       "Coordinates:\n",
       "  * time     (time) int64 0 1 2 3 4 5 6 7 8 9\n",
       "Data variables:\n",
       "    *empty*</pre>"
      ],
      "text/plain": [
       "<xarray.Dataset>\n",
       "Dimensions:  (time: 10)\n",
       "Coordinates:\n",
       "  * time     (time) int64 0 1 2 3 4 5 6 7 8 9\n",
       "Data variables:\n",
       "    *empty*"
      ]
     },
     "execution_count": 210,
     "metadata": {},
     "output_type": "execute_result"
    }
   ],
   "source": [
    "adat.xsimlab.run(model=a)"
   ]
  },
  {
   "cell_type": "code",
   "execution_count": null,
   "metadata": {},
   "outputs": [],
   "source": []
  }
 ],
 "metadata": {
  "kernelspec": {
   "display_name": "Python 3",
   "language": "python",
   "name": "python3"
  },
  "language_info": {
   "codemirror_mode": {
    "name": "ipython",
    "version": 3
   },
   "file_extension": ".py",
   "mimetype": "text/x-python",
   "name": "python",
   "nbconvert_exporter": "python",
   "pygments_lexer": "ipython3",
   "version": "3.8.1"
  }
 },
 "nbformat": 4,
 "nbformat_minor": 4
}
