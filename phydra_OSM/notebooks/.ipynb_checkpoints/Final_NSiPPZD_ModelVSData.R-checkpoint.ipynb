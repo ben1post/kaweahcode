{
 "cells": [
  {
   "cell_type": "markdown",
   "metadata": {},
   "source": [
    "# NPZD Plots for Poster:\n",
    "\n",
    "## Time Ser\n",
    "\n",
    "## Biotics:\n",
    "### 1. Primary Production\n",
    "\n",
    "### 2. HPLC-Chla (Total - potentially show Diatom component, cut down gap?)\n",
    "\n",
    "### 3. Zooplankton"
   ]
  }
 ],
 "metadata": {
  "kernelspec": {
   "display_name": "R",
   "language": "R",
   "name": "ir"
  },
  "language_info": {
   "codemirror_mode": "r",
   "file_extension": ".r",
   "mimetype": "text/x-r-source",
   "name": "R",
   "pygments_lexer": "r",
   "version": "3.6.1"
  }
 },
 "nbformat": 4,
 "nbformat_minor": 4
}
