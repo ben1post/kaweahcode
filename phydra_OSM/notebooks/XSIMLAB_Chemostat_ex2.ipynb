{
 "cells": [
  {
   "cell_type": "code",
   "execution_count": null,
   "metadata": {},
   "outputs": [],
   "source": []
  },
  {
   "cell_type": "code",
   "execution_count": 1,
   "metadata": {},
   "outputs": [],
   "source": [
    "from lmfit import minimize, Parameters # Parameter, report_fit"
   ]
  },
  {
   "cell_type": "code",
   "execution_count": 2,
   "metadata": {},
   "outputs": [],
   "source": [
    "import numpy as np\n",
    "import xsimlab as xs\n",
    "from scipy.integrate import odeint\n",
    "import matplotlib.pyplot as plt"
   ]
  },
  {
   "cell_type": "code",
   "execution_count": 3,
   "metadata": {},
   "outputs": [],
   "source": [
    "plt.rcParams['figure.figsize'] = [15, 10]"
   ]
  },
  {
   "cell_type": "markdown",
   "metadata": {},
   "source": [
    "### create minimal ODE system example: \n",
    "## Phytoplankton growing in chemostat (constant flowthrough)"
   ]
  },
  {
   "cell_type": "code",
   "execution_count": 4,
   "metadata": {},
   "outputs": [],
   "source": [
    "halfsat = 0.5\n",
    "flow = 0.3\n",
    "N0 = 2\n",
    "#init = [1,0.01]\n",
    "\n",
    "def chemostat(t,x):\n",
    "    \n",
    "    N,P = x\n",
    "    \n",
    "    nutuptake = N / (halfsat + N) \n",
    "    \n",
    "    dPdt = nutuptake * P - flow * P\n",
    "    \n",
    "    dNdt = flow * N0 - nutuptake * P  - flow * N\n",
    "    \n",
    "    return [dNdt, dPdt]"
   ]
  },
  {
   "cell_type": "markdown",
   "metadata": {},
   "source": [
    "## Solve this model with xsimlab (time-explicit)"
   ]
  },
  {
   "cell_type": "code",
   "execution_count": 18,
   "metadata": {},
   "outputs": [],
   "source": [
    "@xs.process\n",
    "class MODEL:\n",
    "    x = xs.variable(dims='x', intent='inout')\n",
    "    out = xs.variable(dims=('x'),intent='out')\n",
    "    outflux = xs.variable(dims=('x'),intent='out')\n",
    "    init = xs.variable(dims=('x'),intent='in')\n",
    "    \n",
    "    def initialize(self):\n",
    "        self.out = self.init\n",
    "        self.time = 0\n",
    "    \n",
    "    @xs.runtime(args='step_delta')\n",
    "    def run_step(self,dt):\n",
    "        # need to convert fluxes to correct time step with dt\n",
    "        self.outflux = chemostat(self.time, self.out) * dt\n",
    "        # keep track of timestep for forcing (+ other time dep. processes)\n",
    "        self.time += dt\n",
    "    \n",
    "    def finalize_step(self):\n",
    "        self.out = np.array(self.out) + np.array(self.outflux)"
   ]
  },
  {
   "cell_type": "code",
   "execution_count": 19,
   "metadata": {},
   "outputs": [],
   "source": [
    "MOD = xs.Model({'m':MODEL})\n",
    "\n",
    "indat = xs.create_setup(\n",
    "  model=MOD,\n",
    "     clocks={\n",
    "         'time': np.linspace(0,40,1000)\n",
    "     },\n",
    "     input_vars={\n",
    "         'm__x':('x',['N','P']),\n",
    "         'm__init':('x',[1,0.1])\n",
    "     },\n",
    "     output_vars={\n",
    "        'm__x': None,\n",
    "        'm__out':'time',\n",
    "        'm__outflux':'time'\n",
    "     }  \n",
    ")"
   ]
  },
  {
   "cell_type": "code",
   "execution_count": 20,
   "metadata": {},
   "outputs": [],
   "source": [
    "out1 = indat.xsimlab.run(model=MOD)"
   ]
  },
  {
   "cell_type": "code",
   "execution_count": 21,
   "metadata": {},
   "outputs": [
    {
     "data": {
      "text/html": [
       "<pre>&lt;xarray.Dataset&gt;\n",
       "Dimensions:     (time: 1000, x: 2)\n",
       "Coordinates:\n",
       "  * time        (time) float64 0.0 0.04004 0.08008 0.1201 ... 39.92 39.96 40.0\n",
       "  * x           (x) object &#x27;N&#x27; &#x27;P&#x27;\n",
       "Data variables:\n",
       "    m__init     (x) float64 1.0 0.1\n",
       "    m__out      (time, x) float64 1.0 0.1 1.009 0.1015 ... 1.786 0.2143 1.786\n",
       "    m__outflux  (time, x) float64 0.009343 0.001468 ... -1.294e-08 7.546e-08</pre>"
      ],
      "text/plain": [
       "<xarray.Dataset>\n",
       "Dimensions:     (time: 1000, x: 2)\n",
       "Coordinates:\n",
       "  * time        (time) float64 0.0 0.04004 0.08008 0.1201 ... 39.92 39.96 40.0\n",
       "  * x           (x) object 'N' 'P'\n",
       "Data variables:\n",
       "    m__init     (x) float64 1.0 0.1\n",
       "    m__out      (time, x) float64 1.0 0.1 1.009 0.1015 ... 1.786 0.2143 1.786\n",
       "    m__outflux  (time, x) float64 0.009343 0.001468 ... -1.294e-08 7.546e-08"
      ]
     },
     "execution_count": 21,
     "metadata": {},
     "output_type": "execute_result"
    }
   ],
   "source": [
    "out = out1.set_index(x='m__x')\n",
    "out"
   ]
  },
  {
   "cell_type": "code",
   "execution_count": 22,
   "metadata": {},
   "outputs": [
    {
     "data": {
      "text/plain": [
       "[<matplotlib.lines.Line2D at 0x1a18d86d30>,\n",
       " <matplotlib.lines.Line2D at 0x1a18d86e20>]"
      ]
     },
     "execution_count": 22,
     "metadata": {},
     "output_type": "execute_result"
    },
    {
     "data": {
      "image/png": "[encoded data removed]",
      "text/plain": [
       "<Figure size 1080x720 with 1 Axes>"
      ]
     },
     "metadata": {
      "needs_background": "light"
     },
     "output_type": "display_data"
    }
   ],
   "source": [
    "out.m__out.plot.line(x='time')"
   ]
  },
  {
   "cell_type": "code",
   "execution_count": 23,
   "metadata": {},
   "outputs": [
    {
     "data": {
      "text/plain": [
       "[<matplotlib.lines.Line2D at 0x1a18ff0b20>,\n",
       " <matplotlib.lines.Line2D at 0x1a18ff0c10>]"
      ]
     },
     "execution_count": 23,
     "metadata": {},
     "output_type": "execute_result"
    },
    {
     "data": {
      "image/png": "[encoded data removed]",
      "text/plain": [
       "<Figure size 1080x720 with 1 Axes>"
      ]
     },
     "metadata": {
      "needs_background": "light"
     },
     "output_type": "display_data"
    }
   ],
   "source": [
    "out.m__outflux.plot.line(x='time')"
   ]
  },
  {
   "cell_type": "markdown",
   "metadata": {},
   "source": [
    "# Implement Fully within XSIMLAB framework"
   ]
  },
  {
   "cell_type": "code",
   "execution_count": 285,
   "metadata": {},
   "outputs": [],
   "source": [
    "@xs.process\n",
    "class Nutrient:\n",
    "    label = xs.variable(default='N', groups='labels')\n",
    "    \n",
    "    flux = xs.variable(intent='out', groups='ODE-flux')\n",
    "    \n",
    "    num_nuts = xs.variable(intent='in')\n",
    "    \n",
    "    N0 = xs.variable(intent='inout', groups='ODE-term-constant', static=True)\n",
    "    \n",
    "    N_init = xs.variable(intent='inout', groups='ODE-term-init')\n",
    "    \n",
    "    def initialize(self):\n",
    "        print('nuts init')\n",
    "        self.flux = self._flux\n",
    "        \n",
    "    def _flux(self, *args):\n",
    "        state, _ = args\n",
    "        \n",
    "        return(state[self.label] * 0.1)\n",
    "        \n",
    "        \n",
    "        \n",
    " #dNdt = flow * N0 - nutuptake * P  - flow * N"
   ]
  },
  {
   "cell_type": "code",
   "execution_count": 286,
   "metadata": {},
   "outputs": [],
   "source": [
    "@xs.process\n",
    "class NutrientUptake:\n",
    "    n_label = xs.foreign(Nutrient,'label')\n",
    "    \n",
    "    halfsat = xs.variable(groups='')"
   ]
  },
  {
   "cell_type": "code",
   "execution_count": 295,
   "metadata": {},
   "outputs": [],
   "source": [
    "@xs.process\n",
    "class Phytoplankton:\n",
    "    label = xs.variable(default='P', groups='labels')\n",
    "    \n",
    "    flux = xs.variable(intent='out', groups='ODE-flux')\n",
    "    \n",
    "    num_phy = xs.variable(intent='in')\n",
    "    \n",
    "    P_init = xs.variable(intent='inout', groups='ODE-term-init')\n",
    "    \n",
    "    def initialize(self):\n",
    "        print('phyto init')\n",
    "        #print(self.label)\n",
    "        self.flux = self._flux\n",
    "        \n",
    "    def _flux(self, *args):\n",
    "        state, _ = args\n",
    "        \n",
    "        return(state[self.label]*0.1)#[self.label] * 1 + state[self.n_label])\n",
    "\n",
    "\n",
    "#nutuptake = N / (halfsat + N) \n",
    "\n",
    "#dPdt = nutuptake * P - flow * P"
   ]
  },
  {
   "cell_type": "code",
   "execution_count": null,
   "metadata": {},
   "outputs": [],
   "source": []
  },
  {
   "cell_type": "code",
   "execution_count": 296,
   "metadata": {},
   "outputs": [],
   "source": [
    "@xs.process\n",
    "class Chemostat:\n",
    "    init = xs.group('ODE-term-init')\n",
    "    odefluxes = xs.group('ODE-flux')\n",
    "    c_labels = xs.group('labels')\n",
    "    \n",
    "    labels = xs.variable(\n",
    "        dims='component',\n",
    "        intent='out',\n",
    "        description='component labels'\n",
    "    )\n",
    "    \n",
    "    funcs = xs.variable(intent='out')\n",
    "    state = xs.variable(intent='out')\n",
    "    \n",
    "    \n",
    "    def initialize(self):\n",
    "        print('chemostat init')\n",
    "        self.labels = np.array(list(self.c_labels))\n",
    "\n",
    "        \n",
    "        self.state = {label: val for label, val in zip(self.labels, self.init)}\n",
    "        \n",
    "        # pick the right flux expression for each component\n",
    "        self.funcs = {\n",
    "            label: flux\n",
    "            for label, flux in zip(self.labels, self.odefluxes)\n",
    "        }\n",
    "        print('state', self.state)\n",
    "        print('funcs', self.funcs)\n",
    "        #def ode(c, t):\n",
    "        #    state = {label: val for label, val in zip(self.labels, c)}\n",
    "        #    return [funcs[label](state, t) for label in self.labels]\n",
    "\n",
    "    def run_step(self):\n",
    "        print(self.labels)\n",
    "        self.outflux = [self.funcs[label](self.state, 1) for label in self.labels]\n",
    "        self.state = {label: self.state[label] + self.outflux[i] for label, i in zip(self.labels, range(len(self.labels)))} \n",
    "        print(self.state)\n"
   ]
  },
  {
   "cell_type": "code",
   "execution_count": 297,
   "metadata": {},
   "outputs": [],
   "source": [
    "FirstModelSetup = xs.Model({'Env':Chemostat,'Phyto':Phytoplankton, 'Nuts':Nutrient})"
   ]
  },
  {
   "cell_type": "code",
   "execution_count": 298,
   "metadata": {},
   "outputs": [],
   "source": [
    "# this is one way to create an lmfit.Parameter object:\n",
    "parameters = Parameters()\n",
    "\n",
    "parameters.add('Nuts__num_nuts', value=1,  vary=False)\n",
    "\n",
    "parameters.add('Nuts__N0', value=2,  vary=False)\n",
    "\n",
    "parameters.add('Nuts__N_init', value=1,  vary=False)\n",
    "\n",
    "parameters.add('Phyto__num_phy', value=1, vary=False)\n",
    "\n",
    "parameters.add('Phyto__P_init', value=0.1, vary=False)"
   ]
  },
  {
   "cell_type": "code",
   "execution_count": 299,
   "metadata": {},
   "outputs": [],
   "source": [
    "def parameterDict2Input_vars(params):\n",
    "    return {key : value for key, value in params.valuesdict().items()} "
   ]
  },
  {
   "cell_type": "code",
   "execution_count": 300,
   "metadata": {},
   "outputs": [
    {
     "data": {
      "text/plain": [
       "{'Nuts__num_nuts': 1,\n",
       " 'Nuts__N0': 2,\n",
       " 'Nuts__N_init': 1,\n",
       " 'Phyto__num_phy': 1,\n",
       " 'Phyto__P_init': 0.1}"
      ]
     },
     "execution_count": 300,
     "metadata": {},
     "output_type": "execute_result"
    }
   ],
   "source": [
    "parameterDict2Input_vars(parameters)"
   ]
  },
  {
   "cell_type": "code",
   "execution_count": 301,
   "metadata": {},
   "outputs": [],
   "source": [
    "FirstModelSetup_in = xs.create_setup(\n",
    " model=FirstModelSetup,\n",
    "    clocks={\n",
    "         'time': np.arange(0,5)\n",
    "     },\n",
    "    input_vars=\n",
    "    parameterDict2Input_vars(parameters)\n",
    ")"
   ]
  },
  {
   "cell_type": "code",
   "execution_count": 302,
   "metadata": {},
   "outputs": [
    {
     "name": "stdout",
     "output_type": "stream",
     "text": [
      "nuts init\n",
      "phyto init\n",
      "chemostat init\n",
      "state {'N': 1, 'P': 0.1}\n",
      "funcs {'N': <bound method Nutrient._flux of <Nutrient 'Nuts' (xsimlab process)>\n",
      "Variables:\n",
      "    label        [in]\n",
      "    flux        [out]\n",
      "    num_nuts     [in]\n",
      "    N0        [inout]\n",
      "    N_init    [inout]\n",
      "Simulation stages:\n",
      "    initialize\n",
      ">, 'P': <bound method Phytoplankton._flux of <Phytoplankton 'Phyto' (xsimlab process)>\n",
      "Variables:\n",
      "    label       [in]\n",
      "    flux       [out]\n",
      "    num_phy     [in]\n",
      "    P_init   [inout]\n",
      "Simulation stages:\n",
      "    initialize\n",
      ">}\n",
      "['N' 'P']\n",
      "{'N': 1.1, 'P': 0.11000000000000001}\n",
      "['N' 'P']\n",
      "{'N': 1.2100000000000002, 'P': 0.12100000000000002}\n",
      "['N' 'P']\n",
      "{'N': 1.3310000000000002, 'P': 0.13310000000000002}\n",
      "['N' 'P']\n",
      "{'N': 1.4641000000000002, 'P': 0.14641000000000004}\n"
     ]
    }
   ],
   "source": [
    "out = FirstModelSetup_in.xsimlab.run(model=FirstModelSetup)"
   ]
  },
  {
   "cell_type": "code",
   "execution_count": 119,
   "metadata": {},
   "outputs": [
    {
     "data": {
      "text/html": [
       "<pre>&lt;xarray.Dataset&gt;\n",
       "Dimensions:         (time: 2)\n",
       "Coordinates:\n",
       "  * time            (time) int64 0 1\n",
       "Data variables:\n",
       "    Nuts__num_nuts  int64 1\n",
       "    Nuts__N0        int64 2\n",
       "    Nuts__N         int64 1\n",
       "    Phyto__num_phy  int64 1\n",
       "    Phyto__P        float64 0.1</pre>"
      ],
      "text/plain": [
       "<xarray.Dataset>\n",
       "Dimensions:         (time: 2)\n",
       "Coordinates:\n",
       "  * time            (time) int64 0 1\n",
       "Data variables:\n",
       "    Nuts__num_nuts  int64 1\n",
       "    Nuts__N0        int64 2\n",
       "    Nuts__N         int64 1\n",
       "    Phyto__num_phy  int64 1\n",
       "    Phyto__P        float64 0.1"
      ]
     },
     "execution_count": 119,
     "metadata": {},
     "output_type": "execute_result"
    }
   ],
   "source": [
    "out"
   ]
  },
  {
   "cell_type": "code",
   "execution_count": null,
   "metadata": {},
   "outputs": [],
   "source": []
  },
  {
   "cell_type": "code",
   "execution_count": null,
   "metadata": {},
   "outputs": [],
   "source": []
  },
  {
   "cell_type": "code",
   "execution_count": null,
   "metadata": {},
   "outputs": [],
   "source": []
  },
  {
   "cell_type": "code",
   "execution_count": 217,
   "metadata": {},
   "outputs": [],
   "source": [
    "@xs.process\n",
    "class MODEL:\n",
    "    x = xs.variable(dims='x', intent='inout')\n",
    "    out = xs.variable(dims=('x'),intent='out')\n",
    "    outflux = xs.variable(dims=('x'),intent='out')\n",
    "    init = xs.variable(dims=('x'),intent='in')\n",
    "    \n",
    "    def initialize(self):\n",
    "        self.out = self.init\n",
    "        self.time = 0\n",
    "    \n",
    "    @xs.runtime(args='step_delta')\n",
    "    def run_step(self,dt):\n",
    "        # need to convert fluxes to correct time step with dt\n",
    "        self.outflux = chemostat(self.time, self.out) * dt\n",
    "        # keep track of timestep for forcing (+ other time dep. processes)\n",
    "        self.time += dt\n",
    "    \n",
    "    def finalize_step(self):\n",
    "        self.out = np.array(self.out) + np.array(self.outflux)"
   ]
  },
  {
   "cell_type": "code",
   "execution_count": null,
   "metadata": {},
   "outputs": [],
   "source": []
  },
  {
   "cell_type": "code",
   "execution_count": null,
   "metadata": {},
   "outputs": [],
   "source": []
  },
  {
   "cell_type": "markdown",
   "metadata": {},
   "source": [
    "# NEW TRY BELOW HERE"
   ]
  },
  {
   "cell_type": "code",
   "execution_count": 429,
   "metadata": {},
   "outputs": [],
   "source": [
    "# NEW TRY: Let's keep all states in seperate object, that can then be called by each other process\n",
    "#so that they can interact without a problem!\n",
    "\n",
    "#ACTUALLY: i can do the same just by having a \"LabelKeeper\" object (This takes all the number and label setup stuff)\n",
    "\n"
   ]
  },
  {
   "cell_type": "code",
   "execution_count": 430,
   "metadata": {},
   "outputs": [],
   "source": [
    "@xs.process\n",
    "class NumberSetup:  \n",
    "    num_nuts = xs.variable(intent='in', groups='num_components')\n",
    "    num_phyto = xs.variable(intent='in',groups='num_components')\n",
    "    \n",
    "    N_init = xs.variable(intent='in', groups='input')\n",
    "    P_init = xs.variable(intent='in', groups='input')   \n",
    "    \n",
    "    N_inputconc = xs.variable(intent='in', groups='input', static=True)\n",
    "    flowrate = xs.variable(intent='in', groups='parameter', static=True)\n",
    "    halfsat = xs.variable(intent='in', groups='parameter', static=True)\n",
    "        \n",
    " #dNdt = flow * N0 - nutuptake * P  - flow * N"
   ]
  },
  {
   "cell_type": "code",
   "execution_count": 539,
   "metadata": {},
   "outputs": [],
   "source": [
    "@xs.process\n",
    "class ChemostatSetup:\n",
    "    num_nuts = xs.foreign(NumberSetup, 'num_nuts')\n",
    "    num_phyto = xs.foreign(NumberSetup, 'num_phyto')\n",
    "    \n",
    "    num_components = xs.variable(intent='out')\n",
    "    \n",
    "    Ninit = xs.foreign(NumberSetup, 'N_init')\n",
    "    Pinit = xs.foreign(NumberSetup, 'P_init')\n",
    "    \n",
    "    N_init = xs.variable(dims='num_nuts', intent='out', groups='ODE-term-init')\n",
    "    P_init = xs.variable(dims='num_phyto',intent='out', groups='ODE-term-init')      \n",
    "    \n",
    "    init = xs.variable(dims='components', intent='out')\n",
    "    \n",
    "    n_label = xs.variable(dims='num_nuts', intent='out', groups='label')\n",
    "    p_label = xs.variable(dims='num_phyto',intent='out', groups='label')\n",
    "    \n",
    "    labels = xs.variable(dims='components', intent='out')\n",
    "    \n",
    "    #N = xs.variable(dims='num_nuts', intent='out', groups='ODE-term')\n",
    "    #P = xs.variable(dims='num_phyto',intent='out', groups='ODE-term')\n",
    "  \n",
    "    def initialize(self):\n",
    "        print('---Modelsetup init---')\n",
    "        self.num_components = self.num_nuts + self.num_phyto\n",
    "        self.n_label = ['N'+str(i+1) for i in range(self.num_nuts)]        \n",
    "        self.p_label = ['P'+str(i+1) for i in range(self.num_phyto)]\n",
    "        print(self.n_label, self.p_label)\n",
    "        self.labels = np.concatenate([self.n_label,self.p_label])  # , axis=None)\n",
    "        \n",
    "        self.N_init = [self.Ninit for i in range(self.num_nuts)]\n",
    "        self.P_init = [self.Pinit for i in range(self.num_phyto)]\n",
    "        self.init = np.concatenate([self.N_init,self.P_init])  # , axis=None)\n",
    "        print(self.labels)\n",
    "        print(self.init)"
   ]
  },
  {
   "cell_type": "code",
   "execution_count": 704,
   "metadata": {},
   "outputs": [],
   "source": [
    "@xs.process\n",
    "class Component:\n",
    "    \n",
    "    flux = xs.variable(intent='out', groups='flux', description='ODE expression of component')\n",
    "    num = xs.variable(intent='out')\n",
    "    \n",
    "    def _flux(self, state, time):\n",
    "        \"\"\"\n",
    "        Parameters\n",
    "        ----------\n",
    "        state : dict\n",
    "            Keys are ecosystem component labels and values are\n",
    "            concentrations at current time.\n",
    "        time : float\n",
    "            Current time.\n",
    "\n",
    "        \"\"\"\n",
    "        # must be implemented in subclasses\n",
    "        raise NotImplementedError\n",
    "        \n",
    "    def initialize(self):\n",
    "        self.flux = [self._flux for i in range(self.num)]\n",
    "\n",
    "@xs.process\n",
    "class Nutrients(Component):\n",
    "    label = xs.foreign(ChemostatSetup, 'n_label')\n",
    "    labels = xs.foreign(ChemostatSetup,'labels')\n",
    "    init = xs.foreign(ChemostatSetup,'init')\n",
    "    num = xs.foreign(NumberSetup, 'num_nuts')\n",
    "    \n",
    "    def _flux(self, *args):\n",
    "        state,time = args\n",
    "        print('Nut flux calc', state, self.label)\n",
    "        return(state[self.label])\n",
    "    \n",
    "    #def initialize(self):\n",
    "    #    print('---Nutrients init---')\n",
    "    #    print([i for i in self.labels])\n",
    "        \n",
    "        \n",
    "    \n",
    "@xs.process\n",
    "class Phytoplankton(Component):\n",
    "    num_other = xs.foreign(NumberSetup, 'num_nuts')\n",
    "    label = xs.foreign(ChemostatSetup, 'p_label')\n",
    "    labels = xs.foreign(ChemostatSetup,'labels')\n",
    "    init = xs.foreign(ChemostatSetup,'init')\n",
    "    num = xs.foreign(NumberSetup, 'num_phyto')\n",
    "    \n",
    "    def _flux(self, *args):\n",
    "        state,time = args\n",
    "        print('Phyto flux calc', state, self.label)\n",
    "        return(state[self.label[0]])\n",
    "    \n",
    "    class Phytoplankton(params):\n",
    "        pass\n",
    "    \n",
    "    #def initialize(self):\n",
    "    #    print('---Phytoplankton init---')\n",
    "    #    print([i for i in self.init])"
   ]
  },
  {
   "cell_type": "code",
   "execution_count": 716,
   "metadata": {},
   "outputs": [],
   "source": [
    "@xs.process\n",
    "class Aggregate:\n",
    "    N = xs.variable(intent='out')\n",
    "    P = xs.variable(intent='out')\n",
    "    \n",
    "    def initialize(self):\n",
    "        self.P = Phytoplankton()\n",
    "        self.N = Phytoplankton()"
   ]
  },
  {
   "cell_type": "code",
   "execution_count": 718,
   "metadata": {},
   "outputs": [
    {
     "ename": "TypeError",
     "evalue": "__init__() missing 5 required keyword-only arguments: 'num_other', 'label', 'labels', 'init', and 'num'",
     "output_type": "error",
     "traceback": [
      "\u001b[0;31m---------------------------------------------------------------------------\u001b[0m",
      "\u001b[0;31mTypeError\u001b[0m                                 Traceback (most recent call last)",
      "\u001b[0;32m<ipython-input-718-a731d6d2d8a8>\u001b[0m in \u001b[0;36m<module>\u001b[0;34m\u001b[0m\n\u001b[0;32m----> 1\u001b[0;31m \u001b[0mAggregate\u001b[0m\u001b[0;34m(\u001b[0m\u001b[0;34m)\u001b[0m\u001b[0;34m.\u001b[0m\u001b[0minitialize\u001b[0m\u001b[0;34m(\u001b[0m\u001b[0;34m)\u001b[0m\u001b[0;34m\u001b[0m\u001b[0;34m\u001b[0m\u001b[0m\n\u001b[0m",
      "\u001b[0;32m<ipython-input-716-3c9c14478d34>\u001b[0m in \u001b[0;36minitialize\u001b[0;34m(self)\u001b[0m\n\u001b[1;32m      5\u001b[0m \u001b[0;34m\u001b[0m\u001b[0m\n\u001b[1;32m      6\u001b[0m     \u001b[0;32mdef\u001b[0m \u001b[0minitialize\u001b[0m\u001b[0;34m(\u001b[0m\u001b[0mself\u001b[0m\u001b[0;34m)\u001b[0m\u001b[0;34m:\u001b[0m\u001b[0;34m\u001b[0m\u001b[0;34m\u001b[0m\u001b[0m\n\u001b[0;32m----> 7\u001b[0;31m         \u001b[0mself\u001b[0m\u001b[0;34m.\u001b[0m\u001b[0mP\u001b[0m \u001b[0;34m=\u001b[0m \u001b[0mPhytoplankton\u001b[0m\u001b[0;34m(\u001b[0m\u001b[0;34m)\u001b[0m\u001b[0;34m\u001b[0m\u001b[0;34m\u001b[0m\u001b[0m\n\u001b[0m",
      "\u001b[0;31mTypeError\u001b[0m: __init__() missing 5 required keyword-only arguments: 'num_other', 'label', 'labels', 'init', and 'num'"
     ]
    }
   ],
   "source": [
    "Aggregate().initialize()"
   ]
  },
  {
   "cell_type": "code",
   "execution_count": 705,
   "metadata": {},
   "outputs": [],
   "source": [
    "@xs.process\n",
    "class ModelSolver:\n",
    "    components = xs.foreign(ChemostatSetup,'num_components')\n",
    "    \n",
    "    labels = xs.foreign(ChemostatSetup,'labels')\n",
    "    init = xs.foreign(ChemostatSetup,'init')\n",
    "    \n",
    "    fluxes = xs.group('flux')\n",
    "    fluxes_flat = xs.variable(dims=('components'),intent='out')\n",
    "    \n",
    "    state = xs.variable(dims=('components'),intent='out')\n",
    "    outflux = xs.variable(dims=('components'),intent='out')\n",
    "    \n",
    "    def initialize(self):\n",
    "        '---Model Solver init---'\n",
    "        self.out = self.init\n",
    "        print('init:',self.out)\n",
    "        self.time = 0\n",
    "        print('time:',self.time)\n",
    "        \n",
    "        print('labels')\n",
    "        print(self.labels)\n",
    "        print('fluxes_flat')\n",
    "        #print(self.fluxes)\n",
    "        self.fluxes_flat = np.concatenate([flux for flux in self.fluxes], axis=None)\n",
    "        print(self.fluxes_flat)\n",
    "        #print([flux for flux in self.fluxes_flat])\n",
    "\n",
    "        self.state = {label: val for label, val in zip(self.labels, self.init)}\n",
    "        \n",
    "        self.funcs = {\n",
    "            label: flux for label, flux in zip(self.labels, self.fluxes_flat)\n",
    "        }\n",
    "        \n",
    "        print('state', self.state)\n",
    "        print('funcs', self.funcs)\n",
    "\n",
    "    @xs.runtime(args='step_delta')\n",
    "    def run_step(self,dt):\n",
    "        # need to convert fluxes to correct time step with dt\n",
    "        self.outflux = [self.funcs[label](self.state, self.time) for label in self.labels] * dt\n",
    "        # keep track of timestep for forcing (+ other time dep. processes)\n",
    "        self.time += dt\n",
    "    \n",
    "    def finalize_step(self):\n",
    "        self.state = {label: self.state[label] + self.outflux[i] for label, i in zip(self.labels, range(self.components))} \n",
    "        print(self.state)"
   ]
  },
  {
   "cell_type": "code",
   "execution_count": null,
   "metadata": {},
   "outputs": [],
   "source": []
  },
  {
   "cell_type": "code",
   "execution_count": null,
   "metadata": {},
   "outputs": [],
   "source": []
  },
  {
   "cell_type": "code",
   "execution_count": 706,
   "metadata": {},
   "outputs": [],
   "source": [
    "chemostatModelSetup = xs.Model({'NS':NumberSetup, 'MS':ChemostatSetup, 'Nut':Nutrients, 'Phyto':Phytoplankton, 'ModelSolve':ModelSolver})"
   ]
  },
  {
   "cell_type": "code",
   "execution_count": 707,
   "metadata": {},
   "outputs": [],
   "source": [
    "# this is one way to create an lmfit.Parameter object:\n",
    "parameters = Parameters()\n",
    "\n",
    "parameters.add('NS__num_nuts', value=1,  vary=False)\n",
    "parameters.add('NS__num_phyto', value=2, vary=False)\n",
    "\n",
    "parameters.add('NS__N_init', value=1,  vary=False)\n",
    "parameters.add('NS__P_init', value=0.1, vary=False)\n",
    "\n",
    "parameters.add('NS__N_inputconc', value=2,  vary=False)\n",
    "parameters.add('NS__flowrate', value=0.2,  vary=False)\n",
    "parameters.add('NS__halfsat', value=0.5,  vary=False)"
   ]
  },
  {
   "cell_type": "code",
   "execution_count": 708,
   "metadata": {},
   "outputs": [],
   "source": [
    "def parameterDict2Input_vars(params):\n",
    "    return {key : value for key, value in params.valuesdict().items()} "
   ]
  },
  {
   "cell_type": "code",
   "execution_count": 709,
   "metadata": {},
   "outputs": [
    {
     "data": {
      "text/plain": [
       "{'NS__num_nuts': 1,\n",
       " 'NS__num_phyto': 2,\n",
       " 'NS__N_init': 1,\n",
       " 'NS__P_init': 0.1,\n",
       " 'NS__N_inputconc': 2,\n",
       " 'NS__flowrate': 0.2,\n",
       " 'NS__halfsat': 0.5}"
      ]
     },
     "execution_count": 709,
     "metadata": {},
     "output_type": "execute_result"
    }
   ],
   "source": [
    "parameterDict2Input_vars(parameters)"
   ]
  },
  {
   "cell_type": "code",
   "execution_count": 710,
   "metadata": {},
   "outputs": [],
   "source": [
    "chemostatModelSetup_in = xs.create_setup(\n",
    " model=chemostatModelSetup,\n",
    "    clocks={\n",
    "         'time': np.arange(0,5)\n",
    "     },\n",
    "    input_vars=\n",
    "    parameterDict2Input_vars(parameters)\n",
    ")"
   ]
  },
  {
   "cell_type": "code",
   "execution_count": 711,
   "metadata": {},
   "outputs": [
    {
     "data": {
      "text/plain": [
       "[(<zip at 0x11c82d340>,), (<zip at 0x11c837a80>,)]"
      ]
     },
     "execution_count": 711,
     "metadata": {},
     "output_type": "execute_result"
    }
   ],
   "source": [
    "[x for x in zip(b)]"
   ]
  },
  {
   "cell_type": "code",
   "execution_count": 712,
   "metadata": {},
   "outputs": [
    {
     "name": "stdout",
     "output_type": "stream",
     "text": [
      "[(0, <zip object at 0x11c840cc0>), (1, <zip object at 0x11c862b80>)]\n"
     ]
    }
   ],
   "source": [
    "a = [0,1,2]\n",
    "b = [zip(['a1']),zip(['b1','b2'])]\n",
    "print([(a,b) for a,b in zip(a,np.concatenate(b, axis=None))])"
   ]
  },
  {
   "cell_type": "code",
   "execution_count": 713,
   "metadata": {},
   "outputs": [
    {
     "name": "stdout",
     "output_type": "stream",
     "text": [
      "---Modelsetup init---\n",
      "['N1'] ['P1', 'P2']\n",
      "['N1' 'P1' 'P2']\n",
      "[1.  0.1 0.1]\n",
      "init: [1.  0.1 0.1]\n",
      "time: 0\n",
      "labels\n",
      "['N1' 'P1' 'P2']\n",
      "fluxes_flat\n",
      "[<bound method Nutrients._flux of <Nutrients 'Nut' (xsimlab process)>\n",
      "Variables:\n",
      "    flux       [out] ODE expression of component\n",
      "    label       [in] <--- MS.n_label\n",
      "    labels      [in] <--- MS.labels\n",
      "    init        [in] <--- MS.init\n",
      "    num         [in] <--- NS.num_nuts\n",
      "Simulation stages:\n",
      "    initialize\n",
      ">\n",
      " <bound method Phytoplankton._flux of <Phytoplankton 'Phyto' (xsimlab process)>\n",
      "Variables:\n",
      "    flux         [out] ODE expression of component\n",
      "    num_other     [in] <--- NS.num_nuts\n",
      "    label         [in] <--- MS.p_label\n",
      "    labels        [in] <--- MS.labels\n",
      "    init          [in] <--- MS.init\n",
      "    num           [in] <--- NS.num_phyto\n",
      "Simulation stages:\n",
      "    initialize\n",
      ">\n",
      " <bound method Phytoplankton._flux of <Phytoplankton 'Phyto' (xsimlab process)>\n",
      "Variables:\n",
      "    flux         [out] ODE expression of component\n",
      "    num_other     [in] <--- NS.num_nuts\n",
      "    label         [in] <--- MS.p_label\n",
      "    labels        [in] <--- MS.labels\n",
      "    init          [in] <--- MS.init\n",
      "    num           [in] <--- NS.num_phyto\n",
      "Simulation stages:\n",
      "    initialize\n",
      ">]\n",
      "state {'N1': 1.0, 'P1': 0.1, 'P2': 0.1}\n",
      "funcs {'N1': <bound method Nutrients._flux of <Nutrients 'Nut' (xsimlab process)>\n",
      "Variables:\n",
      "    flux       [out] ODE expression of component\n",
      "    label       [in] <--- MS.n_label\n",
      "    labels      [in] <--- MS.labels\n",
      "    init        [in] <--- MS.init\n",
      "    num         [in] <--- NS.num_nuts\n",
      "Simulation stages:\n",
      "    initialize\n",
      ">, 'P1': <bound method Phytoplankton._flux of <Phytoplankton 'Phyto' (xsimlab process)>\n",
      "Variables:\n",
      "    flux         [out] ODE expression of component\n",
      "    num_other     [in] <--- NS.num_nuts\n",
      "    label         [in] <--- MS.p_label\n",
      "    labels        [in] <--- MS.labels\n",
      "    init          [in] <--- MS.init\n",
      "    num           [in] <--- NS.num_phyto\n",
      "Simulation stages:\n",
      "    initialize\n",
      ">, 'P2': <bound method Phytoplankton._flux of <Phytoplankton 'Phyto' (xsimlab process)>\n",
      "Variables:\n",
      "    flux         [out] ODE expression of component\n",
      "    num_other     [in] <--- NS.num_nuts\n",
      "    label         [in] <--- MS.p_label\n",
      "    labels        [in] <--- MS.labels\n",
      "    init          [in] <--- MS.init\n",
      "    num           [in] <--- NS.num_phyto\n",
      "Simulation stages:\n",
      "    initialize\n",
      ">}\n",
      "Nut flux calc {'N1': 1.0, 'P1': 0.1, 'P2': 0.1} ['N1']\n"
     ]
    },
    {
     "ename": "TypeError",
     "evalue": "unhashable type: 'list'",
     "output_type": "error",
     "traceback": [
      "\u001b[0;31m---------------------------------------------------------------------------\u001b[0m",
      "\u001b[0;31mTypeError\u001b[0m                                 Traceback (most recent call last)",
      "\u001b[0;32m<ipython-input-713-e38862bbe27d>\u001b[0m in \u001b[0;36m<module>\u001b[0;34m\u001b[0m\n\u001b[0;32m----> 1\u001b[0;31m \u001b[0mout\u001b[0m \u001b[0;34m=\u001b[0m \u001b[0mchemostatModelSetup_in\u001b[0m\u001b[0;34m.\u001b[0m\u001b[0mxsimlab\u001b[0m\u001b[0;34m.\u001b[0m\u001b[0mrun\u001b[0m\u001b[0;34m(\u001b[0m\u001b[0mmodel\u001b[0m\u001b[0;34m=\u001b[0m\u001b[0mchemostatModelSetup\u001b[0m\u001b[0;34m)\u001b[0m\u001b[0;34m\u001b[0m\u001b[0;34m\u001b[0m\u001b[0m\n\u001b[0m",
      "\u001b[0;32m~/opt/anaconda3/envs/xsimlab/lib/python3.8/site-packages/xsimlab/xr_accessor.py\u001b[0m in \u001b[0;36mrun\u001b[0;34m(self, model, check_dims, validate, hooks, safe_mode)\u001b[0m\n\u001b[1;32m    621\u001b[0m         )\n\u001b[1;32m    622\u001b[0m \u001b[0;34m\u001b[0m\u001b[0m\n\u001b[0;32m--> 623\u001b[0;31m         \u001b[0;32mreturn\u001b[0m \u001b[0mdriver\u001b[0m\u001b[0;34m.\u001b[0m\u001b[0mrun_model\u001b[0m\u001b[0;34m(\u001b[0m\u001b[0;34m)\u001b[0m\u001b[0;34m\u001b[0m\u001b[0;34m\u001b[0m\u001b[0m\n\u001b[0m\u001b[1;32m    624\u001b[0m \u001b[0;34m\u001b[0m\u001b[0m\n\u001b[1;32m    625\u001b[0m     \u001b[0;32mdef\u001b[0m \u001b[0mrun_multi\u001b[0m\u001b[0;34m(\u001b[0m\u001b[0mself\u001b[0m\u001b[0;34m)\u001b[0m\u001b[0;34m:\u001b[0m\u001b[0;34m\u001b[0m\u001b[0;34m\u001b[0m\u001b[0m\n",
      "\u001b[0;32m~/opt/anaconda3/envs/xsimlab/lib/python3.8/site-packages/xsimlab/drivers.py\u001b[0m in \u001b[0;36mrun_model\u001b[0;34m(self)\u001b[0m\n\u001b[1;32m    468\u001b[0m             \u001b[0mself\u001b[0m\u001b[0;34m.\u001b[0m\u001b[0m_maybe_validate_inputs\u001b[0m\u001b[0;34m(\u001b[0m\u001b[0min_vars\u001b[0m\u001b[0;34m)\u001b[0m\u001b[0;34m\u001b[0m\u001b[0;34m\u001b[0m\u001b[0m\n\u001b[1;32m    469\u001b[0m \u001b[0;34m\u001b[0m\u001b[0m\n\u001b[0;32m--> 470\u001b[0;31m             self.model.execute(\n\u001b[0m\u001b[1;32m    471\u001b[0m                 \u001b[0;34m\"run_step\"\u001b[0m\u001b[0;34m,\u001b[0m \u001b[0mruntime_context\u001b[0m\u001b[0;34m,\u001b[0m \u001b[0mhooks\u001b[0m\u001b[0;34m=\u001b[0m\u001b[0mself\u001b[0m\u001b[0;34m.\u001b[0m\u001b[0m_hooks\u001b[0m\u001b[0;34m,\u001b[0m \u001b[0mvalidate\u001b[0m\u001b[0;34m=\u001b[0m\u001b[0mvalidate_all\u001b[0m\u001b[0;34m,\u001b[0m\u001b[0;34m\u001b[0m\u001b[0;34m\u001b[0m\u001b[0m\n\u001b[1;32m    472\u001b[0m             )\n",
      "\u001b[0;32m~/opt/anaconda3/envs/xsimlab/lib/python3.8/site-packages/xsimlab/model.py\u001b[0m in \u001b[0;36mexecute\u001b[0;34m(self, stage, runtime_context, hooks, validate)\u001b[0m\n\u001b[1;32m    609\u001b[0m \u001b[0;34m\u001b[0m\u001b[0m\n\u001b[1;32m    610\u001b[0m             \u001b[0mself\u001b[0m\u001b[0;34m.\u001b[0m\u001b[0m_call_hooks\u001b[0m\u001b[0;34m(\u001b[0m\u001b[0mhooks\u001b[0m\u001b[0;34m,\u001b[0m \u001b[0mruntime_context\u001b[0m\u001b[0;34m,\u001b[0m \u001b[0mstage\u001b[0m\u001b[0;34m,\u001b[0m \u001b[0;34m\"process\"\u001b[0m\u001b[0;34m,\u001b[0m \u001b[0;34m\"pre\"\u001b[0m\u001b[0;34m)\u001b[0m\u001b[0;34m\u001b[0m\u001b[0;34m\u001b[0m\u001b[0m\n\u001b[0;32m--> 611\u001b[0;31m             \u001b[0mexecutor\u001b[0m\u001b[0;34m.\u001b[0m\u001b[0mexecute\u001b[0m\u001b[0;34m(\u001b[0m\u001b[0mp_obj\u001b[0m\u001b[0;34m,\u001b[0m \u001b[0mstage\u001b[0m\u001b[0;34m,\u001b[0m \u001b[0mruntime_context\u001b[0m\u001b[0;34m)\u001b[0m\u001b[0;34m\u001b[0m\u001b[0;34m\u001b[0m\u001b[0m\n\u001b[0m\u001b[1;32m    612\u001b[0m             \u001b[0mself\u001b[0m\u001b[0;34m.\u001b[0m\u001b[0m_call_hooks\u001b[0m\u001b[0;34m(\u001b[0m\u001b[0mhooks\u001b[0m\u001b[0;34m,\u001b[0m \u001b[0mruntime_context\u001b[0m\u001b[0;34m,\u001b[0m \u001b[0mstage\u001b[0m\u001b[0;34m,\u001b[0m \u001b[0;34m\"process\"\u001b[0m\u001b[0;34m,\u001b[0m \u001b[0;34m\"post\"\u001b[0m\u001b[0;34m)\u001b[0m\u001b[0;34m\u001b[0m\u001b[0;34m\u001b[0m\u001b[0m\n\u001b[1;32m    613\u001b[0m \u001b[0;34m\u001b[0m\u001b[0m\n",
      "\u001b[0;32m~/opt/anaconda3/envs/xsimlab/lib/python3.8/site-packages/xsimlab/process.py\u001b[0m in \u001b[0;36mexecute\u001b[0;34m(self, obj, stage, runtime_context)\u001b[0m\n\u001b[1;32m    383\u001b[0m             \u001b[0;32mreturn\u001b[0m \u001b[0;32mNone\u001b[0m\u001b[0;34m\u001b[0m\u001b[0;34m\u001b[0m\u001b[0m\n\u001b[1;32m    384\u001b[0m         \u001b[0;32melse\u001b[0m\u001b[0;34m:\u001b[0m\u001b[0;34m\u001b[0m\u001b[0;34m\u001b[0m\u001b[0m\n\u001b[0;32m--> 385\u001b[0;31m             \u001b[0;32mreturn\u001b[0m \u001b[0mexecutor\u001b[0m\u001b[0;34m.\u001b[0m\u001b[0mexecute\u001b[0m\u001b[0;34m(\u001b[0m\u001b[0mobj\u001b[0m\u001b[0;34m,\u001b[0m \u001b[0mruntime_context\u001b[0m\u001b[0;34m)\u001b[0m\u001b[0;34m\u001b[0m\u001b[0;34m\u001b[0m\u001b[0m\n\u001b[0m\u001b[1;32m    386\u001b[0m \u001b[0;34m\u001b[0m\u001b[0m\n\u001b[1;32m    387\u001b[0m \u001b[0;34m\u001b[0m\u001b[0m\n",
      "\u001b[0;32m~/opt/anaconda3/envs/xsimlab/lib/python3.8/site-packages/xsimlab/process.py\u001b[0m in \u001b[0;36mexecute\u001b[0;34m(self, obj, runtime_context)\u001b[0m\n\u001b[1;32m    280\u001b[0m         \u001b[0margs\u001b[0m \u001b[0;34m=\u001b[0m \u001b[0;34m[\u001b[0m\u001b[0mruntime_context\u001b[0m\u001b[0;34m[\u001b[0m\u001b[0mk\u001b[0m\u001b[0;34m]\u001b[0m \u001b[0;32mfor\u001b[0m \u001b[0mk\u001b[0m \u001b[0;32min\u001b[0m \u001b[0mself\u001b[0m\u001b[0;34m.\u001b[0m\u001b[0margs\u001b[0m\u001b[0;34m]\u001b[0m\u001b[0;34m\u001b[0m\u001b[0;34m\u001b[0m\u001b[0m\n\u001b[1;32m    281\u001b[0m \u001b[0;34m\u001b[0m\u001b[0m\n\u001b[0;32m--> 282\u001b[0;31m         \u001b[0;32mreturn\u001b[0m \u001b[0mself\u001b[0m\u001b[0;34m.\u001b[0m\u001b[0mmeth\u001b[0m\u001b[0;34m(\u001b[0m\u001b[0mobj\u001b[0m\u001b[0;34m,\u001b[0m \u001b[0;34m*\u001b[0m\u001b[0margs\u001b[0m\u001b[0;34m)\u001b[0m\u001b[0;34m\u001b[0m\u001b[0;34m\u001b[0m\u001b[0m\n\u001b[0m\u001b[1;32m    283\u001b[0m \u001b[0;34m\u001b[0m\u001b[0m\n\u001b[1;32m    284\u001b[0m \u001b[0;34m\u001b[0m\u001b[0m\n",
      "\u001b[0;32m<ipython-input-705-5f8958dc4b8b>\u001b[0m in \u001b[0;36mrun_step\u001b[0;34m(self, dt)\u001b[0m\n\u001b[1;32m     39\u001b[0m     \u001b[0;32mdef\u001b[0m \u001b[0mrun_step\u001b[0m\u001b[0;34m(\u001b[0m\u001b[0mself\u001b[0m\u001b[0;34m,\u001b[0m\u001b[0mdt\u001b[0m\u001b[0;34m)\u001b[0m\u001b[0;34m:\u001b[0m\u001b[0;34m\u001b[0m\u001b[0;34m\u001b[0m\u001b[0m\n\u001b[1;32m     40\u001b[0m         \u001b[0;31m# need to convert fluxes to correct time step with dt\u001b[0m\u001b[0;34m\u001b[0m\u001b[0;34m\u001b[0m\u001b[0;34m\u001b[0m\u001b[0m\n\u001b[0;32m---> 41\u001b[0;31m         \u001b[0mself\u001b[0m\u001b[0;34m.\u001b[0m\u001b[0moutflux\u001b[0m \u001b[0;34m=\u001b[0m \u001b[0;34m[\u001b[0m\u001b[0mself\u001b[0m\u001b[0;34m.\u001b[0m\u001b[0mfuncs\u001b[0m\u001b[0;34m[\u001b[0m\u001b[0mlabel\u001b[0m\u001b[0;34m]\u001b[0m\u001b[0;34m(\u001b[0m\u001b[0mself\u001b[0m\u001b[0;34m.\u001b[0m\u001b[0mstate\u001b[0m\u001b[0;34m,\u001b[0m \u001b[0mself\u001b[0m\u001b[0;34m.\u001b[0m\u001b[0mtime\u001b[0m\u001b[0;34m)\u001b[0m \u001b[0;32mfor\u001b[0m \u001b[0mlabel\u001b[0m \u001b[0;32min\u001b[0m \u001b[0mself\u001b[0m\u001b[0;34m.\u001b[0m\u001b[0mlabels\u001b[0m\u001b[0;34m]\u001b[0m \u001b[0;34m*\u001b[0m \u001b[0mdt\u001b[0m\u001b[0;34m\u001b[0m\u001b[0;34m\u001b[0m\u001b[0m\n\u001b[0m\u001b[1;32m     42\u001b[0m         \u001b[0;31m# keep track of timestep for forcing (+ other time dep. processes)\u001b[0m\u001b[0;34m\u001b[0m\u001b[0;34m\u001b[0m\u001b[0;34m\u001b[0m\u001b[0m\n\u001b[1;32m     43\u001b[0m         \u001b[0mself\u001b[0m\u001b[0;34m.\u001b[0m\u001b[0mtime\u001b[0m \u001b[0;34m+=\u001b[0m \u001b[0mdt\u001b[0m\u001b[0;34m\u001b[0m\u001b[0;34m\u001b[0m\u001b[0m\n",
      "\u001b[0;32m<ipython-input-705-5f8958dc4b8b>\u001b[0m in \u001b[0;36m<listcomp>\u001b[0;34m(.0)\u001b[0m\n\u001b[1;32m     39\u001b[0m     \u001b[0;32mdef\u001b[0m \u001b[0mrun_step\u001b[0m\u001b[0;34m(\u001b[0m\u001b[0mself\u001b[0m\u001b[0;34m,\u001b[0m\u001b[0mdt\u001b[0m\u001b[0;34m)\u001b[0m\u001b[0;34m:\u001b[0m\u001b[0;34m\u001b[0m\u001b[0;34m\u001b[0m\u001b[0m\n\u001b[1;32m     40\u001b[0m         \u001b[0;31m# need to convert fluxes to correct time step with dt\u001b[0m\u001b[0;34m\u001b[0m\u001b[0;34m\u001b[0m\u001b[0;34m\u001b[0m\u001b[0m\n\u001b[0;32m---> 41\u001b[0;31m         \u001b[0mself\u001b[0m\u001b[0;34m.\u001b[0m\u001b[0moutflux\u001b[0m \u001b[0;34m=\u001b[0m \u001b[0;34m[\u001b[0m\u001b[0mself\u001b[0m\u001b[0;34m.\u001b[0m\u001b[0mfuncs\u001b[0m\u001b[0;34m[\u001b[0m\u001b[0mlabel\u001b[0m\u001b[0;34m]\u001b[0m\u001b[0;34m(\u001b[0m\u001b[0mself\u001b[0m\u001b[0;34m.\u001b[0m\u001b[0mstate\u001b[0m\u001b[0;34m,\u001b[0m \u001b[0mself\u001b[0m\u001b[0;34m.\u001b[0m\u001b[0mtime\u001b[0m\u001b[0;34m)\u001b[0m \u001b[0;32mfor\u001b[0m \u001b[0mlabel\u001b[0m \u001b[0;32min\u001b[0m \u001b[0mself\u001b[0m\u001b[0;34m.\u001b[0m\u001b[0mlabels\u001b[0m\u001b[0;34m]\u001b[0m \u001b[0;34m*\u001b[0m \u001b[0mdt\u001b[0m\u001b[0;34m\u001b[0m\u001b[0;34m\u001b[0m\u001b[0m\n\u001b[0m\u001b[1;32m     42\u001b[0m         \u001b[0;31m# keep track of timestep for forcing (+ other time dep. processes)\u001b[0m\u001b[0;34m\u001b[0m\u001b[0;34m\u001b[0m\u001b[0;34m\u001b[0m\u001b[0m\n\u001b[1;32m     43\u001b[0m         \u001b[0mself\u001b[0m\u001b[0;34m.\u001b[0m\u001b[0mtime\u001b[0m \u001b[0;34m+=\u001b[0m \u001b[0mdt\u001b[0m\u001b[0;34m\u001b[0m\u001b[0;34m\u001b[0m\u001b[0m\n",
      "\u001b[0;32m<ipython-input-704-7cc80f5fa23f>\u001b[0m in \u001b[0;36m_flux\u001b[0;34m(self, *args)\u001b[0m\n\u001b[1;32m     32\u001b[0m         \u001b[0mstate\u001b[0m\u001b[0;34m,\u001b[0m\u001b[0mtime\u001b[0m \u001b[0;34m=\u001b[0m \u001b[0margs\u001b[0m\u001b[0;34m\u001b[0m\u001b[0;34m\u001b[0m\u001b[0m\n\u001b[1;32m     33\u001b[0m         \u001b[0mprint\u001b[0m\u001b[0;34m(\u001b[0m\u001b[0;34m'Nut flux calc'\u001b[0m\u001b[0;34m,\u001b[0m \u001b[0mstate\u001b[0m\u001b[0;34m,\u001b[0m \u001b[0mself\u001b[0m\u001b[0;34m.\u001b[0m\u001b[0mlabel\u001b[0m\u001b[0;34m)\u001b[0m\u001b[0;34m\u001b[0m\u001b[0;34m\u001b[0m\u001b[0m\n\u001b[0;32m---> 34\u001b[0;31m         \u001b[0;32mreturn\u001b[0m\u001b[0;34m(\u001b[0m\u001b[0mstate\u001b[0m\u001b[0;34m[\u001b[0m\u001b[0mself\u001b[0m\u001b[0;34m.\u001b[0m\u001b[0mlabel\u001b[0m\u001b[0;34m]\u001b[0m\u001b[0;34m)\u001b[0m\u001b[0;34m\u001b[0m\u001b[0;34m\u001b[0m\u001b[0m\n\u001b[0m\u001b[1;32m     35\u001b[0m \u001b[0;34m\u001b[0m\u001b[0m\n\u001b[1;32m     36\u001b[0m     \u001b[0;31m#def initialize(self):\u001b[0m\u001b[0;34m\u001b[0m\u001b[0;34m\u001b[0m\u001b[0;34m\u001b[0m\u001b[0m\n",
      "\u001b[0;31mTypeError\u001b[0m: unhashable type: 'list'"
     ]
    }
   ],
   "source": [
    "out = chemostatModelSetup_in.xsimlab.run(model=chemostatModelSetup)"
   ]
  },
  {
   "cell_type": "code",
   "execution_count": 551,
   "metadata": {},
   "outputs": [
    {
     "data": {
      "text/html": [
       "<pre>&lt;xarray.Dataset&gt;\n",
       "Dimensions:          (time: 5)\n",
       "Coordinates:\n",
       "  * time             (time) int64 0 1 2 3 4\n",
       "Data variables:\n",
       "    NS__num_nuts     int64 1\n",
       "    NS__num_phyto    int64 2\n",
       "    NS__N_init       int64 1\n",
       "    NS__P_init       float64 0.1\n",
       "    NS__N_inputconc  int64 2\n",
       "    NS__flowrate     float64 0.2\n",
       "    NS__halfsat      float64 0.5</pre>"
      ],
      "text/plain": [
       "<xarray.Dataset>\n",
       "Dimensions:          (time: 5)\n",
       "Coordinates:\n",
       "  * time             (time) int64 0 1 2 3 4\n",
       "Data variables:\n",
       "    NS__num_nuts     int64 1\n",
       "    NS__num_phyto    int64 2\n",
       "    NS__N_init       int64 1\n",
       "    NS__P_init       float64 0.1\n",
       "    NS__N_inputconc  int64 2\n",
       "    NS__flowrate     float64 0.2\n",
       "    NS__halfsat      float64 0.5"
      ]
     },
     "execution_count": 551,
     "metadata": {},
     "output_type": "execute_result"
    }
   ],
   "source": [
    "out"
   ]
  },
  {
   "cell_type": "code",
   "execution_count": null,
   "metadata": {},
   "outputs": [],
   "source": []
  },
  {
   "cell_type": "code",
   "execution_count": null,
   "metadata": {},
   "outputs": [],
   "source": []
  },
  {
   "cell_type": "markdown",
   "metadata": {},
   "source": [
    "# NEW 2nd TRY BELOW HERE"
   ]
  },
  {
   "cell_type": "code",
   "execution_count": 429,
   "metadata": {},
   "outputs": [],
   "source": [
    "# NEW TRY: Let's keep all states in seperate object, that can then be called by each other process\n",
    "#so that they can interact without a problem!\n",
    "\n",
    "#ACTUALLY: i can do the same just by having a \"LabelKeeper\" object (This takes all the number and label setup stuff)\n",
    "\n"
   ]
  },
  {
   "cell_type": "markdown",
   "metadata": {},
   "source": [
    "# WHAT I LEARNED FROM PREVIOUS TRY:\n",
    "\n",
    "- I need to have it implemented so that each flux corresponds to one object that conatins it's own label\n",
    "- this can either be done by moving the class structure for (Phytoplankton, etc. ) outside of the processes and instantiating multiple instances per \"Bulk\" class with flux\n",
    "\n",
    "OR, and I think this is better;\n",
    "\n",
    "- by passing multiple classes to each xs.Model() call, like {'P1':Phytoplankton,'P2':Phytoplankton,'P3':Phytoplankton}\n",
    "\n",
    "- then there is one way to set common params (which are handled by bulk phyto class, so I can give all the same or specify each one)\n",
    "- for a size-spectral model, it would be enough to pass one class like {'Phyto':AllometricSizePhyto}"
   ]
  },
  {
   "cell_type": "code",
   "execution_count": 4,
   "metadata": {},
   "outputs": [],
   "source": [
    "@xs.process\n",
    "class ChemostatParameters:\n",
    "    N_init = xs.variable(intent='in')\n",
    "    P_init = xs.variable(intent='in')      \n",
    "\n",
    "    N_inputconc = xs.variable(intent='in', groups='input', static=True)\n",
    "    flowrate = xs.variable(intent='in', groups='parameter', static=True)\n",
    "    halfsat = xs.variable(intent='in', groups='parameter', static=True)        "
   ]
  },
  {
   "cell_type": "code",
   "execution_count": 39,
   "metadata": {},
   "outputs": [],
   "source": [
    "@xs.process\n",
    "class Component:\n",
    "    num = xs.variable(intent='out')\n",
    "    label = xs.variable(intent='out', groups='label')\n",
    "    flux = xs.variable(intent='out', groups='flux', description='ODE expression of component')\n",
    "    init = xs.variable(intent='out', groups='init')\n",
    "    \n",
    "    def _flux(self, state, time):\n",
    "        \"\"\"\n",
    "        Parameters\n",
    "        ----------\n",
    "        state : dict\n",
    "            Keys are ecosystem component labels and values are\n",
    "            concentrations at current time.\n",
    "        time : float\n",
    "            Current time.\n",
    "        \"\"\"\n",
    "        # must be implemented in subclasses\n",
    "        raise NotImplementedError\n",
    "        \n",
    "    def initialize(self):\n",
    "        # this is a hack, ideally I would like to have some variable keeping track of all initialized components, but within each component in order\n",
    "        global component_num\n",
    "        \n",
    "        self.num = component_num\n",
    "        self.label = self.component_label + str(self.num)\n",
    "        \n",
    "        component_num += 1\n",
    "        \n",
    "        self.init = self.initVal\n",
    "        self.flux = self._flux"
   ]
  },
  {
   "cell_type": "code",
   "execution_count": 107,
   "metadata": {},
   "outputs": [
    {
     "data": {
      "text/plain": [
       "[1, 2]"
      ]
     },
     "execution_count": 107,
     "metadata": {},
     "output_type": "execute_result"
    }
   ],
   "source": [
    "a = {'A':1, 'B':2}\n",
    "b = ['A','B']\n",
    "[a[label] for label in b]"
   ]
  },
  {
   "cell_type": "code",
   "execution_count": 117,
   "metadata": {},
   "outputs": [],
   "source": [
    "@xs.process\n",
    "class Nutrient(Component):\n",
    "    component_label = xs.variable(default='N')\n",
    "    initVal = xs.foreign(ChemostatParameters, 'N_init')\n",
    "    \n",
    "    N_inputconc = xs.foreign(ChemostatParameters, 'N_inputconc')\n",
    "    flowrate = xs.foreign(ChemostatParameters, 'flowrate')\n",
    "    halfsat = xs.foreign(ChemostatParameters, 'halfsat')\n",
    "    \n",
    "    def _flux(self, *args):\n",
    "        state, time, labels = args\n",
    "        P_labels = [plabel for plabel in labels if plabel[0] == 'P']\n",
    "        Ps = sum([state[plabel] for plabel in P_labels])\n",
    "        N = state[self.label]\n",
    "        \n",
    "        return(\n",
    "        self.N_inputconc * self.flowrate - N / (N + self.halfsat) * Ps - self.flowrate * N\n",
    "        )\n",
    "\n",
    "@xs.process\n",
    "class Phytoplankton(Component):\n",
    "    component_label = xs.variable(default='P')\n",
    "    initVal = xs.foreign(ChemostatParameters, 'P_init')\n",
    "    \n",
    "    N_inputconc = xs.foreign(ChemostatParameters, 'N_inputconc')\n",
    "    flowrate = xs.foreign(ChemostatParameters, 'flowrate')\n",
    "    halfsat = xs.foreign(ChemostatParameters, 'halfsat')\n",
    "    \n",
    "    def _flux(self, *args):\n",
    "        state, time, labels = args\n",
    "        N_labels = [nlabel for nlabel in labels if nlabel[0] == 'N']\n",
    "        Ns = sum([state[nlabel] for nlabel in N_labels])\n",
    "        P = state[self.label]\n",
    "        \n",
    "        return( \n",
    "        Ns / (Ns + self.halfsat) * P - self.flowrate * P\n",
    "        )\n",
    "# dPdt = nutuptake * P - flow * P\n",
    "    \n",
    "# dNdt = flow * N0 - nutuptake * P  - flow * N"
   ]
  },
  {
   "cell_type": "code",
   "execution_count": 203,
   "metadata": {},
   "outputs": [],
   "source": [
    "@xs.process\n",
    "class ModelSolver:\n",
    "    labels = xs.group('label')\n",
    "    init = xs.group('init')\n",
    "    \n",
    "    fluxes = xs.group('flux')\n",
    " \n",
    "    component = xs.variable(dims=('component'), intent='out')\n",
    "    \n",
    "    state = xs.variable(dims=('component'),intent='out')\n",
    "    stateout = xs.variable(dims=('component'),intent='out')\n",
    "    outflux = xs.variable(dims=('component'),intent='out')\n",
    "    \n",
    "    def initialize(self):\n",
    "        self.time = 0\n",
    "        self.state = {label: val for label, val in zip(self.labels, self.init)}\n",
    "        self.stateout = [self.state[label] for label in self.labels]\n",
    "        self.funcs = {label: flux for label, flux in zip(self.labels, self.fluxes)}\n",
    "        \n",
    "        self.component = [i for i in self.labels]\n",
    "\n",
    "\n",
    "    @xs.runtime(args='step_delta')\n",
    "    def run_step(self,dt):\n",
    "        # need to convert fluxes to correct time step by multiplying by dt\n",
    "        self.outflux = {label : self.funcs[label](self.state, self.time, self.labels) * dt for label in self.labels}\n",
    "        # keep track of timestep for forcing (+ other time dep. processes)\n",
    "        self.time += dt\n",
    "    \n",
    "    def finalize_step(self):\n",
    "        self.state = {label : self.state[label] + self.outflux[label] for label in self.labels}\n",
    "        self.stateout = [self.state[label] for label in self.labels]\n",
    "        #print(self.state)"
   ]
  },
  {
   "cell_type": "code",
   "execution_count": 204,
   "metadata": {},
   "outputs": [],
   "source": [
    "# This should be the ideal setup way:\n",
    "flextestModelSetup = xs.Model({'MS':ChemostatParameters,\n",
    "                               'N1':Nutrient, \n",
    "                               'P1':Phytoplankton, 'P2':Phytoplankton, 'P3':Phytoplankton, \n",
    "                               'ModelSolver':ModelSolver})"
   ]
  },
  {
   "cell_type": "code",
   "execution_count": 205,
   "metadata": {},
   "outputs": [],
   "source": [
    "#flextestModelSetup.visualize(show_inputs=True, show_variables=True)"
   ]
  },
  {
   "cell_type": "code",
   "execution_count": 206,
   "metadata": {},
   "outputs": [],
   "source": [
    "# this is one way to create an lmfit.Parameter object:\n",
    "parameters = Parameters()\n",
    "\n",
    "parameters.add('MS__N_init', value=1,  vary=False)\n",
    "parameters.add('MS__P_init', value=0.1, vary=False)\n",
    "\n",
    "parameters.add('MS__N_inputconc', value=2,  vary=False)\n",
    "parameters.add('MS__flowrate', value=0.2,  vary=False)\n",
    "parameters.add('MS__halfsat', value=0.5,  vary=False)"
   ]
  },
  {
   "cell_type": "code",
   "execution_count": 207,
   "metadata": {},
   "outputs": [],
   "source": [
    "def parameterDict2Input_vars(params):\n",
    "    return {key : value for key, value in params.valuesdict().items()} "
   ]
  },
  {
   "cell_type": "code",
   "execution_count": 208,
   "metadata": {},
   "outputs": [
    {
     "data": {
      "text/plain": [
       "{'MS__N_init': 1,\n",
       " 'MS__P_init': 0.1,\n",
       " 'MS__N_inputconc': 2,\n",
       " 'MS__flowrate': 0.2,\n",
       " 'MS__halfsat': 0.5}"
      ]
     },
     "execution_count": 208,
     "metadata": {},
     "output_type": "execute_result"
    }
   ],
   "source": [
    "parameterDict2Input_vars(parameters)"
   ]
  },
  {
   "cell_type": "code",
   "execution_count": 209,
   "metadata": {},
   "outputs": [],
   "source": [
    "flextestModelSetup_in = xs.create_setup(\n",
    " model=flextestModelSetup,\n",
    "    clocks={\n",
    "         'time': np.linspace(0,20,1000)\n",
    "     },\n",
    "    \n",
    "    input_vars = parameterDict2Input_vars(parameters),\n",
    "    \n",
    "    output_vars={\n",
    "        'ModelSolver__component' : None,\n",
    "        'ModelSolver__stateout'  : 'time',\n",
    "        'ModelSolver__outflux': 'time'\n",
    "    }\n",
    "    \n",
    ")"
   ]
  },
  {
   "cell_type": "code",
   "execution_count": 217,
   "metadata": {},
   "outputs": [],
   "source": [
    "component_num = 1\n",
    "out = flextestModelSetup_in.xsimlab.run(model=flextestModelSetup)"
   ]
  },
  {
   "cell_type": "code",
   "execution_count": 223,
   "metadata": {},
   "outputs": [],
   "source": [
    "out2 = out.set_index(component='ModelSolver__component')"
   ]
  },
  {
   "cell_type": "code",
   "execution_count": 224,
   "metadata": {},
   "outputs": [
    {
     "data": {
      "text/html": [
       "<pre>&lt;xarray.Dataset&gt;\n",
       "Dimensions:                (component: 4, time: 1000)\n",
       "Coordinates:\n",
       "  * time                   (time) float64 0.0 0.02002 0.04004 ... 19.98 20.0\n",
       "  * component              (component) object &#x27;N1&#x27; &#x27;P2&#x27; &#x27;P3&#x27; &#x27;P4&#x27;\n",
       "Data variables:\n",
       "    N1__component_label    &lt;U1 &#x27;N&#x27;\n",
       "    P3__component_label    &lt;U1 &#x27;P&#x27;\n",
       "    P2__component_label    &lt;U1 &#x27;P&#x27;\n",
       "    P1__component_label    &lt;U1 &#x27;P&#x27;\n",
       "    MS__N_init             int64 1\n",
       "    MS__P_init             float64 0.1\n",
       "    MS__N_inputconc        int64 2\n",
       "    MS__flowrate           float64 0.2\n",
       "    MS__halfsat            float64 0.5\n",
       "    ModelSolver__stateout  (time, component) float64 1.0 0.1 ... 0.6204 0.6204\n",
       "    ModelSolver__outflux   (time) object {&#x27;N1&#x27;: 0.0, &#x27;P2&#x27;: 0.0009342676009342675, &#x27;P3&#x27;: 0.0009342676009342675, &#x27;P4&#x27;: 0.0009342676009342675} ... {&#x27;N1&#x27;: -4.753622309054897e-06, &#x27;P2&#x27;: 1.8627641981626635e-05, &#x27;P3&#x27;: 1.8627641981626635e-05, &#x27;P4&#x27;: 1.8627641981626635e-05}</pre>"
      ],
      "text/plain": [
       "<xarray.Dataset>\n",
       "Dimensions:                (component: 4, time: 1000)\n",
       "Coordinates:\n",
       "  * time                   (time) float64 0.0 0.02002 0.04004 ... 19.98 20.0\n",
       "  * component              (component) object 'N1' 'P2' 'P3' 'P4'\n",
       "Data variables:\n",
       "    N1__component_label    <U1 'N'\n",
       "    P3__component_label    <U1 'P'\n",
       "    P2__component_label    <U1 'P'\n",
       "    P1__component_label    <U1 'P'\n",
       "    MS__N_init             int64 1\n",
       "    MS__P_init             float64 0.1\n",
       "    MS__N_inputconc        int64 2\n",
       "    MS__flowrate           float64 0.2\n",
       "    MS__halfsat            float64 0.5\n",
       "    ModelSolver__stateout  (time, component) float64 1.0 0.1 ... 0.6204 0.6204\n",
       "    ModelSolver__outflux   (time) object {'N1': 0.0, 'P2': 0.0009342676009342675, 'P3': 0.0009342676009342675, 'P4': 0.0009342676009342675} ... {'N1': -4.753622309054897e-06, 'P2': 1.8627641981626635e-05, 'P3': 1.8627641981626635e-05, 'P4': 1.8627641981626635e-05}"
      ]
     },
     "execution_count": 224,
     "metadata": {},
     "output_type": "execute_result"
    }
   ],
   "source": [
    "out2"
   ]
  },
  {
   "cell_type": "code",
   "execution_count": 226,
   "metadata": {},
   "outputs": [
    {
     "data": {
      "text/plain": [
       "[<matplotlib.lines.Line2D at 0x1226e8070>,\n",
       " <matplotlib.lines.Line2D at 0x1226e8100>,\n",
       " <matplotlib.lines.Line2D at 0x1226e8250>,\n",
       " <matplotlib.lines.Line2D at 0x1226e8310>]"
      ]
     },
     "execution_count": 226,
     "metadata": {},
     "output_type": "execute_result"
    },
    {
     "data": {
      "image/png": "[encoded data removed]",
      "text/plain": [
       "<Figure size 1080x720 with 1 Axes>"
      ]
     },
     "metadata": {
      "needs_background": "light"
     },
     "output_type": "display_data"
    }
   ],
   "source": [
    "out2.ModelSolver__stateout.plot.line(x='time')"
   ]
  },
  {
   "cell_type": "code",
   "execution_count": null,
   "metadata": {},
   "outputs": [],
   "source": []
  }
 ],
 "metadata": {
  "kernelspec": {
   "display_name": "Python 3",
   "language": "python",
   "name": "python3"
  },
  "language_info": {
   "codemirror_mode": {
    "name": "ipython",
    "version": 3
   },
   "file_extension": ".py",
   "mimetype": "text/x-python",
   "name": "python",
   "nbconvert_exporter": "python",
   "pygments_lexer": "ipython3",
   "version": "3.8.2"
  }
 },
 "nbformat": 4,
 "nbformat_minor": 4
}
