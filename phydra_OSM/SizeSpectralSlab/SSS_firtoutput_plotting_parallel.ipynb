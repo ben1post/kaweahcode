{
 "cells": [
  {
   "cell_type": "code",
   "execution_count": 1,
   "metadata": {},
   "outputs": [
    {
     "name": "stdout",
     "output_type": "stream",
     "text": [
      "Huho\n"
     ]
    }
   ],
   "source": [
    "#from prototype2_SizeSlabModel import ASTroCATclone #, new_plot\n",
    "\n",
    "from prototype2_SizeSlabModel_Copy1 import ASTroCATclone as ASTroCATclone_Tropical #, new_plot"
   ]
  },
  {
   "cell_type": "code",
   "execution_count": 2,
   "metadata": {},
   "outputs": [],
   "source": [
    "import pickle\n",
    "filehandler = open('forcing_0_minus20.obj', 'rb') \n",
    "forx = pickle.load(filehandler)"
   ]
  },
  {
   "cell_type": "code",
   "execution_count": 3,
   "metadata": {},
   "outputs": [],
   "source": [
    "import numpy as np\n",
    "import xarray as xr\n",
    "import xsimlab as xs\n",
    "from scipy.integrate import odeint\n",
    "import matplotlib.pyplot as plt"
   ]
  },
  {
   "cell_type": "code",
   "execution_count": 4,
   "metadata": {},
   "outputs": [],
   "source": [
    "# RUN 67\n",
    "\n",
    "model_in = xs.create_setup(\n",
    "        model=ASTroCATclone_Tropical,\n",
    "    clocks={\n",
    "         'time': np.linspace(1,365*15,365*15*60)  # 10*365,10*365*9)\n",
    "     },\n",
    "    input_vars={\n",
    "        'N__initVal':1,    # inital Nutrient amount\n",
    "        'N__supplyrate':5, # nutrient supply rate\n",
    "        \n",
    "        'P__initVal': 1,   # inital total biomass of Phytoplankton\n",
    "        'P__PMinEsd': .5,   # minimal Phytoplankton Size Spectral range\n",
    "        'P__PMaxEsd': 50,  # minimal Phytoplankton Size Spectral range\n",
    "        'P__NP': 20,       # number of Phytoplankton Types (=num of Zooplankton Types)\n",
    "        'P__m': .01,        # mortality rate of Phytoplankton\n",
    "        'P__kw': 0.4,\n",
    "        'P__kc': 0.3,\n",
    "        'P__OptI':20,\n",
    "        \n",
    "        'Z__initVal': 1,   # inital total biomass of Zooplankton\n",
    "        'Z__zeta': .1,      # mortality rate quadratic\n",
    "        'Z__deltaxprey': .25,  # log10 prey size tolerance\n",
    "        'Z__KsZ': 7,       # grazing half saturation constant  # 3 '\"'\"'\"'\"'\"'\"':!:!:!:!:!::!:!:!::!:!:!::!!'\"'\"'\"'\"'\"'\"'\n",
    "        'Z__f_eg': .33,    # egested food\n",
    "        'Z__epsilon': .33,  # assimilated food\n",
    "        \n",
    "        'D__initVal': 0.1,  # initial Detritus Biomass\n",
    "        'D__remin_rate': 0.15,  # Detritus remineralization rate\n",
    "        \n",
    "        'env__kappa':0.1  # diffusive mixing constant\n",
    "    },\n",
    "    output_vars={\n",
    "        'env__component': None,\n",
    "        'P__size': None,\n",
    "        'Z__size': None,\n",
    "        'env__stateout': 'time'\n",
    "    }\n",
    ")\n",
    "\n",
    "\n",
    "#model_out.to_netcdf('SSS_plotoutput_01_tropical.nc')"
   ]
  },
  {
   "cell_type": "code",
   "execution_count": null,
   "metadata": {},
   "outputs": [
    {
     "name": "stderr",
     "output_type": "stream",
     "text": [
      "             0% | run step 20/328499 "
     ]
    },
    {
     "name": "stdout",
     "output_type": "stream",
     "text": [
      "[ 0.5         0.63713749  0.81188837  1.03456904  1.31832545  1.67990914\n",
      "  2.1406662   2.72779739  3.47596398  4.42933395  5.64418946  7.19224944\n",
      "  9.16490355 11.67860735 14.88175721 18.96345095 24.16465119 30.79241055\n",
      " 39.23799852 50.        ]\n"
     ]
    },
    {
     "name": "stderr",
     "output_type": "stream",
     "text": [
      "█████▍      54% | run step 177892/328499 "
     ]
    }
   ],
   "source": [
    "from xsimlab.monitoring import ProgressBar\n",
    "\n",
    "#with ProgressBar(frontend='console'):\n",
    "#    model_out = model_in.xsimlab.run(model=ASTroCATclone_Tropical)"
   ]
  },
  {
   "cell_type": "code",
   "execution_count": null,
   "metadata": {},
   "outputs": [],
   "source": [
    "model_in_batch = model_in.xsimlab.update_vars(\n",
    "    model=ASTroCATclone_Tropical,\n",
    "    input_vars={'Z__KsZ': ('batch', [1.0, 2.5, 3.5, 4.5, 6])}\n",
    "    )\n",
    "\n",
    "with ProgressBar(frontend='console'):\n",
    "    model_out_batch = model_in_batch.xsimlab.run(model=ASTroCATclone_Tropical)"
   ]
  },
  {
   "cell_type": "code",
   "execution_count": 9,
   "metadata": {},
   "outputs": [
    {
     "ename": "KeyError",
     "evalue": "'_gather'",
     "output_type": "error",
     "traceback": [
      "\u001b[0;31m---------------------------------------------------------------------------\u001b[0m",
      "\u001b[0;31mKeyError\u001b[0m                                  Traceback (most recent call last)",
      "\u001b[0;32m<ipython-input-9-62d157791096>\u001b[0m in \u001b[0;36m<module>\u001b[0;34m\u001b[0m\n\u001b[0;32m----> 1\u001b[0;31m \u001b[0mmodel_out\u001b[0m \u001b[0;34m=\u001b[0m \u001b[0mmodel_in\u001b[0m\u001b[0;34m.\u001b[0m\u001b[0mxsimlab\u001b[0m\u001b[0;34m.\u001b[0m\u001b[0mrun\u001b[0m\u001b[0;34m(\u001b[0m\u001b[0mmodel\u001b[0m\u001b[0;34m=\u001b[0m\u001b[0mASTroCATclone_Tropical\u001b[0m\u001b[0;34m,\u001b[0m \u001b[0mparallel\u001b[0m\u001b[0;34m=\u001b[0m\u001b[0;32mTrue\u001b[0m\u001b[0;34m)\u001b[0m\u001b[0;34m\u001b[0m\u001b[0;34m\u001b[0m\u001b[0m\n\u001b[0m",
      "\u001b[0;32m~/opt/anaconda3/envs/xsimlab2/lib/python3.8/site-packages/xsimlab/xr_accessor.py\u001b[0m in \u001b[0;36mrun\u001b[0;34m(self, model, batch_dim, check_dims, validate, store, encoding, hooks, parallel, scheduler, safe_mode)\u001b[0m\n\u001b[1;32m    814\u001b[0m         )\n\u001b[1;32m    815\u001b[0m \u001b[0;34m\u001b[0m\u001b[0m\n\u001b[0;32m--> 816\u001b[0;31m         \u001b[0mdriver\u001b[0m\u001b[0;34m.\u001b[0m\u001b[0mrun_model\u001b[0m\u001b[0;34m(\u001b[0m\u001b[0;34m)\u001b[0m\u001b[0;34m\u001b[0m\u001b[0;34m\u001b[0m\u001b[0m\n\u001b[0m\u001b[1;32m    817\u001b[0m \u001b[0;34m\u001b[0m\u001b[0m\n\u001b[1;32m    818\u001b[0m         \u001b[0;32mreturn\u001b[0m \u001b[0mdriver\u001b[0m\u001b[0;34m.\u001b[0m\u001b[0mget_results\u001b[0m\u001b[0;34m(\u001b[0m\u001b[0;34m)\u001b[0m\u001b[0;34m\u001b[0m\u001b[0;34m\u001b[0m\u001b[0m\n",
      "\u001b[0;32m~/opt/anaconda3/envs/xsimlab2/lib/python3.8/site-packages/xsimlab/drivers.py\u001b[0m in \u001b[0;36mrun_model\u001b[0;34m(self)\u001b[0m\n\u001b[1;32m    453\u001b[0m \u001b[0;34m\u001b[0m\u001b[0m\n\u001b[1;32m    454\u001b[0m         \u001b[0;32mif\u001b[0m \u001b[0mself\u001b[0m\u001b[0;34m.\u001b[0m\u001b[0mbatch_dim\u001b[0m \u001b[0;32mis\u001b[0m \u001b[0;32mNone\u001b[0m\u001b[0;34m:\u001b[0m\u001b[0;34m\u001b[0m\u001b[0;34m\u001b[0m\u001b[0m\n\u001b[0;32m--> 455\u001b[0;31m             _run(\n\u001b[0m\u001b[1;32m    456\u001b[0m                 \u001b[0mds_in\u001b[0m\u001b[0;34m,\u001b[0m\u001b[0;34m\u001b[0m\u001b[0;34m\u001b[0m\u001b[0m\n\u001b[1;32m    457\u001b[0m                 \u001b[0mself\u001b[0m\u001b[0;34m.\u001b[0m\u001b[0mmodel\u001b[0m\u001b[0;34m,\u001b[0m\u001b[0;34m\u001b[0m\u001b[0;34m\u001b[0m\u001b[0m\n",
      "\u001b[0;32m~/opt/anaconda3/envs/xsimlab2/lib/python3.8/site-packages/xsimlab/drivers.py\u001b[0m in \u001b[0;36m_run\u001b[0;34m(dataset, model, store, hooks, validate, batch, batch_size, parallel, scheduler)\u001b[0m\n\u001b[1;32m    331\u001b[0m     \u001b[0min_vars\u001b[0m \u001b[0;34m=\u001b[0m \u001b[0m_get_input_vars\u001b[0m\u001b[0;34m(\u001b[0m\u001b[0mds_init\u001b[0m\u001b[0;34m,\u001b[0m \u001b[0mmodel\u001b[0m\u001b[0;34m)\u001b[0m\u001b[0;34m\u001b[0m\u001b[0;34m\u001b[0m\u001b[0m\n\u001b[1;32m    332\u001b[0m     \u001b[0mmodel\u001b[0m\u001b[0;34m.\u001b[0m\u001b[0mupdate_state\u001b[0m\u001b[0;34m(\u001b[0m\u001b[0min_vars\u001b[0m\u001b[0;34m,\u001b[0m \u001b[0mvalidate\u001b[0m\u001b[0;34m=\u001b[0m\u001b[0mvalidate_inputs\u001b[0m\u001b[0;34m,\u001b[0m \u001b[0mignore_static\u001b[0m\u001b[0;34m=\u001b[0m\u001b[0;32mTrue\u001b[0m\u001b[0;34m)\u001b[0m\u001b[0;34m\u001b[0m\u001b[0;34m\u001b[0m\u001b[0m\n\u001b[0;32m--> 333\u001b[0;31m     \u001b[0mmodel\u001b[0m\u001b[0;34m.\u001b[0m\u001b[0mexecute\u001b[0m\u001b[0;34m(\u001b[0m\u001b[0;34m\"initialize\"\u001b[0m\u001b[0;34m,\u001b[0m \u001b[0mrt_context\u001b[0m\u001b[0;34m,\u001b[0m \u001b[0;34m**\u001b[0m\u001b[0mexecute_kwargs\u001b[0m\u001b[0;34m)\u001b[0m\u001b[0;34m\u001b[0m\u001b[0;34m\u001b[0m\u001b[0m\n\u001b[0m\u001b[1;32m    334\u001b[0m \u001b[0;34m\u001b[0m\u001b[0m\n\u001b[1;32m    335\u001b[0m     \u001b[0;32mfor\u001b[0m \u001b[0mstep\u001b[0m\u001b[0;34m,\u001b[0m \u001b[0;34m(\u001b[0m\u001b[0m_\u001b[0m\u001b[0;34m,\u001b[0m \u001b[0mds_step\u001b[0m\u001b[0;34m)\u001b[0m \u001b[0;32min\u001b[0m \u001b[0menumerate\u001b[0m\u001b[0;34m(\u001b[0m\u001b[0mds_gby_steps\u001b[0m\u001b[0;34m)\u001b[0m\u001b[0;34m:\u001b[0m\u001b[0;34m\u001b[0m\u001b[0;34m\u001b[0m\u001b[0m\n",
      "\u001b[0;32m~/opt/anaconda3/envs/xsimlab2/lib/python3.8/site-packages/xsimlab/model.py\u001b[0m in \u001b[0;36mexecute\u001b[0;34m(self, stage, runtime_context, hooks, validate, parallel, scheduler)\u001b[0m\n\u001b[1;32m    854\u001b[0m         \u001b[0;32mif\u001b[0m \u001b[0mparallel\u001b[0m\u001b[0;34m:\u001b[0m\u001b[0;34m\u001b[0m\u001b[0;34m\u001b[0m\u001b[0m\n\u001b[1;32m    855\u001b[0m             \u001b[0mdsk\u001b[0m \u001b[0;34m=\u001b[0m \u001b[0mself\u001b[0m\u001b[0;34m.\u001b[0m\u001b[0m_build_dask_graph\u001b[0m\u001b[0;34m(\u001b[0m\u001b[0mexecute_args\u001b[0m\u001b[0;34m)\u001b[0m\u001b[0;34m\u001b[0m\u001b[0;34m\u001b[0m\u001b[0m\n\u001b[0;32m--> 856\u001b[0;31m             \u001b[0mout_states\u001b[0m \u001b[0;34m=\u001b[0m \u001b[0mdsk_get\u001b[0m\u001b[0;34m(\u001b[0m\u001b[0mdsk\u001b[0m\u001b[0;34m,\u001b[0m \u001b[0;34m\"_gather\"\u001b[0m\u001b[0;34m,\u001b[0m \u001b[0mscheduler\u001b[0m\u001b[0;34m=\u001b[0m\u001b[0mscheduler\u001b[0m\u001b[0;34m)\u001b[0m\u001b[0;34m\u001b[0m\u001b[0;34m\u001b[0m\u001b[0m\n\u001b[0m\u001b[1;32m    857\u001b[0m \u001b[0;34m\u001b[0m\u001b[0m\n\u001b[1;32m    858\u001b[0m             \u001b[0;31m# TODO: without this -> flaky tests (don't know why)\u001b[0m\u001b[0;34m\u001b[0m\u001b[0;34m\u001b[0m\u001b[0;34m\u001b[0m\u001b[0m\n",
      "\u001b[0;32m~/opt/anaconda3/envs/xsimlab2/lib/python3.8/site-packages/dask/threaded.py\u001b[0m in \u001b[0;36mget\u001b[0;34m(dsk, result, cache, num_workers, pool, **kwargs)\u001b[0m\n\u001b[1;32m     74\u001b[0m                 \u001b[0mpools\u001b[0m\u001b[0;34m[\u001b[0m\u001b[0mthread\u001b[0m\u001b[0;34m]\u001b[0m\u001b[0;34m[\u001b[0m\u001b[0mnum_workers\u001b[0m\u001b[0;34m]\u001b[0m \u001b[0;34m=\u001b[0m \u001b[0mpool\u001b[0m\u001b[0;34m\u001b[0m\u001b[0;34m\u001b[0m\u001b[0m\n\u001b[1;32m     75\u001b[0m \u001b[0;34m\u001b[0m\u001b[0m\n\u001b[0;32m---> 76\u001b[0;31m     results = get_async(\n\u001b[0m\u001b[1;32m     77\u001b[0m         \u001b[0mpool\u001b[0m\u001b[0;34m.\u001b[0m\u001b[0mapply_async\u001b[0m\u001b[0;34m,\u001b[0m\u001b[0;34m\u001b[0m\u001b[0;34m\u001b[0m\u001b[0m\n\u001b[1;32m     78\u001b[0m         \u001b[0mlen\u001b[0m\u001b[0;34m(\u001b[0m\u001b[0mpool\u001b[0m\u001b[0;34m.\u001b[0m\u001b[0m_pool\u001b[0m\u001b[0;34m)\u001b[0m\u001b[0;34m,\u001b[0m\u001b[0;34m\u001b[0m\u001b[0;34m\u001b[0m\u001b[0m\n",
      "\u001b[0;32m~/opt/anaconda3/envs/xsimlab2/lib/python3.8/site-packages/dask/local.py\u001b[0m in \u001b[0;36mget_async\u001b[0;34m(apply_async, num_workers, dsk, result, cache, get_id, rerun_exceptions_locally, pack_exception, raise_exception, callbacks, dumps, loads, **kwargs)\u001b[0m\n\u001b[1;32m    427\u001b[0m                 \u001b[0mstarted_cbs\u001b[0m\u001b[0;34m.\u001b[0m\u001b[0mappend\u001b[0m\u001b[0;34m(\u001b[0m\u001b[0mcb\u001b[0m\u001b[0;34m)\u001b[0m\u001b[0;34m\u001b[0m\u001b[0;34m\u001b[0m\u001b[0m\n\u001b[1;32m    428\u001b[0m \u001b[0;34m\u001b[0m\u001b[0m\n\u001b[0;32m--> 429\u001b[0;31m             \u001b[0mkeyorder\u001b[0m \u001b[0;34m=\u001b[0m \u001b[0morder\u001b[0m\u001b[0;34m(\u001b[0m\u001b[0mdsk\u001b[0m\u001b[0;34m)\u001b[0m\u001b[0;34m\u001b[0m\u001b[0;34m\u001b[0m\u001b[0m\n\u001b[0m\u001b[1;32m    430\u001b[0m \u001b[0;34m\u001b[0m\u001b[0m\n\u001b[1;32m    431\u001b[0m             \u001b[0mstate\u001b[0m \u001b[0;34m=\u001b[0m \u001b[0mstart_state_from_dask\u001b[0m\u001b[0;34m(\u001b[0m\u001b[0mdsk\u001b[0m\u001b[0;34m,\u001b[0m \u001b[0mcache\u001b[0m\u001b[0;34m=\u001b[0m\u001b[0mcache\u001b[0m\u001b[0;34m,\u001b[0m \u001b[0msortkey\u001b[0m\u001b[0;34m=\u001b[0m\u001b[0mkeyorder\u001b[0m\u001b[0;34m.\u001b[0m\u001b[0mget\u001b[0m\u001b[0;34m)\u001b[0m\u001b[0;34m\u001b[0m\u001b[0;34m\u001b[0m\u001b[0m\n",
      "\u001b[0;32m~/opt/anaconda3/envs/xsimlab2/lib/python3.8/site-packages/dask/order.py\u001b[0m in \u001b[0;36morder\u001b[0;34m(dsk, dependencies)\u001b[0m\n\u001b[1;32m    111\u001b[0m     \u001b[0mdependents\u001b[0m \u001b[0;34m=\u001b[0m \u001b[0mreverse_dict\u001b[0m\u001b[0;34m(\u001b[0m\u001b[0mdependencies\u001b[0m\u001b[0;34m)\u001b[0m\u001b[0;34m\u001b[0m\u001b[0;34m\u001b[0m\u001b[0m\n\u001b[1;32m    112\u001b[0m     \u001b[0mnum_needed\u001b[0m\u001b[0;34m,\u001b[0m \u001b[0mtotal_dependencies\u001b[0m \u001b[0;34m=\u001b[0m \u001b[0mndependencies\u001b[0m\u001b[0;34m(\u001b[0m\u001b[0mdependencies\u001b[0m\u001b[0;34m,\u001b[0m \u001b[0mdependents\u001b[0m\u001b[0;34m)\u001b[0m\u001b[0;34m\u001b[0m\u001b[0;34m\u001b[0m\u001b[0m\n\u001b[0;32m--> 113\u001b[0;31m     \u001b[0mmetrics\u001b[0m \u001b[0;34m=\u001b[0m \u001b[0mgraph_metrics\u001b[0m\u001b[0;34m(\u001b[0m\u001b[0mdependencies\u001b[0m\u001b[0;34m,\u001b[0m \u001b[0mdependents\u001b[0m\u001b[0;34m,\u001b[0m \u001b[0mtotal_dependencies\u001b[0m\u001b[0;34m)\u001b[0m\u001b[0;34m\u001b[0m\u001b[0;34m\u001b[0m\u001b[0m\n\u001b[0m\u001b[1;32m    114\u001b[0m     \u001b[0;32mif\u001b[0m \u001b[0mlen\u001b[0m\u001b[0;34m(\u001b[0m\u001b[0mmetrics\u001b[0m\u001b[0;34m)\u001b[0m \u001b[0;34m!=\u001b[0m \u001b[0mlen\u001b[0m\u001b[0;34m(\u001b[0m\u001b[0mdsk\u001b[0m\u001b[0;34m)\u001b[0m\u001b[0;34m:\u001b[0m\u001b[0;34m\u001b[0m\u001b[0;34m\u001b[0m\u001b[0m\n\u001b[1;32m    115\u001b[0m         \u001b[0mcycle\u001b[0m \u001b[0;34m=\u001b[0m \u001b[0mgetcycle\u001b[0m\u001b[0;34m(\u001b[0m\u001b[0mdsk\u001b[0m\u001b[0;34m,\u001b[0m \u001b[0;32mNone\u001b[0m\u001b[0;34m)\u001b[0m\u001b[0;34m\u001b[0m\u001b[0;34m\u001b[0m\u001b[0m\n",
      "\u001b[0;32m~/opt/anaconda3/envs/xsimlab2/lib/python3.8/site-packages/dask/order.py\u001b[0m in \u001b[0;36mgraph_metrics\u001b[0;34m(dependencies, dependents, total_dependencies)\u001b[0m\n\u001b[1;32m    432\u001b[0m     \u001b[0;32mfor\u001b[0m \u001b[0mkey\u001b[0m\u001b[0;34m,\u001b[0m \u001b[0mdeps\u001b[0m \u001b[0;32min\u001b[0m \u001b[0mdependents\u001b[0m\u001b[0;34m.\u001b[0m\u001b[0mitems\u001b[0m\u001b[0;34m(\u001b[0m\u001b[0;34m)\u001b[0m\u001b[0;34m:\u001b[0m\u001b[0;34m\u001b[0m\u001b[0;34m\u001b[0m\u001b[0m\n\u001b[1;32m    433\u001b[0m         \u001b[0;32mif\u001b[0m \u001b[0;32mnot\u001b[0m \u001b[0mdeps\u001b[0m\u001b[0;34m:\u001b[0m\u001b[0;34m\u001b[0m\u001b[0;34m\u001b[0m\u001b[0m\n\u001b[0;32m--> 434\u001b[0;31m             \u001b[0mval\u001b[0m \u001b[0;34m=\u001b[0m \u001b[0mtotal_dependencies\u001b[0m\u001b[0;34m[\u001b[0m\u001b[0mkey\u001b[0m\u001b[0;34m]\u001b[0m\u001b[0;34m\u001b[0m\u001b[0;34m\u001b[0m\u001b[0m\n\u001b[0m\u001b[1;32m    435\u001b[0m             \u001b[0mresult\u001b[0m\u001b[0;34m[\u001b[0m\u001b[0mkey\u001b[0m\u001b[0;34m]\u001b[0m \u001b[0;34m=\u001b[0m \u001b[0;34m(\u001b[0m\u001b[0;36m1\u001b[0m\u001b[0;34m,\u001b[0m \u001b[0mval\u001b[0m\u001b[0;34m,\u001b[0m \u001b[0mval\u001b[0m\u001b[0;34m,\u001b[0m \u001b[0;36m1\u001b[0m\u001b[0;34m,\u001b[0m \u001b[0;36m1\u001b[0m\u001b[0;34m)\u001b[0m\u001b[0;34m\u001b[0m\u001b[0;34m\u001b[0m\u001b[0m\n\u001b[1;32m    436\u001b[0m             \u001b[0;32mfor\u001b[0m \u001b[0mchild\u001b[0m \u001b[0;32min\u001b[0m \u001b[0mdependencies\u001b[0m\u001b[0;34m[\u001b[0m\u001b[0mkey\u001b[0m\u001b[0;34m]\u001b[0m\u001b[0;34m:\u001b[0m\u001b[0;34m\u001b[0m\u001b[0;34m\u001b[0m\u001b[0m\n",
      "\u001b[0;31mKeyError\u001b[0m: '_gather'"
     ]
    }
   ],
   "source": [
    "model_out = model_in.xsimlab.run(model=ASTroCATclone_Tropical, parallel=True)"
   ]
  },
  {
   "cell_type": "code",
   "execution_count": 13,
   "metadata": {},
   "outputs": [],
   "source": [
    "#model_out = model_in.xsimlab.run(model=ASTroCATclone)"
   ]
  },
  {
   "cell_type": "code",
   "execution_count": null,
   "metadata": {},
   "outputs": [],
   "source": [
    "#model_out = xr.load_dataset('SSS_plotoutput_01.nc')"
   ]
  },
  {
   "cell_type": "code",
   "execution_count": null,
   "metadata": {},
   "outputs": [],
   "source": [
    "def new_plot(modeloutput, forcingverif, Pnum):\n",
    "   \n",
    "    data_coordfix = modeloutput.set_index(component = 'env__component', P__sizes='P__size', Z__sizes='Z__size')\n",
    "\n",
    "    P_out = data_coordfix.sel(component=['P'+str(i) for i in range(Pnum)])\n",
    "    Z_out = data_coordfix.sel(component=['Z'+str(i) for i in range(Pnum)])\n",
    "    N_out = data_coordfix.sel(component='N')\n",
    "    D_out = data_coordfix.sel(component='D')\n",
    "\n",
    "    resolution = 10\n",
    "    resmpl_step = 1\n",
    "\n",
    "\n",
    "    P_pico = P_out.env__stateout[:,P_out.P__sizes.values<2]\n",
    "    mask = ((P_out.P__sizes.values >= 2) & (P_out.P__sizes.values <= 20))\n",
    "    P_nano = P_out.env__stateout[:,mask]\n",
    "    mask2 = ((P_out.P__sizes.values >= 20) & (P_out.P__sizes.values <= 50))\n",
    "    P_micro = P_out.env__stateout[:,mask2]\n",
    "    ##########\n",
    "    \n",
    "    \n",
    "    P_pico_sum = P_pico.sum(dim='component')\n",
    "    P_nano_sum = P_nano.sum(dim='component')\n",
    "    P_micro_sum = P_micro.sum(dim='component')\n",
    "    \n",
    "    Z_out_sum = Z_out.sum(dim='component')\n",
    "    \n",
    "    ##########\n",
    "    P_pico_sum_ly = P_pico_sum[P_pico_sum.time > 365*10]\n",
    "    P_nano_sum_ly = P_nano_sum[P_nano_sum.time > 365*10]\n",
    "    P_micro_sum_ly = P_micro_sum[P_micro_sum.time > 365*10]\n",
    "\n",
    "    N_out_ly = N_out.env__stateout[N_out.time > 365*10]\n",
    "    D_out_ly = D_out.env__stateout[D_out.time > 365*10]\n",
    "    Z_out_ly = Z_out_sum.env__stateout[Z_out.time > 365*10]\n",
    "\n",
    "    P_pico_sum_ly_yday = P_pico_sum_ly.assign_coords(time=np.mod(P_pico_sum_ly.time, 365.))\n",
    "    P_nano_sum_ly_yday = P_nano_sum_ly.assign_coords(time=np.mod(P_nano_sum_ly.time, 365.))\n",
    "    P_micro_sum_ly_yday = P_micro_sum_ly.assign_coords(time=np.mod(P_micro_sum_ly.time, 365.))\n",
    "\n",
    "    N_out_ly_yday = N_out_ly.assign_coords(time=np.mod(N_out_ly.time, 365.))\n",
    "    D_out_ly_yday = D_out_ly.assign_coords(time=np.mod(D_out_ly.time, 365.))\n",
    "    Z_out_ly_yday = Z_out_ly.assign_coords(time=np.mod(Z_out_ly.time, 365.))\n",
    "    #################\n",
    "\n",
    "    import datetime\n",
    "\n",
    "    seconds = P_pico_sum_ly_yday.time.values * 60 * 60 * 24\n",
    "\n",
    "    dt_array = [datetime.datetime.utcfromtimestamp(i) for i in seconds]\n",
    "    #################\n",
    "\n",
    "    P_pico_sum_ly_dt = P_pico_sum_ly_yday.assign_coords(time=dt_array).to_dataset()\n",
    "    P_nano_sum_ly_dt = P_nano_sum_ly_yday.assign_coords(time=dt_array).to_dataset()\n",
    "    P_micro_sum_ly_dt = P_micro_sum_ly_yday.assign_coords(time=dt_array).to_dataset()\n",
    "\n",
    "    N_out_ly_dt = N_out_ly_yday.assign_coords(time=dt_array).to_dataset()\n",
    "    D_out_ly_dt = D_out_ly_yday.assign_coords(time=dt_array).to_dataset()\n",
    "    Z_out_ly_dt = Z_out_ly_yday.assign_coords(time=dt_array).to_dataset()\n",
    "    \n",
    "    timeagg = 'time.dayofyear'\n",
    "    P_pico_yagg = P_pico_sum_ly_dt.groupby(timeagg).mean()\n",
    "    P_pico_yagg_sd = P_pico_sum_ly_dt.groupby(timeagg).std()\n",
    "\n",
    "    P_nano_yagg = P_nano_sum_ly_dt.groupby(timeagg).mean()\n",
    "    P_nano_yagg_sd = P_nano_sum_ly_dt.groupby(timeagg).std()\n",
    "\n",
    "    P_micro_yagg = P_micro_sum_ly_dt.groupby(timeagg).mean()\n",
    "    P_micro_yagg_sd = P_micro_sum_ly_dt.groupby(timeagg).std()\n",
    "\n",
    "    N_out_yagg = N_out_ly_dt.groupby(timeagg).mean()\n",
    "    N_out_yagg_sd = N_out_ly_dt.groupby(timeagg).std()\n",
    "\n",
    "    D_out_yagg = D_out_ly_dt.groupby(timeagg).mean()\n",
    "    D_out_yagg_sd = D_out_ly_dt.groupby(timeagg).std()\n",
    "    \n",
    "    Z_out_yagg = Z_out_ly_dt.groupby(timeagg).mean()\n",
    "    Z_out_yagg_sd = Z_out_ly_dt.groupby(timeagg).std()\n",
    "\n",
    "    # conversion\n",
    "    CtoN = 106/16\n",
    "    molarmassC = 12.0107\n",
    "    CBMconvert = molarmassC * CtoN\n",
    "    \n",
    "    ##########\n",
    "    dayspermonth = [31, 28, 31, 30, 31, 30, 31, 31, 30, 31, 30, 31]\n",
    "    dpm_cumsum = np.cumsum(dayspermonth) - np.array(dayspermonth)/2 #- 15\n",
    "    \n",
    "    #new\n",
    "    dpy = np.arange(1,366)\n",
    "\n",
    "    ##########\n",
    "    \n",
    "    \n",
    "    plt.rcParams['figure.figsize'] = [8, 5]\n",
    "\n",
    "    #c to N # 106/16\n",
    "    labels = {'model_pico':'darkgreen','model_nano':'green','model_micro':'lightgreen', 'model_nuts':'blue','model_det':'brown','model_Z':'red','data':'grey'}\n",
    "    markers = {'pico':'x', 'nano':'^', 'micro':'s', 'nuts':'s', 'det':'s'}\n",
    "\n",
    "    #fig, ax = plt.subplots(1, 3, sharey='row')\n",
    "    fig = plt.figure(constrained_layout=True)\n",
    "\n",
    "\n",
    "    gs = fig.add_gridspec(nrows=2, ncols=3, hspace=0.1, wspace=0.1)#, height_ratios=[.1,1,1,.1,1])\n",
    "\n",
    "    ax0 = fig.add_subplot(gs[0, 0])\n",
    "    ax1 = fig.add_subplot(gs[0, 1])#, sharey=ax0)\n",
    "    ax2 = fig.add_subplot(gs[0, 2])#, sharey=ax0)\n",
    "    ax3 = fig.add_subplot(gs[1, 0])\n",
    "    ax4 = fig.add_subplot(gs[1, 1])\n",
    "    #ax5 = fig.add_subplot(gs[1, 2])\n",
    "\n",
    "    def plotdataanderr(axe,data,error,forcing, color, fxlab):\n",
    "        if forcing is not None:\n",
    "            axe.scatter(dpm_cumsum, forcing, label=fxlab, c=labels['data'])\n",
    "        axe.plot(dpy, data, label='model', c=color)\n",
    "        axe.fill_between(dpy, data-error, data+error, color=color, alpha=0.2)\n",
    "        \n",
    "            \n",
    "    plotdataanderr(ax0, P_pico_yagg.env__stateout, P_pico_yagg_sd.env__stateout, np.array(forcingverif.verif.c_picop) /CBMconvert, labels['model_pico'], 'satellite')\n",
    "    \n",
    "    \n",
    "    plotdataanderr(ax1, P_nano_yagg.env__stateout, P_nano_yagg_sd.env__stateout, np.array(forcingverif.verif.c_nanop) /CBMconvert, labels['model_nano'], 'satellite')\n",
    "    \n",
    "    \n",
    "    plotdataanderr(ax2, P_micro_yagg.env__stateout, P_micro_yagg_sd.env__stateout, np.array(forcingverif.verif.c_microp) /CBMconvert, labels['model_micro'], 'satellite')\n",
    "    \n",
    "    \n",
    "    plotdataanderr(ax3, N_out_yagg.env__stateout, N_out_yagg_sd.env__stateout, np.array(forcingverif.verif.N), labels['model_nuts'], 'WOA data')\n",
    "    \n",
    "    \n",
    "    plotdataanderr(ax4, Z_out_yagg.env__stateout, Z_out_yagg_sd.env__stateout, None, labels['model_Z'], '')\n",
    "    \n",
    "    \n",
    "    plotdataanderr(ax4, D_out_yagg.env__stateout, D_out_yagg_sd.env__stateout, None, labels['model_det'], '')\n",
    "    \n",
    "    \"\"\"\n",
    "    # Phyto MODEL\n",
    "    ax0.errorbar(dpm_cumsum, P_pico_yagg.env__stateout, P_pico_yagg_sd.env__stateout, linestyle='None', c=labels['model_pico'])#, marker='^')\n",
    "    ax0.scatter(dpm_cumsum, P_pico_yagg.env__stateout, label='model', c=labels['model_pico'], marker=markers['pico'])\n",
    "\n",
    "    ax1.errorbar(dpm_cumsum, P_nano_yagg.env__stateout, P_nano_yagg_sd.env__stateout, linestyle='None', c=labels['model_nano'])#, marker='^')\n",
    "    ax1.scatter(dpm_cumsum, P_nano_yagg.env__stateout, label='model', c=labels['model_nano'], marker=markers['nano'])\n",
    "\n",
    "    ax2.errorbar(dpm_cumsum, P_micro_yagg.env__stateout, P_micro_yagg_sd.env__stateout, linestyle='None', c=labels['model_micro'])\n",
    "    ax2.scatter(dpm_cumsum, P_micro_yagg.env__stateout, label='model', c=labels['model_micro'], marker=markers['micro'])\n",
    "\n",
    "    # Phyto DATA\n",
    "\n",
    "    ax0.errorbar(dpm_cumsum, np.array(forcingverif.verif.c_picop) /CBMconvert, np.array(forcingverif.verif.c_picop_sd) /CBMconvert, linestyle='None', capsize = 4,capthick = 1.5, linewidth=0.1, c=labels['data'])\n",
    "    ax0.scatter(dpm_cumsum, np.array(forcingverif.verif.c_picop) /CBMconvert , label='satellite', c=labels['data'])\n",
    "\n",
    "    ax1.errorbar(dpm_cumsum, np.array(forcingverif.verif.c_nanop) /CBMconvert, np.array(forcingverif.verif.c_nanop_sd) /CBMconvert, linestyle='None', capsize = 4,capthick = 1.5, linewidth=0.1, c=labels['data'])\n",
    "    ax1.scatter(dpm_cumsum, np.array(forcingverif.verif.c_nanop) /CBMconvert , label='satellite', c=labels['data'])\n",
    "\n",
    "    ax2.errorbar(dpm_cumsum, np.array(forcingverif.verif.c_microp) /CBMconvert, np.array(forcingverif.verif.c_microp_sd) /CBMconvert, linestyle='None', capsize = 4,capthick = 1.5, linewidth=0.1, c=labels['data'])\n",
    "    ax2.scatter(dpm_cumsum, np.array(forcingverif.verif.c_microp) /CBMconvert , label='satellite', c=labels['data'])\n",
    "\n",
    "\n",
    "    # NUTRIENTS\n",
    "    #ax3.errorbar(dpm_cumsum, N_out_yagg.env__stateout, N_out_yagg_sd.env__stateout, linestyle='None', c=labels['model_nuts'])#, marker='^')\n",
    "    #ax3.scatter(dpm_cumsum, N_out_yagg.env__stateout, label='model', c=labels['model_nuts'], marker=markers['nuts'])\n",
    "\n",
    "    ax3.scatter(dpm_cumsum, np.array(forcingverif.verif.N) , label='WOA data', c=labels['data'])\n",
    "\n",
    "    # DETITUS\n",
    "    ax4.errorbar(dpm_cumsum, D_out_yagg.env__stateout, D_out_yagg_sd.env__stateout, linestyle='None', c=labels['model_det'])#, marker='^')\n",
    "    ax4.scatter(dpm_cumsum, D_out_yagg.env__stateout, label='model', c=labels['model_det'], marker=markers['det'])\n",
    "\n",
    "    # Zooplankton\n",
    "    ax5.errorbar(dpm_cumsum, Z_out_yagg.env__stateout, Z_out_yagg_sd.env__stateout, linestyle='None', c=labels['model_Z'])#, marker='^')\n",
    "    ax5.scatter(dpm_cumsum, Z_out_yagg.env__stateout, label='model', c=labels['model_Z'], marker=markers['det'])\n",
    "    \"\"\"\n",
    "\n",
    "    # LABELS\n",
    "    ax0.set_title('Pico (0.5 - 2 µm)')\n",
    "    ax1.set_title('Nano (2 - 20 µm)')\n",
    "    ax2.set_title('Micro (20 - 50 µm)')\n",
    "\n",
    "    ax0.set_ylabel('Phytoplankton  [µM N]')\n",
    "    ax1.set_xlabel('Day in year [days]')\n",
    "\n",
    "\n",
    "    ax3.set_title('N')\n",
    "\n",
    "    ax3.set_ylabel('Nitrogen [µM N]')\n",
    "    ax3.set_xlabel('Day in year [days]')\n",
    "\n",
    "\n",
    "    ax4.set_title('D + Z')\n",
    "\n",
    "    ax4.set_ylabel('Detritus + Zooplankton [µM N]')\n",
    "    ax4.set_xlabel('Day in year [days]')\n",
    "\n",
    "    #plt.plot(P_pico_yagg.month, P_pico_yagg.env__stateout, label=labels['pico'])\n",
    "    #plt.plot(P_nano_yagg.month, P_nano_yagg.env__stateout, label=labels['nano'])\n",
    "    #plt.plot(P_micro_yagg.month, P_micro_yagg.env__stateout, label=labels['micro'])\n",
    "\n",
    "    #plt.scatter(P_nano_sum_ly_yday.time.values, P_nano_sum_ly_yday.values, label='nano')\n",
    "    #plt.scatter(P_micro_sum_ly_yday.time.values, P_micro_sum_ly_yday.values, label='micro')\n",
    "    xlim = (1, 365)\n",
    "    from matplotlib.ticker import MaxNLocator\n",
    "    for axe in [ax0, ax1, ax2, ax3, ax4]:\n",
    "        axe.legend(fontsize='x-small')\n",
    "        plt.setp(axe, xticks=[1,60,120,180,240,300,365], xlim=xlim)\n",
    "        axe.grid(True, alpha=0.5)\n",
    "        axe.get_yaxis().set_major_locator(MaxNLocator(nbins=5))\n",
    "        axe.tick_params(top=False, right=True, direction=\"in\")\n",
    "        axe.set_ylim(bottom=0)\n",
    "    \n",
    "    #for axe in [ax0,ax2]:\n",
    "    #    axe.set_ylim(0,.5)\n",
    "    \n",
    "    for axe in [ax3]:\n",
    "        axe.set_ylim(0,3)\n",
    "\n",
    "        \n",
    "    #plt.setp(ax1.get_yticklabels(), visible=False)\n",
    "    #plt.setp(ax2.get_yticklabels(), visible=False)\n",
    "\n",
    "    # Defining custom 'xlim' and 'ylim' values."
   ]
  },
  {
   "cell_type": "code",
   "execution_count": null,
   "metadata": {},
   "outputs": [],
   "source": [
    "new_plot(model_out,forx, 20)"
   ]
  },
  {
   "cell_type": "code",
   "execution_count": 11,
   "metadata": {},
   "outputs": [
    {
     "data": {
      "text/plain": [
       "1.5"
      ]
     },
     "execution_count": 11,
     "metadata": {},
     "output_type": "execute_result"
    }
   ],
   "source": [
    "2 - 0.5"
   ]
  },
  {
   "cell_type": "code",
   "execution_count": 12,
   "metadata": {},
   "outputs": [
    {
     "data": {
      "text/plain": [
       "18"
      ]
     },
     "execution_count": 12,
     "metadata": {},
     "output_type": "execute_result"
    }
   ],
   "source": [
    "20 - 2"
   ]
  },
  {
   "cell_type": "code",
   "execution_count": 13,
   "metadata": {},
   "outputs": [
    {
     "data": {
      "text/plain": [
       "30"
      ]
     },
     "execution_count": 13,
     "metadata": {},
     "output_type": "execute_result"
    }
   ],
   "source": [
    "50 - 20"
   ]
  },
  {
   "cell_type": "code",
   "execution_count": 14,
   "metadata": {},
   "outputs": [
    {
     "data": {
      "text/plain": [
       "0.4"
      ]
     },
     "execution_count": 14,
     "metadata": {},
     "output_type": "execute_result"
    }
   ],
   "source": [
    "20/50"
   ]
  },
  {
   "cell_type": "code",
   "execution_count": 16,
   "metadata": {},
   "outputs": [
    {
     "data": {
      "text/plain": [
       "0.1"
      ]
     },
     "execution_count": 16,
     "metadata": {},
     "output_type": "execute_result"
    }
   ],
   "source": [
    "2 / 20"
   ]
  },
  {
   "cell_type": "code",
   "execution_count": 18,
   "metadata": {},
   "outputs": [
    {
     "data": {
      "text/plain": [
       "0.25"
      ]
     },
     "execution_count": 18,
     "metadata": {},
     "output_type": "execute_result"
    }
   ],
   "source": [
    "0.5 / 2"
   ]
  },
  {
   "cell_type": "code",
   "execution_count": null,
   "metadata": {},
   "outputs": [],
   "source": []
  }
 ],
 "metadata": {
  "kernelspec": {
   "display_name": "Python 3",
   "language": "python",
   "name": "python3"
  },
  "language_info": {
   "codemirror_mode": {
    "name": "ipython",
    "version": 3
   },
   "file_extension": ".py",
   "mimetype": "text/x-python",
   "name": "python",
   "nbconvert_exporter": "python",
   "pygments_lexer": "ipython3",
   "version": "3.8.2"
  }
 },
 "nbformat": 4,
 "nbformat_minor": 4
}
