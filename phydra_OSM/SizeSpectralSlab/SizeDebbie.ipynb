{
 "cells": [
  {
   "cell_type": "code",
   "execution_count": 1,
   "metadata": {},
   "outputs": [],
   "source": [
    "import SizeModLogspace as SML\n",
    "\n",
    "import numpy as np"
   ]
  },
  {
   "cell_type": "code",
   "execution_count": 4,
   "metadata": {},
   "outputs": [
    {
     "ename": "TypeError",
     "evalue": "AlloNPsZD() missing 1 required positional argument: 't'",
     "output_type": "error",
     "traceback": [
      "\u001b[0;31m---------------------------------------------------------------------------\u001b[0m",
      "\u001b[0;31mTypeError\u001b[0m                                 Traceback (most recent call last)",
      "\u001b[0;32m<ipython-input-4-269d1e6d97e4>\u001b[0m in \u001b[0;36m<module>\u001b[0;34m\u001b[0m\n\u001b[1;32m     10\u001b[0m \u001b[0mt\u001b[0m \u001b[0;34m=\u001b[0m \u001b[0;36m1\u001b[0m\u001b[0;34m\u001b[0m\u001b[0;34m\u001b[0m\u001b[0m\n\u001b[1;32m     11\u001b[0m \u001b[0;34m\u001b[0m\u001b[0m\n\u001b[0;32m---> 12\u001b[0;31m \u001b[0mSML\u001b[0m\u001b[0;34m.\u001b[0m\u001b[0mSizeModLogspace\u001b[0m\u001b[0;34m.\u001b[0m\u001b[0mAlloNPsZD\u001b[0m\u001b[0;34m(\u001b[0m\u001b[0my\u001b[0m\u001b[0;34m,\u001b[0m\u001b[0mt\u001b[0m\u001b[0;34m)\u001b[0m\u001b[0;34m\u001b[0m\u001b[0;34m\u001b[0m\u001b[0m\n\u001b[0m",
      "\u001b[0;31mTypeError\u001b[0m: AlloNPsZD() missing 1 required positional argument: 't'"
     ]
    }
   ],
   "source": [
    "var = 150 + 4\n",
    "\n",
    "N = [1]\n",
    "Zsmall = [0.1]\n",
    "Zlarge = [0.1]\n",
    "D = [0.5]\n",
    "Ps = [0.1 for i in range(150)]\n",
    "\n",
    "y = np.concatenate([N,Zsmall,Zlarge,D,Ps],axis=None)\n",
    "t = 1\n",
    "\n",
    "SML.SizeModLogspace.AlloNPsZD(y,t)"
   ]
  },
  {
   "cell_type": "code",
   "execution_count": 10,
   "metadata": {},
   "outputs": [
    {
     "data": {
      "text/plain": [
       "array([     0,      1,      2, ..., 364997, 364998, 364999])"
      ]
     },
     "execution_count": 10,
     "metadata": {},
     "output_type": "execute_result"
    }
   ],
   "source": [
    "t_array"
   ]
  },
  {
   "cell_type": "code",
   "execution_count": null,
   "metadata": {},
   "outputs": [],
   "source": [
    "t_array = np.arange(0, 365 * 10000)  # Time array\n",
    "\n",
    "\n",
    "MLD = [100 + i / sum(t_array) for i in t_array] # np.arange(100,120,200)\n",
    "\n",
    "DMDT = [0 for i in t_array] # MLD #np.concatenate([np.diff(np.arange(100,120,200)),0], axis=None)\n",
    "\n",
    "SST = [20 for i in t_array] #np.arange(20,24,200)\n",
    "\n",
    "PAR = [50 for i in t_array] #np.arange(30,20,200)\n",
    "\n",
    "%timeit SML.SizeModLogspace(MLD,PAR,SST,DMDT)"
   ]
  },
  {
   "cell_type": "code",
   "execution_count": 12,
   "metadata": {},
   "outputs": [
    {
     "data": {
      "text/plain": [
       "1e-05"
      ]
     },
     "execution_count": 12,
     "metadata": {},
     "output_type": "execute_result"
    }
   ],
   "source": [
    "a = SML.SizeModLogspace(MLD,PAR,SST,DMDT)\n",
    "a.solution"
   ]
  },
  {
   "cell_type": "code",
   "execution_count": null,
   "metadata": {},
   "outputs": [],
   "source": []
  }
 ],
 "metadata": {
  "kernelspec": {
   "display_name": "Python 3",
   "language": "python",
   "name": "python3"
  },
  "language_info": {
   "codemirror_mode": {
    "name": "ipython",
    "version": 3
   },
   "file_extension": ".py",
   "mimetype": "text/x-python",
   "name": "python",
   "nbconvert_exporter": "python",
   "pygments_lexer": "ipython3",
   "version": "3.7.6"
  }
 },
 "nbformat": 4,
 "nbformat_minor": 4
}
