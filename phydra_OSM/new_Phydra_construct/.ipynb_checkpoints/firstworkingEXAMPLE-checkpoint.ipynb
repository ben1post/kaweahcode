{
 "cells": [
  {
   "cell_type": "code",
   "execution_count": 1,
   "metadata": {},
   "outputs": [],
   "source": [
    "import numpy as np\n",
    "import xsimlab as xs\n",
    "from scipy.integrate import odeint\n",
    "import matplotlib.pyplot as plt"
   ]
  },
  {
   "cell_type": "code",
   "execution_count": 28,
   "metadata": {},
   "outputs": [],
   "source": [
    "# GOAL: test whether groups can be accumulated in other class, which is then referenced by component\n",
    "\n",
    "@xs.process\n",
    "class INIT:\n",
    "    \"\"\"Create a 1-dimensional, array of NPZD component states and labels.\"\"\"\n",
    "    numberofcomps = xs.variable(description=\"total length\", static=True) # here all the label & state inputs enter, and they get flattened below, and assigned\n",
    "    components = xs.index(dims=\"C\") #x!\n",
    "    def initialize(self):\n",
    "        self.components = np.arange(0., self.numberofcomps)  \n",
    "\n",
    "@xs.process\n",
    "class Component:\n",
    "    fluxes = xs.group('flux')\n",
    "    value = xs.variable(dims='C', intent='inout')\n",
    "    \n",
    "    # PARAMETER\n",
    "    v = xs.variable(dims=[(), \"C\"], description=\"velocity\")\n",
    "    \n",
    "    def run_step(self):\n",
    "        self._delta = sum((v for v in self.fluxes))\n",
    "        print(self._delta)\n",
    "\n",
    "    def finalize_step(self):\n",
    "        self.value += self._delta\n",
    "    \n",
    "    \n",
    "@xs.process\n",
    "class InitC:\n",
    "    \"\"\"Initialize `u` profile using a Gaussian pulse.\"\"\"\n",
    "\n",
    "    components = xs.foreign(INIT, \"components\")\n",
    "    value = xs.foreign(Component, \"value\", intent=\"out\")\n",
    "\n",
    "    def initialize(self):\n",
    "        self.value = self.components\n",
    "        \n",
    "#\n",
    "        \n",
    "@xs.process\n",
    "class oneFlux:\n",
    "    #c_state = xs.foreign(ProfileC, \"c_state\")\n",
    "    value = xs.foreign(Component, 'value')#, intent='out')\n",
    "    \n",
    "    v = xs.foreign(Component, 'v') #xs.variable(dims=[(), \"C\"], description=\"velocity\")\n",
    "    \n",
    "    value_out = xs.variable(dims=\"C\", intent=\"out\", groups=\"flux\")\n",
    "\n",
    "    @xs.runtime(args=\"step_delta\")\n",
    "    def run_step(self, dt):\n",
    "\n",
    "        growth= self.v/10\n",
    "        \n",
    "        self.value_out = growth + self.value\n",
    "\n",
    "@xs.process\n",
    "class twoFlux:\n",
    "    #c_state = xs.foreign(ProfileC, \"c_state\")\n",
    "    value = xs.foreign(Component, 'value')#, intent='out')\n",
    "    \n",
    "    v = xs.foreign(Component, 'v') #xs.variable(dims=[(), \"C\"], description=\"velocity\")\n",
    "    \n",
    "    value_out = xs.variable(dims=\"C\", intent=\"out\", groups=\"flux\")\n",
    "\n",
    "    @xs.runtime(args=\"step_delta\")\n",
    "    def run_step(self, dt):\n",
    "\n",
    "        growth= self.v/20\n",
    "        \n",
    "        self.value_out = self.value - growth \n",
    "    \n",
    "        \n",
    "@xs.process\n",
    "class checkVal:\n",
    "    val = xs.foreign(Component, 'value', intent='in')\n",
    "    \n",
    "    def run_step(self):\n",
    "        print(self.val)\n",
    "#The answer is NO\n",
    "\n",
    "#but variables can be initialized with xs.foreign as well!\n",
    "#is that maybe useful?? "
   ]
  },
  {
   "cell_type": "code",
   "execution_count": 29,
   "metadata": {},
   "outputs": [],
   "source": [
    "test = xs.Model({'C':Component, 'F':oneFlux, 'f2':twoFlux, 'InitC':InitC, 'INIT':INIT})"
   ]
  },
  {
   "cell_type": "code",
   "execution_count": 30,
   "metadata": {},
   "outputs": [
    {
     "data": {
      "text/plain": [
       "<xsimlab.Model (5 processes, 2 inputs)>\n",
       "INIT\n",
       "    numberofcomps     [in] total length\n",
       "InitC\n",
       "f2\n",
       "F\n",
       "C\n",
       "    v                 [in] () or ('C',) velocity"
      ]
     },
     "execution_count": 30,
     "metadata": {},
     "output_type": "execute_result"
    }
   ],
   "source": [
    "test"
   ]
  },
  {
   "cell_type": "code",
   "execution_count": 31,
   "metadata": {},
   "outputs": [],
   "source": [
    "testin_ds = xs.create_setup(\n",
    "     model=test,\n",
    "     clocks={\n",
    "         'time': np.linspace(0., 10., 11)#,\n",
    "         #'otime': [0, 0.1, 0.5, 1]\n",
    "     },\n",
    "     master_clock='time',\n",
    "     input_vars={\n",
    "        'INIT__numberofcomps':1,  #'grid__numberofcomps':3,\n",
    "         'C__v':1\n",
    "         #'advect__v': 1.\n",
    "     },\n",
    "     output_vars={\n",
    "         'C__value':'time'#'profile__c_state': 'time'\n",
    "     }\n",
    " )"
   ]
  },
  {
   "cell_type": "code",
   "execution_count": 32,
   "metadata": {},
   "outputs": [
    {
     "name": "stdout",
     "output_type": "stream",
     "text": [
      "[0.05]\n",
      "[0.15]\n",
      "[0.45]\n",
      "[1.35]\n",
      "[4.05]\n",
      "[12.15]\n",
      "[36.45]\n",
      "[109.35]\n",
      "[328.05]\n",
      "[984.15]\n"
     ]
    }
   ],
   "source": [
    "with test:\n",
    "    out= testin_ds.xsimlab.run()"
   ]
  },
  {
   "cell_type": "code",
   "execution_count": null,
   "metadata": {},
   "outputs": [],
   "source": []
  }
 ],
 "metadata": {
  "kernelspec": {
   "display_name": "Python 3",
   "language": "python",
   "name": "python3"
  },
  "language_info": {
   "codemirror_mode": {
    "name": "ipython",
    "version": 3
   },
   "file_extension": ".py",
   "mimetype": "text/x-python",
   "name": "python",
   "nbconvert_exporter": "python",
   "pygments_lexer": "ipython3",
   "version": "3.8.2"
  }
 },
 "nbformat": 4,
 "nbformat_minor": 4
}
