{
 "cells": [
  {
   "cell_type": "markdown",
   "metadata": {},
   "source": [
    "# SO the trick I think is= \n",
    "initialize the \"array\" in another process\n",
    "this allows high flexibility, since that other process can have more complex functions behind the parameters passed in\n",
    "\n",
    "this would be a beautiful way to set up the size based allometries for example\n",
    "\n",
    "and that way the current state can be calculated within that process\n",
    "\n",
    "the only remaining question is then: how to pass state to fluxes.. (perhaps need new argument here? any_object? _model_context?_"
   ]
  },
  {
   "cell_type": "code",
   "execution_count": null,
   "metadata": {},
   "outputs": [],
   "source": [
    "# this is the central state (i think)\n",
    "@xs.process\n",
    "class SurfaceTopography:\n",
    "    \"\"\"Update the elevation of the (land and/or submarine) surface\n",
    "    topography.\n",
    "    \"\"\"\n",
    "    elevation = xs.variable(\n",
    "        dims=('y', 'x'),\n",
    "        intent='inout',\n",
    "        description='surface topography elevation'\n",
    "    )\n",
    "\n",
    "    motion_upward = xs.foreign(TotalVerticalMotion, 'surface_upward')\n",
    "\n",
    "    def finalize_step(self):\n",
    "        self.elevation += self.motion_upward\n",
    "        \n"
   ]
  },
  {
   "cell_type": "code",
   "execution_count": null,
   "metadata": {},
   "outputs": [],
   "source": [
    "# this is where it get's initialized in a seperate process via xs.foreign\n",
    "@xs.process\n",
    "class FlatSurface:\n",
    "    \"\"\"Initialize surface topography as a flat surface at sea-level with\n",
    "    random perturbations (white noise).\n",
    "    \"\"\"\n",
    "    shape = xs.foreign(UniformRectilinearGrid2D, 'shape')\n",
    "    elevation = xs.foreign(SurfaceTopography, 'elevation', intent='out')\n",
    "\n",
    "    def initialize(self):\n",
    "        self.elevation = np.random.rand(*self.shape)\n",
    "\n",
    "        # interesting rename:\n",
    "@xs.process\n",
    "class BareRockSurface:\n",
    "    \"\"\"Initialize topographic surface as a bare rock surface.\"\"\"\n",
    "\n",
    "    surf_elevation = xs.foreign(SurfaceTopography, 'elevation')\n",
    "    bedrock_elevation = xs.foreign(Bedrock, 'elevation', intent='out')\n",
    "\n",
    "    def initialize(self):\n",
    "        self.bedrock_elevation = self.surf_elevation.copy()"
   ]
  },
  {
   "cell_type": "code",
   "execution_count": null,
   "metadata": {},
   "outputs": [],
   "source": [
    "# this is kind of interesting, so here a new variable is created\n",
    "# not sure how it get's reused after here, though\n",
    "@xs.process\n",
    "class SurfaceAfterTectonics(SurfaceToErode):\n",
    "    \"\"\"Used for the computation erosion processes after\n",
    "    applying tectonic forcing.\n",
    "    \"\"\"\n",
    "    topo_elevation = xs.foreign(SurfaceTopography, 'elevation')\n",
    "\n",
    "    forced_motion = xs.foreign(TectonicForcing, 'surface_upward')\n",
    "\n",
    "    elevation = xs.variable(\n",
    "        dims=('y', 'x'),\n",
    "        intent='out',\n",
    "        description='surface elevation before erosion'\n",
    "    )\n",
    "\n",
    "    def run_step(self):\n",
    "        self.elevation = self.topo_elevation + self.forced_motion\n"
   ]
  }
 ],
 "metadata": {
  "kernelspec": {
   "display_name": "Python 3",
   "language": "python",
   "name": "python3"
  },
  "language_info": {
   "codemirror_mode": {
    "name": "ipython",
    "version": 3
   },
   "file_extension": ".py",
   "mimetype": "text/x-python",
   "name": "python",
   "nbconvert_exporter": "python",
   "pygments_lexer": "ipython3",
   "version": "3.8.2"
  }
 },
 "nbformat": 4,
 "nbformat_minor": 4
}
