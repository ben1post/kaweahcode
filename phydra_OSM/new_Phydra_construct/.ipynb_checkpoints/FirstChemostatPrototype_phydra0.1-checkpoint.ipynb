{
 "cells": [
  {
   "cell_type": "code",
   "execution_count": 1,
   "metadata": {},
   "outputs": [],
   "source": [
    "import numpy as np\n",
    "import xsimlab as xs\n",
    "from scipy.integrate import odeint\n",
    "import matplotlib.pyplot as plt"
   ]
  },
  {
   "cell_type": "markdown",
   "metadata": {},
   "source": [
    "# TODO\n",
    "- implement a full component index for model output! (maybe later though, make sure to have all dimensions indexed, is all)\n",
    "- is odeint usage possible? by passing run_step as function (any_object?), instead passing array values?\n",
    "- implement external initialisations for Components, like Allometric Phytoplankton\n"
   ]
  },
  {
   "cell_type": "code",
   "execution_count": 320,
   "metadata": {},
   "outputs": [],
   "source": [
    "# This definitely also makes sense, but just as construction help for future components (and building block of the current ones)\n",
    "@xs.process\n",
    "class Time:\n",
    "    days = xs.variable(dims='time', description='time in days')\n",
    "    # for indexing xarray IO objects\n",
    "    # NOTE: this is what allows storing the output along time properly even when using odeint!\n",
    "    time = xs.index(dims='time', description='time in days')\n",
    "    \n",
    "    def initialize(self):\n",
    "        self.time = self.days\n",
    "        \n",
    "        \n",
    "        \n",
    "        \n",
    "@xs.process\n",
    "class Component:\n",
    "    \"\"\"Base class encoding behaviour for a component of a ecosystem.\n",
    "        subclass needs to have implemented:\n",
    "        self.num, self.component_label, self.init, \n",
    "        \n",
    "    \"\"\"\n",
    "    num = xs.variable(dims=(),intent='in')\n",
    "    \n",
    "    \n",
    "    @xs.runtime(args=\"step_delta\")\n",
    "    def run_step(self, dt):\n",
    "        # Note to self: sum yields1D array, due to generator unpacking within sum\n",
    "        self._delta = 0.1 * dt #sum((v for v in self.fluxes))) #maybe can remove forcing to numpy array here later\n",
    "\n",
    "    def finalize_step(self):\n",
    "        self.state = self.state + self._delta * self.state\n",
    "        self._delta = None\n",
    "\n",
    "        \n",
    "@xs.process\n",
    "class Nutrient(Component):\n",
    "    \"\"\"\"\"\"\n",
    "    N = xs.index(dims='N')\n",
    "    component_label = xs.variable(default='N', groups='component-label', static=True)\n",
    "    \n",
    "    fluxes = xs.group('n_flux')\n",
    "    state = xs.variable(dims='N', intent='out', groups = 'state-variables', description='component array', attrs={'units': 'µM N'})\n",
    "\n",
    "    # PARAMETERS / INPUTS\n",
    "    num = xs.variable(default=1, static=True, description='number of nutrients (1 by default)')\n",
    "    init = xs.variable(dims='N', intent='in')\n",
    "    \n",
    "    def initialize(self):\n",
    "        self.N = np.array([f\"{self.component_label}-{i+1}\" for i in range(self.num)])\n",
    "        self.state = self.init\n",
    "            \n",
    "@xs.process\n",
    "class Phytoplankton(Component):\n",
    "    \"\"\"\"\"\"\n",
    "    P = xs.index(dims='P')\n",
    "    component_label = xs.variable(default='P', groups='component-label', static=True)\n",
    "    \n",
    "    fluxes = xs.group('p_flux')\n",
    "    state = xs.variable(dims='P', intent='out', groups = 'state-variables', description='component array', attrs={'units': 'µM N'})\n",
    "    \n",
    "    # PARAMETERS / INPUTS\n",
    "    init = xs.variable(dims='P',intent='in')\n",
    "    halfsat = xs.variable(intent='in', dims='P', groups='parameters')\n",
    "    \n",
    "    def initialize(self):\n",
    "        self.P = np.array([f\"{self.component_label}-{i+1}\" for i in range(self.num)])\n",
    "        self.state = self.init\n",
    "\n",
    "\n",
    "@xs.process\n",
    "class ChemostatSetup:\n",
    "    P_num = xs.variable(intent='in', static=True, description='number of Phytoplankton')\n",
    "    P_initVal = xs.variable(intent='in', dims=[(), 'P'], static=True, description='initial Phytoplankton biomass')\n",
    "    halfsat = xs.variable(intent='in', dims=[(), 'P'], static=True, description='half-saturation constant of nutrient uptake for P')\n",
    "\n",
    "    P_num_out = xs.foreign(Phytoplankton, 'num', intent='out')    \n",
    "    P_init = xs.foreign(Phytoplankton, 'init', intent='out')\n",
    "    halfsat_out = xs.foreign(Phytoplankton, 'halfsat', intent='out')\n",
    "    \n",
    "    N_initVal = xs.variable(intent='in', static=True, description='initial Nutrient concentration')\n",
    "    N_init = xs.foreign(Nutrient, 'init', intent='out')\n",
    "\n",
    "    \n",
    "    def initialize(self):\n",
    "        print('init')\n",
    "        self.P_num_out = self.P_num\n",
    "        self.halfsat_out = np.array([self.halfsat for i in range(self.P_num)])\n",
    "        self.P_init = np.array([self.P_initVal for i in range(self.P_num)])\n",
    "        self.N_init = np.array([self.N_initVal for i in range(1)])\n",
    "        \n",
    "        \n",
    "@xs.process\n",
    "class PhytoplanktonGrowth:\n",
    "    \"\"\"\"\"\"\n",
    "    growth = xs.variable(\n",
    "        dims='P',\n",
    "        intent='out',\n",
    "        groups=['p_flux'],\n",
    "        description='phytoplankton growth, under light & nutrient limitation'\n",
    "    )\n",
    "    \n",
    "@xs.process\n",
    "class NutrientUptake(PhytoplanktonGrowth):\n",
    "    \"\"\"\"\"\"\n",
    "    N = xs.foreign(Nutrient, 'state')\n",
    "    P = xs.foreign(Phytoplankton, 'state')\n",
    "    P_halfsat = xs.foreign(Phytoplankton, 'halfsat')\n",
    "    \n",
    "    def run_step(self):\n",
    "        self.growth = self.N / (self.P_halfsat + self.N) * self.P\n",
    "    \n",
    "    \n",
    "@xs.process\n",
    "class Forcing:\n",
    "    \"\"\"Sum up all forcing processes and their effects, respectively.\n",
    "    \"\"\"\n",
    "    pass\n",
    "    \n",
    "\n",
    "class NutrientSource(Forcing):\n",
    "    \"\"\"Chemostat constant nutrient inflow from one direction\"\"\"\n",
    "    forcing_flux = xs.variable(\n",
    "        dims=[(), 'N'],\n",
    "        intent='out',\n",
    "        groups='n_flux',\n",
    "        description='constant nutrient influx'\n",
    "    )\n",
    "\n",
    "    #N = xs.foreign(Nutrient, 'state')\n",
    "    \n",
    "    #@xs.runtime(args='step_delta')\n",
    "    def run_step(self):\n",
    "        self.forcing_flux = 0.1\n"
   ]
  },
  {
   "cell_type": "code",
   "execution_count": 321,
   "metadata": {},
   "outputs": [],
   "source": [
    "mod = xs.Model(\n",
    "    {\n",
    "        'ModelSetup':ChemostatSetup,\n",
    "        'N':Nutrient, \n",
    "        'P':Phytoplankton#, \n",
    "        #'N_Uptake':NutrientUptake, \n",
    "        #'N_source':NutrientSource\n",
    "    }\n",
    ")"
   ]
  },
  {
   "cell_type": "code",
   "execution_count": 322,
   "metadata": {},
   "outputs": [
    {
     "data": {
      "text/plain": [
       "<xsimlab.Model (3 processes, 7 inputs)>\n",
       "ModelSetup\n",
       "    halfsat             [in] () or ('P',) half-saturation constant ...\n",
       "    P_num               [in] number of Phytoplankton\n",
       "    P_initVal           [in] () or ('P',) initial Phytoplankton bio...\n",
       "    N_initVal           [in] initial Nutrient concentration\n",
       "N\n",
       "    component_label     [in]\n",
       "    num                 [in] number of nutrients (1 by default)\n",
       "P\n",
       "    component_label     [in]"
      ]
     },
     "execution_count": 322,
     "metadata": {},
     "output_type": "execute_result"
    }
   ],
   "source": [
    "mod"
   ]
  },
  {
   "cell_type": "code",
   "execution_count": 327,
   "metadata": {},
   "outputs": [],
   "source": [
    "in_ds = xs.create_setup(\n",
    "     model=mod,\n",
    "     clocks={\n",
    "         'time': np.linspace(0., 20., 2001)\n",
    "     },\n",
    "     master_clock='time',\n",
    "     input_vars={\n",
    "         'ModelSetup':{'P_num':5,'P_initVal':1,'halfsat':0.5, 'N_initVal':1}\n",
    "     },\n",
    "     output_vars={\n",
    "        'P__state': 'time',\n",
    "        'N__state': 'time'\n",
    "     }\n",
    " )"
   ]
  },
  {
   "cell_type": "code",
   "execution_count": 328,
   "metadata": {},
   "outputs": [
    {
     "name": "stdout",
     "output_type": "stream",
     "text": [
      "init\n"
     ]
    }
   ],
   "source": [
    "with mod:\n",
    "    out_ds = in_ds.xsimlab.run()"
   ]
  },
  {
   "cell_type": "code",
   "execution_count": 329,
   "metadata": {},
   "outputs": [
    {
     "data": {
      "text/plain": [
       "[<matplotlib.lines.Line2D at 0x11e2a0e50>]"
      ]
     },
     "execution_count": 329,
     "metadata": {},
     "output_type": "execute_result"
    },
    {
     "data": {
      "image/png": "[encoded data removed]",
      "text/plain": [
       "<Figure size 432x288 with 1 Axes>"
      ]
     },
     "metadata": {
      "needs_background": "light"
     },
     "output_type": "display_data"
    }
   ],
   "source": [
    "out_ds.N__state.plot()"
   ]
  },
  {
   "cell_type": "code",
   "execution_count": 330,
   "metadata": {},
   "outputs": [
    {
     "data": {
      "text/plain": [
       "[<matplotlib.lines.Line2D at 0x11d5ad130>,\n",
       " <matplotlib.lines.Line2D at 0x11d5adb20>,\n",
       " <matplotlib.lines.Line2D at 0x11d5ad400>,\n",
       " <matplotlib.lines.Line2D at 0x11d5adfd0>,\n",
       " <matplotlib.lines.Line2D at 0x11d5ade20>]"
      ]
     },
     "execution_count": 330,
     "metadata": {},
     "output_type": "execute_result"
    },
    {
     "data": {
      "image/png": "[encoded data removed]",
      "text/plain": [
       "<Figure size 432x288 with 1 Axes>"
      ]
     },
     "metadata": {
      "needs_background": "light"
     },
     "output_type": "display_data"
    }
   ],
   "source": [
    "out_ds.P__state.set_index(P='P').plot.line(x='time')"
   ]
  },
  {
   "cell_type": "code",
   "execution_count": null,
   "metadata": {},
   "outputs": [],
   "source": []
  },
  {
   "cell_type": "code",
   "execution_count": null,
   "metadata": {},
   "outputs": [],
   "source": []
  }
 ],
 "metadata": {
  "kernelspec": {
   "display_name": "Python 3",
   "language": "python",
   "name": "python3"
  },
  "language_info": {
   "codemirror_mode": {
    "name": "ipython",
    "version": 3
   },
   "file_extension": ".py",
   "mimetype": "text/x-python",
   "name": "python",
   "nbconvert_exporter": "python",
   "pygments_lexer": "ipython3",
   "version": "3.8.2"
  }
 },
 "nbformat": 4,
 "nbformat_minor": 4
}
