{
 "cells": [
  {
   "cell_type": "code",
   "execution_count": 1,
   "metadata": {},
   "outputs": [],
   "source": [
    "import numpy as np\n",
    "import xsimlab as xs\n",
    "from scipy.integrate import odeint\n",
    "import matplotlib.pyplot as plt"
   ]
  },
  {
   "cell_type": "markdown",
   "metadata": {},
   "source": [
    "# TODO\n",
    "\n",
    "- is odeint usage possible? by passing run_step as function (any_object?), instead passing array values?\n",
    "- is a 3D implementation possible as of now? try!\n",
    "- can I somehow make this more clearly structured? and easier to add new processes? DOCUMENT CODE WELL! (then share with Benoît)\n"
   ]
  },
  {
   "cell_type": "markdown",
   "metadata": {},
   "source": [
    "# NOTES:\n",
    "### 1. intent is very important! needs to have a proper routing!"
   ]
  },
  {
   "cell_type": "code",
   "execution_count": 337,
   "metadata": {},
   "outputs": [],
   "source": [
    "@xs.process\n",
    "class Component:\n",
    "    \"\"\"Base class encoding behaviour for a component of a ecosystem.\n",
    "        subclass needs to have implemented:\n",
    "        self.component_label, self.init, \n",
    "        \n",
    "    \"\"\"\n",
    "    num = xs.variable(dims=(),intent='in')\n",
    "\n",
    "    \n",
    "    @xs.runtime(args=\"step_delta\")\n",
    "    def run_step(self, dt):\n",
    "        self.delta = sum((v for v in self.fluxes)) * dt  #maybe can remove forcing to numpy array here later\n",
    "\n",
    "\n",
    "    \n",
    "    @xs.runtime(args=\"step_delta\")\n",
    "    def finalize_step(self, dt):\n",
    "        self.state += self.delta * self.state\n",
    "        \n",
    "\n",
    "\n",
    "        \n",
    "@xs.process\n",
    "class Nutrient(Component):\n",
    "    \"\"\"\"\"\"\n",
    "    N = xs.index(dims='N')\n",
    "    component_label = xs.variable(default='N', groups='component-label', static=True)\n",
    "    \n",
    "    fluxes = xs.group('n_flux')\n",
    "    state = xs.variable(dims='N', intent='inout', groups = 'state-variables', description='component array', attrs={'units': 'µM N'})\n",
    "\n",
    "    # PARAMETERS / INPUTS\n",
    "    num = xs.variable(default=1, static=True, description='number of nutrients (1 by default)')\n",
    "    \n",
    "    def initialize(self):\n",
    "        self.time = 0\n",
    "        self.N = np.array([f\"{self.component_label}-{i+1}\" for i in range(self.num)])\n",
    "            \n",
    "@xs.process\n",
    "class Phytoplankton(Component):\n",
    "    \"\"\"\"\"\"\n",
    "    P = xs.index(dims='P')\n",
    "    component_label = xs.variable(default='P', groups='component-label', static=True)\n",
    "    \n",
    "    fluxes = xs.group('p_flux')\n",
    "    state = xs.variable(dims='P', intent='inout', groups = 'state-variables', description='component array', attrs={'units': 'µM N'})\n",
    "    \n",
    "    # PARAMETERS / INPUTS\n",
    "    halfsat = xs.variable(intent='in', dims='P', groups='parameters')\n",
    "    \n",
    "    def initialize(self):\n",
    "        self.time = 0\n",
    "        self.P = np.array([f\"{self.component_label}-{i+1}\" for i in range(self.num)])"
   ]
  },
  {
   "cell_type": "code",
   "execution_count": 338,
   "metadata": {},
   "outputs": [],
   "source": [
    "@xs.process\n",
    "class NutrientUptake:\n",
    "    \"\"\"\"\"\"\n",
    "    growth = xs.variable(\n",
    "        dims='P',\n",
    "        intent='out',\n",
    "        groups=['p_flux'],\n",
    "        description='phytoplankton growth, under light & nutrient limitation'\n",
    "    )\n",
    "    \n",
    "    uptake = xs.variable(\n",
    "        dims='N',\n",
    "        intent='out',\n",
    "        groups=['n_flux'],\n",
    "        description='sum of all phytoplankton growth'\n",
    "    )\n",
    "    \n",
    "    N = xs.foreign(Nutrient, 'state', intent='in')\n",
    "    P = xs.foreign(Phytoplankton, 'state', intent='in')\n",
    "    P_halfsat = xs.foreign(Phytoplankton, 'halfsat', intent='in')\n",
    "    \n",
    "    def run_step(self):\n",
    "        nutrient_uptake = self.N / (self.P_halfsat + self.N)\n",
    "        self.growth = np.array(nutrient_uptake, dtype='float64')\n",
    "        self.uptake = np.array(- sum(nutrient_uptake), dtype='float64')\n",
    "\n",
    "        \n",
    "@xs.process\n",
    "class PhytoMortality:\n",
    "    \"\"\"\"\"\"\n",
    "    mortality = xs.variable(\n",
    "        dims='P',\n",
    "        intent='out',\n",
    "        groups=['p_flux'],\n",
    "        description='phytoplankton growth, under light & nutrient limitation'\n",
    "    )\n",
    "    \n",
    "    P = xs.foreign(Phytoplankton, 'state', intent='in')\n",
    "    \n",
    "    def run_step(self):\n",
    "        self.mortality = - sum(np.array([0.1], dtype='float64')) * self.P\n",
    "    \n",
    "@xs.process\n",
    "class NutrientSource:\n",
    "    \"\"\"Chemostat constant nutrient inflow from one direction\"\"\"\n",
    "    supply = xs.variable(\n",
    "        dims='N',\n",
    "        intent='out',\n",
    "        groups=['n_flux'],\n",
    "        description='sum of all phytoplankton growth'\n",
    "    )\n",
    "\n",
    "    N = xs.foreign(Nutrient, 'state')\n",
    "    \n",
    "    #@xs.runtime(args='step_delta')\n",
    "    def run_step(self):\n",
    "        self.supply = np.array(0.1, dtype='float64')"
   ]
  },
  {
   "cell_type": "code",
   "execution_count": 363,
   "metadata": {},
   "outputs": [],
   "source": [
    "@xs.process\n",
    "class ChemostatSetup:\n",
    "    P_num = xs.variable(intent='in', static=True, description='number of Phytoplankton')\n",
    "    P_initVal = xs.variable(intent='in', dims=[(), 'P'], description='initial Phytoplankton biomass')\n",
    "    halfsat = xs.variable(intent='in', dims=[(), 'P'], static=True, description='half-saturation constant of nutrient uptake for P')\n",
    "\n",
    "    N_initVal = xs.variable(intent='in', static=True, description='initial Nutrient concentration')\n",
    "    \n",
    "    P_num_out = xs.foreign(Phytoplankton, 'num', intent='out')    \n",
    "    P_init = xs.foreign(Phytoplankton, 'state', intent='out')\n",
    "    halfsat_out = xs.foreign(Phytoplankton, 'halfsat', intent='out')\n",
    "    \n",
    "    N_init = xs.foreign(Nutrient, 'state', intent='out')\n",
    "\n",
    "    \n",
    "    def initialize(self):\n",
    "        print('init')\n",
    "        self.P_num_out = self.P_num\n",
    "        self.halfsat_out = np.array([self.halfsat + i/2 for i in range(self.P_num)], dtype='float64')\n",
    "        self.P_init = np.array([self.P_initVal for i in range(self.P_num)], dtype='float64')\n",
    "        self.N_init = np.array([self.N_initVal for i in range(1)], dtype='float64')"
   ]
  },
  {
   "cell_type": "code",
   "execution_count": 364,
   "metadata": {},
   "outputs": [],
   "source": [
    "mod = xs.Model(\n",
    "    {\n",
    "        'ModelSetup':ChemostatSetup,\n",
    "        'N':Nutrient, \n",
    "        'P':Phytoplankton, \n",
    "        'N_Uptake':NutrientUptake,\n",
    "        'P_Mortality':PhytoMortality,\n",
    "        'N_source':NutrientSource\n",
    "    }\n",
    ")"
   ]
  },
  {
   "cell_type": "code",
   "execution_count": 365,
   "metadata": {},
   "outputs": [
    {
     "data": {
      "text/plain": [
       "<xsimlab.Model (6 processes, 7 inputs)>\n",
       "ModelSetup\n",
       "    P_initVal           [in] () or ('P',) initial Phytoplankton bio...\n",
       "    P_num               [in] number of Phytoplankton\n",
       "    N_initVal           [in] initial Nutrient concentration\n",
       "    halfsat             [in] () or ('P',) half-saturation constant ...\n",
       "N_source\n",
       "N_Uptake\n",
       "N\n",
       "    component_label     [in]\n",
       "    num                 [in] number of nutrients (1 by default)\n",
       "P_Mortality\n",
       "P\n",
       "    component_label     [in]"
      ]
     },
     "execution_count": 365,
     "metadata": {},
     "output_type": "execute_result"
    }
   ],
   "source": [
    "mod"
   ]
  },
  {
   "cell_type": "code",
   "execution_count": 372,
   "metadata": {},
   "outputs": [
    {
     "data": {
      "image/png": "[encoded data removed]",
      "text/plain": [
       "<IPython.core.display.Image object>"
      ]
     },
     "execution_count": 372,
     "metadata": {},
     "output_type": "execute_result"
    }
   ],
   "source": [
    "mod.visualize()"
   ]
  },
  {
   "cell_type": "code",
   "execution_count": 366,
   "metadata": {},
   "outputs": [],
   "source": [
    "#mod.visualize(show_inputs=False, show_variables=True)"
   ]
  },
  {
   "cell_type": "code",
   "execution_count": 373,
   "metadata": {},
   "outputs": [],
   "source": [
    "in_ds = xs.create_setup(\n",
    "     model=mod,\n",
    "     clocks={\n",
    "         'time': np.linspace(0., 200., 3000)\n",
    "     },\n",
    "     master_clock='time',\n",
    "     input_vars={\n",
    "         'ModelSetup':{'P_num':1,'P_initVal':1,'halfsat':0.5, 'N_initVal':1}\n",
    "     },\n",
    "     output_vars={\n",
    "        'P__state': 'time',\n",
    "        'N__state': 'time'\n",
    "     }\n",
    " )"
   ]
  },
  {
   "cell_type": "code",
   "execution_count": 374,
   "metadata": {},
   "outputs": [
    {
     "name": "stdout",
     "output_type": "stream",
     "text": [
      "init\n"
     ]
    }
   ],
   "source": [
    "with mod:\n",
    "    out_ds = in_ds.xsimlab.run()"
   ]
  },
  {
   "cell_type": "code",
   "execution_count": 375,
   "metadata": {},
   "outputs": [
    {
     "data": {
      "text/plain": [
       "[<matplotlib.lines.Line2D at 0x127ada790>]"
      ]
     },
     "execution_count": 375,
     "metadata": {},
     "output_type": "execute_result"
    },
    {
     "data": {
      "image/png": "[encoded data removed]",
      "text/plain": [
       "<Figure size 432x288 with 1 Axes>"
      ]
     },
     "metadata": {
      "needs_background": "light"
     },
     "output_type": "display_data"
    }
   ],
   "source": [
    "out_ds.N__state.plot()"
   ]
  },
  {
   "cell_type": "code",
   "execution_count": 376,
   "metadata": {},
   "outputs": [
    {
     "data": {
      "text/plain": [
       "[<matplotlib.lines.Line2D at 0x127c00580>]"
      ]
     },
     "execution_count": 376,
     "metadata": {},
     "output_type": "execute_result"
    },
    {
     "data": {
      "image/png": "[encoded data removed]",
      "text/plain": [
       "<Figure size 432x288 with 1 Axes>"
      ]
     },
     "metadata": {
      "needs_background": "light"
     },
     "output_type": "display_data"
    }
   ],
   "source": [
    "out_ds.P__state.plot.line(x='time')"
   ]
  },
  {
   "cell_type": "code",
   "execution_count": 377,
   "metadata": {},
   "outputs": [
    {
     "data": {
      "text/html": [
       "<div><svg style=\"position: absolute; width: 0; height: 0; overflow: hidden\">\n",
       "<defs>\n",
       "<symbol id=\"icon-database\" viewBox=\"0 0 32 32\">\n",
       "<title>Show/Hide data repr</title>\n",
       "<path d=\"M16 0c-8.837 0-16 2.239-16 5v4c0 2.761 7.163 5 16 5s16-2.239 16-5v-4c0-2.761-7.163-5-16-5z\"></path>\n",
       "<path d=\"M16 17c-8.837 0-16-2.239-16-5v6c0 2.761 7.163 5 16 5s16-2.239 16-5v-6c0 2.761-7.163 5-16 5z\"></path>\n",
       "<path d=\"M16 26c-8.837 0-16-2.239-16-5v6c0 2.761 7.163 5 16 5s16-2.239 16-5v-6c0 2.761-7.163 5-16 5z\"></path>\n",
       "</symbol>\n",
       "<symbol id=\"icon-file-text2\" viewBox=\"0 0 32 32\">\n",
       "<title>Show/Hide attributes</title>\n",
       "<path d=\"M28.681 7.159c-0.694-0.947-1.662-2.053-2.724-3.116s-2.169-2.030-3.116-2.724c-1.612-1.182-2.393-1.319-2.841-1.319h-15.5c-1.378 0-2.5 1.121-2.5 2.5v27c0 1.378 1.122 2.5 2.5 2.5h23c1.378 0 2.5-1.122 2.5-2.5v-19.5c0-0.448-0.137-1.23-1.319-2.841zM24.543 5.457c0.959 0.959 1.712 1.825 2.268 2.543h-4.811v-4.811c0.718 0.556 1.584 1.309 2.543 2.268zM28 29.5c0 0.271-0.229 0.5-0.5 0.5h-23c-0.271 0-0.5-0.229-0.5-0.5v-27c0-0.271 0.229-0.5 0.5-0.5 0 0 15.499-0 15.5 0v7c0 0.552 0.448 1 1 1h7v19.5z\"></path>\n",
       "<path d=\"M23 26h-14c-0.552 0-1-0.448-1-1s0.448-1 1-1h14c0.552 0 1 0.448 1 1s-0.448 1-1 1z\"></path>\n",
       "<path d=\"M23 22h-14c-0.552 0-1-0.448-1-1s0.448-1 1-1h14c0.552 0 1 0.448 1 1s-0.448 1-1 1z\"></path>\n",
       "<path d=\"M23 18h-14c-0.552 0-1-0.448-1-1s0.448-1 1-1h14c0.552 0 1 0.448 1 1s-0.448 1-1 1z\"></path>\n",
       "</symbol>\n",
       "</defs>\n",
       "</svg>\n",
       "<style>/* CSS stylesheet for displaying xarray objects in jupyterlab.\n",
       " *\n",
       " */\n",
       "\n",
       ":root {\n",
       "  --xr-font-color0: var(--jp-content-font-color0, rgba(0, 0, 0, 1));\n",
       "  --xr-font-color2: var(--jp-content-font-color2, rgba(0, 0, 0, 0.54));\n",
       "  --xr-font-color3: var(--jp-content-font-color3, rgba(0, 0, 0, 0.38));\n",
       "  --xr-border-color: var(--jp-border-color2, #e0e0e0);\n",
       "  --xr-disabled-color: var(--jp-layout-color3, #bdbdbd);\n",
       "  --xr-background-color: var(--jp-layout-color0, white);\n",
       "  --xr-background-color-row-even: var(--jp-layout-color1, white);\n",
       "  --xr-background-color-row-odd: var(--jp-layout-color2, #eeeeee);\n",
       "}\n",
       "\n",
       ".xr-wrap {\n",
       "  min-width: 300px;\n",
       "  max-width: 700px;\n",
       "}\n",
       "\n",
       ".xr-header {\n",
       "  padding-top: 6px;\n",
       "  padding-bottom: 6px;\n",
       "  margin-bottom: 4px;\n",
       "  border-bottom: solid 1px var(--xr-border-color);\n",
       "}\n",
       "\n",
       ".xr-header > div,\n",
       ".xr-header > ul {\n",
       "  display: inline;\n",
       "  margin-top: 0;\n",
       "  margin-bottom: 0;\n",
       "}\n",
       "\n",
       ".xr-obj-type,\n",
       ".xr-array-name {\n",
       "  margin-left: 2px;\n",
       "  margin-right: 10px;\n",
       "}\n",
       "\n",
       ".xr-obj-type {\n",
       "  color: var(--xr-font-color2);\n",
       "}\n",
       "\n",
       ".xr-sections {\n",
       "  padding-left: 0 !important;\n",
       "  display: grid;\n",
       "  grid-template-columns: 150px auto auto 1fr 20px 20px;\n",
       "}\n",
       "\n",
       ".xr-section-item {\n",
       "  display: contents;\n",
       "}\n",
       "\n",
       ".xr-section-item input {\n",
       "  display: none;\n",
       "}\n",
       "\n",
       ".xr-section-item input + label {\n",
       "  color: var(--xr-disabled-color);\n",
       "}\n",
       "\n",
       ".xr-section-item input:enabled + label {\n",
       "  cursor: pointer;\n",
       "  color: var(--xr-font-color2);\n",
       "}\n",
       "\n",
       ".xr-section-item input:enabled + label:hover {\n",
       "  color: var(--xr-font-color0);\n",
       "}\n",
       "\n",
       ".xr-section-summary {\n",
       "  grid-column: 1;\n",
       "  color: var(--xr-font-color2);\n",
       "  font-weight: 500;\n",
       "}\n",
       "\n",
       ".xr-section-summary > span {\n",
       "  display: inline-block;\n",
       "  padding-left: 0.5em;\n",
       "}\n",
       "\n",
       ".xr-section-summary-in:disabled + label {\n",
       "  color: var(--xr-font-color2);\n",
       "}\n",
       "\n",
       ".xr-section-summary-in + label:before {\n",
       "  display: inline-block;\n",
       "  content: '►';\n",
       "  font-size: 11px;\n",
       "  width: 15px;\n",
       "  text-align: center;\n",
       "}\n",
       "\n",
       ".xr-section-summary-in:disabled + label:before {\n",
       "  color: var(--xr-disabled-color);\n",
       "}\n",
       "\n",
       ".xr-section-summary-in:checked + label:before {\n",
       "  content: '▼';\n",
       "}\n",
       "\n",
       ".xr-section-summary-in:checked + label > span {\n",
       "  display: none;\n",
       "}\n",
       "\n",
       ".xr-section-summary,\n",
       ".xr-section-inline-details {\n",
       "  padding-top: 4px;\n",
       "  padding-bottom: 4px;\n",
       "}\n",
       "\n",
       ".xr-section-inline-details {\n",
       "  grid-column: 2 / -1;\n",
       "}\n",
       "\n",
       ".xr-section-details {\n",
       "  display: none;\n",
       "  grid-column: 1 / -1;\n",
       "  margin-bottom: 5px;\n",
       "}\n",
       "\n",
       ".xr-section-summary-in:checked ~ .xr-section-details {\n",
       "  display: contents;\n",
       "}\n",
       "\n",
       ".xr-array-wrap {\n",
       "  grid-column: 1 / -1;\n",
       "  display: grid;\n",
       "  grid-template-columns: 20px auto;\n",
       "}\n",
       "\n",
       ".xr-array-wrap > label {\n",
       "  grid-column: 1;\n",
       "  vertical-align: top;\n",
       "}\n",
       "\n",
       ".xr-preview {\n",
       "  color: var(--xr-font-color3);\n",
       "}\n",
       "\n",
       ".xr-array-preview,\n",
       ".xr-array-data {\n",
       "  padding: 0 5px !important;\n",
       "  grid-column: 2;\n",
       "}\n",
       "\n",
       ".xr-array-data,\n",
       ".xr-array-in:checked ~ .xr-array-preview {\n",
       "  display: none;\n",
       "}\n",
       "\n",
       ".xr-array-in:checked ~ .xr-array-data,\n",
       ".xr-array-preview {\n",
       "  display: inline-block;\n",
       "}\n",
       "\n",
       ".xr-dim-list {\n",
       "  display: inline-block !important;\n",
       "  list-style: none;\n",
       "  padding: 0 !important;\n",
       "  margin: 0;\n",
       "}\n",
       "\n",
       ".xr-dim-list li {\n",
       "  display: inline-block;\n",
       "  padding: 0;\n",
       "  margin: 0;\n",
       "}\n",
       "\n",
       ".xr-dim-list:before {\n",
       "  content: '(';\n",
       "}\n",
       "\n",
       ".xr-dim-list:after {\n",
       "  content: ')';\n",
       "}\n",
       "\n",
       ".xr-dim-list li:not(:last-child):after {\n",
       "  content: ',';\n",
       "  padding-right: 5px;\n",
       "}\n",
       "\n",
       ".xr-has-index {\n",
       "  font-weight: bold;\n",
       "}\n",
       "\n",
       ".xr-var-list,\n",
       ".xr-var-item {\n",
       "  display: contents;\n",
       "}\n",
       "\n",
       ".xr-var-item > div,\n",
       ".xr-var-item label,\n",
       ".xr-var-item > .xr-var-name span {\n",
       "  background-color: var(--xr-background-color-row-even);\n",
       "  margin-bottom: 0;\n",
       "}\n",
       "\n",
       ".xr-var-item > .xr-var-name:hover span {\n",
       "  padding-right: 5px;\n",
       "}\n",
       "\n",
       ".xr-var-list > li:nth-child(odd) > div,\n",
       ".xr-var-list > li:nth-child(odd) > label,\n",
       ".xr-var-list > li:nth-child(odd) > .xr-var-name span {\n",
       "  background-color: var(--xr-background-color-row-odd);\n",
       "}\n",
       "\n",
       ".xr-var-name {\n",
       "  grid-column: 1;\n",
       "}\n",
       "\n",
       ".xr-var-dims {\n",
       "  grid-column: 2;\n",
       "}\n",
       "\n",
       ".xr-var-dtype {\n",
       "  grid-column: 3;\n",
       "  text-align: right;\n",
       "  color: var(--xr-font-color2);\n",
       "}\n",
       "\n",
       ".xr-var-preview {\n",
       "  grid-column: 4;\n",
       "}\n",
       "\n",
       ".xr-var-name,\n",
       ".xr-var-dims,\n",
       ".xr-var-dtype,\n",
       ".xr-preview,\n",
       ".xr-attrs dt {\n",
       "  white-space: nowrap;\n",
       "  overflow: hidden;\n",
       "  text-overflow: ellipsis;\n",
       "  padding-right: 10px;\n",
       "}\n",
       "\n",
       ".xr-var-name:hover,\n",
       ".xr-var-dims:hover,\n",
       ".xr-var-dtype:hover,\n",
       ".xr-attrs dt:hover {\n",
       "  overflow: visible;\n",
       "  width: auto;\n",
       "  z-index: 1;\n",
       "}\n",
       "\n",
       ".xr-var-attrs,\n",
       ".xr-var-data {\n",
       "  display: none;\n",
       "  background-color: var(--xr-background-color) !important;\n",
       "  padding-bottom: 5px !important;\n",
       "}\n",
       "\n",
       ".xr-var-attrs-in:checked ~ .xr-var-attrs,\n",
       ".xr-var-data-in:checked ~ .xr-var-data {\n",
       "  display: block;\n",
       "}\n",
       "\n",
       ".xr-var-data > table {\n",
       "  float: right;\n",
       "}\n",
       "\n",
       ".xr-var-name span,\n",
       ".xr-var-data,\n",
       ".xr-attrs {\n",
       "  padding-left: 25px !important;\n",
       "}\n",
       "\n",
       ".xr-attrs,\n",
       ".xr-var-attrs,\n",
       ".xr-var-data {\n",
       "  grid-column: 1 / -1;\n",
       "}\n",
       "\n",
       "dl.xr-attrs {\n",
       "  padding: 0;\n",
       "  margin: 0;\n",
       "  display: grid;\n",
       "  grid-template-columns: 125px auto;\n",
       "}\n",
       "\n",
       ".xr-attrs dt, dd {\n",
       "  padding: 0;\n",
       "  margin: 0;\n",
       "  float: left;\n",
       "  padding-right: 10px;\n",
       "  width: auto;\n",
       "}\n",
       "\n",
       ".xr-attrs dt {\n",
       "  font-weight: normal;\n",
       "  grid-column: 1;\n",
       "}\n",
       "\n",
       ".xr-attrs dt:hover span {\n",
       "  display: inline-block;\n",
       "  background: var(--xr-background-color);\n",
       "  padding-right: 10px;\n",
       "}\n",
       "\n",
       ".xr-attrs dd {\n",
       "  grid-column: 2;\n",
       "  white-space: pre-wrap;\n",
       "  word-break: break-all;\n",
       "}\n",
       "\n",
       ".xr-icon-database,\n",
       ".xr-icon-file-text2 {\n",
       "  display: inline-block;\n",
       "  vertical-align: middle;\n",
       "  width: 1em;\n",
       "  height: 1.5em !important;\n",
       "  stroke-width: 0;\n",
       "  stroke: currentColor;\n",
       "  fill: currentColor;\n",
       "}\n",
       "</style><div class='xr-wrap'><div class='xr-header'><div class='xr-obj-type'>xarray.Dataset</div></div><ul class='xr-sections'><li class='xr-section-item'><input id='section-5cd7ba59-efe0-4936-942a-f79bb2d098f4' class='xr-section-summary-in' type='checkbox' disabled ><label for='section-5cd7ba59-efe0-4936-942a-f79bb2d098f4' class='xr-section-summary'  title='Expand/collapse section'>Dimensions:</label><div class='xr-section-inline-details'><ul class='xr-dim-list'><li><span class='xr-has-index'>N</span>: 1</li><li><span class='xr-has-index'>P</span>: 1</li><li><span class='xr-has-index'>time</span>: 3000</li></ul></div><div class='xr-section-details'></div></li><li class='xr-section-item'><input id='section-2727e744-1bef-4efa-b04e-01aad6ecc77f' class='xr-section-summary-in' type='checkbox'  checked><label for='section-2727e744-1bef-4efa-b04e-01aad6ecc77f' class='xr-section-summary' >Coordinates: <span>(3)</span></label><div class='xr-section-inline-details'></div><div class='xr-section-details'><ul class='xr-var-list'><li class='xr-var-item'><div class='xr-var-name'><span class='xr-has-index'>N</span></div><div class='xr-var-dims'>(N)</div><div class='xr-var-dtype'>&lt;U3</div><div class='xr-var-preview xr-preview'>&#x27;N-1&#x27;</div><input id='attrs-2aed0123-2df7-4d4a-979f-9d6972ee427e' class='xr-var-attrs-in' type='checkbox' ><label for='attrs-2aed0123-2df7-4d4a-979f-9d6972ee427e' title='Show/Hide attributes'><svg class='icon xr-icon-file-text2'><use xlink:href='#icon-file-text2'></use></svg></label><input id='data-7611ec97-6326-41ae-9c9b-aea94b525469' class='xr-var-data-in' type='checkbox'><label for='data-7611ec97-6326-41ae-9c9b-aea94b525469' title='Show/Hide data repr'><svg class='icon xr-icon-database'><use xlink:href='#icon-database'></use></svg></label><div class='xr-var-attrs'><dl class='xr-attrs'><dt><span>_FillValue :</span></dt><dd></dd></dl></div><pre class='xr-var-data'>array([&#x27;N-1&#x27;], dtype=&#x27;&lt;U3&#x27;)</pre></li><li class='xr-var-item'><div class='xr-var-name'><span class='xr-has-index'>P</span></div><div class='xr-var-dims'>(P)</div><div class='xr-var-dtype'>&lt;U3</div><div class='xr-var-preview xr-preview'>&#x27;P-1&#x27;</div><input id='attrs-e57b33bb-5f14-4b49-afc1-6919cbc9856d' class='xr-var-attrs-in' type='checkbox' ><label for='attrs-e57b33bb-5f14-4b49-afc1-6919cbc9856d' title='Show/Hide attributes'><svg class='icon xr-icon-file-text2'><use xlink:href='#icon-file-text2'></use></svg></label><input id='data-a770aa26-f7c3-4063-95b5-0d87422e414c' class='xr-var-data-in' type='checkbox'><label for='data-a770aa26-f7c3-4063-95b5-0d87422e414c' title='Show/Hide data repr'><svg class='icon xr-icon-database'><use xlink:href='#icon-database'></use></svg></label><div class='xr-var-attrs'><dl class='xr-attrs'><dt><span>_FillValue :</span></dt><dd></dd></dl></div><pre class='xr-var-data'>array([&#x27;P-1&#x27;], dtype=&#x27;&lt;U3&#x27;)</pre></li><li class='xr-var-item'><div class='xr-var-name'><span class='xr-has-index'>time</span></div><div class='xr-var-dims'>(time)</div><div class='xr-var-dtype'>float64</div><div class='xr-var-preview xr-preview'>0.0 0.06669 0.1334 ... 199.9 200.0</div><input id='attrs-31e14a28-8c17-4c68-9ae7-379622c13e54' class='xr-var-attrs-in' type='checkbox' ><label for='attrs-31e14a28-8c17-4c68-9ae7-379622c13e54' title='Show/Hide attributes'><svg class='icon xr-icon-file-text2'><use xlink:href='#icon-file-text2'></use></svg></label><input id='data-2cba4844-7d0c-44c0-abf2-54b2623e087d' class='xr-var-data-in' type='checkbox'><label for='data-2cba4844-7d0c-44c0-abf2-54b2623e087d' title='Show/Hide data repr'><svg class='icon xr-icon-database'><use xlink:href='#icon-database'></use></svg></label><div class='xr-var-attrs'><dl class='xr-attrs'><dt><span>__xsimlab_master_clock__ :</span></dt><dd>1</dd><dt><span>__xsimlab_output_clock__ :</span></dt><dd>1</dd><dt><span>_FillValue :</span></dt><dd>nan</dd></dl></div><pre class='xr-var-data'>array([0.000000e+00, 6.668890e-02, 1.333778e-01, ..., 1.998666e+02,\n",
       "       1.999333e+02, 2.000000e+02])</pre></li></ul></div></li><li class='xr-section-item'><input id='section-bbe6e003-add2-43b9-bd05-527f3d3760e2' class='xr-section-summary-in' type='checkbox'  checked><label for='section-bbe6e003-add2-43b9-bd05-527f3d3760e2' class='xr-section-summary' >Data variables: <span>(9)</span></label><div class='xr-section-inline-details'></div><div class='xr-section-details'><ul class='xr-var-list'><li class='xr-var-item'><div class='xr-var-name'><span>ModelSetup__N_initVal</span></div><div class='xr-var-dims'>()</div><div class='xr-var-dtype'>int64</div><div class='xr-var-preview xr-preview'>1</div><input id='attrs-02ae877a-5489-40d0-b1ee-fc96fcbea63f' class='xr-var-attrs-in' type='checkbox' ><label for='attrs-02ae877a-5489-40d0-b1ee-fc96fcbea63f' title='Show/Hide attributes'><svg class='icon xr-icon-file-text2'><use xlink:href='#icon-file-text2'></use></svg></label><input id='data-6b2fa4f7-bed2-4eff-93fe-56363ec0c110' class='xr-var-data-in' type='checkbox'><label for='data-6b2fa4f7-bed2-4eff-93fe-56363ec0c110' title='Show/Hide data repr'><svg class='icon xr-icon-database'><use xlink:href='#icon-database'></use></svg></label><div class='xr-var-attrs'><dl class='xr-attrs'><dt><span>description :</span></dt><dd>initial Nutrient concentration</dd></dl></div><pre class='xr-var-data'>array(1)</pre></li><li class='xr-var-item'><div class='xr-var-name'><span>ModelSetup__P_initVal</span></div><div class='xr-var-dims'>()</div><div class='xr-var-dtype'>int64</div><div class='xr-var-preview xr-preview'>1</div><input id='attrs-15d91696-29fe-4b7c-88e3-fdb2e8428891' class='xr-var-attrs-in' type='checkbox' ><label for='attrs-15d91696-29fe-4b7c-88e3-fdb2e8428891' title='Show/Hide attributes'><svg class='icon xr-icon-file-text2'><use xlink:href='#icon-file-text2'></use></svg></label><input id='data-2dc3dc07-ebc7-4dc2-a486-5f5b91231a83' class='xr-var-data-in' type='checkbox'><label for='data-2dc3dc07-ebc7-4dc2-a486-5f5b91231a83' title='Show/Hide data repr'><svg class='icon xr-icon-database'><use xlink:href='#icon-database'></use></svg></label><div class='xr-var-attrs'><dl class='xr-attrs'><dt><span>description :</span></dt><dd>initial Phytoplankton biomass</dd></dl></div><pre class='xr-var-data'>array(1)</pre></li><li class='xr-var-item'><div class='xr-var-name'><span>ModelSetup__P_num</span></div><div class='xr-var-dims'>()</div><div class='xr-var-dtype'>int64</div><div class='xr-var-preview xr-preview'>1</div><input id='attrs-30287809-e549-4b2c-a5ac-764e120f8696' class='xr-var-attrs-in' type='checkbox' ><label for='attrs-30287809-e549-4b2c-a5ac-764e120f8696' title='Show/Hide attributes'><svg class='icon xr-icon-file-text2'><use xlink:href='#icon-file-text2'></use></svg></label><input id='data-e4fbccc1-eed8-44c9-9dad-724bd1ea7e56' class='xr-var-data-in' type='checkbox'><label for='data-e4fbccc1-eed8-44c9-9dad-724bd1ea7e56' title='Show/Hide data repr'><svg class='icon xr-icon-database'><use xlink:href='#icon-database'></use></svg></label><div class='xr-var-attrs'><dl class='xr-attrs'><dt><span>description :</span></dt><dd>number of Phytoplankton</dd></dl></div><pre class='xr-var-data'>array(1)</pre></li><li class='xr-var-item'><div class='xr-var-name'><span>ModelSetup__halfsat</span></div><div class='xr-var-dims'>()</div><div class='xr-var-dtype'>float64</div><div class='xr-var-preview xr-preview'>0.5</div><input id='attrs-1f73d907-b7ee-4677-a8bf-316c6584c327' class='xr-var-attrs-in' type='checkbox' ><label for='attrs-1f73d907-b7ee-4677-a8bf-316c6584c327' title='Show/Hide attributes'><svg class='icon xr-icon-file-text2'><use xlink:href='#icon-file-text2'></use></svg></label><input id='data-503d9203-8ca9-48de-8e3a-e17400f52284' class='xr-var-data-in' type='checkbox'><label for='data-503d9203-8ca9-48de-8e3a-e17400f52284' title='Show/Hide data repr'><svg class='icon xr-icon-database'><use xlink:href='#icon-database'></use></svg></label><div class='xr-var-attrs'><dl class='xr-attrs'><dt><span>description :</span></dt><dd>half-saturation constant of nutrient uptake for P</dd><dt><span>_FillValue :</span></dt><dd>nan</dd></dl></div><pre class='xr-var-data'>array(0.5)</pre></li><li class='xr-var-item'><div class='xr-var-name'><span>N__component_label</span></div><div class='xr-var-dims'>()</div><div class='xr-var-dtype'>&lt;U1</div><div class='xr-var-preview xr-preview'>&#x27;N&#x27;</div><input id='attrs-e7d5c5ce-4f28-4ae0-8ea8-d7c1e80e0cf0' class='xr-var-attrs-in' type='checkbox' disabled><label for='attrs-e7d5c5ce-4f28-4ae0-8ea8-d7c1e80e0cf0' title='Show/Hide attributes'><svg class='icon xr-icon-file-text2'><use xlink:href='#icon-file-text2'></use></svg></label><input id='data-ab3bc7f7-7136-4bae-96fe-93afc0812c94' class='xr-var-data-in' type='checkbox'><label for='data-ab3bc7f7-7136-4bae-96fe-93afc0812c94' title='Show/Hide data repr'><svg class='icon xr-icon-database'><use xlink:href='#icon-database'></use></svg></label><div class='xr-var-attrs'><dl class='xr-attrs'></dl></div><pre class='xr-var-data'>array(&#x27;N&#x27;, dtype=&#x27;&lt;U1&#x27;)</pre></li><li class='xr-var-item'><div class='xr-var-name'><span>N__num</span></div><div class='xr-var-dims'>()</div><div class='xr-var-dtype'>int64</div><div class='xr-var-preview xr-preview'>1</div><input id='attrs-0f2cbe62-a024-4c32-b111-0c5da262f410' class='xr-var-attrs-in' type='checkbox' ><label for='attrs-0f2cbe62-a024-4c32-b111-0c5da262f410' title='Show/Hide attributes'><svg class='icon xr-icon-file-text2'><use xlink:href='#icon-file-text2'></use></svg></label><input id='data-acf98f40-c9a4-49d4-a3f6-76718f49bc12' class='xr-var-data-in' type='checkbox'><label for='data-acf98f40-c9a4-49d4-a3f6-76718f49bc12' title='Show/Hide data repr'><svg class='icon xr-icon-database'><use xlink:href='#icon-database'></use></svg></label><div class='xr-var-attrs'><dl class='xr-attrs'><dt><span>description :</span></dt><dd>number of nutrients (1 by default)</dd></dl></div><pre class='xr-var-data'>array(1)</pre></li><li class='xr-var-item'><div class='xr-var-name'><span>N__state</span></div><div class='xr-var-dims'>(time, N)</div><div class='xr-var-dtype'>float64</div><div class='xr-var-preview xr-preview'>1.0 0.9622 ... 0.05556 0.05556</div><input id='attrs-94039f88-6ba6-4869-b0a3-024c7e1796c3' class='xr-var-attrs-in' type='checkbox' ><label for='attrs-94039f88-6ba6-4869-b0a3-024c7e1796c3' title='Show/Hide attributes'><svg class='icon xr-icon-file-text2'><use xlink:href='#icon-file-text2'></use></svg></label><input id='data-50d34d1d-7b05-4b4d-aa2f-ae639b31c4d4' class='xr-var-data-in' type='checkbox'><label for='data-50d34d1d-7b05-4b4d-aa2f-ae639b31c4d4' title='Show/Hide data repr'><svg class='icon xr-icon-database'><use xlink:href='#icon-database'></use></svg></label><div class='xr-var-attrs'><dl class='xr-attrs'><dt><span>description :</span></dt><dd>component array</dd><dt><span>units :</span></dt><dd>µM N</dd><dt><span>_FillValue :</span></dt><dd>nan</dd></dl></div><pre class='xr-var-data'>array([[1.        ],\n",
       "       [0.96220963],\n",
       "       [0.92640017],\n",
       "       ...,\n",
       "       [0.05555556],\n",
       "       [0.05555556],\n",
       "       [0.05555556]])</pre></li><li class='xr-var-item'><div class='xr-var-name'><span>P__component_label</span></div><div class='xr-var-dims'>()</div><div class='xr-var-dtype'>&lt;U1</div><div class='xr-var-preview xr-preview'>&#x27;P&#x27;</div><input id='attrs-e492face-2cd6-40d3-bfca-5215f8248803' class='xr-var-attrs-in' type='checkbox' disabled><label for='attrs-e492face-2cd6-40d3-bfca-5215f8248803' title='Show/Hide attributes'><svg class='icon xr-icon-file-text2'><use xlink:href='#icon-file-text2'></use></svg></label><input id='data-1fc9db92-fc1e-41f3-bb06-d248e55380ab' class='xr-var-data-in' type='checkbox'><label for='data-1fc9db92-fc1e-41f3-bb06-d248e55380ab' title='Show/Hide data repr'><svg class='icon xr-icon-database'><use xlink:href='#icon-database'></use></svg></label><div class='xr-var-attrs'><dl class='xr-attrs'></dl></div><pre class='xr-var-data'>array(&#x27;P&#x27;, dtype=&#x27;&lt;U1&#x27;)</pre></li><li class='xr-var-item'><div class='xr-var-name'><span>P__state</span></div><div class='xr-var-dims'>(time, P)</div><div class='xr-var-dtype'>float64</div><div class='xr-var-preview xr-preview'>1.0 1.038 1.076 ... 1.0 1.0 1.0</div><input id='attrs-d31c2490-5eb7-4b5d-a807-00d2bace8b0f' class='xr-var-attrs-in' type='checkbox' ><label for='attrs-d31c2490-5eb7-4b5d-a807-00d2bace8b0f' title='Show/Hide attributes'><svg class='icon xr-icon-file-text2'><use xlink:href='#icon-file-text2'></use></svg></label><input id='data-1997662b-95cc-470c-9185-d30d90ce0dae' class='xr-var-data-in' type='checkbox'><label for='data-1997662b-95cc-470c-9185-d30d90ce0dae' title='Show/Hide data repr'><svg class='icon xr-icon-database'><use xlink:href='#icon-database'></use></svg></label><div class='xr-var-attrs'><dl class='xr-attrs'><dt><span>description :</span></dt><dd>component array</dd><dt><span>units :</span></dt><dd>µM N</dd><dt><span>_FillValue :</span></dt><dd>nan</dd></dl></div><pre class='xr-var-data'>array([[1.        ],\n",
       "       [1.03779037],\n",
       "       [1.07615109],\n",
       "       ...,\n",
       "       [1.00000014],\n",
       "       [1.00000014],\n",
       "       [1.00000014]])</pre></li></ul></div></li><li class='xr-section-item'><input id='section-54dfc617-fc35-4bf0-8a91-36ed8aa4e84d' class='xr-section-summary-in' type='checkbox' disabled ><label for='section-54dfc617-fc35-4bf0-8a91-36ed8aa4e84d' class='xr-section-summary'  title='Expand/collapse section'>Attributes: <span>(0)</span></label><div class='xr-section-inline-details'></div><div class='xr-section-details'><dl class='xr-attrs'></dl></div></li></ul></div></div>"
      ],
      "text/plain": [
       "<xarray.Dataset>\n",
       "Dimensions:                (N: 1, P: 1, time: 3000)\n",
       "Coordinates:\n",
       "  * N                      (N) <U3 'N-1'\n",
       "  * P                      (P) <U3 'P-1'\n",
       "  * time                   (time) float64 0.0 0.06669 0.1334 ... 199.9 200.0\n",
       "Data variables:\n",
       "    ModelSetup__N_initVal  int64 1\n",
       "    ModelSetup__P_initVal  int64 1\n",
       "    ModelSetup__P_num      int64 1\n",
       "    ModelSetup__halfsat    float64 0.5\n",
       "    N__component_label     <U1 'N'\n",
       "    N__num                 int64 1\n",
       "    N__state               (time, N) float64 1.0 0.9622 ... 0.05556 0.05556\n",
       "    P__component_label     <U1 'P'\n",
       "    P__state               (time, P) float64 1.0 1.038 1.076 ... 1.0 1.0 1.0"
      ]
     },
     "execution_count": 377,
     "metadata": {},
     "output_type": "execute_result"
    }
   ],
   "source": [
    "out_ds"
   ]
  },
  {
   "cell_type": "code",
   "execution_count": 325,
   "metadata": {},
   "outputs": [
    {
     "data": {
      "text/plain": [
       "array([[1.        ],\n",
       "       [0.96766505],\n",
       "       [0.93673099],\n",
       "       ...,\n",
       "       [0.01020408],\n",
       "       [0.01020408],\n",
       "       [0.01020408]])"
      ]
     },
     "execution_count": 325,
     "metadata": {},
     "output_type": "execute_result"
    }
   ],
   "source": [
    "out_ds.N__state.values"
   ]
  },
  {
   "cell_type": "code",
   "execution_count": 326,
   "metadata": {},
   "outputs": [
    {
     "data": {
      "text/plain": [
       "array([[1.        , 1.        , 1.        , 1.        , 1.        ],\n",
       "       [1.00566695, 1.00566695, 1.00566695, 1.00566695, 1.00566695],\n",
       "       [1.01128646, 1.01128646, 1.01128646, 1.01128646, 1.01128646],\n",
       "       ...,\n",
       "       [0.20371516, 0.20371516, 0.20371516, 0.20371516, 0.20371516],\n",
       "       [0.20371441, 0.20371441, 0.20371441, 0.20371441, 0.20371441],\n",
       "       [0.20371365, 0.20371365, 0.20371365, 0.20371365, 0.20371365]])"
      ]
     },
     "execution_count": 326,
     "metadata": {},
     "output_type": "execute_result"
    }
   ],
   "source": [
    "out_ds.P__state.values"
   ]
  },
  {
   "cell_type": "code",
   "execution_count": 114,
   "metadata": {},
   "outputs": [
    {
     "data": {
      "text/plain": [
       "[<matplotlib.lines.Line2D at 0x12278e1f0>]"
      ]
     },
     "execution_count": 114,
     "metadata": {},
     "output_type": "execute_result"
    },
    {
     "data": {
      "image/png": "[encoded data removed]",
      "text/plain": [
       "<Figure size 432x288 with 1 Axes>"
      ]
     },
     "metadata": {
      "needs_background": "light"
     },
     "output_type": "display_data"
    }
   ],
   "source": [
    "out_ds.P__state.sel(P='P-5').plot()"
   ]
  },
  {
   "cell_type": "code",
   "execution_count": null,
   "metadata": {},
   "outputs": [],
   "source": []
  },
  {
   "cell_type": "code",
   "execution_count": null,
   "metadata": {},
   "outputs": [],
   "source": []
  }
 ],
 "metadata": {
  "kernelspec": {
   "display_name": "Python 3",
   "language": "python",
   "name": "python3"
  },
  "language_info": {
   "codemirror_mode": {
    "name": "ipython",
    "version": 3
   },
   "file_extension": ".py",
   "mimetype": "text/x-python",
   "name": "python",
   "nbconvert_exporter": "python",
   "pygments_lexer": "ipython3",
   "version": "3.8.2"
  }
 },
 "nbformat": 4,
 "nbformat_minor": 4
}
