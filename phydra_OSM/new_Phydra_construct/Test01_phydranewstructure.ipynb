{
 "cells": [
  {
   "cell_type": "code",
   "execution_count": 1,
   "metadata": {},
   "outputs": [],
   "source": [
    "import numpy as np\n",
    "import xsimlab as xs\n",
    "from scipy.integrate import odeint\n",
    "import matplotlib.pyplot as plt"
   ]
  },
  {
   "cell_type": "markdown",
   "metadata": {},
   "source": [
    "# Let's take notes again,\n",
    "\n",
    "so I should put every process into a process class\n",
    "\n",
    "but that creates problems! what about parameters?\n",
    "- i need to create an instance of the process class, within the components, actually... (?) \n",
    "\n",
    "also, what about the fluxes?\n",
    "\n"
   ]
  },
  {
   "cell_type": "markdown",
   "metadata": {},
   "source": [
    "This is a central question right now, what is the best way to structure the package, based on xsimlab\n",
    "\n",
    "xsimlab was not written for my kind of applications, it actually is more suitable for agent-based models\n",
    "i'm doing equation based modeling..\n",
    "\n",
    "### and at some point in my model I need to define the *_fluxes_*\n",
    "\n",
    "but where is best? prob in the environment, right? but then what about modification of the ODE?\n",
    "\n",
    "## what if I put the ODE in a seperate class? would that make any sense?\n",
    "\n",
    "MODELICA - interesting source on this: https://portal.research.lu.se/ws/files/4779081/8571901.pdf\n",
    "\n",
    "It defines all components + params + additionally the model equation! (this is missing from xsimlab, somehow--)\n"
   ]
  },
  {
   "cell_type": "code",
   "execution_count": 2,
   "metadata": {},
   "outputs": [
    {
     "name": "stdout",
     "output_type": "stream",
     "text": [
      "Object `before` not found.\n"
     ]
    }
   ],
   "source": [
    "IDEa: can keep equation construction separate from model assembly, check all components present before?"
   ]
  },
  {
   "cell_type": "code",
   "execution_count": 3,
   "metadata": {},
   "outputs": [
    {
     "ename": "SyntaxError",
     "evalue": "invalid syntax (<ipython-input-3-7deae310912d>, line 1)",
     "output_type": "error",
     "traceback": [
      "\u001b[0;36m  File \u001b[0;32m\"<ipython-input-3-7deae310912d>\"\u001b[0;36m, line \u001b[0;32m1\u001b[0m\n\u001b[0;31m    could also keep all \"MATHS FUNX\" outside of xsimlab..\u001b[0m\n\u001b[0m             ^\u001b[0m\n\u001b[0;31mSyntaxError\u001b[0m\u001b[0;31m:\u001b[0m invalid syntax\n"
     ]
    }
   ],
   "source": [
    "could also keep all \"MATHS FUNX\" outside of xsimlab..\n",
    "\n",
    "would that increase usability??\n",
    "\n",
    "I need some way to contruct ODE systems, one component has one flux, right?\n",
    "\n",
    "so perhaps that is the way, have each component assemble it's flux, and that is passed on to final model\n",
    "\n",
    "but then how do components interact? components inherits all processes that are part of it's flux, and then later find duplicities automatically?\n",
    "\n",
    "Nutrient . flux['grazing'] - flux['Z_mortality']"
   ]
  },
  {
   "cell_type": "code",
   "execution_count": null,
   "metadata": {},
   "outputs": [],
   "source": [
    "@xs.process\n",
    "class Phytoplankton:\n",
    "    Uptake = xs.foreign(PhytoStdLib,'MichaelisMenten')\n",
    "    \n",
    "    "
   ]
  },
  {
   "cell_type": "code",
   "execution_count": null,
   "metadata": {},
   "outputs": [],
   "source": []
  },
  {
   "cell_type": "code",
   "execution_count": null,
   "metadata": {},
   "outputs": [],
   "source": [
    "- write bootstrap model\n",
    "\n",
    "- then write basic model\n",
    "\n",
    "and only then adapt all other models"
   ]
  },
  {
   "cell_type": "markdown",
   "metadata": {},
   "source": [
    "# keep in mind that this is how end user would use models:"
   ]
  },
  {
   "cell_type": "code",
   "execution_count": null,
   "metadata": {},
   "outputs": [],
   "source": [
    "import xsimlab as xs\n",
    "\n",
    "from ..processes.boundary import BorderBoundary\n",
    "from ..processes.channel import (StreamPowerChannel,\n",
    "                                 DifferentialStreamPowerChannelTD)\n",
    "from ..processes.context import FastscapelibContext\n",
    "from ..processes.flow import DrainageArea, SingleFlowRouter, MultipleFlowRouter\n",
    "from ..processes.erosion import TotalErosion\n",
    "from ..processes.grid import RasterGrid2D\n",
    "from ..processes.hillslope import LinearDiffusion, DifferentialLinearDiffusion\n",
    "from ..processes.initial import (BareRockSurface,\n",
    "                                 Escarpment,\n",
    "                                 FlatSurface,\n",
    "                                 NoErosionHistory)\n",
    "from ..processes.main import (Bedrock,\n",
    "                              StratigraphicHorizons,\n",
    "                              SurfaceTopography,\n",
    "                              SurfaceToErode,\n",
    "                              TerrainDerivatives,\n",
    "                              TotalVerticalMotion,\n",
    "                              UniformSedimentLayer)\n",
    "from ..processes.marine import MarineSedimentTransport, Sea\n",
    "from ..processes.tectonics import (BlockUplift,\n",
    "                                   SurfaceAfterTectonics,\n",
    "                                   TectonicForcing,\n",
    "                                   TwoBlocksUplift)\n",
    "\n",
    "\n",
    "# ``bootstrap_model`` has the minimal set of processes required to\n",
    "# simulate on a 2D uniform grid the evolution of topographic surface\n",
    "# under the action of tectonic and erosion processes. None of such\n",
    "# processes are included. It only provides the \"skeleton\" of a\n",
    "# landscape evolution model and might be used as a basis to create\n",
    "# custom models.\n",
    "\n",
    "bootstrap_model = xs.Model({\n",
    "    'grid': RasterGrid2D,\n",
    "    'fs_context': FastscapelibContext,\n",
    "    'boundary': BorderBoundary,\n",
    "    'tectonics': TectonicForcing,\n",
    "    'surf2erode': SurfaceToErode,\n",
    "    'erosion': TotalErosion,\n",
    "    'vmotion': TotalVerticalMotion,\n",
    "    'topography': SurfaceTopography,\n",
    "})\n",
    "\n",
    "# ``basic_model`` is a \"standard\" landscape evolution model that\n",
    "# includes block uplift, (bedrock) channel erosion using the stream\n",
    "# power law and hillslope erosion/deposition using linear\n",
    "# diffusion. Initial topography is a flat surface with random\n",
    "# perturbations. Flow is routed on the topographic surface using a D8,\n",
    "# single flow direction algorithm. All erosion processes are computed\n",
    "# on a topographic surface that is first updated by tectonic forcing\n",
    "# processes.\n",
    "\n",
    "basic_model = bootstrap_model.update_processes({\n",
    "    'uplift': BlockUplift,\n",
    "    'surf2erode': SurfaceAfterTectonics,\n",
    "    'flow': SingleFlowRouter,\n",
    "    'drainage': DrainageArea,\n",
    "    'spl': StreamPowerChannel,\n",
    "    'diffusion': LinearDiffusion,\n",
    "    'terrain': TerrainDerivatives,\n",
    "    'init_topography': FlatSurface,\n",
    "    'init_erosion': NoErosionHistory\n",
    "})"
   ]
  },
  {
   "cell_type": "code",
   "execution_count": null,
   "metadata": {},
   "outputs": [],
   "source": [
    "# NOTE TO SELF:\n",
    "Encapsulation as used by xsimlab does not work with equations!\n",
    "\n",
    "\"\"\"Due to the acausal nature of equations it is impossible to enforce encapsulation of\n",
    "equations in partial components for a library developer who provides partial models. - Modelica Thesis\"\"\""
   ]
  },
  {
   "cell_type": "code",
   "execution_count": null,
   "metadata": {},
   "outputs": [],
   "source": [
    "SO: somehow, equations need to be generated from higher_level_process!\n",
    "    \n",
    "    \n",
    "    hm, instead of having higher level process, how about all components that modify ODE have a mixin class, that keeps track of all the ODE components, and then later calling that\n",
    "    parent class functionality returns all components fluxes and assembles ODE\n",
    "    \n",
    "    how to specify interaction? this needs to be set down in this class, and then specified in each process, like [1,'p',-1,'N']\n",
    "    to make this extensible there needs to be a conversion step between each process (the possibility should be there)\n",
    "    \n",
    "    need to propagate component properties & parameters at Model instance level to all components, similar to how fs_context[''] returns all relevant properties of the fastscape model"
   ]
  },
  {
   "cell_type": "code",
   "execution_count": null,
   "metadata": {},
   "outputs": [],
   "source": []
  },
  {
   "cell_type": "code",
   "execution_count": null,
   "metadata": {},
   "outputs": [],
   "source": []
  }
 ],
 "metadata": {
  "kernelspec": {
   "display_name": "Python 3",
   "language": "python",
   "name": "python3"
  },
  "language_info": {
   "codemirror_mode": {
    "name": "ipython",
    "version": 3
   },
   "file_extension": ".py",
   "mimetype": "text/x-python",
   "name": "python",
   "nbconvert_exporter": "python",
   "pygments_lexer": "ipython3",
   "version": "3.7.5"
  }
 },
 "nbformat": 4,
 "nbformat_minor": 4
}
