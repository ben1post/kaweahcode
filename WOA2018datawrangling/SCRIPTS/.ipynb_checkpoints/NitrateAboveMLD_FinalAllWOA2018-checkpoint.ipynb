{
 "cells": [
  {
   "cell_type": "markdown",
   "metadata": {},
   "source": [
    "# create repackaged WOA DATA for each Dataset"
   ]
  },
  {
   "cell_type": "code",
   "execution_count": 1,
   "metadata": {},
   "outputs": [],
   "source": [
    "import numpy as np\n",
    "import pandas as pd\n",
    "import xarray as xr\n",
    "import glob"
   ]
  },
  {
   "cell_type": "markdown",
   "metadata": {},
   "source": [
    "## MLD data-set to use:\n",
    "new one \"MLD_minDTR02\"\n",
    "\n",
    "variable is: \"mld_mindtr02_rmoutliers_smth_okrg\""
   ]
  },
  {
   "cell_type": "code",
   "execution_count": 2,
   "metadata": {},
   "outputs": [],
   "source": [
    "mldX = xr.open_dataset('../MLDClimatology_DeBoyerMontagut/2019_11_07_data_L3_mldmindtr02_c1m_sameasSent2MHRio20141103__Sent2BenjaminPostUcsdBremen/mld_mindtr02_l3.nc')"
   ]
  },
  {
   "cell_type": "code",
   "execution_count": 3,
   "metadata": {},
   "outputs": [],
   "source": [
    "#landsea = xr.open_dataset('LandSeaMask/landsea.nc')"
   ]
  },
  {
   "cell_type": "code",
   "execution_count": 4,
   "metadata": {},
   "outputs": [],
   "source": [
    "#TempNCDFfiles = glob.glob('../WOA2018/Temperature/*.nc', recursive=True)\n",
    "#WOAtemp = xr.open_mfdataset(TempNCDFfiles,combine='by_coords',decode_times=False)"
   ]
  },
  {
   "cell_type": "code",
   "execution_count": 5,
   "metadata": {},
   "outputs": [],
   "source": [
    "NitrateNCDFfiles = glob.glob('../WOA2018/Nitrate/*.nc', recursive=True)\n",
    "WOAnitrate = xr.open_mfdataset(NitrateNCDFfiles,combine='by_coords',decode_times=False)"
   ]
  },
  {
   "cell_type": "code",
   "execution_count": 6,
   "metadata": {},
   "outputs": [],
   "source": [
    "#PhosphateNCDFfiles = glob.glob('WOA2018/Phosphate/*.nc', recursive=True)\n",
    "#WOAphosphate = xr.open_mfdataset(PhosphateNCDFfiles,combine='by_coords',decode_times=False)"
   ]
  },
  {
   "cell_type": "code",
   "execution_count": 7,
   "metadata": {},
   "outputs": [],
   "source": [
    "#SilicateNCDFfiles = glob.glob('WOA2018/Silicate/*.nc', recursive=True)\n",
    "#WOAsilicate = xr.open_mfdataset(SilicateNCDFfiles,combine='by_coords',decode_times=False)"
   ]
  },
  {
   "cell_type": "code",
   "execution_count": 8,
   "metadata": {},
   "outputs": [],
   "source": [
    "#WOAsilicate.variables"
   ]
  },
  {
   "cell_type": "markdown",
   "metadata": {},
   "source": [
    "## now let's try all the other WOA2018 datasets\n",
    "- and finally extract forcing for one or two specific locations, and use these for test implemetation towards the model\n"
   ]
  },
  {
   "cell_type": "code",
   "execution_count": 9,
   "metadata": {},
   "outputs": [],
   "source": [
    "def WOADatInLocation(WOAfile, lats=40,lons=-20, WOAvar='Temp', justValPerDepth=True):\n",
    "    \"\"\"This function returns the xarray of Temperature in a specific location\"\"\"\n",
    "    \n",
    "    WOAdat = WOAfile.sel(nbounds=0)\n",
    "    WOA_df = WOAdat.sel(lat=lats,lon=lons, method='nearest').to_dataframe()\n",
    "    \n",
    "    if WOAvar=='Temp':\n",
    "        var='t_an'\n",
    "        WOA_df.index = pd.MultiIndex.from_arrays([WOA_df.index.get_level_values(level='depth'), [i for j in range(0,57) for i in range(1,13)]])\n",
    "        WOA_df.index.names = ['depth','time']\n",
    "    elif WOAvar=='N' or WOAvar=='N_above':\n",
    "        var='n_an'\n",
    "        WOA_df.index = pd.MultiIndex.from_arrays([WOA_df.index.get_level_values(level='depth'), [i for j in range(0,43) for i in range(1,13)]])\n",
    "        WOA_df.index.names = ['depth','time']\n",
    "    elif WOAvar=='P' or WOAvar=='P_above':\n",
    "        var='p_an'\n",
    "        WOA_df.index = pd.MultiIndex.from_arrays([WOA_df.index.get_level_values(level='depth'), [i for j in range(0,43) for i in range(1,13)]])\n",
    "        WOA_df.index.names = ['depth','time']\n",
    "    elif WOAvar=='Si' or WOAvar=='Si_above':\n",
    "        var='i_an'\n",
    "        WOA_df.index = pd.MultiIndex.from_arrays([WOA_df.index.get_level_values(level='depth'), [i for j in range(0,43) for i in range(1,13)]])\n",
    "        WOA_df.index.names = ['depth','time']\n",
    "    \n",
    "    if justValPerDepth==True:\n",
    "        return WOA_df[[var]]#.reset_index()\n",
    "    else:\n",
    "        return WOA_df#.reset_index()"
   ]
  },
  {
   "cell_type": "code",
   "execution_count": 10,
   "metadata": {},
   "outputs": [],
   "source": [
    "#WOADatInLocation(WOAphosphate,WOAvar='P')"
   ]
  },
  {
   "cell_type": "code",
   "execution_count": 11,
   "metadata": {},
   "outputs": [],
   "source": [
    "def MLD_at_latlon(lats=40,lons=-20, mlddatas=mldX, justMLD=True):\n",
    "    \"\"\"This function returns MLD depth across the year at a specific location\"\"\"\n",
    "    #ToDO include check whether the spot is on land or water\n",
    "    #Make sure the lat lon usage across everything is coherent!\n",
    "    mld1 = mlddatas.drop_dims(['nlines1','nlines2','nlines3','nprf'])\n",
    "    mld2 = mld1.sel(lat=lats,lon=lons,method='nearest').to_dataframe()\n",
    "    #ls = landseadat.sel(lat=lats,lon=180+lons,method='nearest').variables['LSMASK'].values\n",
    "    mld2['time'] = mld2.index\n",
    "    mld2.index = range(1,13)\n",
    "    mld2.index.names = ['time']\n",
    "    #if ls!=0:\n",
    "    #    return pd.DataFrame()\n",
    "    if justMLD==True:\n",
    "        return mld2[['mld_mindtr02_rmoutliers_smth_okrg']]#.reset_index()\n",
    "    else:\n",
    "        return mld2#.reset_index()"
   ]
  },
  {
   "cell_type": "code",
   "execution_count": 12,
   "metadata": {},
   "outputs": [],
   "source": [
    "#WOA = WOADatInLocation(WOAnitrate,lats=40,lons=-20,WOAvar='N')"
   ]
  },
  {
   "cell_type": "code",
   "execution_count": 13,
   "metadata": {},
   "outputs": [],
   "source": [
    "def interpolateWOAprofiles(WOAdat,var):\n",
    "    \"\"\"this function interpolates the WOA profiles to a resolution of 1 meter\"\"\"\n",
    "    WOAgrid = WOAdat.unstack(level=1)\n",
    "    if var=='Temp':\n",
    "        WOAgrid1 = WOAgrid.reindex(range(0,1501))\n",
    "        return WOAgrid1.interpolate(method='linear')\n",
    "    elif var=='N' or var=='P' or var=='Si':\n",
    "        WOAgrid1 = WOAgrid.reindex(range(0,801))\n",
    "        return WOAgrid1.interpolate(method='linear')\n",
    "    elif var=='N_above' or var=='P_above' or var=='Si_above':\n",
    "        WOAgrid1 = WOAgrid.reindex(range(0,801))\n",
    "        return WOAgrid1.interpolate(method='linear')"
   ]
  },
  {
   "cell_type": "code",
   "execution_count": 14,
   "metadata": {},
   "outputs": [],
   "source": [
    "#WOA_int = interpolateWOAprofiles(WOA,'N')"
   ]
  },
  {
   "cell_type": "code",
   "execution_count": 15,
   "metadata": {},
   "outputs": [],
   "source": [
    "#WOA_int"
   ]
  },
  {
   "cell_type": "code",
   "execution_count": 44,
   "metadata": {},
   "outputs": [],
   "source": [
    "def ValueBelowMLD(WOAint, MLD):\n",
    "    \"\"\"this function filters all temperature measurements above a certain depth and takes the mean\"\"\"\n",
    "    WOAint_d1 = WOAint\n",
    "    WOAint_d2 = WOAint_d1\n",
    "    WOAint_d2.columns = WOAint_d1.columns.droplevel()\n",
    "    WOAx = WOAint_d2.reset_index()\n",
    "    out = []\n",
    "    print(WOAx[WOAx['depth'] > MLD[MLD['time']==1]['mld_mindtr02_rmoutliers_smth_okrg'].values[0]][1].iloc[0:10])\n",
    "    for i in range(1,13):\n",
    "        out.append({'Month':i,'Conc':WOAx[WOAx['depth'] > MLD[MLD['time']==i]['mld_mindtr02_rmoutliers_smth_okrg'].values[0]][i].iloc[0:10].mean()})\n",
    "    return pd.DataFrame(out)"
   ]
  },
  {
   "cell_type": "code",
   "execution_count": 45,
   "metadata": {},
   "outputs": [],
   "source": [
    "def MeanAboveMLD(WOAint, MLD):\n",
    "    \"\"\"this function filters all temperature measurements above a certain depth and takes the mean\"\"\"\n",
    "    WOAint_d1 = WOAint\n",
    "    WOAint_d1.columns = WOAint.columns.droplevel()\n",
    "    WOAx = WOAint_d1.reset_index()\n",
    "    out = []\n",
    "    print(WOAx[WOAx['depth'] < MLD[MLD['time']==1]['mld_mindtr02_rmoutliers_smth_okrg'].values[0]][1])\n",
    "    for i in range(1,13):\n",
    "        out.append({'Month':i,'Conc':WOAx[WOAx['depth'] < MLD[MLD['time']==i]['mld_mindtr02_rmoutliers_smth_okrg'].values[0]][i].mean()})\n",
    "    return pd.DataFrame(out)"
   ]
  },
  {
   "cell_type": "code",
   "execution_count": 46,
   "metadata": {},
   "outputs": [],
   "source": [
    "def ReturnAnalyzedWOAdata(WOAdat, lats=40, lons=-20, mlddat=mldX, WOAvar='Temp', var='t_an'):\n",
    "    \n",
    "    MLD = MLD_at_latlon(lats,lons,mlddat).reset_index()\n",
    "    if MLD.empty == True:\n",
    "        return MLD\n",
    "    else:\n",
    "        WOA = WOADatInLocation(WOAdat,lats=lats,lons=lons,WOAvar=WOAvar)\n",
    "        WOA_int = interpolateWOAprofiles(WOA,WOAvar)\n",
    "        if WOAvar=='Temp':\n",
    "            return MeanAboveMLD(WOA_int,MLD)\n",
    "        elif WOAvar=='N' or WOAvar=='P' or WOAvar=='Si':\n",
    "            return ValueBelowMLD(WOA_int,MLD)\n",
    "        elif WOAvar=='N_above' or WOAvar=='P_above' or WOAvar=='Si_above':\n",
    "            return MeanAboveMLD(WOA_int,MLD)"
   ]
  },
  {
   "cell_type": "code",
   "execution_count": 47,
   "metadata": {},
   "outputs": [],
   "source": [
    "lat = -10\n",
    "lon = -110"
   ]
  },
  {
   "cell_type": "code",
   "execution_count": 48,
   "metadata": {},
   "outputs": [
    {
     "name": "stdout",
     "output_type": "stream",
     "text": [
      "40    9.510378\n",
      "41    9.383310\n",
      "42    9.256243\n",
      "43    9.129176\n",
      "44    9.002109\n",
      "45    8.875041\n",
      "46    8.762367\n",
      "47    8.649693\n",
      "48    8.537020\n",
      "49    8.424346\n",
      "Name: 1, dtype: float32\n",
      "0     10.789656\n",
      "1     10.778853\n",
      "2     10.768050\n",
      "3     10.757248\n",
      "4     10.746445\n",
      "5     10.735642\n",
      "6     10.696705\n",
      "7     10.657767\n",
      "8     10.618830\n",
      "9     10.579892\n",
      "10    10.540955\n",
      "11    10.573217\n",
      "12    10.605480\n",
      "13    10.637744\n",
      "14    10.670007\n",
      "15    10.702270\n",
      "16    10.686105\n",
      "17    10.669940\n",
      "18    10.653774\n",
      "19    10.637609\n",
      "20    10.621445\n",
      "21    10.547772\n",
      "22    10.474101\n",
      "23    10.400429\n",
      "24    10.326757\n",
      "25    10.253085\n",
      "26    10.224511\n",
      "27    10.195937\n",
      "28    10.167363\n",
      "29    10.138789\n",
      "30    10.110215\n",
      "31    10.027373\n",
      "32     9.944531\n",
      "33     9.861691\n",
      "34     9.778849\n",
      "35     9.696007\n",
      "36     9.658881\n",
      "37     9.621756\n",
      "38     9.584629\n",
      "39     9.547503\n",
      "Name: 1, dtype: float32\n"
     ]
    },
    {
     "data": {
      "text/html": [
       "<div>\n",
       "<style scoped>\n",
       "    .dataframe tbody tr th:only-of-type {\n",
       "        vertical-align: middle;\n",
       "    }\n",
       "\n",
       "    .dataframe tbody tr th {\n",
       "        vertical-align: top;\n",
       "    }\n",
       "\n",
       "    .dataframe thead th {\n",
       "        text-align: right;\n",
       "    }\n",
       "</style>\n",
       "<table border=\"1\" class=\"dataframe\">\n",
       "  <thead>\n",
       "    <tr style=\"text-align: right;\">\n",
       "      <th></th>\n",
       "      <th>Month</th>\n",
       "      <th>Conc</th>\n",
       "    </tr>\n",
       "  </thead>\n",
       "  <tbody>\n",
       "    <tr>\n",
       "      <th>0</th>\n",
       "      <td>0</td>\n",
       "      <td>-1.414227</td>\n",
       "    </tr>\n",
       "    <tr>\n",
       "      <th>1</th>\n",
       "      <td>0</td>\n",
       "      <td>-0.074420</td>\n",
       "    </tr>\n",
       "    <tr>\n",
       "      <th>2</th>\n",
       "      <td>0</td>\n",
       "      <td>-0.146029</td>\n",
       "    </tr>\n",
       "    <tr>\n",
       "      <th>3</th>\n",
       "      <td>0</td>\n",
       "      <td>-0.099424</td>\n",
       "    </tr>\n",
       "    <tr>\n",
       "      <th>4</th>\n",
       "      <td>0</td>\n",
       "      <td>1.124047</td>\n",
       "    </tr>\n",
       "    <tr>\n",
       "      <th>5</th>\n",
       "      <td>0</td>\n",
       "      <td>1.273954</td>\n",
       "    </tr>\n",
       "    <tr>\n",
       "      <th>6</th>\n",
       "      <td>0</td>\n",
       "      <td>-0.125897</td>\n",
       "    </tr>\n",
       "    <tr>\n",
       "      <th>7</th>\n",
       "      <td>0</td>\n",
       "      <td>-0.079595</td>\n",
       "    </tr>\n",
       "    <tr>\n",
       "      <th>8</th>\n",
       "      <td>0</td>\n",
       "      <td>-0.111808</td>\n",
       "    </tr>\n",
       "    <tr>\n",
       "      <th>9</th>\n",
       "      <td>0</td>\n",
       "      <td>-1.418342</td>\n",
       "    </tr>\n",
       "    <tr>\n",
       "      <th>10</th>\n",
       "      <td>0</td>\n",
       "      <td>-3.084228</td>\n",
       "    </tr>\n",
       "    <tr>\n",
       "      <th>11</th>\n",
       "      <td>0</td>\n",
       "      <td>-2.211342</td>\n",
       "    </tr>\n",
       "  </tbody>\n",
       "</table>\n",
       "</div>"
      ],
      "text/plain": [
       "    Month      Conc\n",
       "0       0 -1.414227\n",
       "1       0 -0.074420\n",
       "2       0 -0.146029\n",
       "3       0 -0.099424\n",
       "4       0  1.124047\n",
       "5       0  1.273954\n",
       "6       0 -0.125897\n",
       "7       0 -0.079595\n",
       "8       0 -0.111808\n",
       "9       0 -1.418342\n",
       "10      0 -3.084228\n",
       "11      0 -2.211342"
      ]
     },
     "execution_count": 48,
     "metadata": {},
     "output_type": "execute_result"
    }
   ],
   "source": [
    "ReturnAnalyzedWOAdata(WOAnitrate,lat,lon,WOAvar='N') - ReturnAnalyzedWOAdata(WOAnitrate,lat,lon,WOAvar='N_above')"
   ]
  },
  {
   "cell_type": "code",
   "execution_count": null,
   "metadata": {},
   "outputs": [],
   "source": []
  },
  {
   "cell_type": "markdown",
   "metadata": {},
   "source": [
    "## QUESTIONS that remain:\n",
    "\n",
    "- to what depth should I take the mean when calculating N0 ?   \n",
    "- (for all nuts, inlc P & Si this matters)\n",
    "- any use for oxygen & AOU? (this is in WOA2018 as well)\n",
    "- and Salinity?"
   ]
  },
  {
   "cell_type": "markdown",
   "metadata": {},
   "source": [
    "# START CREATING NCDF FILE"
   ]
  },
  {
   "cell_type": "code",
   "execution_count": 44,
   "metadata": {},
   "outputs": [],
   "source": [
    "from netCDF4 import Dataset"
   ]
  },
  {
   "cell_type": "code",
   "execution_count": 45,
   "metadata": {},
   "outputs": [],
   "source": [
    "WOAnitrate = WOAnitrate.persist()\n",
    "mldX = mldX.persist()"
   ]
  },
  {
   "cell_type": "code",
   "execution_count": 46,
   "metadata": {},
   "outputs": [
    {
     "name": "stdout",
     "output_type": "stream",
     "text": [
      "99.444444444444446\r"
     ]
    }
   ],
   "source": [
    "rootgrp = Dataset('NitrateAboveMLD_WOA_tmld_test01.nc', 'w', format='NETCDF4')\n",
    "\n",
    "import time\n",
    "rootgrp.description = 'WOA 2018 Data analyzed with MLD climatology'\n",
    "rootgrp.history = \"Created \" + time.ctime(time.time())\n",
    "rootgrp.source = \"WOA2018 + DeBoyer Montague et al. 2004\"\n",
    "\n",
    "lat_r = np.arange(-89.5,90.5,1)\n",
    "lon_r = np.arange(-179.5,180.5,1)\n",
    "time_r = np.arange(1,13,1)\n",
    "\n",
    "var = rootgrp.createDimension(\"n0\", None)\n",
    "time = rootgrp.createDimension(\"time\", len(time_r))\n",
    "lat = rootgrp.createDimension(\"lat\", len(lat_r))\n",
    "lon = rootgrp.createDimension(\"lon\", len(lon_r))\n",
    "\n",
    "\n",
    "varss = rootgrp.createVariable(\"n0\",\"f8\",(\"lat\",\"lon\",\"time\"))\n",
    "month = rootgrp.createVariable(\"time\",\"i4\",(\"time\",))\n",
    "latitudes = rootgrp.createVariable(\"lat\",\"f4\",(\"lat\",))\n",
    "longitudes = rootgrp.createVariable(\"lon\",\"f4\",(\"lon\",))\n",
    "\n",
    "\n",
    "latitudes.units = \"degrees north\"\n",
    "longitudes.units = \"degrees east\"\n",
    "varss.units = \"degrees centigrade\"\n",
    "\n",
    "month.units = \"climatological months\"\n",
    "month.calendar = \"gregorian\"\n",
    "\n",
    "latitudes[:] = lat_r\n",
    "longitudes[:] = lon_r\n",
    "month[:] = time_r\n",
    "\n",
    "                \n",
    "for i in range(len(lat_r)):\n",
    "    print(i/len(lat_r)*100, end=\"\\r\")\n",
    "    for j in range(len(lon_r)):\n",
    "        MAMLD = ReturnAnalyzedWOAdata(WOAnitrate,lat_r[i],lon_r[j],WOAvar='N_above') #HERE NEED TO FIX!\n",
    "        for k in range(len(time_r)):\n",
    "            if MAMLD.empty == True:\n",
    "                varss[i, j, k] = np.nan\n",
    "            else:\n",
    "                varss[i, j, k] = MAMLD['Conc'].values[k]\n",
    "\n",
    "\n",
    "rootgrp.close()"
   ]
  },
  {
   "cell_type": "code",
   "execution_count": null,
   "metadata": {},
   "outputs": [],
   "source": []
  },
  {
   "cell_type": "code",
   "execution_count": null,
   "metadata": {},
   "outputs": [],
   "source": []
  },
  {
   "cell_type": "code",
   "execution_count": 21,
   "metadata": {},
   "outputs": [
    {
     "data": {
      "text/plain": [
       "Frozen({'t_mld': <xarray.Variable (lat: 180, lon: 360, time: 12)>\n",
       "[777600 values with dtype=float64]\n",
       "Attributes:\n",
       "    units:    degrees centigrade, 'time': <xarray.IndexVariable 'time' (time: 12)>\n",
       "array([ 1,  2,  3,  4,  5,  6,  7,  8,  9, 10, 11, 12], dtype=int32)\n",
       "Attributes:\n",
       "    units:     climatological months\n",
       "    calendar:  gregorian, 'lat': <xarray.IndexVariable 'lat' (lat: 180)>\n",
       "array([-89.5, -88.5, -87.5, -86.5, -85.5, -84.5, -83.5, -82.5, -81.5, -80.5,\n",
       "       -79.5, -78.5, -77.5, -76.5, -75.5, -74.5, -73.5, -72.5, -71.5, -70.5,\n",
       "       -69.5, -68.5, -67.5, -66.5, -65.5, -64.5, -63.5, -62.5, -61.5, -60.5,\n",
       "       -59.5, -58.5, -57.5, -56.5, -55.5, -54.5, -53.5, -52.5, -51.5, -50.5,\n",
       "       -49.5, -48.5, -47.5, -46.5, -45.5, -44.5, -43.5, -42.5, -41.5, -40.5,\n",
       "       -39.5, -38.5, -37.5, -36.5, -35.5, -34.5, -33.5, -32.5, -31.5, -30.5,\n",
       "       -29.5, -28.5, -27.5, -26.5, -25.5, -24.5, -23.5, -22.5, -21.5, -20.5,\n",
       "       -19.5, -18.5, -17.5, -16.5, -15.5, -14.5, -13.5, -12.5, -11.5, -10.5,\n",
       "        -9.5,  -8.5,  -7.5,  -6.5,  -5.5,  -4.5,  -3.5,  -2.5,  -1.5,  -0.5,\n",
       "         0.5,   1.5,   2.5,   3.5,   4.5,   5.5,   6.5,   7.5,   8.5,   9.5,\n",
       "        10.5,  11.5,  12.5,  13.5,  14.5,  15.5,  16.5,  17.5,  18.5,  19.5,\n",
       "        20.5,  21.5,  22.5,  23.5,  24.5,  25.5,  26.5,  27.5,  28.5,  29.5,\n",
       "        30.5,  31.5,  32.5,  33.5,  34.5,  35.5,  36.5,  37.5,  38.5,  39.5,\n",
       "        40.5,  41.5,  42.5,  43.5,  44.5,  45.5,  46.5,  47.5,  48.5,  49.5,\n",
       "        50.5,  51.5,  52.5,  53.5,  54.5,  55.5,  56.5,  57.5,  58.5,  59.5,\n",
       "        60.5,  61.5,  62.5,  63.5,  64.5,  65.5,  66.5,  67.5,  68.5,  69.5,\n",
       "        70.5,  71.5,  72.5,  73.5,  74.5,  75.5,  76.5,  77.5,  78.5,  79.5,\n",
       "        80.5,  81.5,  82.5,  83.5,  84.5,  85.5,  86.5,  87.5,  88.5,  89.5],\n",
       "      dtype=float32)\n",
       "Attributes:\n",
       "    units:    degrees north, 'lon': <xarray.IndexVariable 'lon' (lon: 360)>\n",
       "array([-179.5, -178.5, -177.5, ...,  177.5,  178.5,  179.5], dtype=float32)\n",
       "Attributes:\n",
       "    units:    degrees east})"
      ]
     },
     "execution_count": 21,
     "metadata": {},
     "output_type": "execute_result"
    }
   ],
   "source": [
    "testdata = xr.open_dataset('Temp_WOA_tmld_test02.nc')\n",
    "testdata.variables"
   ]
  },
  {
   "cell_type": "code",
   "execution_count": 23,
   "metadata": {},
   "outputs": [
    {
     "data": {
      "text/plain": [
       "<xarray.DataArray 't_mld' (time: 12)>\n",
       "array([14.735965, 14.203766, 14.04381 , 14.488364, 15.369067, 17.386347,\n",
       "       19.672104, 20.914284, 20.832928, 19.515116, 17.51606 , 15.989733])\n",
       "Coordinates:\n",
       "  * time     (time) int32 1 2 3 4 5 6 7 8 9 10 11 12\n",
       "    lat      float32 40.5\n",
       "    lon      float32 -19.5\n",
       "Attributes:\n",
       "    units:    degrees centigrade"
      ]
     },
     "execution_count": 23,
     "metadata": {},
     "output_type": "execute_result"
    }
   ],
   "source": [
    "testdata.sel(lat=40,lon=-20, method='nearest')['t_mld']"
   ]
  },
  {
   "cell_type": "code",
   "execution_count": null,
   "metadata": {},
   "outputs": [],
   "source": []
  }
 ],
 "metadata": {
  "kernelspec": {
   "display_name": "Python [conda env:bpconda01]",
   "language": "python",
   "name": "conda-env-bpconda01-py"
  },
  "language_info": {
   "codemirror_mode": {
    "name": "ipython",
    "version": 3
   },
   "file_extension": ".py",
   "mimetype": "text/x-python",
   "name": "python",
   "nbconvert_exporter": "python",
   "pygments_lexer": "ipython3",
   "version": "3.7.5"
  }
 },
 "nbformat": 4,
 "nbformat_minor": 4
}
