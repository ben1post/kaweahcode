{
 "cells": [
  {
   "cell_type": "markdown",
   "metadata": {},
   "source": [
    "# create repackaged WOA DATA for each Dataset"
   ]
  },
  {
   "cell_type": "code",
   "execution_count": 1,
   "metadata": {},
   "outputs": [],
   "source": [
    "import numpy as np\n",
    "import pandas as pd\n",
    "import xarray as xr\n",
    "import glob"
   ]
  },
  {
   "cell_type": "markdown",
   "metadata": {},
   "source": [
    "## MLD data-set to use:\n",
    "new one \"MLD_minDTR02\"\n",
    "\n",
    "variable is: \"mld_mindtr02_rmoutliers_smth_okrg\""
   ]
  },
  {
   "cell_type": "code",
   "execution_count": 2,
   "metadata": {},
   "outputs": [],
   "source": [
    "mldX = xr.open_dataset('../MLDClimatology_DeBoyerMontagut/2019_11_07_data_L3_mldmindtr02_c1m_sameasSent2MHRio20141103__Sent2BenjaminPostUcsdBremen/mld_mindtr02_l3.nc')"
   ]
  },
  {
   "cell_type": "code",
   "execution_count": 3,
   "metadata": {},
   "outputs": [],
   "source": [
    "#landsea = xr.open_dataset('LandSeaMask/landsea.nc')"
   ]
  },
  {
   "cell_type": "code",
   "execution_count": 4,
   "metadata": {},
   "outputs": [],
   "source": [
    "#TempNCDFfiles = glob.glob('../WOA2018/Temperature/*.nc', recursive=True)\n",
    "#WOAtemp = xr.open_mfdataset(TempNCDFfiles,combine='by_coords',decode_times=False)"
   ]
  },
  {
   "cell_type": "code",
   "execution_count": 5,
   "metadata": {},
   "outputs": [],
   "source": [
    "NitrateNCDFfiles = glob.glob('../WOA2018/Nitrate/*.nc', recursive=True)\n",
    "WOAnitrate = xr.open_mfdataset(NitrateNCDFfiles,combine='by_coords',decode_times=False)"
   ]
  },
  {
   "cell_type": "code",
   "execution_count": 6,
   "metadata": {},
   "outputs": [],
   "source": [
    "#PhosphateNCDFfiles = glob.glob('WOA2018/Phosphate/*.nc', recursive=True)\n",
    "#WOAphosphate = xr.open_mfdataset(PhosphateNCDFfiles,combine='by_coords',decode_times=False)"
   ]
  },
  {
   "cell_type": "code",
   "execution_count": 7,
   "metadata": {},
   "outputs": [],
   "source": [
    "#SilicateNCDFfiles = glob.glob('WOA2018/Silicate/*.nc', recursive=True)\n",
    "#WOAsilicate = xr.open_mfdataset(SilicateNCDFfiles,combine='by_coords',decode_times=False)"
   ]
  },
  {
   "cell_type": "code",
   "execution_count": 8,
   "metadata": {},
   "outputs": [],
   "source": [
    "#WOAsilicate.variables"
   ]
  },
  {
   "cell_type": "markdown",
   "metadata": {},
   "source": [
    "## now let's try all the other WOA2018 datasets\n",
    "- and finally extract forcing for one or two specific locations, and use these for test implemetation towards the model\n"
   ]
  },
  {
   "cell_type": "code",
   "execution_count": 9,
   "metadata": {},
   "outputs": [],
   "source": [
    "def WOADatInLocation(WOAfile, lats=40,lons=-20, WOAvar='Temp', justValPerDepth=True):\n",
    "    \"\"\"This function returns the xarray of Temperature in a specific location\"\"\"\n",
    "    \n",
    "    WOAdat = WOAfile.sel(nbounds=0)\n",
    "    WOA_df = WOAdat.sel(lat=lats,lon=lons, method='nearest').to_dataframe()\n",
    "    \n",
    "    if WOAvar=='Temp':\n",
    "        var='t_an'\n",
    "        WOA_df.index = pd.MultiIndex.from_arrays([WOA_df.index.get_level_values(level='depth'), [i for j in range(0,57) for i in range(1,13)]])\n",
    "        WOA_df.index.names = ['depth','time']\n",
    "    elif WOAvar=='N':\n",
    "        var='n_an'\n",
    "        WOA_df.index = pd.MultiIndex.from_arrays([WOA_df.index.get_level_values(level='depth'), [i for j in range(0,43) for i in range(1,13)]])\n",
    "        WOA_df.index.names = ['depth','time']\n",
    "    elif WOAvar=='P':\n",
    "        var='p_an'\n",
    "        WOA_df.index = pd.MultiIndex.from_arrays([WOA_df.index.get_level_values(level='depth'), [i for j in range(0,43) for i in range(1,13)]])\n",
    "        WOA_df.index.names = ['depth','time']\n",
    "    elif WOAvar=='Si':\n",
    "        var='i_an'\n",
    "        WOA_df.index = pd.MultiIndex.from_arrays([WOA_df.index.get_level_values(level='depth'), [i for j in range(0,43) for i in range(1,13)]])\n",
    "        WOA_df.index.names = ['depth','time']\n",
    "    \n",
    "    if justValPerDepth==True:\n",
    "        return WOA_df[[var]]#.reset_index()\n",
    "    else:\n",
    "        return WOA_df#.reset_index()"
   ]
  },
  {
   "cell_type": "code",
   "execution_count": 10,
   "metadata": {},
   "outputs": [],
   "source": [
    "#WOADatInLocation(WOAphosphate,WOAvar='P')"
   ]
  },
  {
   "cell_type": "code",
   "execution_count": 11,
   "metadata": {},
   "outputs": [],
   "source": [
    "def MLD_at_latlon(lats=40,lons=-20, mlddatas=mldX, justMLD=True):\n",
    "    \"\"\"This function returns MLD depth across the year at a specific location\"\"\"\n",
    "    #ToDO include check whether the spot is on land or water\n",
    "    #Make sure the lat lon usage across everything is coherent!\n",
    "    mld1 = mlddatas.drop_dims(['nlines1','nlines2','nlines3','nprf'])\n",
    "    mld2 = mld1.sel(lat=lats,lon=lons,method='nearest').to_dataframe()\n",
    "    #ls = landseadat.sel(lat=lats,lon=180+lons,method='nearest').variables['LSMASK'].values\n",
    "    mld2['time'] = mld2.index\n",
    "    mld2.index = range(1,13)\n",
    "    mld2.index.names = ['time']\n",
    "    #if ls!=0:\n",
    "    #    return pd.DataFrame()\n",
    "    if justMLD==True:\n",
    "        return mld2[['mld_mindtr02_rmoutliers_smth_okrg']]#.reset_index()\n",
    "    else:\n",
    "        return mld2#.reset_index()"
   ]
  },
  {
   "cell_type": "code",
   "execution_count": 12,
   "metadata": {},
   "outputs": [],
   "source": [
    "#WOA = WOADatInLocation(WOAnitrate,lats=40,lons=-20,WOAvar='N')"
   ]
  },
  {
   "cell_type": "code",
   "execution_count": 13,
   "metadata": {},
   "outputs": [],
   "source": [
    "def interpolateWOAprofiles(WOAdat,var):\n",
    "    \"\"\"this function interpolates the WOA profiles to a resolution of 1 meter\"\"\"\n",
    "    WOAgrid = WOAdat.unstack(level=1)\n",
    "    if var=='Temp':\n",
    "        WOAgrid1 = WOAgrid.reindex(range(0,1501))\n",
    "        return WOAgrid1.interpolate(method='linear')\n",
    "    elif var=='N' or var=='P' or var=='Si':\n",
    "        WOAgrid1 = WOAgrid.reindex(range(0,801))\n",
    "        return WOAgrid1.interpolate(method='linear')"
   ]
  },
  {
   "cell_type": "code",
   "execution_count": 14,
   "metadata": {},
   "outputs": [],
   "source": [
    "#WOA_int = interpolateWOAprofiles(WOA,'N')"
   ]
  },
  {
   "cell_type": "code",
   "execution_count": 15,
   "metadata": {},
   "outputs": [],
   "source": [
    "#WOA_int"
   ]
  },
  {
   "cell_type": "code",
   "execution_count": 16,
   "metadata": {},
   "outputs": [],
   "source": [
    "def ValueBelowMLD(WOAint, MLD):\n",
    "    \"\"\"this function filters all temperature measurements above a certain depth and takes the mean\"\"\"\n",
    "    WOAint_d1 = WOAint\n",
    "    WOAint_d2 = WOAint_d1\n",
    "    WOAint_d2.columns = WOAint_d1.columns.droplevel()\n",
    "    WOAx = WOAint_d2.reset_index()\n",
    "    out = []\n",
    "    for i in range(1,13):\n",
    "        out.append({'Month':i,'Conc':WOAx[WOAx['depth'] > MLD[MLD['time']==i]['mld_mindtr02_rmoutliers_smth_okrg'].values[0]][i].iloc[0:10].mean()})\n",
    "    return pd.DataFrame(out)"
   ]
  },
  {
   "cell_type": "code",
   "execution_count": 17,
   "metadata": {},
   "outputs": [],
   "source": [
    "def MeanAboveMLD(WOAint, MLD):\n",
    "    \"\"\"this function filters all temperature measurements above a certain depth and takes the mean\"\"\"\n",
    "    WOAint_d1 = WOAint\n",
    "    WOAint_d1.columns = WOAint.columns.droplevel()\n",
    "    WOAx = WOAint_d1.reset_index()\n",
    "    out = []\n",
    "    for i in range(1,13):\n",
    "        out.append({'Month':i,'Temp':WOAx[WOAx['depth'] < MLD[MLD['time']==i]['mld_mindtr02_rmoutliers_smth_okrg'].values[0]][i].mean()})\n",
    "    return pd.DataFrame(out)"
   ]
  },
  {
   "cell_type": "code",
   "execution_count": 18,
   "metadata": {},
   "outputs": [],
   "source": [
    "def ReturnAnalyzedWOAdata(WOAdat, lats=40, lons=-20, mlddat=mldX, WOAvar='Temp', var='t_an'):\n",
    "    \n",
    "    MLD = MLD_at_latlon(lats,lons,mlddat).reset_index()\n",
    "    if MLD.empty == True:\n",
    "        return MLD\n",
    "    else:\n",
    "        WOA = WOADatInLocation(WOAdat,lats=lats,lons=lons,WOAvar=WOAvar)\n",
    "        WOA_int = interpolateWOAprofiles(WOA,WOAvar)\n",
    "        if WOAvar=='Temp':\n",
    "            return MeanAboveMLD(WOA_int,MLD)\n",
    "        elif WOAvar=='N' or WOAvar=='P' or WOAvar=='Si':\n",
    "            return ValueBelowMLD(WOA_int,MLD)"
   ]
  },
  {
   "cell_type": "markdown",
   "metadata": {},
   "source": [
    "## QUESTIONS that remain:\n",
    "\n",
    "- to what depth should I take the mean when calculating N0 ?   \n",
    "- (for all nuts, inlc P & Si this matters)\n",
    "- any use for oxygen & AOU? (this is in WOA2018 as well)\n",
    "- and Salinity?"
   ]
  },
  {
   "cell_type": "markdown",
   "metadata": {},
   "source": [
    "# START CREATING NCDF FILE"
   ]
  },
  {
   "cell_type": "code",
   "execution_count": 19,
   "metadata": {},
   "outputs": [],
   "source": [
    "from netCDF4 import Dataset"
   ]
  },
  {
   "cell_type": "code",
   "execution_count": 20,
   "metadata": {},
   "outputs": [],
   "source": [
    "WOAnitrate = WOAnitrate.persist()\n",
    "mldX = mldX.persist()"
   ]
  },
  {
   "cell_type": "code",
   "execution_count": 21,
   "metadata": {},
   "outputs": [
    {
     "name": "stdout",
     "output_type": "stream",
     "text": [
      "99.444444444444446\r"
     ]
    }
   ],
   "source": [
    "rootgrp = Dataset('Nitrate_WOA_tmld_test03.nc', 'w', format='NETCDF4')\n",
    "\n",
    "import time\n",
    "rootgrp.description = 'WOA 2018 Data analyzed with MLD climatology'\n",
    "rootgrp.history = \"Created \" + time.ctime(time.time())\n",
    "rootgrp.source = \"WOA2018 + DeBoyer Montague et al. 2004\"\n",
    "\n",
    "lat_r = np.arange(-89.5,90.5,1)\n",
    "lon_r = np.arange(-179.5,180.5,1)\n",
    "time_r = np.arange(1,13,1)\n",
    "\n",
    "var = rootgrp.createDimension(\"n0\", None)\n",
    "time = rootgrp.createDimension(\"time\", len(time_r))\n",
    "lat = rootgrp.createDimension(\"lat\", len(lat_r))\n",
    "lon = rootgrp.createDimension(\"lon\", len(lon_r))\n",
    "\n",
    "\n",
    "varss = rootgrp.createVariable(\"n0\",\"f8\",(\"lat\",\"lon\",\"time\"))\n",
    "month = rootgrp.createVariable(\"time\",\"i4\",(\"time\",))\n",
    "latitudes = rootgrp.createVariable(\"lat\",\"f4\",(\"lat\",))\n",
    "longitudes = rootgrp.createVariable(\"lon\",\"f4\",(\"lon\",))\n",
    "\n",
    "\n",
    "latitudes.units = \"degrees north\"\n",
    "longitudes.units = \"degrees east\"\n",
    "varss.units = \"degrees centigrade\"\n",
    "\n",
    "month.units = \"climatological months\"\n",
    "month.calendar = \"gregorian\"\n",
    "\n",
    "latitudes[:] = lat_r\n",
    "longitudes[:] = lon_r\n",
    "month[:] = time_r\n",
    "\n",
    "                \n",
    "for i in range(len(lat_r)):\n",
    "    print(i/len(lat_r)*100, end=\"\\r\")\n",
    "    for j in range(len(lon_r)):\n",
    "        MAMLD = ReturnAnalyzedWOAdata(WOAnitrate,lat_r[i],lon_r[j],WOAvar='N') #HERE NEED TO FIX!\n",
    "        for k in range(len(time_r)):\n",
    "            if MAMLD.empty == True:\n",
    "                varss[i, j, k] = np.nan\n",
    "            else:\n",
    "                varss[i, j, k] = MAMLD['Conc'].values[k]\n",
    "\n",
    "\n",
    "rootgrp.close()"
   ]
  },
  {
   "cell_type": "code",
   "execution_count": null,
   "metadata": {},
   "outputs": [],
   "source": []
  },
  {
   "cell_type": "code",
   "execution_count": null,
   "metadata": {},
   "outputs": [],
   "source": []
  },
  {
   "cell_type": "code",
   "execution_count": 21,
   "metadata": {},
   "outputs": [
    {
     "data": {
      "text/plain": [
       "Frozen({'t_mld': <xarray.Variable (lat: 180, lon: 360, time: 12)>\n",
       "[777600 values with dtype=float64]\n",
       "Attributes:\n",
       "    units:    degrees centigrade, 'time': <xarray.IndexVariable 'time' (time: 12)>\n",
       "array([ 1,  2,  3,  4,  5,  6,  7,  8,  9, 10, 11, 12], dtype=int32)\n",
       "Attributes:\n",
       "    units:     climatological months\n",
       "    calendar:  gregorian, 'lat': <xarray.IndexVariable 'lat' (lat: 180)>\n",
       "array([-89.5, -88.5, -87.5, -86.5, -85.5, -84.5, -83.5, -82.5, -81.5, -80.5,\n",
       "       -79.5, -78.5, -77.5, -76.5, -75.5, -74.5, -73.5, -72.5, -71.5, -70.5,\n",
       "       -69.5, -68.5, -67.5, -66.5, -65.5, -64.5, -63.5, -62.5, -61.5, -60.5,\n",
       "       -59.5, -58.5, -57.5, -56.5, -55.5, -54.5, -53.5, -52.5, -51.5, -50.5,\n",
       "       -49.5, -48.5, -47.5, -46.5, -45.5, -44.5, -43.5, -42.5, -41.5, -40.5,\n",
       "       -39.5, -38.5, -37.5, -36.5, -35.5, -34.5, -33.5, -32.5, -31.5, -30.5,\n",
       "       -29.5, -28.5, -27.5, -26.5, -25.5, -24.5, -23.5, -22.5, -21.5, -20.5,\n",
       "       -19.5, -18.5, -17.5, -16.5, -15.5, -14.5, -13.5, -12.5, -11.5, -10.5,\n",
       "        -9.5,  -8.5,  -7.5,  -6.5,  -5.5,  -4.5,  -3.5,  -2.5,  -1.5,  -0.5,\n",
       "         0.5,   1.5,   2.5,   3.5,   4.5,   5.5,   6.5,   7.5,   8.5,   9.5,\n",
       "        10.5,  11.5,  12.5,  13.5,  14.5,  15.5,  16.5,  17.5,  18.5,  19.5,\n",
       "        20.5,  21.5,  22.5,  23.5,  24.5,  25.5,  26.5,  27.5,  28.5,  29.5,\n",
       "        30.5,  31.5,  32.5,  33.5,  34.5,  35.5,  36.5,  37.5,  38.5,  39.5,\n",
       "        40.5,  41.5,  42.5,  43.5,  44.5,  45.5,  46.5,  47.5,  48.5,  49.5,\n",
       "        50.5,  51.5,  52.5,  53.5,  54.5,  55.5,  56.5,  57.5,  58.5,  59.5,\n",
       "        60.5,  61.5,  62.5,  63.5,  64.5,  65.5,  66.5,  67.5,  68.5,  69.5,\n",
       "        70.5,  71.5,  72.5,  73.5,  74.5,  75.5,  76.5,  77.5,  78.5,  79.5,\n",
       "        80.5,  81.5,  82.5,  83.5,  84.5,  85.5,  86.5,  87.5,  88.5,  89.5],\n",
       "      dtype=float32)\n",
       "Attributes:\n",
       "    units:    degrees north, 'lon': <xarray.IndexVariable 'lon' (lon: 360)>\n",
       "array([-179.5, -178.5, -177.5, ...,  177.5,  178.5,  179.5], dtype=float32)\n",
       "Attributes:\n",
       "    units:    degrees east})"
      ]
     },
     "execution_count": 21,
     "metadata": {},
     "output_type": "execute_result"
    }
   ],
   "source": [
    "testdata = xr.open_dataset('Temp_WOA_tmld_test02.nc')\n",
    "testdata.variables"
   ]
  },
  {
   "cell_type": "code",
   "execution_count": 23,
   "metadata": {},
   "outputs": [
    {
     "data": {
      "text/plain": [
       "<xarray.DataArray 't_mld' (time: 12)>\n",
       "array([14.735965, 14.203766, 14.04381 , 14.488364, 15.369067, 17.386347,\n",
       "       19.672104, 20.914284, 20.832928, 19.515116, 17.51606 , 15.989733])\n",
       "Coordinates:\n",
       "  * time     (time) int32 1 2 3 4 5 6 7 8 9 10 11 12\n",
       "    lat      float32 40.5\n",
       "    lon      float32 -19.5\n",
       "Attributes:\n",
       "    units:    degrees centigrade"
      ]
     },
     "execution_count": 23,
     "metadata": {},
     "output_type": "execute_result"
    }
   ],
   "source": [
    "testdata.sel(lat=40,lon=-20, method='nearest')['t_mld']"
   ]
  },
  {
   "cell_type": "code",
   "execution_count": null,
   "metadata": {},
   "outputs": [],
   "source": []
  }
 ],
 "metadata": {
  "kernelspec": {
   "display_name": "Python [conda env:bpconda01]",
   "language": "python",
   "name": "conda-env-bpconda01-py"
  },
  "language_info": {
   "codemirror_mode": {
    "name": "ipython",
    "version": 3
   },
   "file_extension": ".py",
   "mimetype": "text/x-python",
   "name": "python",
   "nbconvert_exporter": "python",
   "pygments_lexer": "ipython3",
   "version": "3.7.5"
  }
 },
 "nbformat": 4,
 "nbformat_minor": 4
}
